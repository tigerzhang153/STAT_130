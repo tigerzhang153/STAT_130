{
 "cells": [
  {
   "cell_type": "markdown",
   "id": "6cd8c93b",
   "metadata": {},
   "source": [
    "# STA130 Homework 06\n",
    "\n",
    "Please see the course [wiki-textbook](https://github.com/pointOfive/stat130chat130/wiki) for the list of topics covered in this homework assignment, and a list of topics that might appear during ChatBot conversations which are \"out of scope\" for the purposes of this homework assignment (and hence can be safely ignored if encountered)"
   ]
  },
  {
   "cell_type": "markdown",
   "id": "991dc719",
   "metadata": {},
   "source": [
    "<details class=\"details-example\"><summary style=\"color:blue\"><u>Introduction</u></summary>\n",
    "\n",
    "### Introduction\n",
    "    \n",
    "A reasonable characterization of STA130 Homework is that it simply defines a weekly reading comprehension assignment. \n",
    "Indeed, STA130 Homework essentially boils down to completing various understanding confirmation exercises oriented around coding and writing tasks.\n",
    "However, rather than reading a textbook, STA130 Homework is based on ChatBots so students can interactively follow up to clarify questions or confusion that they may still have regarding learning objective assignments.\n",
    "\n",
    "> Communication is a fundamental skill underlying statistics and data science, so STA130 Homework based on ChatBots helps practice effective two-way communication as part of a \"realistic\" dialogue activity supporting underlying conceptual understanding building. \n",
    "\n",
    "It will likely become increasingly tempting to rely on ChatBots to \"do the work for you\". But when you find yourself frustrated with a ChatBots inability to give you the results you're looking for, this is a \"hint\" that you've become overreliant on the ChatBots. Your objective should not be to have ChatBots \"do the work for you\", but to use ChatBots to help you build your understanding so you can efficiently leverage ChatBots (and other resources) to help you work more efficiently.<br><br>\n",
    "\n",
    "</details>\n",
    "\n",
    "<details class=\"details-example\"><summary style=\"color:blue\"><u>Instructions</u></summary>\n",
    "\n",
    "### Instructions\n",
    "    \n",
    "1. Code and write all your answers (for both the \"Pre-lecture\" and \"Post-lecture\" HW) in a python notebook (in code and markdown cells) \n",
    "    \n",
    "> It is *suggested but not mandatory* that you complete the \"Pre-lecture\" HW prior to the Monday LEC since (a) all HW is due at the same time; but, (b) completing some of the HW early will mean better readiness for LEC and less of a \"procrastentation cruch\" towards the end of the week...\n",
    "    \n",
    "2. Paste summaries of your ChatBot sessions (including link(s) to chat log histories if you're using ChatGPT) within your notebook\n",
    "    \n",
    "> Create summaries of your ChatBot sessions by using concluding prompts such as \"Please provide a summary of our exchanges here so I can submit them as a record of our interactions as part of a homework assignment\" or, \"Please provide me with the final working verson of the code that we created together\"\n",
    "    \n",
    "3. Save your python jupyter notebook in your own account and \"repo\" on [github.com](github.com) and submit a link to that notebook though Quercus for assignment marking<br><br>\n",
    "\n",
    "</details>\n",
    "\n",
    "<details class=\"details-example\"><summary style=\"color:blue\"><u>Prompt Engineering?</u></summary>\n",
    "    \n",
    "### Prompt Engineering? \n",
    "    \n",
    "The questions (as copy-pasted prompts) are designed to initialize appropriate ChatBot conversations which can be explored in the manner of an interactive and dynamic textbook; but, it is nonetheless **strongly recommendated** that your rephrase the questions in a way that you find natural to ensure a clear understanding of the question. Given sensible prompts the represent a question well, the two primary challenges observed to arise from ChatBots are \n",
    "\n",
    "1. conversations going beyond the intended scope of the material addressed by the question; and, \n",
    "2. unrecoverable confusion as a result of sequential layers logial inquiry that cannot be resolved. \n",
    "\n",
    "In the case of the former (1), adding constraints specifying the limits of considerations of interest tends to be helpful; whereas, the latter (2) is often the result of initial prompting that leads to poor developments in navigating the material, which are likely just best resolve by a \"hard reset\" with a new initial approach to prompting.  Indeed, this is exactly the behavior [hardcoded into copilot](https://answers.microsoft.com/en-us/bing/forum/all/is-this-even-normal/0b6dcab3-7d6c-4373-8efe-d74158af3c00)...\n",
    "\n",
    "</details>"
   ]
  },
  {
   "cell_type": "markdown",
   "id": "3d0ed17b",
   "metadata": {},
   "source": [
    "### Marking Rubric (which may award partial credit) \n",
    "\n",
    "- [0.1 points]: All relevant ChatBot summaries [including link(s) to chat log histories if you're using ChatGPT] are reported within the notebook\n",
    "- [0.2 points]: Evaluation of correctness and clarity in written communication for Question \"3\"\n",
    "- [0.2 points]: Evaluation of correctness and clarity in written communication for Question \"4\"\n",
    "- [0.2 points]: Evaluation of submitted work and conclusions for Question \"9\"\n",
    "- [0.3 points]: Evaluation of written communication of the \"big picture\" differences and correct evidence assessement for Question \"11\"\n"
   ]
  },
  {
   "cell_type": "markdown",
   "id": "a326d8bb",
   "metadata": {},
   "source": [
    "## \"Pre-lecture\" versus \"Post-lecture\" HW? \n",
    "\n",
    "- _**Your HW submission is due prior to the Nov08 TUT on Friday after you return from Reading Week; however,**_\n",
    "- _**this homework assignment is longer since it covers material from both the Oct21 and Nov04 LEC (rather than a single LEC); so,**_\n",
    "- _**we'll brake the assignment into \"Week of Oct21\" and \"Week of Nov04\" HW and/but ALL of it will be DUE prior to the Nov08 TUT**_\n"
   ]
  },
  {
   "cell_type": "markdown",
   "id": "49cc8cd7",
   "metadata": {},
   "source": [
    "## \"Week of Oct21\" HW [*due prior to the Nov08 TUT*]"
   ]
  },
  {
   "cell_type": "markdown",
   "id": "d8140d3a",
   "metadata": {},
   "source": [
    "### 1. Explain the theoretical Simple Linear Regression model in your own words by describing its components (of predictor and outcome variables, slope and intercept coefficients, and an error term) and how they combine to form a sample from normal distribution; then, create *python* code explicitly demonstrating your explanation using *numpy* and *scipy.stats* <br>\n",
    "\n",
    "<details class=\"details-example\"><summary style=\"color:blue\"><u>Further Guidance</u></summary>\n",
    "\n",
    "> _Your answer can be quite concise and will likely just address the \"mathematical\" and \"statistical\" aspects of the process of a **Simple Linear Model** specification, perhaps giving an intuitive interpretation summary of the result as a whole_\n",
    ">   \n",
    "> - _Your code could be based on values for `n`, `x`, `beta0`, `beta1`, and `sigma`; and, then create the `errors` and `Y`_\n",
    "> \n",
    "> - _The predictors $x_i$ can be fixed arbitrarily to start the process (perhaps sampled using `stats.uniform`), and they are conceptually different from the creation of **error** (or **noise**) terms $\\epsilon_i$ which are sampled from a **normal distribution** (with some aribtrarily *a priori* chosen **standard deviation** `scale` parameter $\\sigma$) which are then combined with $x_i$ through the **Simple Linear Model** equation (based on aribtrarily *a priori* chosen **slope** and **intercept coefficients**) to produce the $Y_i$ outcomes_\n",
    "> \n",
    "> - _It should be fairly easy to visualize the \"a + bx\" line defined by the **Simple Linear Model** equation, and some **simulated** data points around the line in a `plotly` figure using the help of a ChatBot_\n",
    "> \n",
    "> _If you use a ChatBot (as expected for this problem), **don't forget to ask for summaries of your ChatBot session(s) and paste these into your homework notebook (including link(s) to chat log histories if you're using ChatGPT)**_\n",
    ">\n",
    "> \n",
    "> _**Question Scope Warning:** Be careful when using a ChatBot to help you with creating an example dataset and coding up a visualization though, **because it might suggest creating (and visualizing) a fitted model for to your data (rather than the theoretical model); but, this is not what this question is asking you to demonstrate**. This question is not asking about how to produce a fitted **Simple Linear Regression** model or explain how model **slope** and **intercept coefficients** are calculated (e.g., using \"ordinary least squares\" or analytical equations to estimate the **coefficients**  for an observed dataset)._\n",
    "> \n",
    "> ```python\n",
    "> # There are two distinct ways to use `plotly` here\n",
    ">\n",
    "> import plotly.express as px\n",
    "> px.scatter(df, x='x',  y='Y', color='Data', \n",
    ">            trendline='ols', title='Y vs. x')\n",
    ">        \n",
    "> import plotly.graph_objects as go\n",
    "> fig = go.Figure()\n",
    "> fig.add_trace(go.Scatter(x=x, y=Y, mode='markers', name='Data'))\n",
    "> \n",
    "> # The latter is preferable since `trendline='ols'` in the former \n",
    "> # creates a fitted model for the data and adds it to the figure\n",
    "> # and, again, THAT IS NOT what this problem is asking for right now\n",
    "> ```\n",
    ">    \n",
    "> ---\n",
    "> \n",
    "> _Don't forget to ask for summaries of all your different ChatBot sessions and organize and paste these into your homework notebook (including link(s) to chat log histories if you're using ChatBot) But if you're using the STA130 custom NBLM ChatBot, you'll only be able to ask for summaries, of course!_  \n",
    "</details>\n"
   ]
  },
  {
   "cell_type": "markdown",
   "id": "ae32f41c",
   "metadata": {},
   "source": [
    "The theoretical Simple Linear Regression (SLR) model aims to predict an outcome variable based on a predictor variable. The relationship between X and Y is modeled as a straight line, defined by two main coefficients: the slope (β1) and the intercept (β0).\n",
    "\n",
    "Predictor Variable (X): This is the independent variable that we believe influences the outcome variable. We observe or set values for X.\n",
    "\n",
    "Outcome Variable (Y): This is the dependent variable that we’re trying to predict based on X. The values of Y are modeled as linearly related to X but are also subject to some degree of randomness.\n",
    "\n",
    "Intercept (β0): This is the point where the line intersects the Y-axis. It represents the expected value of Y when X is zero.\n",
    "\n",
    "Slope (β1): This coefficient shows how much Y changes for a one-unit change in X. A higher absolute value of β1 indicates a stronger effect of X and Y\n",
    "\n",
    "Error Term (ϵ): This represents the random variation or noise in Y that is not explained by X. In theory, ϵ is assumed to be normally distributed with a mean of zero and a constant variance, which allows the SLR model to account for randomness in observed data.\n",
    "\n",
    "Y = β0 + β1(X) + ϵ"
   ]
  },
  {
   "cell_type": "code",
   "execution_count": 37,
   "id": "531c1c27",
   "metadata": {},
   "outputs": [
    {
     "data": {
      "image/png": "[encoded data removed]",
      "text/plain": [
       "<Figure size 1000x600 with 1 Axes>"
      ]
     },
     "metadata": {},
     "output_type": "display_data"
    }
   ],
   "source": [
    "import numpy as np\n",
    "import matplotlib.pyplot as plt\n",
    "from scipy.stats import norm\n",
    "\n",
    "# Parameters for the Simple Linear Regression Model\n",
    "beta_0 = 5      # Intercept\n",
    "beta_1 = 2      # Slope\n",
    "sigma = 1.5     # Standard deviation of the error term\n",
    "\n",
    "# Generating random predictor data (X)\n",
    "np.random.seed(42)  # For reproducibility\n",
    "X = np.linspace(0, 10, 50)\n",
    "\n",
    "# Generating the outcome variable (Y) based on the model\n",
    "# Y = beta_0 + beta_1 * X + epsilon, where epsilon ~ N(0, sigma^2)\n",
    "epsilon = norm.rvs(loc=0, scale=sigma, size=X.shape[0])  # Random error\n",
    "Y = beta_0 + beta_1 * X + epsilon\n",
    "\n",
    "# Plotting the data\n",
    "plt.figure(figsize=(10, 6))\n",
    "plt.scatter(X, Y, label='Sampled data (Y)')\n",
    "plt.plot(X, beta_0 + beta_1 * X, color='red', label='True regression line (E[Y|X])')\n",
    "plt.xlabel('Predictor (X)')\n",
    "plt.ylabel('Outcome (Y)')\n",
    "plt.title('Simple Linear Regression Model')\n",
    "plt.legend()\n",
    "plt.show()\n"
   ]
  },
  {
   "cell_type": "markdown",
   "id": "8a0f9cdf",
   "metadata": {},
   "source": [
    "### 2. Use a dataset simulated from your theoretical Simple Linear Regression model to demonstrate how to create and visualize a fitted Simple Linear Regression model using *pandas* and *import statsmodels.formula.api as smf*<br>\n",
    "\n",
    "<details class=\"details-example\"><summary style=\"color:blue\"><u>Further Guidance</u></summary>\n",
    "\n",
    "> - _Combine the **simulated** `x` and `Y` into a `pandas` data frame object named `df` with the column names \"x\" and \"Y\"_\n",
    "> \n",
    "> - _Replace the inline question comments below with their answers (working with a ChatBot if needed)_\n",
    ">\n",
    "> ```python\n",
    "> import statsmodels.formula.api as smf  # what is this library for?\n",
    "> import plotly.express as px  # this is a ploting library\n",
    ">\n",
    "> # what are the following two steps doing?\n",
    "> model_data_specification = smf.ols(\"Y~x\", data=df) \n",
    "> fitted_model = model_data_specification.fit() \n",
    ">\n",
    "> # what do each of the following provide?\n",
    "> fitted_model.summary()  # simple explanation? \n",
    "> fitted_model.summary().tables[1]  # simple explanation?\n",
    "> fitted_model.params  # simple explanation?\n",
    "> fitted_model.params.values  # simple explanation?\n",
    "> fitted_model.rsquared  # simple explanation?\n",
    ">\n",
    "> # what two things does this add onto the figure?\n",
    "> df['Data'] = 'Data' # hack to add data to legend \n",
    "> fig = px.scatter(df, x='x',  y='Y', color='Data', \n",
    ">                  trendline='ols', title='Y vs. x')\n",
    ">\n",
    "> # This is essentially what above `trendline='ols'` does\n",
    "> fig.add_scatter(x=df['x'], y=fitted_model.fittedvalues,\n",
    ">                 line=dict(color='blue'), name=\"trendline='ols'\")\n",
    "> \n",
    "> fig.show() # USE `fig.show(renderer=\"png\")` FOR ALL GitHub and MarkUs SUBMISSIONS\n",
    "> ```\n",
    ">\n",
    "> _The plotting here uses the `plotly.express` form `fig.add_scatter(x=x, y=Y)` rather than the `plotly.graph_objects` form `fig.add_trace(go.Scatter(x=x, y=Y))`. The difference between these two was noted in the \"Further Guidance\" comments in the previous question; but, the preference for the former in this case is because `px` allows us to access `trendline='ols'` through `px.scatter(df, x='x',  y='Y', trendline='ols')`_\n",
    ">\n",
    "> ---\n",
    "> \n",
    "> _Don't forget to ask for summaries of all your different ChatBot sessions and organize and paste these into your homework notebook (including link(s) to chat log histories if you're using ChatBot) But if you're using the STA130 custom NBLM ChatBot, you'll only be able to ask for summaries, of course!_      \n",
    "\n",
    "</details>"
   ]
  },
  {
   "cell_type": "code",
   "execution_count": 38,
   "id": "bf4db0bf",
   "metadata": {},
   "outputs": [
    {
     "name": "stdout",
     "output_type": "stream",
     "text": [
      "                            OLS Regression Results                            \n",
      "==============================================================================\n",
      "Dep. Variable:                      Y   R-squared:                       0.945\n",
      "Model:                            OLS   Adj. R-squared:                  0.944\n",
      "Method:                 Least Squares   F-statistic:                     820.7\n",
      "Date:                Fri, 08 Nov 2024   Prob (F-statistic):           7.73e-32\n",
      "Time:                        02:09:35   Log-Likelihood:                -86.415\n",
      "No. Observations:                  50   AIC:                             176.8\n",
      "Df Residuals:                      48   BIC:                             180.7\n",
      "Df Model:                           1                                         \n",
      "Covariance Type:            nonrobust                                         \n",
      "==============================================================================\n",
      "                 coef    std err          t      P>|t|      [0.025      0.975]\n",
      "------------------------------------------------------------------------------\n",
      "Intercept      5.0967      0.388     13.152      0.000       4.318       5.876\n",
      "X              1.9130      0.067     28.647      0.000       1.779       2.047\n",
      "==============================================================================\n",
      "Omnibus:                        0.453   Durbin-Watson:                   1.942\n",
      "Prob(Omnibus):                  0.798   Jarque-Bera (JB):                0.608\n",
      "Skew:                           0.156   Prob(JB):                        0.738\n",
      "Kurtosis:                       2.559   Cond. No.                         11.7\n",
      "==============================================================================\n",
      "\n",
      "Notes:\n",
      "[1] Standard Errors assume that the covariance matrix of the errors is correctly specified.\n"
     ]
    },
    {
     "data": {
      "image/png": "[encoded data removed]",
      "text/plain": [
       "<Figure size 1000x600 with 1 Axes>"
      ]
     },
     "metadata": {},
     "output_type": "display_data"
    }
   ],
   "source": [
    "import numpy as np\n",
    "import pandas as pd\n",
    "import matplotlib.pyplot as plt\n",
    "import statsmodels.formula.api as smf\n",
    "\n",
    "# Parameters for the Simple Linear Regression Model\n",
    "beta_0 = 5      # Intercept\n",
    "beta_1 = 2      # Slope\n",
    "sigma = 1.5     # Standard deviation of the error term\n",
    "\n",
    "# Generating random predictor data (X)\n",
    "np.random.seed(42)  # For reproducibility\n",
    "X = np.linspace(0, 10, 50)\n",
    "\n",
    "# Generating the outcome variable (Y) based on the model\n",
    "epsilon = np.random.normal(0, sigma, size=X.shape[0])  # Random error term\n",
    "Y = beta_0 + beta_1 * X + epsilon\n",
    "\n",
    "# Creating a DataFrame for the data\n",
    "data = pd.DataFrame({'X': X, 'Y': Y})\n",
    "\n",
    "# Fitting the Simple Linear Regression model using statsmodels\n",
    "model = smf.ols(formula='Y ~ X', data=data).fit()\n",
    "\n",
    "# Printing the summary of the regression model\n",
    "print(model.summary())\n",
    "\n",
    "# Visualizing the fitted line and the original data\n",
    "plt.figure(figsize=(10, 6))\n",
    "plt.scatter(data['X'], data['Y'], label='Simulated data')\n",
    "plt.plot(data['X'], model.fittedvalues, color='red', label='Fitted regression line')\n",
    "plt.xlabel('Predictor (X)')\n",
    "plt.ylabel('Outcome (Y)')\n",
    "plt.title('Fitted Simple Linear Regression Model')\n",
    "plt.legend()\n",
    "plt.show()\n"
   ]
  },
  {
   "cell_type": "markdown",
   "id": "59b70bc0",
   "metadata": {},
   "source": [
    "### 3. Add the line from Question 1 on the figure of Question 2 and explain the difference between the nature of the two lines in your own words; *but, hint though: simulation of random sampling variation*<br>\n",
    "\n",
    "<details class=\"details-example\"><summary style=\"color:blue\"><u>Further Guidance</u></summary>\n",
    "\n",
    "> _This question is effectively asking you to explain what the combined code you produced for Questions 1 and 2 is trying to demonstrate overall. If you're working with a ChatBot (as expected), giving these two sets of code as context, and asking what the purpose of comparing these lines could be would be a way to get some help in formulating your answer_\n",
    "> \n",
    "> _The graphical visualization aspect of this question could be accomplished by appending the following code to the code provided in Question 2._\n",
    "> \n",
    "> ```python\n",
    "> # what does this add onto the figure in constrast to `trendline='ols'`?\n",
    "> x_range = np.array([df['x'].min(), df['x'].max()])\n",
    "> # beta0 and beta1 are assumed to be defined\n",
    "> y_line = beta0 + beta1 * x_range\n",
    "> fig.add_scatter(x=x_range, y=y_line, mode='lines',\n",
    ">                 name=str(beta0)+' + '+str(beta1)+' * x', \n",
    ">                 line=dict(dash='dot', color='orange'))\n",
    ">\n",
    "> fig.show() # USE `fig.show(renderer=\"png\")` FOR ALL GitHub and MarkUs SUBMISSIONS\n",
    "> ```\n",
    "> \n",
    "> _The right way to interactively \"see\" the answer to this question is to repeatedly create different dataset **simulations** using your theoretical model and the corresponding fitted models, and repeatedly visualize the data and the two lines over and over... this would be as easy as rerunning a single cell containing your simulation and visualization code..._\n",
    ">    \n",
    "> ---\n",
    "> \n",
    "> _Don't forget to ask for summaries of all your different ChatBot sessions and organize and paste these into your homework notebook (including link(s) to chat log histories if you're using ChatBot) But if you're using the STA130 custom NBLM ChatBot, you'll only be able to ask for summaries, of course!_  \n",
    "</details>"
   ]
  },
  {
   "cell_type": "code",
   "execution_count": 39,
   "id": "db3949b6",
   "metadata": {},
   "outputs": [
    {
     "data": {
      "image/png": "[encoded data removed]",
      "text/plain": [
       "<Figure size 1000x600 with 1 Axes>"
      ]
     },
     "metadata": {},
     "output_type": "display_data"
    }
   ],
   "source": [
    "# Visualization of the fitted line, original data, and the theoretical line\n",
    "plt.figure(figsize=(10, 6))\n",
    "\n",
    "# Scatter plot of the simulated data points\n",
    "plt.scatter(data['X'], data['Y'], label='Simulated data')\n",
    "\n",
    "# Plot the fitted regression line from statsmodels\n",
    "plt.plot(data['X'], model.fittedvalues, color='red', label='Fitted regression line (from model)')\n",
    "\n",
    "# Plot the true regression line used for simulation\n",
    "plt.plot(data['X'], beta_0 + beta_1 * data['X'], color='blue', linestyle='--', label='True regression line (from simulation)')\n",
    "\n",
    "# Labels and title\n",
    "plt.xlabel('Predictor (X)')\n",
    "plt.ylabel('Outcome (Y)')\n",
    "plt.title('Comparison of Theoretical and Fitted Regression Lines')\n",
    "plt.legend()\n",
    "plt.show()\n"
   ]
  },
  {
   "cell_type": "markdown",
   "id": "ed29c2c6",
   "metadata": {},
   "source": [
    "Difference between the two lines:\n",
    "\n",
    "1. True Regression Line (blue dashed line):\n",
    "This line represents the theoretical model we used to simulate the data. It's based on our set parameters (β0 = 5 and β1 = 2) and doesn’t account for random variation in individual samples. It shows the \"ideal\" relationship between X and Y without any randomness, assuming an infinite number of samples.\n",
    "\n",
    "2. Fitted Regression Line (Red Solid Line):\n",
    "This line represents the result of fitting a model to our specific simulated sample using statsmodel. It’s the best linear fit for the actual data points in our sample, taking into account the observed values of Y. The fitted line can differ slightly from the true line because of random sampling variation—each generated sample includes random noise (from the error term, ϵ), causing slight fluctuations in the exact position of data points around the true line. If we were to generate a new sample from the same theoretical model, the fitted line might vary slightly, while the true line (underlying relationship) would remain unchanged.\n",
    "\n",
    "The true line represents the ideal model without randomness, while the fitted line represents our best estimate of that model based on a particular random sample, which introduces slight variation."
   ]
  },
  {
   "cell_type": "markdown",
   "id": "2b68e71c",
   "metadata": {},
   "source": [
    "### 4. Explain how *fitted_model.fittedvalues* are derived on the basis of *fitted_model.summary().tables[1]* (or more specifically  *fitted_model.params* or *fitted_model.params.values*)<br>\n",
    "\n",
    "<details class=\"details-example\"><summary style=\"color:blue\"><u>Further Guidance</u></summary>\n",
    "\n",
    "> _The previous questions used code to explore the distinction between theoretical (true) $Y_i = \\beta_0 + \\beta_1 x_i + \\epsilon_i \\;[\\text{where } \\epsilon_i \\sim \\mathcal{N}(0, \\sigma)]\\;$ and fitted (estimated) $\\hat{y}_i = \\hat{\\beta}_0 + \\hat{\\beta}_1 x_i$ **Simple Linear Regression** models_\n",
    ">\n",
    "> _This question asks you to explicitly illustrate how the the latter \"in sample predictions\" of the fitted **Simple Linear Regression** model $\\hat{y}_i = \\hat{\\beta}_0 + \\hat{\\beta}_1 x_i$ are made (in contrast to the linear equation of the theoretical model)_\n",
    ">    \n",
    "> ---\n",
    "> \n",
    "> _Don't forget to ask for summaries of all your different ChatBot sessions and organize and paste these into your homework notebook (including link(s) to chat log histories if you're using ChatBot) But if you're using the STA130 custom NBLM ChatBot, you'll only be able to ask for summaries, of course!_  \n",
    "</details>"
   ]
  },
  {
   "cell_type": "markdown",
   "id": "3887d649",
   "metadata": {},
   "source": [
    "In the Simple Linear Regression model, the fitted_model.fittedvalues represent the predicted Y-values based on the model's estimated coefficients. These predictions are derived from the estimated values of the intercept and slope, which are provided in the summary table fitted_model.summary().tables[1] or can be directly accessed using fitted_model.params or fitted_model.params.values. fitted_model.params contains the estimated coefficients for the intercept (Intercept) and the slope (X). These coefficients are calculated by minimizing the sum of squared residuals, giving us the best linear fit for our data. fitted_model.fittedvalues provides this array of predicted Y-values directly. Internally, statsmodels applies the formula \n",
    "Y = Intercept + Slope × X using the estimated parameters stored in fitted_model.params."
   ]
  },
  {
   "cell_type": "markdown",
   "id": "3e9fdfa9",
   "metadata": {},
   "source": [
    "### 5. Explain concisely in your own words what line is chosen for the fitted model based on observed data using the \"ordinary least squares\" method (as is done by *trendline='ols'* and *smf.ols(...).fit()*) and why it requires \"squares\"<br>\n",
    "    \n",
    "<details class=\"details-example\"><summary style=\"color:blue\"><u>Further Guidance</u></summary>\n",
    "\n",
    "> _This question addresses the use of **residuals** $\\text{e}_i = \\hat \\epsilon_i = Y_i - \\hat y_i$ (in contrast to the **error** terms $\\epsilon_i$ of the theoretical model), and particularly, asks for an explanation based on the following visualization_\n",
    ">\n",
    "> ```python \n",
    "> import scipy.stats as stats\n",
    "> import numpy as np\n",
    "> import pandas as pd\n",
    "> import statsmodels.formula.api as smf\n",
    "> import plotly.express as px\n",
    "> \n",
    "> n,x_min,x_range,beta0,beta1,sigma = 20,5,5,2,3,5\n",
    "> x = stats.uniform(x_min, x_range).rvs(size=n)\n",
    "> errors = stats.norm(loc=0, scale=sigma).rvs(size=n)\n",
    "> Y = beta0 + beta1 * x + errors\n",
    "> \n",
    "> df = pd.DataFrame({'x': x, 'y': Y})\n",
    "> model_data_specification = smf.ols(\"Y~x\", data=df) \n",
    "> fitted_model = model_data_specification.fit() \n",
    "> \n",
    "> df['Data'] = 'Data' # hack to add data to legend \n",
    "> fig = px.scatter(df, x='x',  y='Y', color='Data', \n",
    ">                  trendline='ols', title='Y vs. x')\n",
    "> \n",
    "> # This is what `trendline='ols'` is\n",
    "> fig.add_scatter(x=df['x'], y=fitted_model.fittedvalues,\n",
    ">                 line=dict(color='blue'), name=\"trendline='ols'\")\n",
    "> \n",
    "> x_range = np.array([df['x'].min(), df['x'].max()])\n",
    "> y_line = beta0 + beta1 * x_range\n",
    "> fig.add_scatter(x=x_range, y=y_line, mode='lines',\n",
    ">                 name=str(beta0)+' + '+str(beta1)+' * x', \n",
    ">                 line=dict(dash='dot', color='orange'))\n",
    "> \n",
    "> # Add vertical lines for residuals\n",
    "> for i in range(len(df)):\n",
    ">     fig.add_scatter(x=[df['x'][i], df['x'][i]],\n",
    ">                     y=[fitted_model.fittedvalues[i], df['Y'][i]],\n",
    ">                     mode='lines',\n",
    ">                     line=dict(color='red', dash='dash'),\n",
    ">                     showlegend=False)\n",
    ">     \n",
    "> # Add horizontal line at y-bar\n",
    "> fig.add_scatter(x=x_range, y=[df['Y'].mean()]*2, mode='lines',\n",
    ">                 line=dict(color='black', dash='dot'), name='y-bar')\n",
    "> \n",
    "> fig.show() # USE `fig.show(renderer=\"png\")` FOR ALL GitHub and MarkUs SUBMISSIONS\n",
    "> ```\n",
    ">\n",
    "> _**Question Scope Warning**: we are not looking for any explanation realted to the mathematical equations for the line chosen for the **Simple Linear Regression** model by the \"ordinary least squares\" method, which happen to be_\n",
    "> \n",
    "> _$$\\hat \\beta_1 = r_{xy}\\frac{s_y}{s_x} \\quad \\text{ and } \\quad  \\hat\\beta_0 = \\bar {y}-\\hat \\beta_1\\bar {x}$$_\n",
    ">\n",
    "> _where $r_{xy}$ is the **correlation** between $x$ and $Y$ and $s_x$ and $s_Y$ are the **sample standard deviations** of $x$ and $y$_\n",
    ">\n",
    "> ---\n",
    "> \n",
    "> ```python \n",
    "> # Use this if you need it    \n",
    "> # https://stackoverflow.com/questions/52771328/plotly-chart-not-showing-in-jupyter-notebook\n",
    "> import plotly.offline as pyo\n",
    "> # Set notebook mode to work in offline\n",
    "> pyo.init_notebook_mode()    \n",
    "> ```\n",
    ">\n",
    "> ---\n",
    "> \n",
    "> _Don't forget to ask for summaries of all your different ChatBot sessions and organize and paste these into your homework notebook (including link(s) to chat log histories if you're using ChatBot) But if you're using the STA130 custom NBLM ChatBot, you'll only be able to ask for summaries, of course!_  \n",
    "    \n",
    "</details>"
   ]
  },
  {
   "cell_type": "markdown",
   "id": "44820608",
   "metadata": {},
   "source": [
    "The ordinary least squares (OLS) method chooses the line that minimizes the sum of the squared differences (residuals) between the observed Y-values and the predicted Y-values on the line. This is done by adjusting the slope and intercept to make the total squared residuals as small as possible."
   ]
  },
  {
   "cell_type": "markdown",
   "id": "dc5ba222",
   "metadata": {},
   "source": [
    "### 6. Explain why the first expression below can be interpreted as \"the proportion of variation in (outcome) Y explained by the model (i.e. _fitted_model.fittedvalues_)\"; and therefore, why _fitted_model.rsquared_ can be interpreted as a measure of the accuracy of the model; and, therefore what the two _np.corrcoef(...)[0,1]\\*\\*2_ expressions capture in the context of _Simple Linear Regression models_.\n",
    "\n",
    "1. `1-((Y-fitted_model.fittedvalues)**2).sum()/((Y-Y.mean())**2).sum()`\n",
    "2. `fitted_model.rsquared`\n",
    "3. `np.corrcoef(Y,fitted_model.fittedvalues)[0,1]**2`\n",
    "4. `np.corrcoef(Y,x)[0,1]**2`<br><br>\n",
    "\n",
    "<details class=\"details-example\"><summary style=\"color:blue\"><u>Further Guidance</u></summary>\n",
    "\n",
    "> _**R-squared** is the \"the proportion of variation in (outcome) $Y$ explained by the model ($\\hat y_i$)\" and is defined as_\n",
    ">\n",
    "> _$R^2 = 1 - \\frac{\\sum_{i=1}^n(Y_i-\\hat y)^2}{\\sum_{i=1}^n(Y_i-\\bar Y)^2}$_\n",
    ">\n",
    "> _The visuzation provided in the previous problem can be used to consider $(Y_i-\\bar Y)^2$ as the squared distance of the $Y_i$ to their sample average $\\bar Y$ as opposed to the squared **residuals** $(Y_i-\\hat y)^2$ which is the squared distance of the $Y_i$ to their fitted (predicted) values $Y_i$._\n",
    ">    \n",
    "> ---\n",
    "> \n",
    "> _Don't forget to ask for summaries of all your different ChatBot sessions and organize and paste these into your homework notebook (including link(s) to chat log histories if you're using ChatBot) But if you're using the STA130 custom NBLM ChatBot, you'll only be able to ask for summaries, of course!_  \n",
    "</details>"
   ]
  },
  {
   "cell_type": "markdown",
   "id": "d821fd86",
   "metadata": {},
   "source": [
    "### 7. Indicate a couple of the assumptions of the *Simple Linear Regression* model specification that do not seem compatible with the example data below<br>\n",
    "\n",
    "<details class=\"details-example\"><summary style=\"color:blue\"><u>Further Guidance</u></summary>\n",
    "\n",
    "> _Hint: What even ARE the assumptions of the  **Simple Linear Regression** model, you ask? Have a look at the mathematical specification and see if what it seems to be assuming._\n",
    "> \n",
    "> _Don't forget to ask for summaries of all your different ChatBot sessions and organize and paste these into your homework notebook (including link(s) to chat log histories if you're using ChatBot) But if you're using the STA130 custom NBLM ChatBot, you'll only be able to ask for summaries, of course!_  \n",
    "</details>"
   ]
  },
  {
   "cell_type": "code",
   "execution_count": 40,
   "id": "ec7fda0d",
   "metadata": {},
   "outputs": [
    {
     "data": {
      "application/vnd.plotly.v1+json": {
       "config": {
        "plotlyServerURL": "https://plot.ly"
       },
       "data": [
        {
         "hovertemplate": "Amount of Fertilizer (kg) (x)=%{x}<br>Crop Yield (tons) (Y)=%{y}<extra></extra>",
         "legendgroup": "",
         "marker": {
          "color": "#636efa",
          "symbol": "circle"
         },
         "mode": "markers",
         "name": "",
         "orientation": "v",
         "showlegend": false,
         "type": "scatter",
         "x": [
          1,
          1.2,
          1.4,
          1.6,
          1.8,
          2,
          2.2,
          2.4,
          2.6,
          2.8,
          3,
          3.2,
          3.4,
          3.6,
          3.8,
          4,
          4.2,
          4.4,
          4.6,
          4.8,
          5,
          5.2,
          5.4,
          5.6,
          5.8,
          6,
          6.2,
          6.4,
          6.6,
          6.8,
          7,
          7.2,
          7.4,
          7.6,
          7.8,
          8,
          8.2,
          8.4,
          8.6,
          8.8,
          9,
          9.2,
          9.4,
          9.6
         ],
         "xaxis": "x",
         "y": [
          18.7,
          16.9,
          16.1,
          13.4,
          48.4,
          51.9,
          31.8,
          51.3,
          63.9,
          50.6,
          58.7,
          82.4,
          66.7,
          81.2,
          96.5,
          112.2,
          132.5,
          119.8,
          127.7,
          136.3,
          148.5,
          169.4,
          177.9,
          186.7,
          198.1,
          215.7,
          230.7,
          250.4,
          258,
          267.8,
          320.4,
          302,
          307.2,
          331.5,
          375.3,
          403.4,
          393.5,
          434.9,
          431.9,
          451.1,
          491.2,
          546.8,
          546.4,
          558.9
         ],
         "yaxis": "y"
        },
        {
         "hovertemplate": "<b>OLS trendline</b><br>Crop Yield (tons) (Y) = 62.3653 * Amount of Fertilizer (kg) (x) + -117.475<br>R<sup>2</sup>=0.940931<br><br>Amount of Fertilizer (kg) (x)=%{x}<br>Crop Yield (tons) (Y)=%{y} <b>(trend)</b><extra></extra>",
         "legendgroup": "",
         "marker": {
          "color": "#636efa",
          "symbol": "circle"
         },
         "mode": "lines",
         "name": "",
         "showlegend": false,
         "type": "scatter",
         "x": [
          1,
          1.2,
          1.4,
          1.6,
          1.8,
          2,
          2.2,
          2.4,
          2.6,
          2.8,
          3,
          3.2,
          3.4,
          3.6,
          3.8,
          4,
          4.2,
          4.4,
          4.6,
          4.8,
          5,
          5.2,
          5.4,
          5.6,
          5.8,
          6,
          6.2,
          6.4,
          6.6,
          6.8,
          7,
          7.2,
          7.4,
          7.6,
          7.8,
          8,
          8.2,
          8.4,
          8.6,
          8.8,
          9,
          9.2,
          9.4,
          9.6
         ],
         "xaxis": "x",
         "y": [
          -55.109393939394074,
          -42.63633544749837,
          -30.16327695560267,
          -17.690218463706955,
          -5.217159971811242,
          7.2558985200844575,
          19.72895701198017,
          32.20201550387587,
          44.67507399577157,
          57.14813248766727,
          69.621190979563,
          82.0942494714587,
          94.5673079633544,
          107.04036645525012,
          119.5134249471458,
          131.98648343904154,
          144.45954193093723,
          156.93260042283293,
          169.40565891472858,
          181.87871740662433,
          194.35177589852003,
          206.82483439041573,
          219.2978928823115,
          231.77095137420713,
          244.24400986610283,
          256.7170683579986,
          269.1901268498943,
          281.66318534179,
          294.1362438336857,
          306.6093023255814,
          319.0823608174771,
          331.55541930937284,
          344.02847780126854,
          356.5015362931642,
          368.97459478505994,
          381.44765327695563,
          393.9207117688513,
          406.3937702607471,
          418.8668287526427,
          431.3398872445385,
          443.8129457364342,
          456.2860042283298,
          468.7590627202256,
          481.2321212121213
         ],
         "yaxis": "y"
        },
        {
         "alignmentgroup": "True",
         "bingroup": "x",
         "hovertemplate": "Residuals=%{x}<br>count=%{y}<extra></extra>",
         "legendgroup": "",
         "marker": {
          "color": "#636efa",
          "pattern": {
           "shape": ""
          }
         },
         "name": "",
         "nbinsx": 10,
         "offsetgroup": "",
         "orientation": "v",
         "showlegend": false,
         "type": "histogram",
         "x": [
          73.80939393939391,
          59.536335447498224,
          46.26327695560253,
          31.09021846370681,
          53.61715997181111,
          44.64410147991541,
          12.071042988019702,
          19.097984496124027,
          19.2249260042283,
          -6.548132487667367,
          -10.921190979563093,
          0.30575052854121054,
          -27.86730796335449,
          -25.84036645525019,
          -23.013424947145893,
          -19.78648343904159,
          -11.95954193093732,
          -37.13260042283302,
          -41.70565891472866,
          -45.57871740662435,
          -45.85177589852012,
          -37.42483439041581,
          -41.39789288231151,
          -45.07095137420717,
          -46.14400986610292,
          -41.01706835799865,
          -38.49012684989435,
          -31.263185341790034,
          -36.136243833685626,
          -38.80930232558143,
          1.3176391825228393,
          -29.555419309372837,
          -36.82847780126855,
          -25.001536293164236,
          6.325405214940076,
          21.952346723044343,
          -0.42071176885121986,
          28.506229739252944,
          13.033171247357359,
          19.76011275546159,
          47.38705426356586,
          90.51399577167024,
          77.64093727977445,
          77.66787878787886
         ],
         "xaxis": "x2",
         "yaxis": "y2"
        }
       ],
       "layout": {
        "annotations": [
         {
          "font": {
           "size": 16
          },
          "showarrow": false,
          "text": "Crop Yield vs. Amount of Fertilizer",
          "x": 0.225,
          "xanchor": "center",
          "xref": "paper",
          "y": 1,
          "yanchor": "bottom",
          "yref": "paper"
         },
         {
          "font": {
           "size": 16
          },
          "showarrow": false,
          "text": "Histogram of Residuals",
          "x": 0.775,
          "xanchor": "center",
          "xref": "paper",
          "y": 1,
          "yanchor": "bottom",
          "yref": "paper"
         }
        ],
        "showlegend": false,
        "template": {
         "data": {
          "bar": [
           {
            "error_x": {
             "color": "#2a3f5f"
            },
            "error_y": {
             "color": "#2a3f5f"
            },
            "marker": {
             "line": {
              "color": "#E5ECF6",
              "width": 0.5
             },
             "pattern": {
              "fillmode": "overlay",
              "size": 10,
              "solidity": 0.2
             }
            },
            "type": "bar"
           }
          ],
          "barpolar": [
           {
            "marker": {
             "line": {
              "color": "#E5ECF6",
              "width": 0.5
             },
             "pattern": {
              "fillmode": "overlay",
              "size": 10,
              "solidity": 0.2
             }
            },
            "type": "barpolar"
           }
          ],
          "carpet": [
           {
            "aaxis": {
             "endlinecolor": "#2a3f5f",
             "gridcolor": "white",
             "linecolor": "white",
             "minorgridcolor": "white",
             "startlinecolor": "#2a3f5f"
            },
            "baxis": {
             "endlinecolor": "#2a3f5f",
             "gridcolor": "white",
             "linecolor": "white",
             "minorgridcolor": "white",
             "startlinecolor": "#2a3f5f"
            },
            "type": "carpet"
           }
          ],
          "choropleth": [
           {
            "colorbar": {
             "outlinewidth": 0,
             "ticks": ""
            },
            "type": "choropleth"
           }
          ],
          "contour": [
           {
            "colorbar": {
             "outlinewidth": 0,
             "ticks": ""
            },
            "colorscale": [
             [
              0,
              "#0d0887"
             ],
             [
              0.1111111111111111,
              "#46039f"
             ],
             [
              0.2222222222222222,
              "#7201a8"
             ],
             [
              0.3333333333333333,
              "#9c179e"
             ],
             [
              0.4444444444444444,
              "#bd3786"
             ],
             [
              0.5555555555555556,
              "#d8576b"
             ],
             [
              0.6666666666666666,
              "#ed7953"
             ],
             [
              0.7777777777777778,
              "#fb9f3a"
             ],
             [
              0.8888888888888888,
              "#fdca26"
             ],
             [
              1,
              "#f0f921"
             ]
            ],
            "type": "contour"
           }
          ],
          "contourcarpet": [
           {
            "colorbar": {
             "outlinewidth": 0,
             "ticks": ""
            },
            "type": "contourcarpet"
           }
          ],
          "heatmap": [
           {
            "colorbar": {
             "outlinewidth": 0,
             "ticks": ""
            },
            "colorscale": [
             [
              0,
              "#0d0887"
             ],
             [
              0.1111111111111111,
              "#46039f"
             ],
             [
              0.2222222222222222,
              "#7201a8"
             ],
             [
              0.3333333333333333,
              "#9c179e"
             ],
             [
              0.4444444444444444,
              "#bd3786"
             ],
             [
              0.5555555555555556,
              "#d8576b"
             ],
             [
              0.6666666666666666,
              "#ed7953"
             ],
             [
              0.7777777777777778,
              "#fb9f3a"
             ],
             [
              0.8888888888888888,
              "#fdca26"
             ],
             [
              1,
              "#f0f921"
             ]
            ],
            "type": "heatmap"
           }
          ],
          "heatmapgl": [
           {
            "colorbar": {
             "outlinewidth": 0,
             "ticks": ""
            },
            "colorscale": [
             [
              0,
              "#0d0887"
             ],
             [
              0.1111111111111111,
              "#46039f"
             ],
             [
              0.2222222222222222,
              "#7201a8"
             ],
             [
              0.3333333333333333,
              "#9c179e"
             ],
             [
              0.4444444444444444,
              "#bd3786"
             ],
             [
              0.5555555555555556,
              "#d8576b"
             ],
             [
              0.6666666666666666,
              "#ed7953"
             ],
             [
              0.7777777777777778,
              "#fb9f3a"
             ],
             [
              0.8888888888888888,
              "#fdca26"
             ],
             [
              1,
              "#f0f921"
             ]
            ],
            "type": "heatmapgl"
           }
          ],
          "histogram": [
           {
            "marker": {
             "pattern": {
              "fillmode": "overlay",
              "size": 10,
              "solidity": 0.2
             }
            },
            "type": "histogram"
           }
          ],
          "histogram2d": [
           {
            "colorbar": {
             "outlinewidth": 0,
             "ticks": ""
            },
            "colorscale": [
             [
              0,
              "#0d0887"
             ],
             [
              0.1111111111111111,
              "#46039f"
             ],
             [
              0.2222222222222222,
              "#7201a8"
             ],
             [
              0.3333333333333333,
              "#9c179e"
             ],
             [
              0.4444444444444444,
              "#bd3786"
             ],
             [
              0.5555555555555556,
              "#d8576b"
             ],
             [
              0.6666666666666666,
              "#ed7953"
             ],
             [
              0.7777777777777778,
              "#fb9f3a"
             ],
             [
              0.8888888888888888,
              "#fdca26"
             ],
             [
              1,
              "#f0f921"
             ]
            ],
            "type": "histogram2d"
           }
          ],
          "histogram2dcontour": [
           {
            "colorbar": {
             "outlinewidth": 0,
             "ticks": ""
            },
            "colorscale": [
             [
              0,
              "#0d0887"
             ],
             [
              0.1111111111111111,
              "#46039f"
             ],
             [
              0.2222222222222222,
              "#7201a8"
             ],
             [
              0.3333333333333333,
              "#9c179e"
             ],
             [
              0.4444444444444444,
              "#bd3786"
             ],
             [
              0.5555555555555556,
              "#d8576b"
             ],
             [
              0.6666666666666666,
              "#ed7953"
             ],
             [
              0.7777777777777778,
              "#fb9f3a"
             ],
             [
              0.8888888888888888,
              "#fdca26"
             ],
             [
              1,
              "#f0f921"
             ]
            ],
            "type": "histogram2dcontour"
           }
          ],
          "mesh3d": [
           {
            "colorbar": {
             "outlinewidth": 0,
             "ticks": ""
            },
            "type": "mesh3d"
           }
          ],
          "parcoords": [
           {
            "line": {
             "colorbar": {
              "outlinewidth": 0,
              "ticks": ""
             }
            },
            "type": "parcoords"
           }
          ],
          "pie": [
           {
            "automargin": true,
            "type": "pie"
           }
          ],
          "scatter": [
           {
            "fillpattern": {
             "fillmode": "overlay",
             "size": 10,
             "solidity": 0.2
            },
            "type": "scatter"
           }
          ],
          "scatter3d": [
           {
            "line": {
             "colorbar": {
              "outlinewidth": 0,
              "ticks": ""
             }
            },
            "marker": {
             "colorbar": {
              "outlinewidth": 0,
              "ticks": ""
             }
            },
            "type": "scatter3d"
           }
          ],
          "scattercarpet": [
           {
            "marker": {
             "colorbar": {
              "outlinewidth": 0,
              "ticks": ""
             }
            },
            "type": "scattercarpet"
           }
          ],
          "scattergeo": [
           {
            "marker": {
             "colorbar": {
              "outlinewidth": 0,
              "ticks": ""
             }
            },
            "type": "scattergeo"
           }
          ],
          "scattergl": [
           {
            "marker": {
             "colorbar": {
              "outlinewidth": 0,
              "ticks": ""
             }
            },
            "type": "scattergl"
           }
          ],
          "scattermapbox": [
           {
            "marker": {
             "colorbar": {
              "outlinewidth": 0,
              "ticks": ""
             }
            },
            "type": "scattermapbox"
           }
          ],
          "scatterpolar": [
           {
            "marker": {
             "colorbar": {
              "outlinewidth": 0,
              "ticks": ""
             }
            },
            "type": "scatterpolar"
           }
          ],
          "scatterpolargl": [
           {
            "marker": {
             "colorbar": {
              "outlinewidth": 0,
              "ticks": ""
             }
            },
            "type": "scatterpolargl"
           }
          ],
          "scatterternary": [
           {
            "marker": {
             "colorbar": {
              "outlinewidth": 0,
              "ticks": ""
             }
            },
            "type": "scatterternary"
           }
          ],
          "surface": [
           {
            "colorbar": {
             "outlinewidth": 0,
             "ticks": ""
            },
            "colorscale": [
             [
              0,
              "#0d0887"
             ],
             [
              0.1111111111111111,
              "#46039f"
             ],
             [
              0.2222222222222222,
              "#7201a8"
             ],
             [
              0.3333333333333333,
              "#9c179e"
             ],
             [
              0.4444444444444444,
              "#bd3786"
             ],
             [
              0.5555555555555556,
              "#d8576b"
             ],
             [
              0.6666666666666666,
              "#ed7953"
             ],
             [
              0.7777777777777778,
              "#fb9f3a"
             ],
             [
              0.8888888888888888,
              "#fdca26"
             ],
             [
              1,
              "#f0f921"
             ]
            ],
            "type": "surface"
           }
          ],
          "table": [
           {
            "cells": {
             "fill": {
              "color": "#EBF0F8"
             },
             "line": {
              "color": "white"
             }
            },
            "header": {
             "fill": {
              "color": "#C8D4E3"
             },
             "line": {
              "color": "white"
             }
            },
            "type": "table"
           }
          ]
         },
         "layout": {
          "annotationdefaults": {
           "arrowcolor": "#2a3f5f",
           "arrowhead": 0,
           "arrowwidth": 1
          },
          "autotypenumbers": "strict",
          "coloraxis": {
           "colorbar": {
            "outlinewidth": 0,
            "ticks": ""
           }
          },
          "colorscale": {
           "diverging": [
            [
             0,
             "#8e0152"
            ],
            [
             0.1,
             "#c51b7d"
            ],
            [
             0.2,
             "#de77ae"
            ],
            [
             0.3,
             "#f1b6da"
            ],
            [
             0.4,
             "#fde0ef"
            ],
            [
             0.5,
             "#f7f7f7"
            ],
            [
             0.6,
             "#e6f5d0"
            ],
            [
             0.7,
             "#b8e186"
            ],
            [
             0.8,
             "#7fbc41"
            ],
            [
             0.9,
             "#4d9221"
            ],
            [
             1,
             "#276419"
            ]
           ],
           "sequential": [
            [
             0,
             "#0d0887"
            ],
            [
             0.1111111111111111,
             "#46039f"
            ],
            [
             0.2222222222222222,
             "#7201a8"
            ],
            [
             0.3333333333333333,
             "#9c179e"
            ],
            [
             0.4444444444444444,
             "#bd3786"
            ],
            [
             0.5555555555555556,
             "#d8576b"
            ],
            [
             0.6666666666666666,
             "#ed7953"
            ],
            [
             0.7777777777777778,
             "#fb9f3a"
            ],
            [
             0.8888888888888888,
             "#fdca26"
            ],
            [
             1,
             "#f0f921"
            ]
           ],
           "sequentialminus": [
            [
             0,
             "#0d0887"
            ],
            [
             0.1111111111111111,
             "#46039f"
            ],
            [
             0.2222222222222222,
             "#7201a8"
            ],
            [
             0.3333333333333333,
             "#9c179e"
            ],
            [
             0.4444444444444444,
             "#bd3786"
            ],
            [
             0.5555555555555556,
             "#d8576b"
            ],
            [
             0.6666666666666666,
             "#ed7953"
            ],
            [
             0.7777777777777778,
             "#fb9f3a"
            ],
            [
             0.8888888888888888,
             "#fdca26"
            ],
            [
             1,
             "#f0f921"
            ]
           ]
          },
          "colorway": [
           "#636efa",
           "#EF553B",
           "#00cc96",
           "#ab63fa",
           "#FFA15A",
           "#19d3f3",
           "#FF6692",
           "#B6E880",
           "#FF97FF",
           "#FECB52"
          ],
          "font": {
           "color": "#2a3f5f"
          },
          "geo": {
           "bgcolor": "white",
           "lakecolor": "white",
           "landcolor": "#E5ECF6",
           "showlakes": true,
           "showland": true,
           "subunitcolor": "white"
          },
          "hoverlabel": {
           "align": "left"
          },
          "hovermode": "closest",
          "mapbox": {
           "style": "light"
          },
          "paper_bgcolor": "white",
          "plot_bgcolor": "#E5ECF6",
          "polar": {
           "angularaxis": {
            "gridcolor": "white",
            "linecolor": "white",
            "ticks": ""
           },
           "bgcolor": "#E5ECF6",
           "radialaxis": {
            "gridcolor": "white",
            "linecolor": "white",
            "ticks": ""
           }
          },
          "scene": {
           "xaxis": {
            "backgroundcolor": "#E5ECF6",
            "gridcolor": "white",
            "gridwidth": 2,
            "linecolor": "white",
            "showbackground": true,
            "ticks": "",
            "zerolinecolor": "white"
           },
           "yaxis": {
            "backgroundcolor": "#E5ECF6",
            "gridcolor": "white",
            "gridwidth": 2,
            "linecolor": "white",
            "showbackground": true,
            "ticks": "",
            "zerolinecolor": "white"
           },
           "zaxis": {
            "backgroundcolor": "#E5ECF6",
            "gridcolor": "white",
            "gridwidth": 2,
            "linecolor": "white",
            "showbackground": true,
            "ticks": "",
            "zerolinecolor": "white"
           }
          },
          "shapedefaults": {
           "line": {
            "color": "#2a3f5f"
           }
          },
          "ternary": {
           "aaxis": {
            "gridcolor": "white",
            "linecolor": "white",
            "ticks": ""
           },
           "baxis": {
            "gridcolor": "white",
            "linecolor": "white",
            "ticks": ""
           },
           "bgcolor": "#E5ECF6",
           "caxis": {
            "gridcolor": "white",
            "linecolor": "white",
            "ticks": ""
           }
          },
          "title": {
           "x": 0.05
          },
          "xaxis": {
           "automargin": true,
           "gridcolor": "white",
           "linecolor": "white",
           "ticks": "",
           "title": {
            "standoff": 15
           },
           "zerolinecolor": "white",
           "zerolinewidth": 2
          },
          "yaxis": {
           "automargin": true,
           "gridcolor": "white",
           "linecolor": "white",
           "ticks": "",
           "title": {
            "standoff": 15
           },
           "zerolinecolor": "white",
           "zerolinewidth": 2
          }
         }
        },
        "title": {
         "text": "Scatter Plot and Histogram of Residuals"
        },
        "xaxis": {
         "anchor": "y",
         "domain": [
          0,
          0.45
         ],
         "title": {
          "text": "Amount of Fertilizer (kg)"
         }
        },
        "xaxis2": {
         "anchor": "y2",
         "domain": [
          0.55,
          1
         ],
         "title": {
          "text": "Residuals"
         }
        },
        "yaxis": {
         "anchor": "x",
         "domain": [
          0,
          1
         ],
         "title": {
          "text": "Crop Yield (tons)"
         }
        },
        "yaxis2": {
         "anchor": "x2",
         "domain": [
          0,
          1
         ],
         "title": {
          "text": "Frequency"
         }
        }
       }
      },
      "text/html": [
       "<div>                            <div id=\"f4a72496-b60e-414e-ac78-2e85a08aa0e4\" class=\"plotly-graph-div\" style=\"height:525px; width:100%;\"></div>            <script type=\"text/javascript\">                require([\"plotly\"], function(Plotly) {                    window.PLOTLYENV=window.PLOTLYENV || {};                                    if (document.getElementById(\"f4a72496-b60e-414e-ac78-2e85a08aa0e4\")) {                    Plotly.newPlot(                        \"f4a72496-b60e-414e-ac78-2e85a08aa0e4\",                        [{\"hovertemplate\":\"Amount of Fertilizer (kg) (x)=%{x}\\u003cbr\\u003eCrop Yield (tons) (Y)=%{y}\\u003cextra\\u003e\\u003c\\u002fextra\\u003e\",\"legendgroup\":\"\",\"marker\":{\"color\":\"#636efa\",\"symbol\":\"circle\"},\"mode\":\"markers\",\"name\":\"\",\"orientation\":\"v\",\"showlegend\":false,\"x\":[1.0,1.2,1.4,1.6,1.8,2.0,2.2,2.4,2.6,2.8,3.0,3.2,3.4,3.6,3.8,4.0,4.2,4.4,4.6,4.8,5.0,5.2,5.4,5.6,5.8,6.0,6.2,6.4,6.6,6.8,7.0,7.2,7.4,7.6,7.8,8.0,8.2,8.4,8.6,8.8,9.0,9.2,9.4,9.6],\"xaxis\":\"x\",\"y\":[18.7,16.9,16.1,13.4,48.4,51.9,31.8,51.3,63.9,50.6,58.7,82.4,66.7,81.2,96.5,112.2,132.5,119.8,127.7,136.3,148.5,169.4,177.9,186.7,198.1,215.7,230.7,250.4,258.0,267.8,320.4,302.0,307.2,331.5,375.3,403.4,393.5,434.9,431.9,451.1,491.2,546.8,546.4,558.9],\"yaxis\":\"y\",\"type\":\"scatter\"},{\"hovertemplate\":\"\\u003cb\\u003eOLS trendline\\u003c\\u002fb\\u003e\\u003cbr\\u003eCrop Yield (tons) (Y) = 62.3653 * Amount of Fertilizer (kg) (x) + -117.475\\u003cbr\\u003eR\\u003csup\\u003e2\\u003c\\u002fsup\\u003e=0.940931\\u003cbr\\u003e\\u003cbr\\u003eAmount of Fertilizer (kg) (x)=%{x}\\u003cbr\\u003eCrop Yield (tons) (Y)=%{y} \\u003cb\\u003e(trend)\\u003c\\u002fb\\u003e\\u003cextra\\u003e\\u003c\\u002fextra\\u003e\",\"legendgroup\":\"\",\"marker\":{\"color\":\"#636efa\",\"symbol\":\"circle\"},\"mode\":\"lines\",\"name\":\"\",\"showlegend\":false,\"x\":[1.0,1.2,1.4,1.6,1.8,2.0,2.2,2.4,2.6,2.8,3.0,3.2,3.4,3.6,3.8,4.0,4.2,4.4,4.6,4.8,5.0,5.2,5.4,5.6,5.8,6.0,6.2,6.4,6.6,6.8,7.0,7.2,7.4,7.6,7.8,8.0,8.2,8.4,8.6,8.8,9.0,9.2,9.4,9.6],\"xaxis\":\"x\",\"y\":[-55.109393939394074,-42.63633544749837,-30.16327695560267,-17.690218463706955,-5.217159971811242,7.2558985200844575,19.72895701198017,32.20201550387587,44.67507399577157,57.14813248766727,69.621190979563,82.0942494714587,94.5673079633544,107.04036645525012,119.5134249471458,131.98648343904154,144.45954193093723,156.93260042283293,169.40565891472858,181.87871740662433,194.35177589852003,206.82483439041573,219.2978928823115,231.77095137420713,244.24400986610283,256.7170683579986,269.1901268498943,281.66318534179,294.1362438336857,306.6093023255814,319.0823608174771,331.55541930937284,344.02847780126854,356.5015362931642,368.97459478505994,381.44765327695563,393.9207117688513,406.3937702607471,418.8668287526427,431.3398872445385,443.8129457364342,456.2860042283298,468.7590627202256,481.2321212121213],\"yaxis\":\"y\",\"type\":\"scatter\"},{\"alignmentgroup\":\"True\",\"bingroup\":\"x\",\"hovertemplate\":\"Residuals=%{x}\\u003cbr\\u003ecount=%{y}\\u003cextra\\u003e\\u003c\\u002fextra\\u003e\",\"legendgroup\":\"\",\"marker\":{\"color\":\"#636efa\",\"pattern\":{\"shape\":\"\"}},\"name\":\"\",\"nbinsx\":10,\"offsetgroup\":\"\",\"orientation\":\"v\",\"showlegend\":false,\"x\":[73.80939393939391,59.536335447498224,46.26327695560253,31.09021846370681,53.61715997181111,44.64410147991541,12.071042988019702,19.097984496124027,19.2249260042283,-6.548132487667367,-10.921190979563093,0.30575052854121054,-27.86730796335449,-25.84036645525019,-23.013424947145893,-19.78648343904159,-11.95954193093732,-37.13260042283302,-41.70565891472866,-45.57871740662435,-45.85177589852012,-37.42483439041581,-41.39789288231151,-45.07095137420717,-46.14400986610292,-41.01706835799865,-38.49012684989435,-31.263185341790034,-36.136243833685626,-38.80930232558143,1.3176391825228393,-29.555419309372837,-36.82847780126855,-25.001536293164236,6.325405214940076,21.952346723044343,-0.42071176885121986,28.506229739252944,13.033171247357359,19.76011275546159,47.38705426356586,90.51399577167024,77.64093727977445,77.66787878787886],\"xaxis\":\"x2\",\"yaxis\":\"y2\",\"type\":\"histogram\"}],                        {\"template\":{\"data\":{\"histogram2dcontour\":[{\"type\":\"histogram2dcontour\",\"colorbar\":{\"outlinewidth\":0,\"ticks\":\"\"},\"colorscale\":[[0.0,\"#0d0887\"],[0.1111111111111111,\"#46039f\"],[0.2222222222222222,\"#7201a8\"],[0.3333333333333333,\"#9c179e\"],[0.4444444444444444,\"#bd3786\"],[0.5555555555555556,\"#d8576b\"],[0.6666666666666666,\"#ed7953\"],[0.7777777777777778,\"#fb9f3a\"],[0.8888888888888888,\"#fdca26\"],[1.0,\"#f0f921\"]]}],\"choropleth\":[{\"type\":\"choropleth\",\"colorbar\":{\"outlinewidth\":0,\"ticks\":\"\"}}],\"histogram2d\":[{\"type\":\"histogram2d\",\"colorbar\":{\"outlinewidth\":0,\"ticks\":\"\"},\"colorscale\":[[0.0,\"#0d0887\"],[0.1111111111111111,\"#46039f\"],[0.2222222222222222,\"#7201a8\"],[0.3333333333333333,\"#9c179e\"],[0.4444444444444444,\"#bd3786\"],[0.5555555555555556,\"#d8576b\"],[0.6666666666666666,\"#ed7953\"],[0.7777777777777778,\"#fb9f3a\"],[0.8888888888888888,\"#fdca26\"],[1.0,\"#f0f921\"]]}],\"heatmap\":[{\"type\":\"heatmap\",\"colorbar\":{\"outlinewidth\":0,\"ticks\":\"\"},\"colorscale\":[[0.0,\"#0d0887\"],[0.1111111111111111,\"#46039f\"],[0.2222222222222222,\"#7201a8\"],[0.3333333333333333,\"#9c179e\"],[0.4444444444444444,\"#bd3786\"],[0.5555555555555556,\"#d8576b\"],[0.6666666666666666,\"#ed7953\"],[0.7777777777777778,\"#fb9f3a\"],[0.8888888888888888,\"#fdca26\"],[1.0,\"#f0f921\"]]}],\"heatmapgl\":[{\"type\":\"heatmapgl\",\"colorbar\":{\"outlinewidth\":0,\"ticks\":\"\"},\"colorscale\":[[0.0,\"#0d0887\"],[0.1111111111111111,\"#46039f\"],[0.2222222222222222,\"#7201a8\"],[0.3333333333333333,\"#9c179e\"],[0.4444444444444444,\"#bd3786\"],[0.5555555555555556,\"#d8576b\"],[0.6666666666666666,\"#ed7953\"],[0.7777777777777778,\"#fb9f3a\"],[0.8888888888888888,\"#fdca26\"],[1.0,\"#f0f921\"]]}],\"contourcarpet\":[{\"type\":\"contourcarpet\",\"colorbar\":{\"outlinewidth\":0,\"ticks\":\"\"}}],\"contour\":[{\"type\":\"contour\",\"colorbar\":{\"outlinewidth\":0,\"ticks\":\"\"},\"colorscale\":[[0.0,\"#0d0887\"],[0.1111111111111111,\"#46039f\"],[0.2222222222222222,\"#7201a8\"],[0.3333333333333333,\"#9c179e\"],[0.4444444444444444,\"#bd3786\"],[0.5555555555555556,\"#d8576b\"],[0.6666666666666666,\"#ed7953\"],[0.7777777777777778,\"#fb9f3a\"],[0.8888888888888888,\"#fdca26\"],[1.0,\"#f0f921\"]]}],\"surface\":[{\"type\":\"surface\",\"colorbar\":{\"outlinewidth\":0,\"ticks\":\"\"},\"colorscale\":[[0.0,\"#0d0887\"],[0.1111111111111111,\"#46039f\"],[0.2222222222222222,\"#7201a8\"],[0.3333333333333333,\"#9c179e\"],[0.4444444444444444,\"#bd3786\"],[0.5555555555555556,\"#d8576b\"],[0.6666666666666666,\"#ed7953\"],[0.7777777777777778,\"#fb9f3a\"],[0.8888888888888888,\"#fdca26\"],[1.0,\"#f0f921\"]]}],\"mesh3d\":[{\"type\":\"mesh3d\",\"colorbar\":{\"outlinewidth\":0,\"ticks\":\"\"}}],\"scatter\":[{\"fillpattern\":{\"fillmode\":\"overlay\",\"size\":10,\"solidity\":0.2},\"type\":\"scatter\"}],\"parcoords\":[{\"type\":\"parcoords\",\"line\":{\"colorbar\":{\"outlinewidth\":0,\"ticks\":\"\"}}}],\"scatterpolargl\":[{\"type\":\"scatterpolargl\",\"marker\":{\"colorbar\":{\"outlinewidth\":0,\"ticks\":\"\"}}}],\"bar\":[{\"error_x\":{\"color\":\"#2a3f5f\"},\"error_y\":{\"color\":\"#2a3f5f\"},\"marker\":{\"line\":{\"color\":\"#E5ECF6\",\"width\":0.5},\"pattern\":{\"fillmode\":\"overlay\",\"size\":10,\"solidity\":0.2}},\"type\":\"bar\"}],\"scattergeo\":[{\"type\":\"scattergeo\",\"marker\":{\"colorbar\":{\"outlinewidth\":0,\"ticks\":\"\"}}}],\"scatterpolar\":[{\"type\":\"scatterpolar\",\"marker\":{\"colorbar\":{\"outlinewidth\":0,\"ticks\":\"\"}}}],\"histogram\":[{\"marker\":{\"pattern\":{\"fillmode\":\"overlay\",\"size\":10,\"solidity\":0.2}},\"type\":\"histogram\"}],\"scattergl\":[{\"type\":\"scattergl\",\"marker\":{\"colorbar\":{\"outlinewidth\":0,\"ticks\":\"\"}}}],\"scatter3d\":[{\"type\":\"scatter3d\",\"line\":{\"colorbar\":{\"outlinewidth\":0,\"ticks\":\"\"}},\"marker\":{\"colorbar\":{\"outlinewidth\":0,\"ticks\":\"\"}}}],\"scattermapbox\":[{\"type\":\"scattermapbox\",\"marker\":{\"colorbar\":{\"outlinewidth\":0,\"ticks\":\"\"}}}],\"scatterternary\":[{\"type\":\"scatterternary\",\"marker\":{\"colorbar\":{\"outlinewidth\":0,\"ticks\":\"\"}}}],\"scattercarpet\":[{\"type\":\"scattercarpet\",\"marker\":{\"colorbar\":{\"outlinewidth\":0,\"ticks\":\"\"}}}],\"carpet\":[{\"aaxis\":{\"endlinecolor\":\"#2a3f5f\",\"gridcolor\":\"white\",\"linecolor\":\"white\",\"minorgridcolor\":\"white\",\"startlinecolor\":\"#2a3f5f\"},\"baxis\":{\"endlinecolor\":\"#2a3f5f\",\"gridcolor\":\"white\",\"linecolor\":\"white\",\"minorgridcolor\":\"white\",\"startlinecolor\":\"#2a3f5f\"},\"type\":\"carpet\"}],\"table\":[{\"cells\":{\"fill\":{\"color\":\"#EBF0F8\"},\"line\":{\"color\":\"white\"}},\"header\":{\"fill\":{\"color\":\"#C8D4E3\"},\"line\":{\"color\":\"white\"}},\"type\":\"table\"}],\"barpolar\":[{\"marker\":{\"line\":{\"color\":\"#E5ECF6\",\"width\":0.5},\"pattern\":{\"fillmode\":\"overlay\",\"size\":10,\"solidity\":0.2}},\"type\":\"barpolar\"}],\"pie\":[{\"automargin\":true,\"type\":\"pie\"}]},\"layout\":{\"autotypenumbers\":\"strict\",\"colorway\":[\"#636efa\",\"#EF553B\",\"#00cc96\",\"#ab63fa\",\"#FFA15A\",\"#19d3f3\",\"#FF6692\",\"#B6E880\",\"#FF97FF\",\"#FECB52\"],\"font\":{\"color\":\"#2a3f5f\"},\"hovermode\":\"closest\",\"hoverlabel\":{\"align\":\"left\"},\"paper_bgcolor\":\"white\",\"plot_bgcolor\":\"#E5ECF6\",\"polar\":{\"bgcolor\":\"#E5ECF6\",\"angularaxis\":{\"gridcolor\":\"white\",\"linecolor\":\"white\",\"ticks\":\"\"},\"radialaxis\":{\"gridcolor\":\"white\",\"linecolor\":\"white\",\"ticks\":\"\"}},\"ternary\":{\"bgcolor\":\"#E5ECF6\",\"aaxis\":{\"gridcolor\":\"white\",\"linecolor\":\"white\",\"ticks\":\"\"},\"baxis\":{\"gridcolor\":\"white\",\"linecolor\":\"white\",\"ticks\":\"\"},\"caxis\":{\"gridcolor\":\"white\",\"linecolor\":\"white\",\"ticks\":\"\"}},\"coloraxis\":{\"colorbar\":{\"outlinewidth\":0,\"ticks\":\"\"}},\"colorscale\":{\"sequential\":[[0.0,\"#0d0887\"],[0.1111111111111111,\"#46039f\"],[0.2222222222222222,\"#7201a8\"],[0.3333333333333333,\"#9c179e\"],[0.4444444444444444,\"#bd3786\"],[0.5555555555555556,\"#d8576b\"],[0.6666666666666666,\"#ed7953\"],[0.7777777777777778,\"#fb9f3a\"],[0.8888888888888888,\"#fdca26\"],[1.0,\"#f0f921\"]],\"sequentialminus\":[[0.0,\"#0d0887\"],[0.1111111111111111,\"#46039f\"],[0.2222222222222222,\"#7201a8\"],[0.3333333333333333,\"#9c179e\"],[0.4444444444444444,\"#bd3786\"],[0.5555555555555556,\"#d8576b\"],[0.6666666666666666,\"#ed7953\"],[0.7777777777777778,\"#fb9f3a\"],[0.8888888888888888,\"#fdca26\"],[1.0,\"#f0f921\"]],\"diverging\":[[0,\"#8e0152\"],[0.1,\"#c51b7d\"],[0.2,\"#de77ae\"],[0.3,\"#f1b6da\"],[0.4,\"#fde0ef\"],[0.5,\"#f7f7f7\"],[0.6,\"#e6f5d0\"],[0.7,\"#b8e186\"],[0.8,\"#7fbc41\"],[0.9,\"#4d9221\"],[1,\"#276419\"]]},\"xaxis\":{\"gridcolor\":\"white\",\"linecolor\":\"white\",\"ticks\":\"\",\"title\":{\"standoff\":15},\"zerolinecolor\":\"white\",\"automargin\":true,\"zerolinewidth\":2},\"yaxis\":{\"gridcolor\":\"white\",\"linecolor\":\"white\",\"ticks\":\"\",\"title\":{\"standoff\":15},\"zerolinecolor\":\"white\",\"automargin\":true,\"zerolinewidth\":2},\"scene\":{\"xaxis\":{\"backgroundcolor\":\"#E5ECF6\",\"gridcolor\":\"white\",\"linecolor\":\"white\",\"showbackground\":true,\"ticks\":\"\",\"zerolinecolor\":\"white\",\"gridwidth\":2},\"yaxis\":{\"backgroundcolor\":\"#E5ECF6\",\"gridcolor\":\"white\",\"linecolor\":\"white\",\"showbackground\":true,\"ticks\":\"\",\"zerolinecolor\":\"white\",\"gridwidth\":2},\"zaxis\":{\"backgroundcolor\":\"#E5ECF6\",\"gridcolor\":\"white\",\"linecolor\":\"white\",\"showbackground\":true,\"ticks\":\"\",\"zerolinecolor\":\"white\",\"gridwidth\":2}},\"shapedefaults\":{\"line\":{\"color\":\"#2a3f5f\"}},\"annotationdefaults\":{\"arrowcolor\":\"#2a3f5f\",\"arrowhead\":0,\"arrowwidth\":1},\"geo\":{\"bgcolor\":\"white\",\"landcolor\":\"#E5ECF6\",\"subunitcolor\":\"white\",\"showland\":true,\"showlakes\":true,\"lakecolor\":\"white\"},\"title\":{\"x\":0.05},\"mapbox\":{\"style\":\"light\"}}},\"xaxis\":{\"anchor\":\"y\",\"domain\":[0.0,0.45],\"title\":{\"text\":\"Amount of Fertilizer (kg)\"}},\"yaxis\":{\"anchor\":\"x\",\"domain\":[0.0,1.0],\"title\":{\"text\":\"Crop Yield (tons)\"}},\"xaxis2\":{\"anchor\":\"y2\",\"domain\":[0.55,1.0],\"title\":{\"text\":\"Residuals\"}},\"yaxis2\":{\"anchor\":\"x2\",\"domain\":[0.0,1.0],\"title\":{\"text\":\"Frequency\"}},\"annotations\":[{\"font\":{\"size\":16},\"showarrow\":false,\"text\":\"Crop Yield vs. Amount of Fertilizer\",\"x\":0.225,\"xanchor\":\"center\",\"xref\":\"paper\",\"y\":1.0,\"yanchor\":\"bottom\",\"yref\":\"paper\"},{\"font\":{\"size\":16},\"showarrow\":false,\"text\":\"Histogram of Residuals\",\"x\":0.775,\"xanchor\":\"center\",\"xref\":\"paper\",\"y\":1.0,\"yanchor\":\"bottom\",\"yref\":\"paper\"}],\"title\":{\"text\":\"Scatter Plot and Histogram of Residuals\"},\"showlegend\":false},                        {\"responsive\": true}                    ).then(function(){\n",
       "                            \n",
       "var gd = document.getElementById('f4a72496-b60e-414e-ac78-2e85a08aa0e4');\n",
       "var x = new MutationObserver(function (mutations, observer) {{\n",
       "        var display = window.getComputedStyle(gd).display;\n",
       "        if (!display || display === 'none') {{\n",
       "            console.log([gd, 'removed!']);\n",
       "            Plotly.purge(gd);\n",
       "            observer.disconnect();\n",
       "        }}\n",
       "}});\n",
       "\n",
       "// Listen for the removal of the full notebook cells\n",
       "var notebookContainer = gd.closest('#notebook-container');\n",
       "if (notebookContainer) {{\n",
       "    x.observe(notebookContainer, {childList: true});\n",
       "}}\n",
       "\n",
       "// Listen for the clearing of the current output cell\n",
       "var outputEl = gd.closest('.output');\n",
       "if (outputEl) {{\n",
       "    x.observe(outputEl, {childList: true});\n",
       "}}\n",
       "\n",
       "                        })                };                });            </script>        </div>"
      ]
     },
     "metadata": {},
     "output_type": "display_data"
    }
   ],
   "source": [
    "import pandas as pd\n",
    "from scipy import stats\n",
    "import plotly.express as px\n",
    "from plotly.subplots import make_subplots\n",
    "\n",
    "# This data shows the relationship between the amount of fertilizer used and crop yield\n",
    "data = {'Amount of Fertilizer (kg) (x)': [1, 1.2, 1.4, 1.6, 1.8, 2, 2.2, 2.4, 2.6, \n",
    "                                          2.8, 3, 3.2, 3.4, 3.6, 3.8, 4, 4.2, 4.4, \n",
    "                                          4.6, 4.8, 5, 5.2, 5.4, 5.6, 5.8, 6, 6.2, \n",
    "                                          6.4, 6.6, 6.8, 7, 7.2, 7.4, 7.6, 7.8, 8, \n",
    "                                          8.2, 8.4, 8.6, 8.8,9, 9.2, 9.4, 9.6],\n",
    "        'Crop Yield (tons) (Y)': [18.7, 16.9, 16.1, 13.4, 48.4, 51.9, 31.8, 51.3, \n",
    "                                  63.9, 50.6, 58.7, 82.4, 66.7, 81.2, 96.5, 112.2, \n",
    "                                  132.5, 119.8, 127.7, 136.3, 148.5, 169.4, 177.9, \n",
    "                                  186.7, 198.1, 215.7, 230.7, 250.4, 258. , 267.8, \n",
    "                                  320.4, 302. , 307.2, 331.5, 375.3, 403.4, 393.5,\n",
    "                                  434.9, 431.9, 451.1, 491.2, 546.8, 546.4, 558.9]}\n",
    "df = pd.DataFrame(data)\n",
    "fig1 = px.scatter(df, x='Amount of Fertilizer (kg) (x)', y='Crop Yield (tons) (Y)',\n",
    "                  trendline='ols', title='Crop Yield vs. Amount of Fertilizer')\n",
    "\n",
    "# Perform linear regression using scipy.stats\n",
    "slope, intercept, r_value, p_value, std_err = \\\n",
    "    stats.linregress(df['Amount of Fertilizer (kg) (x)'], df['Crop Yield (tons) (Y)'])\n",
    "# Predict the values and calculate residuals\n",
    "y_hat = intercept + slope * df['Amount of Fertilizer (kg) (x)']\n",
    "residuals = df['Crop Yield (tons) (Y)'] - y_hat\n",
    "df['Residuals'] = residuals\n",
    "fig2 = px.histogram(df, x='Residuals', nbins=10, title='Histogram of Residuals',\n",
    "                    labels={'Residuals': 'Residuals'})\n",
    "\n",
    "fig = make_subplots(rows=1, cols=2,\n",
    "                    subplot_titles=('Crop Yield vs. Amount of Fertilizer', \n",
    "                                    'Histogram of Residuals'))\n",
    "for trace in fig1.data:\n",
    "    fig.add_trace(trace, row=1, col=1)\n",
    "for trace in fig2.data:\n",
    "    fig.add_trace(trace, row=1, col=2)\n",
    "fig.update_layout(title='Scatter Plot and Histogram of Residuals',\n",
    "    xaxis_title='Amount of Fertilizer (kg)', yaxis_title='Crop Yield (tons)',\n",
    "    xaxis2_title='Residuals', yaxis2_title='Frequency', showlegend=False)\n",
    "\n",
    "fig.show() # USE `fig.show(renderer=\"png\")` FOR ALL GitHub and MarkUs SUBMISSIONS"
   ]
  },
  {
   "cell_type": "markdown",
   "id": "23d4cbbf",
   "metadata": {},
   "source": [
    "The assumption is that the data is not skewed and that the residuals are somewhat normally distributed which simply is not the case. It appears we are trying to force a linear model onto a model that is simply not linear. This model might be quadratic or cubic."
   ]
  },
  {
   "cell_type": "markdown",
   "id": "a977ba64",
   "metadata": {},
   "source": [
    "## \"Week of Nov04\" HW [due prior to the Nov08 TUT]\n",
    "\n",
    "_**In place of the \"Data Analysis Assignment\" format we introduced for the previous weeks' HW, the remaining questions will be a collection of exercises based around the following data**_\n",
    "\n",
    "> The details of the \"LOWESS Trendline\" shown below are not a part of the intended scope of the activities here, but it is included since it is suggestive of the questions we will consider and address here\n"
   ]
  },
  {
   "cell_type": "code",
   "execution_count": 36,
   "id": "a29449cd",
   "metadata": {},
   "outputs": [
    {
     "data": {
      "application/vnd.plotly.v1+json": {
       "config": {
        "plotlyServerURL": "https://plot.ly"
       },
       "data": [
        {
         "hovertemplate": "waiting=%{x}<br>duration=%{y}<extra></extra>",
         "legendgroup": "",
         "marker": {
          "color": "#636efa",
          "symbol": "circle"
         },
         "mode": "markers",
         "name": "",
         "orientation": "v",
         "showlegend": false,
         "type": "scatter",
         "x": [
          79,
          54,
          74,
          62,
          85,
          55,
          88,
          85,
          51,
          85,
          54,
          84,
          78,
          47,
          83,
          52,
          62,
          84,
          52,
          79,
          51,
          47,
          78,
          69,
          74,
          83,
          55,
          76,
          78,
          79,
          73,
          77,
          66,
          80,
          74,
          52,
          48,
          80,
          59,
          90,
          80,
          58,
          84,
          58,
          73,
          83,
          64,
          53,
          82,
          59,
          75,
          90,
          54,
          80,
          54,
          83,
          71,
          64,
          77,
          81,
          59,
          84,
          48,
          82,
          60,
          92,
          78,
          78,
          65,
          73,
          82,
          56,
          79,
          71,
          62,
          76,
          60,
          78,
          76,
          83,
          75,
          82,
          70,
          65,
          73,
          88,
          76,
          80,
          48,
          86,
          60,
          90,
          50,
          78,
          63,
          72,
          84,
          75,
          51,
          82,
          62,
          88,
          49,
          83,
          81,
          47,
          84,
          52,
          86,
          81,
          75,
          59,
          89,
          79,
          59,
          81,
          50,
          85,
          59,
          87,
          53,
          69,
          77,
          56,
          88,
          81,
          45,
          82,
          55,
          90,
          45,
          83,
          56,
          89,
          46,
          82,
          51,
          86,
          53,
          79,
          81,
          60,
          82,
          77,
          76,
          59,
          80,
          49,
          96,
          53,
          77,
          77,
          65,
          81,
          71,
          70,
          81,
          93,
          53,
          89,
          45,
          86,
          58,
          78,
          66,
          76,
          63,
          88,
          52,
          93,
          49,
          57,
          77,
          68,
          81,
          81,
          73,
          50,
          85,
          74,
          55,
          77,
          83,
          83,
          51,
          78,
          84,
          46,
          83,
          55,
          81,
          57,
          76,
          84,
          77,
          81,
          87,
          77,
          51,
          78,
          60,
          82,
          91,
          53,
          78,
          46,
          77,
          84,
          49,
          83,
          71,
          80,
          49,
          75,
          64,
          76,
          53,
          94,
          55,
          76,
          50,
          82,
          54,
          75,
          78,
          79,
          78,
          78,
          70,
          79,
          70,
          54,
          86,
          50,
          90,
          54,
          54,
          77,
          79,
          64,
          75,
          47,
          86,
          63,
          85,
          82,
          57,
          82,
          67,
          74,
          54,
          83,
          73,
          73,
          88,
          80,
          71,
          83,
          56,
          79,
          78,
          84,
          58,
          83,
          43,
          60,
          75,
          81,
          46,
          90,
          46,
          74
         ],
         "xaxis": "x",
         "y": [
          3.6,
          1.8,
          3.333,
          2.283,
          4.533,
          2.883,
          4.7,
          3.6,
          1.95,
          4.35,
          1.833,
          3.917,
          4.2,
          1.75,
          4.7,
          2.167,
          1.75,
          4.8,
          1.6,
          4.25,
          1.8,
          1.75,
          3.45,
          3.067,
          4.533,
          3.6,
          1.967,
          4.083,
          3.85,
          4.433,
          4.3,
          4.467,
          3.367,
          4.033,
          3.833,
          2.017,
          1.867,
          4.833,
          1.833,
          4.783,
          4.35,
          1.883,
          4.567,
          1.75,
          4.533,
          3.317,
          3.833,
          2.1,
          4.633,
          2,
          4.8,
          4.716,
          1.833,
          4.833,
          1.733,
          4.883,
          3.717,
          1.6669999999999998,
          4.567,
          4.317,
          2.233,
          4.5,
          1.75,
          4.8,
          1.817,
          4.4,
          4.167,
          4.7,
          2.067,
          4.7,
          4.033,
          1.967,
          4.5,
          4,
          1.983,
          5.067,
          2.017,
          4.567,
          3.883,
          3.6,
          4.133,
          4.333,
          4.1,
          2.633,
          4.067,
          4.933,
          3.95,
          4.517,
          2.167,
          4,
          2.2,
          4.333,
          1.867,
          4.817,
          1.833,
          4.3,
          4.667,
          3.75,
          1.867,
          4.9,
          2.483,
          4.367,
          2.1,
          4.5,
          4.05,
          1.867,
          4.7,
          1.783,
          4.85,
          3.683,
          4.7330000000000005,
          2.3,
          4.9,
          4.417,
          1.7,
          4.633,
          2.317,
          4.6,
          1.817,
          4.417,
          2.617,
          4.067,
          4.25,
          1.967,
          4.6,
          3.767,
          1.917,
          4.5,
          2.267,
          4.65,
          1.867,
          4.167,
          2.8,
          4.333,
          1.833,
          4.383,
          1.883,
          4.933,
          2.033,
          3.733,
          4.2330000000000005,
          2.233,
          4.533,
          4.817,
          4.333,
          1.983,
          4.633,
          2.017,
          5.1,
          1.8,
          5.033,
          4,
          2.4,
          4.6,
          3.567,
          4,
          4.5,
          4.083,
          1.8,
          3.967,
          2.2,
          4.15,
          2,
          3.833,
          3.5,
          4.583,
          2.367,
          5,
          1.933,
          4.617,
          1.917,
          2.083,
          4.583,
          3.333,
          4.167,
          4.333,
          4.5,
          2.417,
          4,
          4.167,
          1.883,
          4.583,
          4.25,
          3.767,
          2.033,
          4.433,
          4.083,
          1.833,
          4.417,
          2.1830000000000003,
          4.8,
          1.833,
          4.8,
          4.1,
          3.966,
          4.2330000000000005,
          3.5,
          4.3660000000000005,
          2.25,
          4.667,
          2.1,
          4.35,
          4.133,
          1.867,
          4.6,
          1.783,
          4.367,
          3.85,
          1.933,
          4.5,
          2.383,
          4.7,
          1.867,
          3.833,
          3.417,
          4.2330000000000005,
          2.4,
          4.8,
          2,
          4.15,
          1.867,
          4.267,
          1.75,
          4.4830000000000005,
          4,
          4.117,
          4.083,
          4.267,
          3.917,
          4.55,
          4.083,
          2.417,
          4.183,
          2.217,
          4.45,
          1.883,
          1.85,
          4.283,
          3.95,
          2.333,
          4.15,
          2.35,
          4.933,
          2.9,
          4.583,
          3.833,
          2.083,
          4.367,
          2.133,
          4.35,
          2.2,
          4.45,
          3.567,
          4.5,
          4.15,
          3.817,
          3.917,
          4.45,
          2,
          4.283,
          4.767,
          4.533,
          1.85,
          4.25,
          1.983,
          2.25,
          4.75,
          4.117,
          2.15,
          4.417,
          1.817,
          4.467
         ],
         "yaxis": "y"
        },
        {
         "hovertemplate": "<b>OLS trendline</b><br>duration = 0.0756279 * waiting + -1.87402<br>R<sup>2</sup>=0.811461<br><br>waiting=%{x}<br>duration=%{y} <b>(trend)</b><extra></extra>",
         "legendgroup": "",
         "marker": {
          "color": "#636efa",
          "symbol": "circle"
         },
         "mode": "lines",
         "name": "",
         "showlegend": false,
         "type": "scatter",
         "x": [
          43,
          45,
          45,
          45,
          46,
          46,
          46,
          46,
          46,
          47,
          47,
          47,
          47,
          48,
          48,
          48,
          49,
          49,
          49,
          49,
          49,
          50,
          50,
          50,
          50,
          50,
          51,
          51,
          51,
          51,
          51,
          51,
          52,
          52,
          52,
          52,
          52,
          53,
          53,
          53,
          53,
          53,
          53,
          53,
          54,
          54,
          54,
          54,
          54,
          54,
          54,
          54,
          54,
          55,
          55,
          55,
          55,
          55,
          55,
          56,
          56,
          56,
          56,
          57,
          57,
          57,
          58,
          58,
          58,
          58,
          59,
          59,
          59,
          59,
          59,
          59,
          59,
          60,
          60,
          60,
          60,
          60,
          60,
          62,
          62,
          62,
          62,
          63,
          63,
          63,
          64,
          64,
          64,
          64,
          65,
          65,
          65,
          66,
          66,
          67,
          68,
          69,
          69,
          70,
          70,
          70,
          70,
          71,
          71,
          71,
          71,
          71,
          72,
          73,
          73,
          73,
          73,
          73,
          73,
          73,
          74,
          74,
          74,
          74,
          74,
          74,
          75,
          75,
          75,
          75,
          75,
          75,
          75,
          75,
          76,
          76,
          76,
          76,
          76,
          76,
          76,
          76,
          76,
          77,
          77,
          77,
          77,
          77,
          77,
          77,
          77,
          77,
          77,
          77,
          77,
          78,
          78,
          78,
          78,
          78,
          78,
          78,
          78,
          78,
          78,
          78,
          78,
          78,
          78,
          78,
          79,
          79,
          79,
          79,
          79,
          79,
          79,
          79,
          79,
          79,
          80,
          80,
          80,
          80,
          80,
          80,
          80,
          80,
          81,
          81,
          81,
          81,
          81,
          81,
          81,
          81,
          81,
          81,
          81,
          81,
          81,
          82,
          82,
          82,
          82,
          82,
          82,
          82,
          82,
          82,
          82,
          82,
          82,
          83,
          83,
          83,
          83,
          83,
          83,
          83,
          83,
          83,
          83,
          83,
          83,
          83,
          83,
          84,
          84,
          84,
          84,
          84,
          84,
          84,
          84,
          84,
          84,
          85,
          85,
          85,
          85,
          85,
          85,
          86,
          86,
          86,
          86,
          86,
          86,
          87,
          87,
          88,
          88,
          88,
          88,
          88,
          88,
          89,
          89,
          89,
          90,
          90,
          90,
          90,
          90,
          90,
          91,
          92,
          93,
          93,
          94,
          96
         ],
         "xaxis": "x",
         "y": [
          1.3779857755193614,
          1.5292416714230868,
          1.5292416714230868,
          1.5292416714230868,
          1.6048696193749494,
          1.6048696193749494,
          1.6048696193749494,
          1.6048696193749494,
          1.6048696193749494,
          1.680497567326812,
          1.680497567326812,
          1.680497567326812,
          1.680497567326812,
          1.7561255152786748,
          1.7561255152786748,
          1.7561255152786748,
          1.8317534632305374,
          1.8317534632305374,
          1.8317534632305374,
          1.8317534632305374,
          1.8317534632305374,
          1.9073814111824001,
          1.9073814111824001,
          1.9073814111824001,
          1.9073814111824001,
          1.9073814111824001,
          1.9830093591342628,
          1.9830093591342628,
          1.9830093591342628,
          1.9830093591342628,
          1.9830093591342628,
          1.9830093591342628,
          2.0586373070861255,
          2.0586373070861255,
          2.0586373070861255,
          2.0586373070861255,
          2.0586373070861255,
          2.1342652550379886,
          2.1342652550379886,
          2.1342652550379886,
          2.1342652550379886,
          2.1342652550379886,
          2.1342652550379886,
          2.1342652550379886,
          2.2098932029898513,
          2.2098932029898513,
          2.2098932029898513,
          2.2098932029898513,
          2.2098932029898513,
          2.2098932029898513,
          2.2098932029898513,
          2.2098932029898513,
          2.2098932029898513,
          2.285521150941714,
          2.285521150941714,
          2.285521150941714,
          2.285521150941714,
          2.285521150941714,
          2.285521150941714,
          2.3611490988935766,
          2.3611490988935766,
          2.3611490988935766,
          2.3611490988935766,
          2.4367770468454393,
          2.4367770468454393,
          2.4367770468454393,
          2.512404994797302,
          2.512404994797302,
          2.512404994797302,
          2.512404994797302,
          2.5880329427491646,
          2.5880329427491646,
          2.5880329427491646,
          2.5880329427491646,
          2.5880329427491646,
          2.5880329427491646,
          2.5880329427491646,
          2.6636608907010273,
          2.6636608907010273,
          2.6636608907010273,
          2.6636608907010273,
          2.6636608907010273,
          2.6636608907010273,
          2.8149167866047526,
          2.8149167866047526,
          2.8149167866047526,
          2.8149167866047526,
          2.8905447345566153,
          2.8905447345566153,
          2.8905447345566153,
          2.966172682508478,
          2.966172682508478,
          2.966172682508478,
          2.966172682508478,
          3.0418006304603407,
          3.0418006304603407,
          3.0418006304603407,
          3.1174285784122033,
          3.1174285784122033,
          3.193056526364066,
          3.2686844743159287,
          3.3443124222677914,
          3.3443124222677914,
          3.419940370219654,
          3.419940370219654,
          3.419940370219654,
          3.419940370219654,
          3.4955683181715167,
          3.4955683181715167,
          3.4955683181715167,
          3.4955683181715167,
          3.4955683181715167,
          3.5711962661233794,
          3.646824214075242,
          3.646824214075242,
          3.646824214075242,
          3.646824214075242,
          3.646824214075242,
          3.646824214075242,
          3.646824214075242,
          3.7224521620271047,
          3.7224521620271047,
          3.7224521620271047,
          3.7224521620271047,
          3.7224521620271047,
          3.7224521620271047,
          3.7980801099789674,
          3.7980801099789674,
          3.7980801099789674,
          3.7980801099789674,
          3.7980801099789674,
          3.7980801099789674,
          3.7980801099789674,
          3.7980801099789674,
          3.87370805793083,
          3.87370805793083,
          3.87370805793083,
          3.87370805793083,
          3.87370805793083,
          3.87370805793083,
          3.87370805793083,
          3.87370805793083,
          3.87370805793083,
          3.9493360058826927,
          3.9493360058826927,
          3.9493360058826927,
          3.9493360058826927,
          3.9493360058826927,
          3.9493360058826927,
          3.9493360058826927,
          3.9493360058826927,
          3.9493360058826927,
          3.9493360058826927,
          3.9493360058826927,
          3.9493360058826927,
          4.024963953834556,
          4.024963953834556,
          4.024963953834556,
          4.024963953834556,
          4.024963953834556,
          4.024963953834556,
          4.024963953834556,
          4.024963953834556,
          4.024963953834556,
          4.024963953834556,
          4.024963953834556,
          4.024963953834556,
          4.024963953834556,
          4.024963953834556,
          4.024963953834556,
          4.100591901786418,
          4.100591901786418,
          4.100591901786418,
          4.100591901786418,
          4.100591901786418,
          4.100591901786418,
          4.100591901786418,
          4.100591901786418,
          4.100591901786418,
          4.100591901786418,
          4.176219849738281,
          4.176219849738281,
          4.176219849738281,
          4.176219849738281,
          4.176219849738281,
          4.176219849738281,
          4.176219849738281,
          4.176219849738281,
          4.251847797690145,
          4.251847797690145,
          4.251847797690145,
          4.251847797690145,
          4.251847797690145,
          4.251847797690145,
          4.251847797690145,
          4.251847797690145,
          4.251847797690145,
          4.251847797690145,
          4.251847797690145,
          4.251847797690145,
          4.251847797690145,
          4.3274757456420065,
          4.3274757456420065,
          4.3274757456420065,
          4.3274757456420065,
          4.3274757456420065,
          4.3274757456420065,
          4.3274757456420065,
          4.3274757456420065,
          4.3274757456420065,
          4.3274757456420065,
          4.3274757456420065,
          4.3274757456420065,
          4.40310369359387,
          4.40310369359387,
          4.40310369359387,
          4.40310369359387,
          4.40310369359387,
          4.40310369359387,
          4.40310369359387,
          4.40310369359387,
          4.40310369359387,
          4.40310369359387,
          4.40310369359387,
          4.40310369359387,
          4.40310369359387,
          4.40310369359387,
          4.478731641545732,
          4.478731641545732,
          4.478731641545732,
          4.478731641545732,
          4.478731641545732,
          4.478731641545732,
          4.478731641545732,
          4.478731641545732,
          4.478731641545732,
          4.478731641545732,
          4.5543595894975955,
          4.5543595894975955,
          4.5543595894975955,
          4.5543595894975955,
          4.5543595894975955,
          4.5543595894975955,
          4.629987537449457,
          4.629987537449457,
          4.629987537449457,
          4.629987537449457,
          4.629987537449457,
          4.629987537449457,
          4.705615485401321,
          4.705615485401321,
          4.781243433353183,
          4.781243433353183,
          4.781243433353183,
          4.781243433353183,
          4.781243433353183,
          4.781243433353183,
          4.856871381305046,
          4.856871381305046,
          4.856871381305046,
          4.932499329256908,
          4.932499329256908,
          4.932499329256908,
          4.932499329256908,
          4.932499329256908,
          4.932499329256908,
          5.0081272772087715,
          5.083755225160633,
          5.159383173112497,
          5.159383173112497,
          5.235011121064359,
          5.386267016968084
         ],
         "yaxis": "y"
        },
        {
         "mode": "lines",
         "name": "LOWESS Trendline",
         "type": "scatter",
         "x": [
          43,
          45,
          45,
          45,
          46,
          46,
          46,
          46,
          46,
          47,
          47,
          47,
          47,
          48,
          48,
          48,
          49,
          49,
          49,
          49,
          49,
          50,
          50,
          50,
          50,
          50,
          51,
          51,
          51,
          51,
          51,
          51,
          52,
          52,
          52,
          52,
          52,
          53,
          53,
          53,
          53,
          53,
          53,
          53,
          54,
          54,
          54,
          54,
          54,
          54,
          54,
          54,
          54,
          55,
          55,
          55,
          55,
          55,
          55,
          56,
          56,
          56,
          56,
          57,
          57,
          57,
          58,
          58,
          58,
          58,
          59,
          59,
          59,
          59,
          59,
          59,
          59,
          60,
          60,
          60,
          60,
          60,
          60,
          62,
          62,
          62,
          62,
          63,
          63,
          63,
          64,
          64,
          64,
          64,
          65,
          65,
          65,
          66,
          66,
          67,
          68,
          69,
          69,
          70,
          70,
          70,
          70,
          71,
          71,
          71,
          71,
          71,
          72,
          73,
          73,
          73,
          73,
          73,
          73,
          73,
          74,
          74,
          74,
          74,
          74,
          74,
          75,
          75,
          75,
          75,
          75,
          75,
          75,
          75,
          76,
          76,
          76,
          76,
          76,
          76,
          76,
          76,
          76,
          77,
          77,
          77,
          77,
          77,
          77,
          77,
          77,
          77,
          77,
          77,
          77,
          78,
          78,
          78,
          78,
          78,
          78,
          78,
          78,
          78,
          78,
          78,
          78,
          78,
          78,
          78,
          79,
          79,
          79,
          79,
          79,
          79,
          79,
          79,
          79,
          79,
          80,
          80,
          80,
          80,
          80,
          80,
          80,
          80,
          81,
          81,
          81,
          81,
          81,
          81,
          81,
          81,
          81,
          81,
          81,
          81,
          81,
          82,
          82,
          82,
          82,
          82,
          82,
          82,
          82,
          82,
          82,
          82,
          82,
          83,
          83,
          83,
          83,
          83,
          83,
          83,
          83,
          83,
          83,
          83,
          83,
          83,
          83,
          84,
          84,
          84,
          84,
          84,
          84,
          84,
          84,
          84,
          84,
          85,
          85,
          85,
          85,
          85,
          85,
          86,
          86,
          86,
          86,
          86,
          86,
          87,
          87,
          88,
          88,
          88,
          88,
          88,
          88,
          89,
          89,
          89,
          90,
          90,
          90,
          90,
          90,
          90,
          91,
          92,
          93,
          93,
          94,
          96
         ],
         "y": [
          1.9186521424072547,
          1.9344096504954134,
          1.9344096504954134,
          1.9344096504954134,
          1.9421058219420753,
          1.9421058219420753,
          1.9421058219420753,
          1.9421058219420753,
          1.9421058219420753,
          1.9492820922680067,
          1.9492820922680067,
          1.9492820922680067,
          1.9492820922680067,
          1.9558607302691684,
          1.9558607302691684,
          1.9558607302691684,
          1.962181369241891,
          1.962181369241891,
          1.962181369241891,
          1.962181369241891,
          1.962181369241891,
          1.969408997981721,
          1.969408997981721,
          1.969408997981721,
          1.969408997981721,
          1.969408997981721,
          1.979785009796234,
          1.979785009796234,
          1.979785009796234,
          1.979785009796234,
          1.979785009796234,
          1.979785009796234,
          1.989714320835026,
          1.989714320835026,
          1.989714320835026,
          1.989714320835026,
          1.989714320835026,
          1.9952876010759677,
          1.9952876010759677,
          1.9952876010759677,
          1.9952876010759677,
          1.9952876010759677,
          1.9952876010759677,
          1.9952876010759677,
          1.9936488499343459,
          1.9936488499343459,
          1.9936488499343459,
          1.9936488499343459,
          1.9936488499343459,
          1.9936488499343459,
          1.9936488499343459,
          1.9936488499343459,
          1.9936488499343459,
          1.99393402379364,
          1.99393402379364,
          1.99393402379364,
          1.99393402379364,
          1.99393402379364,
          1.99393402379364,
          1.9998045945748515,
          1.9998045945748515,
          1.9998045945748515,
          1.9998045945748515,
          2.0139370252003546,
          2.0139370252003546,
          2.0139370252003546,
          2.038699058321957,
          2.038699058321957,
          2.038699058321957,
          2.038699058321957,
          2.0955741372199967,
          2.0955741372199967,
          2.0955741372199967,
          2.0955741372199967,
          2.0955741372199967,
          2.0955741372199967,
          2.0955741372199967,
          2.157900404002252,
          2.157900404002252,
          2.157900404002252,
          2.157900404002252,
          2.157900404002252,
          2.157900404002252,
          2.383589177706359,
          2.383589177706359,
          2.383589177706359,
          2.383589177706359,
          2.544376577318829,
          2.544376577318829,
          2.544376577318829,
          2.739478107460566,
          2.739478107460566,
          2.739478107460566,
          2.739478107460566,
          2.9029176379088457,
          2.9029176379088457,
          2.9029176379088457,
          3.053658252690223,
          3.053658252690223,
          3.214763931658723,
          3.380303575331191,
          3.5786855265101667,
          3.5786855265101667,
          3.7849136115718265,
          3.7849136115718265,
          3.7849136115718265,
          3.7849136115718265,
          3.9459220045987813,
          3.9459220045987813,
          3.9459220045987813,
          3.9459220045987813,
          3.9459220045987813,
          4.074872475833141,
          4.179011278635363,
          4.179011278635363,
          4.179011278635363,
          4.179011278635363,
          4.179011278635363,
          4.179011278635363,
          4.179011278635363,
          4.253073995783976,
          4.253073995783976,
          4.253073995783976,
          4.253073995783976,
          4.253073995783976,
          4.253073995783976,
          4.318817611180992,
          4.318817611180992,
          4.318817611180992,
          4.318817611180992,
          4.318817611180992,
          4.318817611180992,
          4.318817611180992,
          4.318817611180992,
          4.331656770327086,
          4.331656770327086,
          4.331656770327086,
          4.331656770327086,
          4.331656770327086,
          4.331656770327086,
          4.331656770327086,
          4.331656770327086,
          4.331656770327086,
          4.346858683186571,
          4.346858683186571,
          4.346858683186571,
          4.346858683186571,
          4.346858683186571,
          4.346858683186571,
          4.346858683186571,
          4.346858683186571,
          4.346858683186571,
          4.346858683186571,
          4.346858683186571,
          4.346858683186571,
          4.341189350470698,
          4.341189350470698,
          4.341189350470698,
          4.341189350470698,
          4.341189350470698,
          4.341189350470698,
          4.341189350470698,
          4.341189350470698,
          4.341189350470698,
          4.341189350470698,
          4.341189350470698,
          4.341189350470698,
          4.341189350470698,
          4.341189350470698,
          4.341189350470698,
          4.336785127256803,
          4.336785127256803,
          4.336785127256803,
          4.336785127256803,
          4.336785127256803,
          4.336785127256803,
          4.336785127256803,
          4.336785127256803,
          4.336785127256803,
          4.336785127256803,
          4.332304008228884,
          4.332304008228884,
          4.332304008228884,
          4.332304008228884,
          4.332304008228884,
          4.332304008228884,
          4.332304008228884,
          4.332304008228884,
          4.351533317269229,
          4.351533317269229,
          4.351533317269229,
          4.351533317269229,
          4.351533317269229,
          4.351533317269229,
          4.351533317269229,
          4.351533317269229,
          4.351533317269229,
          4.351533317269229,
          4.351533317269229,
          4.351533317269229,
          4.351533317269229,
          4.353914954332693,
          4.353914954332693,
          4.353914954332693,
          4.353914954332693,
          4.353914954332693,
          4.353914954332693,
          4.353914954332693,
          4.353914954332693,
          4.353914954332693,
          4.353914954332693,
          4.353914954332693,
          4.353914954332693,
          4.363081724880589,
          4.363081724880589,
          4.363081724880589,
          4.363081724880589,
          4.363081724880589,
          4.363081724880589,
          4.363081724880589,
          4.363081724880589,
          4.363081724880589,
          4.363081724880589,
          4.363081724880589,
          4.363081724880589,
          4.363081724880589,
          4.363081724880589,
          4.3826565674434494,
          4.3826565674434494,
          4.3826565674434494,
          4.3826565674434494,
          4.3826565674434494,
          4.3826565674434494,
          4.3826565674434494,
          4.3826565674434494,
          4.3826565674434494,
          4.3826565674434494,
          4.409438439144667,
          4.409438439144667,
          4.409438439144667,
          4.409438439144667,
          4.409438439144667,
          4.409438439144667,
          4.445252114142226,
          4.445252114142226,
          4.445252114142226,
          4.445252114142226,
          4.445252114142226,
          4.445252114142226,
          4.463727351843725,
          4.463727351843725,
          4.479656149960105,
          4.479656149960105,
          4.479656149960105,
          4.479656149960105,
          4.479656149960105,
          4.479656149960105,
          4.485016934824078,
          4.485016934824078,
          4.485016934824078,
          4.50688251213341,
          4.50688251213341,
          4.50688251213341,
          4.50688251213341,
          4.50688251213341,
          4.50688251213341,
          4.542260097039768,
          4.577490663638139,
          4.610400813055501,
          4.610400813055501,
          4.642094388351268,
          4.709228776366015
         ]
        }
       ],
       "layout": {
        "legend": {
         "tracegroupgap": 0
        },
        "template": {
         "data": {
          "bar": [
           {
            "error_x": {
             "color": "#2a3f5f"
            },
            "error_y": {
             "color": "#2a3f5f"
            },
            "marker": {
             "line": {
              "color": "#E5ECF6",
              "width": 0.5
             },
             "pattern": {
              "fillmode": "overlay",
              "size": 10,
              "solidity": 0.2
             }
            },
            "type": "bar"
           }
          ],
          "barpolar": [
           {
            "marker": {
             "line": {
              "color": "#E5ECF6",
              "width": 0.5
             },
             "pattern": {
              "fillmode": "overlay",
              "size": 10,
              "solidity": 0.2
             }
            },
            "type": "barpolar"
           }
          ],
          "carpet": [
           {
            "aaxis": {
             "endlinecolor": "#2a3f5f",
             "gridcolor": "white",
             "linecolor": "white",
             "minorgridcolor": "white",
             "startlinecolor": "#2a3f5f"
            },
            "baxis": {
             "endlinecolor": "#2a3f5f",
             "gridcolor": "white",
             "linecolor": "white",
             "minorgridcolor": "white",
             "startlinecolor": "#2a3f5f"
            },
            "type": "carpet"
           }
          ],
          "choropleth": [
           {
            "colorbar": {
             "outlinewidth": 0,
             "ticks": ""
            },
            "type": "choropleth"
           }
          ],
          "contour": [
           {
            "colorbar": {
             "outlinewidth": 0,
             "ticks": ""
            },
            "colorscale": [
             [
              0,
              "#0d0887"
             ],
             [
              0.1111111111111111,
              "#46039f"
             ],
             [
              0.2222222222222222,
              "#7201a8"
             ],
             [
              0.3333333333333333,
              "#9c179e"
             ],
             [
              0.4444444444444444,
              "#bd3786"
             ],
             [
              0.5555555555555556,
              "#d8576b"
             ],
             [
              0.6666666666666666,
              "#ed7953"
             ],
             [
              0.7777777777777778,
              "#fb9f3a"
             ],
             [
              0.8888888888888888,
              "#fdca26"
             ],
             [
              1,
              "#f0f921"
             ]
            ],
            "type": "contour"
           }
          ],
          "contourcarpet": [
           {
            "colorbar": {
             "outlinewidth": 0,
             "ticks": ""
            },
            "type": "contourcarpet"
           }
          ],
          "heatmap": [
           {
            "colorbar": {
             "outlinewidth": 0,
             "ticks": ""
            },
            "colorscale": [
             [
              0,
              "#0d0887"
             ],
             [
              0.1111111111111111,
              "#46039f"
             ],
             [
              0.2222222222222222,
              "#7201a8"
             ],
             [
              0.3333333333333333,
              "#9c179e"
             ],
             [
              0.4444444444444444,
              "#bd3786"
             ],
             [
              0.5555555555555556,
              "#d8576b"
             ],
             [
              0.6666666666666666,
              "#ed7953"
             ],
             [
              0.7777777777777778,
              "#fb9f3a"
             ],
             [
              0.8888888888888888,
              "#fdca26"
             ],
             [
              1,
              "#f0f921"
             ]
            ],
            "type": "heatmap"
           }
          ],
          "heatmapgl": [
           {
            "colorbar": {
             "outlinewidth": 0,
             "ticks": ""
            },
            "colorscale": [
             [
              0,
              "#0d0887"
             ],
             [
              0.1111111111111111,
              "#46039f"
             ],
             [
              0.2222222222222222,
              "#7201a8"
             ],
             [
              0.3333333333333333,
              "#9c179e"
             ],
             [
              0.4444444444444444,
              "#bd3786"
             ],
             [
              0.5555555555555556,
              "#d8576b"
             ],
             [
              0.6666666666666666,
              "#ed7953"
             ],
             [
              0.7777777777777778,
              "#fb9f3a"
             ],
             [
              0.8888888888888888,
              "#fdca26"
             ],
             [
              1,
              "#f0f921"
             ]
            ],
            "type": "heatmapgl"
           }
          ],
          "histogram": [
           {
            "marker": {
             "pattern": {
              "fillmode": "overlay",
              "size": 10,
              "solidity": 0.2
             }
            },
            "type": "histogram"
           }
          ],
          "histogram2d": [
           {
            "colorbar": {
             "outlinewidth": 0,
             "ticks": ""
            },
            "colorscale": [
             [
              0,
              "#0d0887"
             ],
             [
              0.1111111111111111,
              "#46039f"
             ],
             [
              0.2222222222222222,
              "#7201a8"
             ],
             [
              0.3333333333333333,
              "#9c179e"
             ],
             [
              0.4444444444444444,
              "#bd3786"
             ],
             [
              0.5555555555555556,
              "#d8576b"
             ],
             [
              0.6666666666666666,
              "#ed7953"
             ],
             [
              0.7777777777777778,
              "#fb9f3a"
             ],
             [
              0.8888888888888888,
              "#fdca26"
             ],
             [
              1,
              "#f0f921"
             ]
            ],
            "type": "histogram2d"
           }
          ],
          "histogram2dcontour": [
           {
            "colorbar": {
             "outlinewidth": 0,
             "ticks": ""
            },
            "colorscale": [
             [
              0,
              "#0d0887"
             ],
             [
              0.1111111111111111,
              "#46039f"
             ],
             [
              0.2222222222222222,
              "#7201a8"
             ],
             [
              0.3333333333333333,
              "#9c179e"
             ],
             [
              0.4444444444444444,
              "#bd3786"
             ],
             [
              0.5555555555555556,
              "#d8576b"
             ],
             [
              0.6666666666666666,
              "#ed7953"
             ],
             [
              0.7777777777777778,
              "#fb9f3a"
             ],
             [
              0.8888888888888888,
              "#fdca26"
             ],
             [
              1,
              "#f0f921"
             ]
            ],
            "type": "histogram2dcontour"
           }
          ],
          "mesh3d": [
           {
            "colorbar": {
             "outlinewidth": 0,
             "ticks": ""
            },
            "type": "mesh3d"
           }
          ],
          "parcoords": [
           {
            "line": {
             "colorbar": {
              "outlinewidth": 0,
              "ticks": ""
             }
            },
            "type": "parcoords"
           }
          ],
          "pie": [
           {
            "automargin": true,
            "type": "pie"
           }
          ],
          "scatter": [
           {
            "fillpattern": {
             "fillmode": "overlay",
             "size": 10,
             "solidity": 0.2
            },
            "type": "scatter"
           }
          ],
          "scatter3d": [
           {
            "line": {
             "colorbar": {
              "outlinewidth": 0,
              "ticks": ""
             }
            },
            "marker": {
             "colorbar": {
              "outlinewidth": 0,
              "ticks": ""
             }
            },
            "type": "scatter3d"
           }
          ],
          "scattercarpet": [
           {
            "marker": {
             "colorbar": {
              "outlinewidth": 0,
              "ticks": ""
             }
            },
            "type": "scattercarpet"
           }
          ],
          "scattergeo": [
           {
            "marker": {
             "colorbar": {
              "outlinewidth": 0,
              "ticks": ""
             }
            },
            "type": "scattergeo"
           }
          ],
          "scattergl": [
           {
            "marker": {
             "colorbar": {
              "outlinewidth": 0,
              "ticks": ""
             }
            },
            "type": "scattergl"
           }
          ],
          "scattermapbox": [
           {
            "marker": {
             "colorbar": {
              "outlinewidth": 0,
              "ticks": ""
             }
            },
            "type": "scattermapbox"
           }
          ],
          "scatterpolar": [
           {
            "marker": {
             "colorbar": {
              "outlinewidth": 0,
              "ticks": ""
             }
            },
            "type": "scatterpolar"
           }
          ],
          "scatterpolargl": [
           {
            "marker": {
             "colorbar": {
              "outlinewidth": 0,
              "ticks": ""
             }
            },
            "type": "scatterpolargl"
           }
          ],
          "scatterternary": [
           {
            "marker": {
             "colorbar": {
              "outlinewidth": 0,
              "ticks": ""
             }
            },
            "type": "scatterternary"
           }
          ],
          "surface": [
           {
            "colorbar": {
             "outlinewidth": 0,
             "ticks": ""
            },
            "colorscale": [
             [
              0,
              "#0d0887"
             ],
             [
              0.1111111111111111,
              "#46039f"
             ],
             [
              0.2222222222222222,
              "#7201a8"
             ],
             [
              0.3333333333333333,
              "#9c179e"
             ],
             [
              0.4444444444444444,
              "#bd3786"
             ],
             [
              0.5555555555555556,
              "#d8576b"
             ],
             [
              0.6666666666666666,
              "#ed7953"
             ],
             [
              0.7777777777777778,
              "#fb9f3a"
             ],
             [
              0.8888888888888888,
              "#fdca26"
             ],
             [
              1,
              "#f0f921"
             ]
            ],
            "type": "surface"
           }
          ],
          "table": [
           {
            "cells": {
             "fill": {
              "color": "#EBF0F8"
             },
             "line": {
              "color": "white"
             }
            },
            "header": {
             "fill": {
              "color": "#C8D4E3"
             },
             "line": {
              "color": "white"
             }
            },
            "type": "table"
           }
          ]
         },
         "layout": {
          "annotationdefaults": {
           "arrowcolor": "#2a3f5f",
           "arrowhead": 0,
           "arrowwidth": 1
          },
          "autotypenumbers": "strict",
          "coloraxis": {
           "colorbar": {
            "outlinewidth": 0,
            "ticks": ""
           }
          },
          "colorscale": {
           "diverging": [
            [
             0,
             "#8e0152"
            ],
            [
             0.1,
             "#c51b7d"
            ],
            [
             0.2,
             "#de77ae"
            ],
            [
             0.3,
             "#f1b6da"
            ],
            [
             0.4,
             "#fde0ef"
            ],
            [
             0.5,
             "#f7f7f7"
            ],
            [
             0.6,
             "#e6f5d0"
            ],
            [
             0.7,
             "#b8e186"
            ],
            [
             0.8,
             "#7fbc41"
            ],
            [
             0.9,
             "#4d9221"
            ],
            [
             1,
             "#276419"
            ]
           ],
           "sequential": [
            [
             0,
             "#0d0887"
            ],
            [
             0.1111111111111111,
             "#46039f"
            ],
            [
             0.2222222222222222,
             "#7201a8"
            ],
            [
             0.3333333333333333,
             "#9c179e"
            ],
            [
             0.4444444444444444,
             "#bd3786"
            ],
            [
             0.5555555555555556,
             "#d8576b"
            ],
            [
             0.6666666666666666,
             "#ed7953"
            ],
            [
             0.7777777777777778,
             "#fb9f3a"
            ],
            [
             0.8888888888888888,
             "#fdca26"
            ],
            [
             1,
             "#f0f921"
            ]
           ],
           "sequentialminus": [
            [
             0,
             "#0d0887"
            ],
            [
             0.1111111111111111,
             "#46039f"
            ],
            [
             0.2222222222222222,
             "#7201a8"
            ],
            [
             0.3333333333333333,
             "#9c179e"
            ],
            [
             0.4444444444444444,
             "#bd3786"
            ],
            [
             0.5555555555555556,
             "#d8576b"
            ],
            [
             0.6666666666666666,
             "#ed7953"
            ],
            [
             0.7777777777777778,
             "#fb9f3a"
            ],
            [
             0.8888888888888888,
             "#fdca26"
            ],
            [
             1,
             "#f0f921"
            ]
           ]
          },
          "colorway": [
           "#636efa",
           "#EF553B",
           "#00cc96",
           "#ab63fa",
           "#FFA15A",
           "#19d3f3",
           "#FF6692",
           "#B6E880",
           "#FF97FF",
           "#FECB52"
          ],
          "font": {
           "color": "#2a3f5f"
          },
          "geo": {
           "bgcolor": "white",
           "lakecolor": "white",
           "landcolor": "#E5ECF6",
           "showlakes": true,
           "showland": true,
           "subunitcolor": "white"
          },
          "hoverlabel": {
           "align": "left"
          },
          "hovermode": "closest",
          "mapbox": {
           "style": "light"
          },
          "paper_bgcolor": "white",
          "plot_bgcolor": "#E5ECF6",
          "polar": {
           "angularaxis": {
            "gridcolor": "white",
            "linecolor": "white",
            "ticks": ""
           },
           "bgcolor": "#E5ECF6",
           "radialaxis": {
            "gridcolor": "white",
            "linecolor": "white",
            "ticks": ""
           }
          },
          "scene": {
           "xaxis": {
            "backgroundcolor": "#E5ECF6",
            "gridcolor": "white",
            "gridwidth": 2,
            "linecolor": "white",
            "showbackground": true,
            "ticks": "",
            "zerolinecolor": "white"
           },
           "yaxis": {
            "backgroundcolor": "#E5ECF6",
            "gridcolor": "white",
            "gridwidth": 2,
            "linecolor": "white",
            "showbackground": true,
            "ticks": "",
            "zerolinecolor": "white"
           },
           "zaxis": {
            "backgroundcolor": "#E5ECF6",
            "gridcolor": "white",
            "gridwidth": 2,
            "linecolor": "white",
            "showbackground": true,
            "ticks": "",
            "zerolinecolor": "white"
           }
          },
          "shapedefaults": {
           "line": {
            "color": "#2a3f5f"
           }
          },
          "ternary": {
           "aaxis": {
            "gridcolor": "white",
            "linecolor": "white",
            "ticks": ""
           },
           "baxis": {
            "gridcolor": "white",
            "linecolor": "white",
            "ticks": ""
           },
           "bgcolor": "#E5ECF6",
           "caxis": {
            "gridcolor": "white",
            "linecolor": "white",
            "ticks": ""
           }
          },
          "title": {
           "x": 0.05
          },
          "xaxis": {
           "automargin": true,
           "gridcolor": "white",
           "linecolor": "white",
           "ticks": "",
           "title": {
            "standoff": 15
           },
           "zerolinecolor": "white",
           "zerolinewidth": 2
          },
          "yaxis": {
           "automargin": true,
           "gridcolor": "white",
           "linecolor": "white",
           "ticks": "",
           "title": {
            "standoff": 15
           },
           "zerolinecolor": "white",
           "zerolinewidth": 2
          }
         }
        },
        "title": {
         "text": "Old Faithful Geyser Eruptions"
        },
        "xaxis": {
         "anchor": "y",
         "domain": [
          0,
          1
         ],
         "title": {
          "text": "waiting"
         }
        },
        "yaxis": {
         "anchor": "x",
         "domain": [
          0,
          1
         ],
         "title": {
          "text": "duration"
         }
        }
       }
      },
      "text/html": [
       "<div>                            <div id=\"9fd216a9-287e-4448-b8fd-bec54aa06366\" class=\"plotly-graph-div\" style=\"height:525px; width:100%;\"></div>            <script type=\"text/javascript\">                require([\"plotly\"], function(Plotly) {                    window.PLOTLYENV=window.PLOTLYENV || {};                                    if (document.getElementById(\"9fd216a9-287e-4448-b8fd-bec54aa06366\")) {                    Plotly.newPlot(                        \"9fd216a9-287e-4448-b8fd-bec54aa06366\",                        [{\"hovertemplate\":\"waiting=%{x}\\u003cbr\\u003eduration=%{y}\\u003cextra\\u003e\\u003c\\u002fextra\\u003e\",\"legendgroup\":\"\",\"marker\":{\"color\":\"#636efa\",\"symbol\":\"circle\"},\"mode\":\"markers\",\"name\":\"\",\"orientation\":\"v\",\"showlegend\":false,\"x\":[79,54,74,62,85,55,88,85,51,85,54,84,78,47,83,52,62,84,52,79,51,47,78,69,74,83,55,76,78,79,73,77,66,80,74,52,48,80,59,90,80,58,84,58,73,83,64,53,82,59,75,90,54,80,54,83,71,64,77,81,59,84,48,82,60,92,78,78,65,73,82,56,79,71,62,76,60,78,76,83,75,82,70,65,73,88,76,80,48,86,60,90,50,78,63,72,84,75,51,82,62,88,49,83,81,47,84,52,86,81,75,59,89,79,59,81,50,85,59,87,53,69,77,56,88,81,45,82,55,90,45,83,56,89,46,82,51,86,53,79,81,60,82,77,76,59,80,49,96,53,77,77,65,81,71,70,81,93,53,89,45,86,58,78,66,76,63,88,52,93,49,57,77,68,81,81,73,50,85,74,55,77,83,83,51,78,84,46,83,55,81,57,76,84,77,81,87,77,51,78,60,82,91,53,78,46,77,84,49,83,71,80,49,75,64,76,53,94,55,76,50,82,54,75,78,79,78,78,70,79,70,54,86,50,90,54,54,77,79,64,75,47,86,63,85,82,57,82,67,74,54,83,73,73,88,80,71,83,56,79,78,84,58,83,43,60,75,81,46,90,46,74],\"xaxis\":\"x\",\"y\":[3.6,1.8,3.333,2.283,4.533,2.883,4.7,3.6,1.95,4.35,1.833,3.917,4.2,1.75,4.7,2.167,1.75,4.8,1.6,4.25,1.8,1.75,3.45,3.067,4.533,3.6,1.967,4.083,3.85,4.433,4.3,4.467,3.367,4.033,3.833,2.017,1.867,4.833,1.833,4.783,4.35,1.883,4.567,1.75,4.533,3.317,3.833,2.1,4.633,2.0,4.8,4.716,1.833,4.833,1.733,4.883,3.717,1.6669999999999998,4.567,4.317,2.233,4.5,1.75,4.8,1.817,4.4,4.167,4.7,2.067,4.7,4.033,1.967,4.5,4.0,1.983,5.067,2.017,4.567,3.883,3.6,4.133,4.333,4.1,2.633,4.067,4.933,3.95,4.517,2.167,4.0,2.2,4.333,1.867,4.817,1.833,4.3,4.667,3.75,1.867,4.9,2.483,4.367,2.1,4.5,4.05,1.867,4.7,1.783,4.85,3.683,4.7330000000000005,2.3,4.9,4.417,1.7,4.633,2.317,4.6,1.817,4.417,2.617,4.067,4.25,1.967,4.6,3.767,1.917,4.5,2.267,4.65,1.867,4.167,2.8,4.333,1.833,4.383,1.883,4.933,2.033,3.733,4.2330000000000005,2.233,4.533,4.817,4.333,1.983,4.633,2.017,5.1,1.8,5.033,4.0,2.4,4.6,3.567,4.0,4.5,4.083,1.8,3.967,2.2,4.15,2.0,3.833,3.5,4.583,2.367,5.0,1.933,4.617,1.917,2.083,4.583,3.333,4.167,4.333,4.5,2.417,4.0,4.167,1.883,4.583,4.25,3.767,2.033,4.433,4.083,1.833,4.417,2.1830000000000003,4.8,1.833,4.8,4.1,3.966,4.2330000000000005,3.5,4.3660000000000005,2.25,4.667,2.1,4.35,4.133,1.867,4.6,1.783,4.367,3.85,1.933,4.5,2.383,4.7,1.867,3.833,3.417,4.2330000000000005,2.4,4.8,2.0,4.15,1.867,4.267,1.75,4.4830000000000005,4.0,4.117,4.083,4.267,3.917,4.55,4.083,2.417,4.183,2.217,4.45,1.883,1.85,4.283,3.95,2.333,4.15,2.35,4.933,2.9,4.583,3.833,2.083,4.367,2.133,4.35,2.2,4.45,3.567,4.5,4.15,3.817,3.917,4.45,2.0,4.283,4.767,4.533,1.85,4.25,1.983,2.25,4.75,4.117,2.15,4.417,1.817,4.467],\"yaxis\":\"y\",\"type\":\"scatter\"},{\"hovertemplate\":\"\\u003cb\\u003eOLS trendline\\u003c\\u002fb\\u003e\\u003cbr\\u003eduration = 0.0756279 * waiting + -1.87402\\u003cbr\\u003eR\\u003csup\\u003e2\\u003c\\u002fsup\\u003e=0.811461\\u003cbr\\u003e\\u003cbr\\u003ewaiting=%{x}\\u003cbr\\u003eduration=%{y} \\u003cb\\u003e(trend)\\u003c\\u002fb\\u003e\\u003cextra\\u003e\\u003c\\u002fextra\\u003e\",\"legendgroup\":\"\",\"marker\":{\"color\":\"#636efa\",\"symbol\":\"circle\"},\"mode\":\"lines\",\"name\":\"\",\"showlegend\":false,\"x\":[43,45,45,45,46,46,46,46,46,47,47,47,47,48,48,48,49,49,49,49,49,50,50,50,50,50,51,51,51,51,51,51,52,52,52,52,52,53,53,53,53,53,53,53,54,54,54,54,54,54,54,54,54,55,55,55,55,55,55,56,56,56,56,57,57,57,58,58,58,58,59,59,59,59,59,59,59,60,60,60,60,60,60,62,62,62,62,63,63,63,64,64,64,64,65,65,65,66,66,67,68,69,69,70,70,70,70,71,71,71,71,71,72,73,73,73,73,73,73,73,74,74,74,74,74,74,75,75,75,75,75,75,75,75,76,76,76,76,76,76,76,76,76,77,77,77,77,77,77,77,77,77,77,77,77,78,78,78,78,78,78,78,78,78,78,78,78,78,78,78,79,79,79,79,79,79,79,79,79,79,80,80,80,80,80,80,80,80,81,81,81,81,81,81,81,81,81,81,81,81,81,82,82,82,82,82,82,82,82,82,82,82,82,83,83,83,83,83,83,83,83,83,83,83,83,83,83,84,84,84,84,84,84,84,84,84,84,85,85,85,85,85,85,86,86,86,86,86,86,87,87,88,88,88,88,88,88,89,89,89,90,90,90,90,90,90,91,92,93,93,94,96],\"xaxis\":\"x\",\"y\":[1.3779857755193614,1.5292416714230868,1.5292416714230868,1.5292416714230868,1.6048696193749494,1.6048696193749494,1.6048696193749494,1.6048696193749494,1.6048696193749494,1.680497567326812,1.680497567326812,1.680497567326812,1.680497567326812,1.7561255152786748,1.7561255152786748,1.7561255152786748,1.8317534632305374,1.8317534632305374,1.8317534632305374,1.8317534632305374,1.8317534632305374,1.9073814111824001,1.9073814111824001,1.9073814111824001,1.9073814111824001,1.9073814111824001,1.9830093591342628,1.9830093591342628,1.9830093591342628,1.9830093591342628,1.9830093591342628,1.9830093591342628,2.0586373070861255,2.0586373070861255,2.0586373070861255,2.0586373070861255,2.0586373070861255,2.1342652550379886,2.1342652550379886,2.1342652550379886,2.1342652550379886,2.1342652550379886,2.1342652550379886,2.1342652550379886,2.2098932029898513,2.2098932029898513,2.2098932029898513,2.2098932029898513,2.2098932029898513,2.2098932029898513,2.2098932029898513,2.2098932029898513,2.2098932029898513,2.285521150941714,2.285521150941714,2.285521150941714,2.285521150941714,2.285521150941714,2.285521150941714,2.3611490988935766,2.3611490988935766,2.3611490988935766,2.3611490988935766,2.4367770468454393,2.4367770468454393,2.4367770468454393,2.512404994797302,2.512404994797302,2.512404994797302,2.512404994797302,2.5880329427491646,2.5880329427491646,2.5880329427491646,2.5880329427491646,2.5880329427491646,2.5880329427491646,2.5880329427491646,2.6636608907010273,2.6636608907010273,2.6636608907010273,2.6636608907010273,2.6636608907010273,2.6636608907010273,2.8149167866047526,2.8149167866047526,2.8149167866047526,2.8149167866047526,2.8905447345566153,2.8905447345566153,2.8905447345566153,2.966172682508478,2.966172682508478,2.966172682508478,2.966172682508478,3.0418006304603407,3.0418006304603407,3.0418006304603407,3.1174285784122033,3.1174285784122033,3.193056526364066,3.2686844743159287,3.3443124222677914,3.3443124222677914,3.419940370219654,3.419940370219654,3.419940370219654,3.419940370219654,3.4955683181715167,3.4955683181715167,3.4955683181715167,3.4955683181715167,3.4955683181715167,3.5711962661233794,3.646824214075242,3.646824214075242,3.646824214075242,3.646824214075242,3.646824214075242,3.646824214075242,3.646824214075242,3.7224521620271047,3.7224521620271047,3.7224521620271047,3.7224521620271047,3.7224521620271047,3.7224521620271047,3.7980801099789674,3.7980801099789674,3.7980801099789674,3.7980801099789674,3.7980801099789674,3.7980801099789674,3.7980801099789674,3.7980801099789674,3.87370805793083,3.87370805793083,3.87370805793083,3.87370805793083,3.87370805793083,3.87370805793083,3.87370805793083,3.87370805793083,3.87370805793083,3.9493360058826927,3.9493360058826927,3.9493360058826927,3.9493360058826927,3.9493360058826927,3.9493360058826927,3.9493360058826927,3.9493360058826927,3.9493360058826927,3.9493360058826927,3.9493360058826927,3.9493360058826927,4.024963953834556,4.024963953834556,4.024963953834556,4.024963953834556,4.024963953834556,4.024963953834556,4.024963953834556,4.024963953834556,4.024963953834556,4.024963953834556,4.024963953834556,4.024963953834556,4.024963953834556,4.024963953834556,4.024963953834556,4.100591901786418,4.100591901786418,4.100591901786418,4.100591901786418,4.100591901786418,4.100591901786418,4.100591901786418,4.100591901786418,4.100591901786418,4.100591901786418,4.176219849738281,4.176219849738281,4.176219849738281,4.176219849738281,4.176219849738281,4.176219849738281,4.176219849738281,4.176219849738281,4.251847797690145,4.251847797690145,4.251847797690145,4.251847797690145,4.251847797690145,4.251847797690145,4.251847797690145,4.251847797690145,4.251847797690145,4.251847797690145,4.251847797690145,4.251847797690145,4.251847797690145,4.3274757456420065,4.3274757456420065,4.3274757456420065,4.3274757456420065,4.3274757456420065,4.3274757456420065,4.3274757456420065,4.3274757456420065,4.3274757456420065,4.3274757456420065,4.3274757456420065,4.3274757456420065,4.40310369359387,4.40310369359387,4.40310369359387,4.40310369359387,4.40310369359387,4.40310369359387,4.40310369359387,4.40310369359387,4.40310369359387,4.40310369359387,4.40310369359387,4.40310369359387,4.40310369359387,4.40310369359387,4.478731641545732,4.478731641545732,4.478731641545732,4.478731641545732,4.478731641545732,4.478731641545732,4.478731641545732,4.478731641545732,4.478731641545732,4.478731641545732,4.5543595894975955,4.5543595894975955,4.5543595894975955,4.5543595894975955,4.5543595894975955,4.5543595894975955,4.629987537449457,4.629987537449457,4.629987537449457,4.629987537449457,4.629987537449457,4.629987537449457,4.705615485401321,4.705615485401321,4.781243433353183,4.781243433353183,4.781243433353183,4.781243433353183,4.781243433353183,4.781243433353183,4.856871381305046,4.856871381305046,4.856871381305046,4.932499329256908,4.932499329256908,4.932499329256908,4.932499329256908,4.932499329256908,4.932499329256908,5.0081272772087715,5.083755225160633,5.159383173112497,5.159383173112497,5.235011121064359,5.386267016968084],\"yaxis\":\"y\",\"type\":\"scatter\"},{\"mode\":\"lines\",\"name\":\"LOWESS Trendline\",\"x\":[43.0,45.0,45.0,45.0,46.0,46.0,46.0,46.0,46.0,47.0,47.0,47.0,47.0,48.0,48.0,48.0,49.0,49.0,49.0,49.0,49.0,50.0,50.0,50.0,50.0,50.0,51.0,51.0,51.0,51.0,51.0,51.0,52.0,52.0,52.0,52.0,52.0,53.0,53.0,53.0,53.0,53.0,53.0,53.0,54.0,54.0,54.0,54.0,54.0,54.0,54.0,54.0,54.0,55.0,55.0,55.0,55.0,55.0,55.0,56.0,56.0,56.0,56.0,57.0,57.0,57.0,58.0,58.0,58.0,58.0,59.0,59.0,59.0,59.0,59.0,59.0,59.0,60.0,60.0,60.0,60.0,60.0,60.0,62.0,62.0,62.0,62.0,63.0,63.0,63.0,64.0,64.0,64.0,64.0,65.0,65.0,65.0,66.0,66.0,67.0,68.0,69.0,69.0,70.0,70.0,70.0,70.0,71.0,71.0,71.0,71.0,71.0,72.0,73.0,73.0,73.0,73.0,73.0,73.0,73.0,74.0,74.0,74.0,74.0,74.0,74.0,75.0,75.0,75.0,75.0,75.0,75.0,75.0,75.0,76.0,76.0,76.0,76.0,76.0,76.0,76.0,76.0,76.0,77.0,77.0,77.0,77.0,77.0,77.0,77.0,77.0,77.0,77.0,77.0,77.0,78.0,78.0,78.0,78.0,78.0,78.0,78.0,78.0,78.0,78.0,78.0,78.0,78.0,78.0,78.0,79.0,79.0,79.0,79.0,79.0,79.0,79.0,79.0,79.0,79.0,80.0,80.0,80.0,80.0,80.0,80.0,80.0,80.0,81.0,81.0,81.0,81.0,81.0,81.0,81.0,81.0,81.0,81.0,81.0,81.0,81.0,82.0,82.0,82.0,82.0,82.0,82.0,82.0,82.0,82.0,82.0,82.0,82.0,83.0,83.0,83.0,83.0,83.0,83.0,83.0,83.0,83.0,83.0,83.0,83.0,83.0,83.0,84.0,84.0,84.0,84.0,84.0,84.0,84.0,84.0,84.0,84.0,85.0,85.0,85.0,85.0,85.0,85.0,86.0,86.0,86.0,86.0,86.0,86.0,87.0,87.0,88.0,88.0,88.0,88.0,88.0,88.0,89.0,89.0,89.0,90.0,90.0,90.0,90.0,90.0,90.0,91.0,92.0,93.0,93.0,94.0,96.0],\"y\":[1.9186521424072547,1.9344096504954134,1.9344096504954134,1.9344096504954134,1.9421058219420753,1.9421058219420753,1.9421058219420753,1.9421058219420753,1.9421058219420753,1.9492820922680067,1.9492820922680067,1.9492820922680067,1.9492820922680067,1.9558607302691684,1.9558607302691684,1.9558607302691684,1.962181369241891,1.962181369241891,1.962181369241891,1.962181369241891,1.962181369241891,1.969408997981721,1.969408997981721,1.969408997981721,1.969408997981721,1.969408997981721,1.979785009796234,1.979785009796234,1.979785009796234,1.979785009796234,1.979785009796234,1.979785009796234,1.989714320835026,1.989714320835026,1.989714320835026,1.989714320835026,1.989714320835026,1.9952876010759677,1.9952876010759677,1.9952876010759677,1.9952876010759677,1.9952876010759677,1.9952876010759677,1.9952876010759677,1.9936488499343459,1.9936488499343459,1.9936488499343459,1.9936488499343459,1.9936488499343459,1.9936488499343459,1.9936488499343459,1.9936488499343459,1.9936488499343459,1.99393402379364,1.99393402379364,1.99393402379364,1.99393402379364,1.99393402379364,1.99393402379364,1.9998045945748515,1.9998045945748515,1.9998045945748515,1.9998045945748515,2.0139370252003546,2.0139370252003546,2.0139370252003546,2.038699058321957,2.038699058321957,2.038699058321957,2.038699058321957,2.0955741372199967,2.0955741372199967,2.0955741372199967,2.0955741372199967,2.0955741372199967,2.0955741372199967,2.0955741372199967,2.157900404002252,2.157900404002252,2.157900404002252,2.157900404002252,2.157900404002252,2.157900404002252,2.383589177706359,2.383589177706359,2.383589177706359,2.383589177706359,2.544376577318829,2.544376577318829,2.544376577318829,2.739478107460566,2.739478107460566,2.739478107460566,2.739478107460566,2.9029176379088457,2.9029176379088457,2.9029176379088457,3.053658252690223,3.053658252690223,3.214763931658723,3.380303575331191,3.5786855265101667,3.5786855265101667,3.7849136115718265,3.7849136115718265,3.7849136115718265,3.7849136115718265,3.9459220045987813,3.9459220045987813,3.9459220045987813,3.9459220045987813,3.9459220045987813,4.074872475833141,4.179011278635363,4.179011278635363,4.179011278635363,4.179011278635363,4.179011278635363,4.179011278635363,4.179011278635363,4.253073995783976,4.253073995783976,4.253073995783976,4.253073995783976,4.253073995783976,4.253073995783976,4.318817611180992,4.318817611180992,4.318817611180992,4.318817611180992,4.318817611180992,4.318817611180992,4.318817611180992,4.318817611180992,4.331656770327086,4.331656770327086,4.331656770327086,4.331656770327086,4.331656770327086,4.331656770327086,4.331656770327086,4.331656770327086,4.331656770327086,4.346858683186571,4.346858683186571,4.346858683186571,4.346858683186571,4.346858683186571,4.346858683186571,4.346858683186571,4.346858683186571,4.346858683186571,4.346858683186571,4.346858683186571,4.346858683186571,4.341189350470698,4.341189350470698,4.341189350470698,4.341189350470698,4.341189350470698,4.341189350470698,4.341189350470698,4.341189350470698,4.341189350470698,4.341189350470698,4.341189350470698,4.341189350470698,4.341189350470698,4.341189350470698,4.341189350470698,4.336785127256803,4.336785127256803,4.336785127256803,4.336785127256803,4.336785127256803,4.336785127256803,4.336785127256803,4.336785127256803,4.336785127256803,4.336785127256803,4.332304008228884,4.332304008228884,4.332304008228884,4.332304008228884,4.332304008228884,4.332304008228884,4.332304008228884,4.332304008228884,4.351533317269229,4.351533317269229,4.351533317269229,4.351533317269229,4.351533317269229,4.351533317269229,4.351533317269229,4.351533317269229,4.351533317269229,4.351533317269229,4.351533317269229,4.351533317269229,4.351533317269229,4.353914954332693,4.353914954332693,4.353914954332693,4.353914954332693,4.353914954332693,4.353914954332693,4.353914954332693,4.353914954332693,4.353914954332693,4.353914954332693,4.353914954332693,4.353914954332693,4.363081724880589,4.363081724880589,4.363081724880589,4.363081724880589,4.363081724880589,4.363081724880589,4.363081724880589,4.363081724880589,4.363081724880589,4.363081724880589,4.363081724880589,4.363081724880589,4.363081724880589,4.363081724880589,4.3826565674434494,4.3826565674434494,4.3826565674434494,4.3826565674434494,4.3826565674434494,4.3826565674434494,4.3826565674434494,4.3826565674434494,4.3826565674434494,4.3826565674434494,4.409438439144667,4.409438439144667,4.409438439144667,4.409438439144667,4.409438439144667,4.409438439144667,4.445252114142226,4.445252114142226,4.445252114142226,4.445252114142226,4.445252114142226,4.445252114142226,4.463727351843725,4.463727351843725,4.479656149960105,4.479656149960105,4.479656149960105,4.479656149960105,4.479656149960105,4.479656149960105,4.485016934824078,4.485016934824078,4.485016934824078,4.50688251213341,4.50688251213341,4.50688251213341,4.50688251213341,4.50688251213341,4.50688251213341,4.542260097039768,4.577490663638139,4.610400813055501,4.610400813055501,4.642094388351268,4.709228776366015],\"type\":\"scatter\"}],                        {\"template\":{\"data\":{\"histogram2dcontour\":[{\"type\":\"histogram2dcontour\",\"colorbar\":{\"outlinewidth\":0,\"ticks\":\"\"},\"colorscale\":[[0.0,\"#0d0887\"],[0.1111111111111111,\"#46039f\"],[0.2222222222222222,\"#7201a8\"],[0.3333333333333333,\"#9c179e\"],[0.4444444444444444,\"#bd3786\"],[0.5555555555555556,\"#d8576b\"],[0.6666666666666666,\"#ed7953\"],[0.7777777777777778,\"#fb9f3a\"],[0.8888888888888888,\"#fdca26\"],[1.0,\"#f0f921\"]]}],\"choropleth\":[{\"type\":\"choropleth\",\"colorbar\":{\"outlinewidth\":0,\"ticks\":\"\"}}],\"histogram2d\":[{\"type\":\"histogram2d\",\"colorbar\":{\"outlinewidth\":0,\"ticks\":\"\"},\"colorscale\":[[0.0,\"#0d0887\"],[0.1111111111111111,\"#46039f\"],[0.2222222222222222,\"#7201a8\"],[0.3333333333333333,\"#9c179e\"],[0.4444444444444444,\"#bd3786\"],[0.5555555555555556,\"#d8576b\"],[0.6666666666666666,\"#ed7953\"],[0.7777777777777778,\"#fb9f3a\"],[0.8888888888888888,\"#fdca26\"],[1.0,\"#f0f921\"]]}],\"heatmap\":[{\"type\":\"heatmap\",\"colorbar\":{\"outlinewidth\":0,\"ticks\":\"\"},\"colorscale\":[[0.0,\"#0d0887\"],[0.1111111111111111,\"#46039f\"],[0.2222222222222222,\"#7201a8\"],[0.3333333333333333,\"#9c179e\"],[0.4444444444444444,\"#bd3786\"],[0.5555555555555556,\"#d8576b\"],[0.6666666666666666,\"#ed7953\"],[0.7777777777777778,\"#fb9f3a\"],[0.8888888888888888,\"#fdca26\"],[1.0,\"#f0f921\"]]}],\"heatmapgl\":[{\"type\":\"heatmapgl\",\"colorbar\":{\"outlinewidth\":0,\"ticks\":\"\"},\"colorscale\":[[0.0,\"#0d0887\"],[0.1111111111111111,\"#46039f\"],[0.2222222222222222,\"#7201a8\"],[0.3333333333333333,\"#9c179e\"],[0.4444444444444444,\"#bd3786\"],[0.5555555555555556,\"#d8576b\"],[0.6666666666666666,\"#ed7953\"],[0.7777777777777778,\"#fb9f3a\"],[0.8888888888888888,\"#fdca26\"],[1.0,\"#f0f921\"]]}],\"contourcarpet\":[{\"type\":\"contourcarpet\",\"colorbar\":{\"outlinewidth\":0,\"ticks\":\"\"}}],\"contour\":[{\"type\":\"contour\",\"colorbar\":{\"outlinewidth\":0,\"ticks\":\"\"},\"colorscale\":[[0.0,\"#0d0887\"],[0.1111111111111111,\"#46039f\"],[0.2222222222222222,\"#7201a8\"],[0.3333333333333333,\"#9c179e\"],[0.4444444444444444,\"#bd3786\"],[0.5555555555555556,\"#d8576b\"],[0.6666666666666666,\"#ed7953\"],[0.7777777777777778,\"#fb9f3a\"],[0.8888888888888888,\"#fdca26\"],[1.0,\"#f0f921\"]]}],\"surface\":[{\"type\":\"surface\",\"colorbar\":{\"outlinewidth\":0,\"ticks\":\"\"},\"colorscale\":[[0.0,\"#0d0887\"],[0.1111111111111111,\"#46039f\"],[0.2222222222222222,\"#7201a8\"],[0.3333333333333333,\"#9c179e\"],[0.4444444444444444,\"#bd3786\"],[0.5555555555555556,\"#d8576b\"],[0.6666666666666666,\"#ed7953\"],[0.7777777777777778,\"#fb9f3a\"],[0.8888888888888888,\"#fdca26\"],[1.0,\"#f0f921\"]]}],\"mesh3d\":[{\"type\":\"mesh3d\",\"colorbar\":{\"outlinewidth\":0,\"ticks\":\"\"}}],\"scatter\":[{\"fillpattern\":{\"fillmode\":\"overlay\",\"size\":10,\"solidity\":0.2},\"type\":\"scatter\"}],\"parcoords\":[{\"type\":\"parcoords\",\"line\":{\"colorbar\":{\"outlinewidth\":0,\"ticks\":\"\"}}}],\"scatterpolargl\":[{\"type\":\"scatterpolargl\",\"marker\":{\"colorbar\":{\"outlinewidth\":0,\"ticks\":\"\"}}}],\"bar\":[{\"error_x\":{\"color\":\"#2a3f5f\"},\"error_y\":{\"color\":\"#2a3f5f\"},\"marker\":{\"line\":{\"color\":\"#E5ECF6\",\"width\":0.5},\"pattern\":{\"fillmode\":\"overlay\",\"size\":10,\"solidity\":0.2}},\"type\":\"bar\"}],\"scattergeo\":[{\"type\":\"scattergeo\",\"marker\":{\"colorbar\":{\"outlinewidth\":0,\"ticks\":\"\"}}}],\"scatterpolar\":[{\"type\":\"scatterpolar\",\"marker\":{\"colorbar\":{\"outlinewidth\":0,\"ticks\":\"\"}}}],\"histogram\":[{\"marker\":{\"pattern\":{\"fillmode\":\"overlay\",\"size\":10,\"solidity\":0.2}},\"type\":\"histogram\"}],\"scattergl\":[{\"type\":\"scattergl\",\"marker\":{\"colorbar\":{\"outlinewidth\":0,\"ticks\":\"\"}}}],\"scatter3d\":[{\"type\":\"scatter3d\",\"line\":{\"colorbar\":{\"outlinewidth\":0,\"ticks\":\"\"}},\"marker\":{\"colorbar\":{\"outlinewidth\":0,\"ticks\":\"\"}}}],\"scattermapbox\":[{\"type\":\"scattermapbox\",\"marker\":{\"colorbar\":{\"outlinewidth\":0,\"ticks\":\"\"}}}],\"scatterternary\":[{\"type\":\"scatterternary\",\"marker\":{\"colorbar\":{\"outlinewidth\":0,\"ticks\":\"\"}}}],\"scattercarpet\":[{\"type\":\"scattercarpet\",\"marker\":{\"colorbar\":{\"outlinewidth\":0,\"ticks\":\"\"}}}],\"carpet\":[{\"aaxis\":{\"endlinecolor\":\"#2a3f5f\",\"gridcolor\":\"white\",\"linecolor\":\"white\",\"minorgridcolor\":\"white\",\"startlinecolor\":\"#2a3f5f\"},\"baxis\":{\"endlinecolor\":\"#2a3f5f\",\"gridcolor\":\"white\",\"linecolor\":\"white\",\"minorgridcolor\":\"white\",\"startlinecolor\":\"#2a3f5f\"},\"type\":\"carpet\"}],\"table\":[{\"cells\":{\"fill\":{\"color\":\"#EBF0F8\"},\"line\":{\"color\":\"white\"}},\"header\":{\"fill\":{\"color\":\"#C8D4E3\"},\"line\":{\"color\":\"white\"}},\"type\":\"table\"}],\"barpolar\":[{\"marker\":{\"line\":{\"color\":\"#E5ECF6\",\"width\":0.5},\"pattern\":{\"fillmode\":\"overlay\",\"size\":10,\"solidity\":0.2}},\"type\":\"barpolar\"}],\"pie\":[{\"automargin\":true,\"type\":\"pie\"}]},\"layout\":{\"autotypenumbers\":\"strict\",\"colorway\":[\"#636efa\",\"#EF553B\",\"#00cc96\",\"#ab63fa\",\"#FFA15A\",\"#19d3f3\",\"#FF6692\",\"#B6E880\",\"#FF97FF\",\"#FECB52\"],\"font\":{\"color\":\"#2a3f5f\"},\"hovermode\":\"closest\",\"hoverlabel\":{\"align\":\"left\"},\"paper_bgcolor\":\"white\",\"plot_bgcolor\":\"#E5ECF6\",\"polar\":{\"bgcolor\":\"#E5ECF6\",\"angularaxis\":{\"gridcolor\":\"white\",\"linecolor\":\"white\",\"ticks\":\"\"},\"radialaxis\":{\"gridcolor\":\"white\",\"linecolor\":\"white\",\"ticks\":\"\"}},\"ternary\":{\"bgcolor\":\"#E5ECF6\",\"aaxis\":{\"gridcolor\":\"white\",\"linecolor\":\"white\",\"ticks\":\"\"},\"baxis\":{\"gridcolor\":\"white\",\"linecolor\":\"white\",\"ticks\":\"\"},\"caxis\":{\"gridcolor\":\"white\",\"linecolor\":\"white\",\"ticks\":\"\"}},\"coloraxis\":{\"colorbar\":{\"outlinewidth\":0,\"ticks\":\"\"}},\"colorscale\":{\"sequential\":[[0.0,\"#0d0887\"],[0.1111111111111111,\"#46039f\"],[0.2222222222222222,\"#7201a8\"],[0.3333333333333333,\"#9c179e\"],[0.4444444444444444,\"#bd3786\"],[0.5555555555555556,\"#d8576b\"],[0.6666666666666666,\"#ed7953\"],[0.7777777777777778,\"#fb9f3a\"],[0.8888888888888888,\"#fdca26\"],[1.0,\"#f0f921\"]],\"sequentialminus\":[[0.0,\"#0d0887\"],[0.1111111111111111,\"#46039f\"],[0.2222222222222222,\"#7201a8\"],[0.3333333333333333,\"#9c179e\"],[0.4444444444444444,\"#bd3786\"],[0.5555555555555556,\"#d8576b\"],[0.6666666666666666,\"#ed7953\"],[0.7777777777777778,\"#fb9f3a\"],[0.8888888888888888,\"#fdca26\"],[1.0,\"#f0f921\"]],\"diverging\":[[0,\"#8e0152\"],[0.1,\"#c51b7d\"],[0.2,\"#de77ae\"],[0.3,\"#f1b6da\"],[0.4,\"#fde0ef\"],[0.5,\"#f7f7f7\"],[0.6,\"#e6f5d0\"],[0.7,\"#b8e186\"],[0.8,\"#7fbc41\"],[0.9,\"#4d9221\"],[1,\"#276419\"]]},\"xaxis\":{\"gridcolor\":\"white\",\"linecolor\":\"white\",\"ticks\":\"\",\"title\":{\"standoff\":15},\"zerolinecolor\":\"white\",\"automargin\":true,\"zerolinewidth\":2},\"yaxis\":{\"gridcolor\":\"white\",\"linecolor\":\"white\",\"ticks\":\"\",\"title\":{\"standoff\":15},\"zerolinecolor\":\"white\",\"automargin\":true,\"zerolinewidth\":2},\"scene\":{\"xaxis\":{\"backgroundcolor\":\"#E5ECF6\",\"gridcolor\":\"white\",\"linecolor\":\"white\",\"showbackground\":true,\"ticks\":\"\",\"zerolinecolor\":\"white\",\"gridwidth\":2},\"yaxis\":{\"backgroundcolor\":\"#E5ECF6\",\"gridcolor\":\"white\",\"linecolor\":\"white\",\"showbackground\":true,\"ticks\":\"\",\"zerolinecolor\":\"white\",\"gridwidth\":2},\"zaxis\":{\"backgroundcolor\":\"#E5ECF6\",\"gridcolor\":\"white\",\"linecolor\":\"white\",\"showbackground\":true,\"ticks\":\"\",\"zerolinecolor\":\"white\",\"gridwidth\":2}},\"shapedefaults\":{\"line\":{\"color\":\"#2a3f5f\"}},\"annotationdefaults\":{\"arrowcolor\":\"#2a3f5f\",\"arrowhead\":0,\"arrowwidth\":1},\"geo\":{\"bgcolor\":\"white\",\"landcolor\":\"#E5ECF6\",\"subunitcolor\":\"white\",\"showland\":true,\"showlakes\":true,\"lakecolor\":\"white\"},\"title\":{\"x\":0.05},\"mapbox\":{\"style\":\"light\"}}},\"xaxis\":{\"anchor\":\"y\",\"domain\":[0.0,1.0],\"title\":{\"text\":\"waiting\"}},\"yaxis\":{\"anchor\":\"x\",\"domain\":[0.0,1.0],\"title\":{\"text\":\"duration\"}},\"legend\":{\"tracegroupgap\":0},\"title\":{\"text\":\"Old Faithful Geyser Eruptions\"}},                        {\"responsive\": true}                    ).then(function(){\n",
       "                            \n",
       "var gd = document.getElementById('9fd216a9-287e-4448-b8fd-bec54aa06366');\n",
       "var x = new MutationObserver(function (mutations, observer) {{\n",
       "        var display = window.getComputedStyle(gd).display;\n",
       "        if (!display || display === 'none') {{\n",
       "            console.log([gd, 'removed!']);\n",
       "            Plotly.purge(gd);\n",
       "            observer.disconnect();\n",
       "        }}\n",
       "}});\n",
       "\n",
       "// Listen for the removal of the full notebook cells\n",
       "var notebookContainer = gd.closest('#notebook-container');\n",
       "if (notebookContainer) {{\n",
       "    x.observe(notebookContainer, {childList: true});\n",
       "}}\n",
       "\n",
       "// Listen for the clearing of the current output cell\n",
       "var outputEl = gd.closest('.output');\n",
       "if (outputEl) {{\n",
       "    x.observe(outputEl, {childList: true});\n",
       "}}\n",
       "\n",
       "                        })                };                });            </script>        </div>"
      ]
     },
     "metadata": {},
     "output_type": "display_data"
    }
   ],
   "source": [
    "import plotly.express as px\n",
    "import seaborn as sns\n",
    "import statsmodels.api as sm\n",
    "\n",
    "# The \"Classic\" Old Faithful Geyser dataset: ask a ChatBot for more details if desired\n",
    "old_faithful = sns.load_dataset('geyser')\n",
    "\n",
    "# Create a scatter plot with a Simple Linear Regression trendline\n",
    "fig = px.scatter(old_faithful, x='waiting', y='duration', \n",
    "                 title=\"Old Faithful Geyser Eruptions\", \n",
    "                 trendline='ols')#'lowess'\n",
    "\n",
    "# Add a smoothed LOWESS Trendline to the scatter plot\n",
    "lowess = sm.nonparametric.lowess  # Adjust 'frac' to change \"smoothness bandwidth\"\n",
    "smoothed = lowess(old_faithful['duration'], old_faithful['waiting'], frac=0.25)  \n",
    "smoothed_df = pd.DataFrame(smoothed, columns=['waiting', 'smoothed_duration'])\n",
    "fig.add_scatter(x=smoothed_df['waiting'], y=smoothed_df['smoothed_duration'], \n",
    "                mode='lines', name='LOWESS Trendline')\n",
    "\n",
    "fig.show() # USE `fig.show(renderer=\"png\")` FOR ALL GitHub and MarkUs SUBMISSIONS"
   ]
  },
  {
   "cell_type": "markdown",
   "id": "b0db85ec",
   "metadata": {},
   "source": [
    "### 8. Specify a *null hypothesis* of \"no linear association (on average)\" in terms of the relevant *parameter* of the *Simple Linear Regression* model, and use the code below to characterize the evidence in the data relative to the *null hypothesis* and interpret your subsequent beliefs regarding the Old Faithful Geyser dataset.<br>\n",
    "\n",
    "<details class=\"details-example\"><summary style=\"color:blue\"><u>Further Guidance</u></summary>\n",
    "\n",
    "> _Remember that **Hypothesis Testing** is not a \"mathematical proof\"_\n",
    ">\n",
    "> - _We do not prove $H_0$ false, we instead give evidence against the $H_0$: \"We reject the null hypothesis with a p-value of XYZ, meaning we have ABC evidence against the null hypothesis\"_\n",
    "> - _We do not prove $H_0$ is true, we instead do not have evidence to reject $H_0$: \"We fail to reject the null hypothesis with a p-value of XYZ\"_\n",
    "\n",
    "|p-value|Evidence|\n",
    "|-|-|\n",
    "|$$p > 0.1$$|No evidence against the null hypothesis|\n",
    "|$$0.1 \\ge p > 0.05$$|Weak evidence against the null hypothesis|\n",
    "|$$0.05 \\ge p > 0.01$$|Moderate evidence against the null hypothesis|\n",
    "|$$0.01 \\ge p > 0.001$$|Strong evidence against the null hypothesis|\n",
    "|$$0.001 \\ge p$$|Very strong evidence against the null hypothesis|\n",
    "\n",
    "</details>    \n",
    "\n",
    "> ```python\n",
    "> import seaborn as sns\n",
    "> import statsmodels.formula.api as smf\n",
    ">\n",
    "> # The \"Classic\" Old Faithful Geyser dataset\n",
    "> old_faithful = sns.load_dataset('geyser')\n",
    "> \n",
    "> linear_for_specification = 'duration ~ waiting'\n",
    "> model = smf.ols(linear_for_specification, data=old_faithful)\n",
    "> fitted_model = model.fit()\n",
    "> fitted_model.summary()\n",
    "> ```\n"
   ]
  },
  {
   "cell_type": "markdown",
   "id": "12892a82",
   "metadata": {},
   "source": [
    "The null hypothesis is when β1 = 0 where β1 is the slope of the regression line. This hypothesis states that there is no linear relationship between the predictor (e.g., eruption duration) and the outcome (e.g., waiting time until the next eruption). If β1 = 0, it suggests that changes in the predictor variable do not systematically impact the outcome variable."
   ]
  },
  {
   "cell_type": "markdown",
   "id": "bd719fef",
   "metadata": {},
   "source": [
    "### 9. As seen in the introductory figure above, if the delay of the geyser eruption since the previous geyser eruption exceeds approximately 63 minutes, there is a notable increase in the duration of the geyser eruption itself. In the figure below we therefore restrict the dataset to only short wait times. Within the context of only short wait times, is there evidence in the data for a relationship between duration and wait time in the same manner as in the full data set? Using the following code, characterize the evidence against the *null hypothesis* in the context of short wait times which are less than  *short_wait_limit* values of *62*, *64*, *66*.<br>\n"
   ]
  },
  {
   "cell_type": "code",
   "execution_count": 20,
   "id": "58ea3d9c",
   "metadata": {},
   "outputs": [
    {
     "name": "stdout",
     "output_type": "stream",
     "text": [
      "==============================================================================\n",
      "                 coef    std err          t      P>|t|      [0.025      0.975]\n",
      "------------------------------------------------------------------------------\n",
      "Intercept      1.6401      0.309      5.306      0.000       1.025       2.255\n",
      "waiting        0.0069      0.006      1.188      0.238      -0.005       0.019\n",
      "==============================================================================\n"
     ]
    },
    {
     "data": {
      "application/vnd.plotly.v1+json": {
       "config": {
        "plotlyServerURL": "https://plot.ly"
       },
       "data": [
        {
         "hovertemplate": "waiting=%{x}<br>duration=%{y}<extra></extra>",
         "legendgroup": "",
         "marker": {
          "color": "#636efa",
          "symbol": "circle"
         },
         "mode": "markers",
         "name": "",
         "orientation": "v",
         "showlegend": false,
         "type": "scatter",
         "x": [
          54,
          55,
          51,
          54,
          47,
          52,
          52,
          51,
          47,
          55,
          52,
          48,
          59,
          58,
          58,
          53,
          59,
          54,
          54,
          59,
          48,
          60,
          56,
          60,
          48,
          60,
          50,
          51,
          49,
          47,
          52,
          59,
          59,
          50,
          59,
          53,
          56,
          45,
          55,
          45,
          56,
          46,
          51,
          53,
          60,
          59,
          49,
          53,
          53,
          45,
          58,
          52,
          49,
          57,
          50,
          55,
          51,
          46,
          55,
          57,
          51,
          60,
          53,
          46,
          49,
          49,
          53,
          55,
          50,
          54,
          54,
          50,
          54,
          54,
          47,
          57,
          54,
          56,
          58,
          43,
          60,
          46,
          46
         ],
         "xaxis": "x",
         "y": [
          1.8,
          2.883,
          1.95,
          1.833,
          1.75,
          2.167,
          1.6,
          1.8,
          1.75,
          1.967,
          2.017,
          1.867,
          1.833,
          1.883,
          1.75,
          2.1,
          2,
          1.833,
          1.733,
          2.233,
          1.75,
          1.817,
          1.967,
          2.017,
          2.167,
          2.2,
          1.867,
          1.867,
          2.1,
          1.867,
          1.783,
          2.3,
          1.7,
          2.317,
          1.817,
          2.617,
          1.967,
          1.917,
          2.267,
          1.867,
          2.8,
          1.833,
          1.883,
          2.033,
          2.233,
          1.983,
          2.017,
          1.8,
          1.8,
          2.2,
          2,
          1.933,
          1.917,
          2.083,
          2.417,
          1.883,
          2.033,
          1.833,
          2.1830000000000003,
          1.833,
          2.25,
          2.1,
          1.867,
          1.783,
          1.933,
          1.867,
          2.4,
          2,
          1.867,
          1.75,
          2.417,
          2.217,
          1.883,
          1.85,
          2.35,
          2.083,
          2.2,
          2,
          1.85,
          1.983,
          2.25,
          2.15,
          1.817
         ],
         "yaxis": "y"
        },
        {
         "hovertemplate": "<b>OLS trendline</b><br>duration = 0.00691825 * waiting + 1.64008<br>R<sup>2</sup>=0.017113<br><br>waiting=%{x}<br>duration=%{y} <b>(trend)</b><extra></extra>",
         "legendgroup": "",
         "marker": {
          "color": "#636efa",
          "symbol": "circle"
         },
         "mode": "lines",
         "name": "",
         "showlegend": false,
         "type": "scatter",
         "x": [
          43,
          45,
          45,
          45,
          46,
          46,
          46,
          46,
          46,
          47,
          47,
          47,
          47,
          48,
          48,
          48,
          49,
          49,
          49,
          49,
          49,
          50,
          50,
          50,
          50,
          50,
          51,
          51,
          51,
          51,
          51,
          51,
          52,
          52,
          52,
          52,
          52,
          53,
          53,
          53,
          53,
          53,
          53,
          53,
          54,
          54,
          54,
          54,
          54,
          54,
          54,
          54,
          54,
          55,
          55,
          55,
          55,
          55,
          55,
          56,
          56,
          56,
          56,
          57,
          57,
          57,
          58,
          58,
          58,
          58,
          59,
          59,
          59,
          59,
          59,
          59,
          59,
          60,
          60,
          60,
          60,
          60,
          60
         ],
         "xaxis": "x",
         "y": [
          1.9375657137914635,
          1.9514022113624248,
          1.9514022113624248,
          1.9514022113624248,
          1.9583204601479052,
          1.9583204601479052,
          1.9583204601479052,
          1.9583204601479052,
          1.9583204601479052,
          1.9652387089333858,
          1.9652387089333858,
          1.9652387089333858,
          1.9652387089333858,
          1.9721569577188665,
          1.9721569577188665,
          1.9721569577188665,
          1.9790752065043469,
          1.9790752065043469,
          1.9790752065043469,
          1.9790752065043469,
          1.9790752065043469,
          1.9859934552898275,
          1.9859934552898275,
          1.9859934552898275,
          1.9859934552898275,
          1.9859934552898275,
          1.9929117040753082,
          1.9929117040753082,
          1.9929117040753082,
          1.9929117040753082,
          1.9929117040753082,
          1.9929117040753082,
          1.9998299528607888,
          1.9998299528607888,
          1.9998299528607888,
          1.9998299528607888,
          1.9998299528607888,
          2.0067482016462694,
          2.0067482016462694,
          2.0067482016462694,
          2.0067482016462694,
          2.0067482016462694,
          2.0067482016462694,
          2.0067482016462694,
          2.01366645043175,
          2.01366645043175,
          2.01366645043175,
          2.01366645043175,
          2.01366645043175,
          2.01366645043175,
          2.01366645043175,
          2.01366645043175,
          2.01366645043175,
          2.0205846992172303,
          2.0205846992172303,
          2.0205846992172303,
          2.0205846992172303,
          2.0205846992172303,
          2.0205846992172303,
          2.027502948002711,
          2.027502948002711,
          2.027502948002711,
          2.027502948002711,
          2.0344211967881916,
          2.0344211967881916,
          2.0344211967881916,
          2.0413394455736724,
          2.0413394455736724,
          2.0413394455736724,
          2.0413394455736724,
          2.048257694359153,
          2.048257694359153,
          2.048257694359153,
          2.048257694359153,
          2.048257694359153,
          2.048257694359153,
          2.048257694359153,
          2.0551759431446337,
          2.0551759431446337,
          2.0551759431446337,
          2.0551759431446337,
          2.0551759431446337,
          2.0551759431446337
         ],
         "yaxis": "y"
        }
       ],
       "layout": {
        "legend": {
         "tracegroupgap": 0
        },
        "template": {
         "data": {
          "bar": [
           {
            "error_x": {
             "color": "#2a3f5f"
            },
            "error_y": {
             "color": "#2a3f5f"
            },
            "marker": {
             "line": {
              "color": "#E5ECF6",
              "width": 0.5
             },
             "pattern": {
              "fillmode": "overlay",
              "size": 10,
              "solidity": 0.2
             }
            },
            "type": "bar"
           }
          ],
          "barpolar": [
           {
            "marker": {
             "line": {
              "color": "#E5ECF6",
              "width": 0.5
             },
             "pattern": {
              "fillmode": "overlay",
              "size": 10,
              "solidity": 0.2
             }
            },
            "type": "barpolar"
           }
          ],
          "carpet": [
           {
            "aaxis": {
             "endlinecolor": "#2a3f5f",
             "gridcolor": "white",
             "linecolor": "white",
             "minorgridcolor": "white",
             "startlinecolor": "#2a3f5f"
            },
            "baxis": {
             "endlinecolor": "#2a3f5f",
             "gridcolor": "white",
             "linecolor": "white",
             "minorgridcolor": "white",
             "startlinecolor": "#2a3f5f"
            },
            "type": "carpet"
           }
          ],
          "choropleth": [
           {
            "colorbar": {
             "outlinewidth": 0,
             "ticks": ""
            },
            "type": "choropleth"
           }
          ],
          "contour": [
           {
            "colorbar": {
             "outlinewidth": 0,
             "ticks": ""
            },
            "colorscale": [
             [
              0,
              "#0d0887"
             ],
             [
              0.1111111111111111,
              "#46039f"
             ],
             [
              0.2222222222222222,
              "#7201a8"
             ],
             [
              0.3333333333333333,
              "#9c179e"
             ],
             [
              0.4444444444444444,
              "#bd3786"
             ],
             [
              0.5555555555555556,
              "#d8576b"
             ],
             [
              0.6666666666666666,
              "#ed7953"
             ],
             [
              0.7777777777777778,
              "#fb9f3a"
             ],
             [
              0.8888888888888888,
              "#fdca26"
             ],
             [
              1,
              "#f0f921"
             ]
            ],
            "type": "contour"
           }
          ],
          "contourcarpet": [
           {
            "colorbar": {
             "outlinewidth": 0,
             "ticks": ""
            },
            "type": "contourcarpet"
           }
          ],
          "heatmap": [
           {
            "colorbar": {
             "outlinewidth": 0,
             "ticks": ""
            },
            "colorscale": [
             [
              0,
              "#0d0887"
             ],
             [
              0.1111111111111111,
              "#46039f"
             ],
             [
              0.2222222222222222,
              "#7201a8"
             ],
             [
              0.3333333333333333,
              "#9c179e"
             ],
             [
              0.4444444444444444,
              "#bd3786"
             ],
             [
              0.5555555555555556,
              "#d8576b"
             ],
             [
              0.6666666666666666,
              "#ed7953"
             ],
             [
              0.7777777777777778,
              "#fb9f3a"
             ],
             [
              0.8888888888888888,
              "#fdca26"
             ],
             [
              1,
              "#f0f921"
             ]
            ],
            "type": "heatmap"
           }
          ],
          "heatmapgl": [
           {
            "colorbar": {
             "outlinewidth": 0,
             "ticks": ""
            },
            "colorscale": [
             [
              0,
              "#0d0887"
             ],
             [
              0.1111111111111111,
              "#46039f"
             ],
             [
              0.2222222222222222,
              "#7201a8"
             ],
             [
              0.3333333333333333,
              "#9c179e"
             ],
             [
              0.4444444444444444,
              "#bd3786"
             ],
             [
              0.5555555555555556,
              "#d8576b"
             ],
             [
              0.6666666666666666,
              "#ed7953"
             ],
             [
              0.7777777777777778,
              "#fb9f3a"
             ],
             [
              0.8888888888888888,
              "#fdca26"
             ],
             [
              1,
              "#f0f921"
             ]
            ],
            "type": "heatmapgl"
           }
          ],
          "histogram": [
           {
            "marker": {
             "pattern": {
              "fillmode": "overlay",
              "size": 10,
              "solidity": 0.2
             }
            },
            "type": "histogram"
           }
          ],
          "histogram2d": [
           {
            "colorbar": {
             "outlinewidth": 0,
             "ticks": ""
            },
            "colorscale": [
             [
              0,
              "#0d0887"
             ],
             [
              0.1111111111111111,
              "#46039f"
             ],
             [
              0.2222222222222222,
              "#7201a8"
             ],
             [
              0.3333333333333333,
              "#9c179e"
             ],
             [
              0.4444444444444444,
              "#bd3786"
             ],
             [
              0.5555555555555556,
              "#d8576b"
             ],
             [
              0.6666666666666666,
              "#ed7953"
             ],
             [
              0.7777777777777778,
              "#fb9f3a"
             ],
             [
              0.8888888888888888,
              "#fdca26"
             ],
             [
              1,
              "#f0f921"
             ]
            ],
            "type": "histogram2d"
           }
          ],
          "histogram2dcontour": [
           {
            "colorbar": {
             "outlinewidth": 0,
             "ticks": ""
            },
            "colorscale": [
             [
              0,
              "#0d0887"
             ],
             [
              0.1111111111111111,
              "#46039f"
             ],
             [
              0.2222222222222222,
              "#7201a8"
             ],
             [
              0.3333333333333333,
              "#9c179e"
             ],
             [
              0.4444444444444444,
              "#bd3786"
             ],
             [
              0.5555555555555556,
              "#d8576b"
             ],
             [
              0.6666666666666666,
              "#ed7953"
             ],
             [
              0.7777777777777778,
              "#fb9f3a"
             ],
             [
              0.8888888888888888,
              "#fdca26"
             ],
             [
              1,
              "#f0f921"
             ]
            ],
            "type": "histogram2dcontour"
           }
          ],
          "mesh3d": [
           {
            "colorbar": {
             "outlinewidth": 0,
             "ticks": ""
            },
            "type": "mesh3d"
           }
          ],
          "parcoords": [
           {
            "line": {
             "colorbar": {
              "outlinewidth": 0,
              "ticks": ""
             }
            },
            "type": "parcoords"
           }
          ],
          "pie": [
           {
            "automargin": true,
            "type": "pie"
           }
          ],
          "scatter": [
           {
            "fillpattern": {
             "fillmode": "overlay",
             "size": 10,
             "solidity": 0.2
            },
            "type": "scatter"
           }
          ],
          "scatter3d": [
           {
            "line": {
             "colorbar": {
              "outlinewidth": 0,
              "ticks": ""
             }
            },
            "marker": {
             "colorbar": {
              "outlinewidth": 0,
              "ticks": ""
             }
            },
            "type": "scatter3d"
           }
          ],
          "scattercarpet": [
           {
            "marker": {
             "colorbar": {
              "outlinewidth": 0,
              "ticks": ""
             }
            },
            "type": "scattercarpet"
           }
          ],
          "scattergeo": [
           {
            "marker": {
             "colorbar": {
              "outlinewidth": 0,
              "ticks": ""
             }
            },
            "type": "scattergeo"
           }
          ],
          "scattergl": [
           {
            "marker": {
             "colorbar": {
              "outlinewidth": 0,
              "ticks": ""
             }
            },
            "type": "scattergl"
           }
          ],
          "scattermapbox": [
           {
            "marker": {
             "colorbar": {
              "outlinewidth": 0,
              "ticks": ""
             }
            },
            "type": "scattermapbox"
           }
          ],
          "scatterpolar": [
           {
            "marker": {
             "colorbar": {
              "outlinewidth": 0,
              "ticks": ""
             }
            },
            "type": "scatterpolar"
           }
          ],
          "scatterpolargl": [
           {
            "marker": {
             "colorbar": {
              "outlinewidth": 0,
              "ticks": ""
             }
            },
            "type": "scatterpolargl"
           }
          ],
          "scatterternary": [
           {
            "marker": {
             "colorbar": {
              "outlinewidth": 0,
              "ticks": ""
             }
            },
            "type": "scatterternary"
           }
          ],
          "surface": [
           {
            "colorbar": {
             "outlinewidth": 0,
             "ticks": ""
            },
            "colorscale": [
             [
              0,
              "#0d0887"
             ],
             [
              0.1111111111111111,
              "#46039f"
             ],
             [
              0.2222222222222222,
              "#7201a8"
             ],
             [
              0.3333333333333333,
              "#9c179e"
             ],
             [
              0.4444444444444444,
              "#bd3786"
             ],
             [
              0.5555555555555556,
              "#d8576b"
             ],
             [
              0.6666666666666666,
              "#ed7953"
             ],
             [
              0.7777777777777778,
              "#fb9f3a"
             ],
             [
              0.8888888888888888,
              "#fdca26"
             ],
             [
              1,
              "#f0f921"
             ]
            ],
            "type": "surface"
           }
          ],
          "table": [
           {
            "cells": {
             "fill": {
              "color": "#EBF0F8"
             },
             "line": {
              "color": "white"
             }
            },
            "header": {
             "fill": {
              "color": "#C8D4E3"
             },
             "line": {
              "color": "white"
             }
            },
            "type": "table"
           }
          ]
         },
         "layout": {
          "annotationdefaults": {
           "arrowcolor": "#2a3f5f",
           "arrowhead": 0,
           "arrowwidth": 1
          },
          "autotypenumbers": "strict",
          "coloraxis": {
           "colorbar": {
            "outlinewidth": 0,
            "ticks": ""
           }
          },
          "colorscale": {
           "diverging": [
            [
             0,
             "#8e0152"
            ],
            [
             0.1,
             "#c51b7d"
            ],
            [
             0.2,
             "#de77ae"
            ],
            [
             0.3,
             "#f1b6da"
            ],
            [
             0.4,
             "#fde0ef"
            ],
            [
             0.5,
             "#f7f7f7"
            ],
            [
             0.6,
             "#e6f5d0"
            ],
            [
             0.7,
             "#b8e186"
            ],
            [
             0.8,
             "#7fbc41"
            ],
            [
             0.9,
             "#4d9221"
            ],
            [
             1,
             "#276419"
            ]
           ],
           "sequential": [
            [
             0,
             "#0d0887"
            ],
            [
             0.1111111111111111,
             "#46039f"
            ],
            [
             0.2222222222222222,
             "#7201a8"
            ],
            [
             0.3333333333333333,
             "#9c179e"
            ],
            [
             0.4444444444444444,
             "#bd3786"
            ],
            [
             0.5555555555555556,
             "#d8576b"
            ],
            [
             0.6666666666666666,
             "#ed7953"
            ],
            [
             0.7777777777777778,
             "#fb9f3a"
            ],
            [
             0.8888888888888888,
             "#fdca26"
            ],
            [
             1,
             "#f0f921"
            ]
           ],
           "sequentialminus": [
            [
             0,
             "#0d0887"
            ],
            [
             0.1111111111111111,
             "#46039f"
            ],
            [
             0.2222222222222222,
             "#7201a8"
            ],
            [
             0.3333333333333333,
             "#9c179e"
            ],
            [
             0.4444444444444444,
             "#bd3786"
            ],
            [
             0.5555555555555556,
             "#d8576b"
            ],
            [
             0.6666666666666666,
             "#ed7953"
            ],
            [
             0.7777777777777778,
             "#fb9f3a"
            ],
            [
             0.8888888888888888,
             "#fdca26"
            ],
            [
             1,
             "#f0f921"
            ]
           ]
          },
          "colorway": [
           "#636efa",
           "#EF553B",
           "#00cc96",
           "#ab63fa",
           "#FFA15A",
           "#19d3f3",
           "#FF6692",
           "#B6E880",
           "#FF97FF",
           "#FECB52"
          ],
          "font": {
           "color": "#2a3f5f"
          },
          "geo": {
           "bgcolor": "white",
           "lakecolor": "white",
           "landcolor": "#E5ECF6",
           "showlakes": true,
           "showland": true,
           "subunitcolor": "white"
          },
          "hoverlabel": {
           "align": "left"
          },
          "hovermode": "closest",
          "mapbox": {
           "style": "light"
          },
          "paper_bgcolor": "white",
          "plot_bgcolor": "#E5ECF6",
          "polar": {
           "angularaxis": {
            "gridcolor": "white",
            "linecolor": "white",
            "ticks": ""
           },
           "bgcolor": "#E5ECF6",
           "radialaxis": {
            "gridcolor": "white",
            "linecolor": "white",
            "ticks": ""
           }
          },
          "scene": {
           "xaxis": {
            "backgroundcolor": "#E5ECF6",
            "gridcolor": "white",
            "gridwidth": 2,
            "linecolor": "white",
            "showbackground": true,
            "ticks": "",
            "zerolinecolor": "white"
           },
           "yaxis": {
            "backgroundcolor": "#E5ECF6",
            "gridcolor": "white",
            "gridwidth": 2,
            "linecolor": "white",
            "showbackground": true,
            "ticks": "",
            "zerolinecolor": "white"
           },
           "zaxis": {
            "backgroundcolor": "#E5ECF6",
            "gridcolor": "white",
            "gridwidth": 2,
            "linecolor": "white",
            "showbackground": true,
            "ticks": "",
            "zerolinecolor": "white"
           }
          },
          "shapedefaults": {
           "line": {
            "color": "#2a3f5f"
           }
          },
          "ternary": {
           "aaxis": {
            "gridcolor": "white",
            "linecolor": "white",
            "ticks": ""
           },
           "baxis": {
            "gridcolor": "white",
            "linecolor": "white",
            "ticks": ""
           },
           "bgcolor": "#E5ECF6",
           "caxis": {
            "gridcolor": "white",
            "linecolor": "white",
            "ticks": ""
           }
          },
          "title": {
           "x": 0.05
          },
          "xaxis": {
           "automargin": true,
           "gridcolor": "white",
           "linecolor": "white",
           "ticks": "",
           "title": {
            "standoff": 15
           },
           "zerolinecolor": "white",
           "zerolinewidth": 2
          },
          "yaxis": {
           "automargin": true,
           "gridcolor": "white",
           "linecolor": "white",
           "ticks": "",
           "title": {
            "standoff": 15
           },
           "zerolinecolor": "white",
           "zerolinewidth": 2
          }
         }
        },
        "title": {
         "text": "Old Faithful Geyser Eruptions for short wait times (<62)"
        },
        "xaxis": {
         "anchor": "y",
         "domain": [
          0,
          1
         ],
         "title": {
          "text": "waiting"
         }
        },
        "yaxis": {
         "anchor": "x",
         "domain": [
          0,
          1
         ],
         "title": {
          "text": "duration"
         }
        }
       }
      },
      "text/html": [
       "<div>                            <div id=\"86f29e71-7f90-49c6-9563-0e2cb19e39cf\" class=\"plotly-graph-div\" style=\"height:525px; width:100%;\"></div>            <script type=\"text/javascript\">                require([\"plotly\"], function(Plotly) {                    window.PLOTLYENV=window.PLOTLYENV || {};                                    if (document.getElementById(\"86f29e71-7f90-49c6-9563-0e2cb19e39cf\")) {                    Plotly.newPlot(                        \"86f29e71-7f90-49c6-9563-0e2cb19e39cf\",                        [{\"hovertemplate\":\"waiting=%{x}\\u003cbr\\u003eduration=%{y}\\u003cextra\\u003e\\u003c\\u002fextra\\u003e\",\"legendgroup\":\"\",\"marker\":{\"color\":\"#636efa\",\"symbol\":\"circle\"},\"mode\":\"markers\",\"name\":\"\",\"orientation\":\"v\",\"showlegend\":false,\"x\":[54,55,51,54,47,52,52,51,47,55,52,48,59,58,58,53,59,54,54,59,48,60,56,60,48,60,50,51,49,47,52,59,59,50,59,53,56,45,55,45,56,46,51,53,60,59,49,53,53,45,58,52,49,57,50,55,51,46,55,57,51,60,53,46,49,49,53,55,50,54,54,50,54,54,47,57,54,56,58,43,60,46,46],\"xaxis\":\"x\",\"y\":[1.8,2.883,1.95,1.833,1.75,2.167,1.6,1.8,1.75,1.967,2.017,1.867,1.833,1.883,1.75,2.1,2.0,1.833,1.733,2.233,1.75,1.817,1.967,2.017,2.167,2.2,1.867,1.867,2.1,1.867,1.783,2.3,1.7,2.317,1.817,2.617,1.967,1.917,2.267,1.867,2.8,1.833,1.883,2.033,2.233,1.983,2.017,1.8,1.8,2.2,2.0,1.933,1.917,2.083,2.417,1.883,2.033,1.833,2.1830000000000003,1.833,2.25,2.1,1.867,1.783,1.933,1.867,2.4,2.0,1.867,1.75,2.417,2.217,1.883,1.85,2.35,2.083,2.2,2.0,1.85,1.983,2.25,2.15,1.817],\"yaxis\":\"y\",\"type\":\"scatter\"},{\"hovertemplate\":\"\\u003cb\\u003eOLS trendline\\u003c\\u002fb\\u003e\\u003cbr\\u003eduration = 0.00691825 * waiting + 1.64008\\u003cbr\\u003eR\\u003csup\\u003e2\\u003c\\u002fsup\\u003e=0.017113\\u003cbr\\u003e\\u003cbr\\u003ewaiting=%{x}\\u003cbr\\u003eduration=%{y} \\u003cb\\u003e(trend)\\u003c\\u002fb\\u003e\\u003cextra\\u003e\\u003c\\u002fextra\\u003e\",\"legendgroup\":\"\",\"marker\":{\"color\":\"#636efa\",\"symbol\":\"circle\"},\"mode\":\"lines\",\"name\":\"\",\"showlegend\":false,\"x\":[43,45,45,45,46,46,46,46,46,47,47,47,47,48,48,48,49,49,49,49,49,50,50,50,50,50,51,51,51,51,51,51,52,52,52,52,52,53,53,53,53,53,53,53,54,54,54,54,54,54,54,54,54,55,55,55,55,55,55,56,56,56,56,57,57,57,58,58,58,58,59,59,59,59,59,59,59,60,60,60,60,60,60],\"xaxis\":\"x\",\"y\":[1.9375657137914635,1.9514022113624248,1.9514022113624248,1.9514022113624248,1.9583204601479052,1.9583204601479052,1.9583204601479052,1.9583204601479052,1.9583204601479052,1.9652387089333858,1.9652387089333858,1.9652387089333858,1.9652387089333858,1.9721569577188665,1.9721569577188665,1.9721569577188665,1.9790752065043469,1.9790752065043469,1.9790752065043469,1.9790752065043469,1.9790752065043469,1.9859934552898275,1.9859934552898275,1.9859934552898275,1.9859934552898275,1.9859934552898275,1.9929117040753082,1.9929117040753082,1.9929117040753082,1.9929117040753082,1.9929117040753082,1.9929117040753082,1.9998299528607888,1.9998299528607888,1.9998299528607888,1.9998299528607888,1.9998299528607888,2.0067482016462694,2.0067482016462694,2.0067482016462694,2.0067482016462694,2.0067482016462694,2.0067482016462694,2.0067482016462694,2.01366645043175,2.01366645043175,2.01366645043175,2.01366645043175,2.01366645043175,2.01366645043175,2.01366645043175,2.01366645043175,2.01366645043175,2.0205846992172303,2.0205846992172303,2.0205846992172303,2.0205846992172303,2.0205846992172303,2.0205846992172303,2.027502948002711,2.027502948002711,2.027502948002711,2.027502948002711,2.0344211967881916,2.0344211967881916,2.0344211967881916,2.0413394455736724,2.0413394455736724,2.0413394455736724,2.0413394455736724,2.048257694359153,2.048257694359153,2.048257694359153,2.048257694359153,2.048257694359153,2.048257694359153,2.048257694359153,2.0551759431446337,2.0551759431446337,2.0551759431446337,2.0551759431446337,2.0551759431446337,2.0551759431446337],\"yaxis\":\"y\",\"type\":\"scatter\"}],                        {\"template\":{\"data\":{\"histogram2dcontour\":[{\"type\":\"histogram2dcontour\",\"colorbar\":{\"outlinewidth\":0,\"ticks\":\"\"},\"colorscale\":[[0.0,\"#0d0887\"],[0.1111111111111111,\"#46039f\"],[0.2222222222222222,\"#7201a8\"],[0.3333333333333333,\"#9c179e\"],[0.4444444444444444,\"#bd3786\"],[0.5555555555555556,\"#d8576b\"],[0.6666666666666666,\"#ed7953\"],[0.7777777777777778,\"#fb9f3a\"],[0.8888888888888888,\"#fdca26\"],[1.0,\"#f0f921\"]]}],\"choropleth\":[{\"type\":\"choropleth\",\"colorbar\":{\"outlinewidth\":0,\"ticks\":\"\"}}],\"histogram2d\":[{\"type\":\"histogram2d\",\"colorbar\":{\"outlinewidth\":0,\"ticks\":\"\"},\"colorscale\":[[0.0,\"#0d0887\"],[0.1111111111111111,\"#46039f\"],[0.2222222222222222,\"#7201a8\"],[0.3333333333333333,\"#9c179e\"],[0.4444444444444444,\"#bd3786\"],[0.5555555555555556,\"#d8576b\"],[0.6666666666666666,\"#ed7953\"],[0.7777777777777778,\"#fb9f3a\"],[0.8888888888888888,\"#fdca26\"],[1.0,\"#f0f921\"]]}],\"heatmap\":[{\"type\":\"heatmap\",\"colorbar\":{\"outlinewidth\":0,\"ticks\":\"\"},\"colorscale\":[[0.0,\"#0d0887\"],[0.1111111111111111,\"#46039f\"],[0.2222222222222222,\"#7201a8\"],[0.3333333333333333,\"#9c179e\"],[0.4444444444444444,\"#bd3786\"],[0.5555555555555556,\"#d8576b\"],[0.6666666666666666,\"#ed7953\"],[0.7777777777777778,\"#fb9f3a\"],[0.8888888888888888,\"#fdca26\"],[1.0,\"#f0f921\"]]}],\"heatmapgl\":[{\"type\":\"heatmapgl\",\"colorbar\":{\"outlinewidth\":0,\"ticks\":\"\"},\"colorscale\":[[0.0,\"#0d0887\"],[0.1111111111111111,\"#46039f\"],[0.2222222222222222,\"#7201a8\"],[0.3333333333333333,\"#9c179e\"],[0.4444444444444444,\"#bd3786\"],[0.5555555555555556,\"#d8576b\"],[0.6666666666666666,\"#ed7953\"],[0.7777777777777778,\"#fb9f3a\"],[0.8888888888888888,\"#fdca26\"],[1.0,\"#f0f921\"]]}],\"contourcarpet\":[{\"type\":\"contourcarpet\",\"colorbar\":{\"outlinewidth\":0,\"ticks\":\"\"}}],\"contour\":[{\"type\":\"contour\",\"colorbar\":{\"outlinewidth\":0,\"ticks\":\"\"},\"colorscale\":[[0.0,\"#0d0887\"],[0.1111111111111111,\"#46039f\"],[0.2222222222222222,\"#7201a8\"],[0.3333333333333333,\"#9c179e\"],[0.4444444444444444,\"#bd3786\"],[0.5555555555555556,\"#d8576b\"],[0.6666666666666666,\"#ed7953\"],[0.7777777777777778,\"#fb9f3a\"],[0.8888888888888888,\"#fdca26\"],[1.0,\"#f0f921\"]]}],\"surface\":[{\"type\":\"surface\",\"colorbar\":{\"outlinewidth\":0,\"ticks\":\"\"},\"colorscale\":[[0.0,\"#0d0887\"],[0.1111111111111111,\"#46039f\"],[0.2222222222222222,\"#7201a8\"],[0.3333333333333333,\"#9c179e\"],[0.4444444444444444,\"#bd3786\"],[0.5555555555555556,\"#d8576b\"],[0.6666666666666666,\"#ed7953\"],[0.7777777777777778,\"#fb9f3a\"],[0.8888888888888888,\"#fdca26\"],[1.0,\"#f0f921\"]]}],\"mesh3d\":[{\"type\":\"mesh3d\",\"colorbar\":{\"outlinewidth\":0,\"ticks\":\"\"}}],\"scatter\":[{\"fillpattern\":{\"fillmode\":\"overlay\",\"size\":10,\"solidity\":0.2},\"type\":\"scatter\"}],\"parcoords\":[{\"type\":\"parcoords\",\"line\":{\"colorbar\":{\"outlinewidth\":0,\"ticks\":\"\"}}}],\"scatterpolargl\":[{\"type\":\"scatterpolargl\",\"marker\":{\"colorbar\":{\"outlinewidth\":0,\"ticks\":\"\"}}}],\"bar\":[{\"error_x\":{\"color\":\"#2a3f5f\"},\"error_y\":{\"color\":\"#2a3f5f\"},\"marker\":{\"line\":{\"color\":\"#E5ECF6\",\"width\":0.5},\"pattern\":{\"fillmode\":\"overlay\",\"size\":10,\"solidity\":0.2}},\"type\":\"bar\"}],\"scattergeo\":[{\"type\":\"scattergeo\",\"marker\":{\"colorbar\":{\"outlinewidth\":0,\"ticks\":\"\"}}}],\"scatterpolar\":[{\"type\":\"scatterpolar\",\"marker\":{\"colorbar\":{\"outlinewidth\":0,\"ticks\":\"\"}}}],\"histogram\":[{\"marker\":{\"pattern\":{\"fillmode\":\"overlay\",\"size\":10,\"solidity\":0.2}},\"type\":\"histogram\"}],\"scattergl\":[{\"type\":\"scattergl\",\"marker\":{\"colorbar\":{\"outlinewidth\":0,\"ticks\":\"\"}}}],\"scatter3d\":[{\"type\":\"scatter3d\",\"line\":{\"colorbar\":{\"outlinewidth\":0,\"ticks\":\"\"}},\"marker\":{\"colorbar\":{\"outlinewidth\":0,\"ticks\":\"\"}}}],\"scattermapbox\":[{\"type\":\"scattermapbox\",\"marker\":{\"colorbar\":{\"outlinewidth\":0,\"ticks\":\"\"}}}],\"scatterternary\":[{\"type\":\"scatterternary\",\"marker\":{\"colorbar\":{\"outlinewidth\":0,\"ticks\":\"\"}}}],\"scattercarpet\":[{\"type\":\"scattercarpet\",\"marker\":{\"colorbar\":{\"outlinewidth\":0,\"ticks\":\"\"}}}],\"carpet\":[{\"aaxis\":{\"endlinecolor\":\"#2a3f5f\",\"gridcolor\":\"white\",\"linecolor\":\"white\",\"minorgridcolor\":\"white\",\"startlinecolor\":\"#2a3f5f\"},\"baxis\":{\"endlinecolor\":\"#2a3f5f\",\"gridcolor\":\"white\",\"linecolor\":\"white\",\"minorgridcolor\":\"white\",\"startlinecolor\":\"#2a3f5f\"},\"type\":\"carpet\"}],\"table\":[{\"cells\":{\"fill\":{\"color\":\"#EBF0F8\"},\"line\":{\"color\":\"white\"}},\"header\":{\"fill\":{\"color\":\"#C8D4E3\"},\"line\":{\"color\":\"white\"}},\"type\":\"table\"}],\"barpolar\":[{\"marker\":{\"line\":{\"color\":\"#E5ECF6\",\"width\":0.5},\"pattern\":{\"fillmode\":\"overlay\",\"size\":10,\"solidity\":0.2}},\"type\":\"barpolar\"}],\"pie\":[{\"automargin\":true,\"type\":\"pie\"}]},\"layout\":{\"autotypenumbers\":\"strict\",\"colorway\":[\"#636efa\",\"#EF553B\",\"#00cc96\",\"#ab63fa\",\"#FFA15A\",\"#19d3f3\",\"#FF6692\",\"#B6E880\",\"#FF97FF\",\"#FECB52\"],\"font\":{\"color\":\"#2a3f5f\"},\"hovermode\":\"closest\",\"hoverlabel\":{\"align\":\"left\"},\"paper_bgcolor\":\"white\",\"plot_bgcolor\":\"#E5ECF6\",\"polar\":{\"bgcolor\":\"#E5ECF6\",\"angularaxis\":{\"gridcolor\":\"white\",\"linecolor\":\"white\",\"ticks\":\"\"},\"radialaxis\":{\"gridcolor\":\"white\",\"linecolor\":\"white\",\"ticks\":\"\"}},\"ternary\":{\"bgcolor\":\"#E5ECF6\",\"aaxis\":{\"gridcolor\":\"white\",\"linecolor\":\"white\",\"ticks\":\"\"},\"baxis\":{\"gridcolor\":\"white\",\"linecolor\":\"white\",\"ticks\":\"\"},\"caxis\":{\"gridcolor\":\"white\",\"linecolor\":\"white\",\"ticks\":\"\"}},\"coloraxis\":{\"colorbar\":{\"outlinewidth\":0,\"ticks\":\"\"}},\"colorscale\":{\"sequential\":[[0.0,\"#0d0887\"],[0.1111111111111111,\"#46039f\"],[0.2222222222222222,\"#7201a8\"],[0.3333333333333333,\"#9c179e\"],[0.4444444444444444,\"#bd3786\"],[0.5555555555555556,\"#d8576b\"],[0.6666666666666666,\"#ed7953\"],[0.7777777777777778,\"#fb9f3a\"],[0.8888888888888888,\"#fdca26\"],[1.0,\"#f0f921\"]],\"sequentialminus\":[[0.0,\"#0d0887\"],[0.1111111111111111,\"#46039f\"],[0.2222222222222222,\"#7201a8\"],[0.3333333333333333,\"#9c179e\"],[0.4444444444444444,\"#bd3786\"],[0.5555555555555556,\"#d8576b\"],[0.6666666666666666,\"#ed7953\"],[0.7777777777777778,\"#fb9f3a\"],[0.8888888888888888,\"#fdca26\"],[1.0,\"#f0f921\"]],\"diverging\":[[0,\"#8e0152\"],[0.1,\"#c51b7d\"],[0.2,\"#de77ae\"],[0.3,\"#f1b6da\"],[0.4,\"#fde0ef\"],[0.5,\"#f7f7f7\"],[0.6,\"#e6f5d0\"],[0.7,\"#b8e186\"],[0.8,\"#7fbc41\"],[0.9,\"#4d9221\"],[1,\"#276419\"]]},\"xaxis\":{\"gridcolor\":\"white\",\"linecolor\":\"white\",\"ticks\":\"\",\"title\":{\"standoff\":15},\"zerolinecolor\":\"white\",\"automargin\":true,\"zerolinewidth\":2},\"yaxis\":{\"gridcolor\":\"white\",\"linecolor\":\"white\",\"ticks\":\"\",\"title\":{\"standoff\":15},\"zerolinecolor\":\"white\",\"automargin\":true,\"zerolinewidth\":2},\"scene\":{\"xaxis\":{\"backgroundcolor\":\"#E5ECF6\",\"gridcolor\":\"white\",\"linecolor\":\"white\",\"showbackground\":true,\"ticks\":\"\",\"zerolinecolor\":\"white\",\"gridwidth\":2},\"yaxis\":{\"backgroundcolor\":\"#E5ECF6\",\"gridcolor\":\"white\",\"linecolor\":\"white\",\"showbackground\":true,\"ticks\":\"\",\"zerolinecolor\":\"white\",\"gridwidth\":2},\"zaxis\":{\"backgroundcolor\":\"#E5ECF6\",\"gridcolor\":\"white\",\"linecolor\":\"white\",\"showbackground\":true,\"ticks\":\"\",\"zerolinecolor\":\"white\",\"gridwidth\":2}},\"shapedefaults\":{\"line\":{\"color\":\"#2a3f5f\"}},\"annotationdefaults\":{\"arrowcolor\":\"#2a3f5f\",\"arrowhead\":0,\"arrowwidth\":1},\"geo\":{\"bgcolor\":\"white\",\"landcolor\":\"#E5ECF6\",\"subunitcolor\":\"white\",\"showland\":true,\"showlakes\":true,\"lakecolor\":\"white\"},\"title\":{\"x\":0.05},\"mapbox\":{\"style\":\"light\"}}},\"xaxis\":{\"anchor\":\"y\",\"domain\":[0.0,1.0],\"title\":{\"text\":\"waiting\"}},\"yaxis\":{\"anchor\":\"x\",\"domain\":[0.0,1.0],\"title\":{\"text\":\"duration\"}},\"legend\":{\"tracegroupgap\":0},\"title\":{\"text\":\"Old Faithful Geyser Eruptions for short wait times (\\u003c62)\"}},                        {\"responsive\": true}                    ).then(function(){\n",
       "                            \n",
       "var gd = document.getElementById('86f29e71-7f90-49c6-9563-0e2cb19e39cf');\n",
       "var x = new MutationObserver(function (mutations, observer) {{\n",
       "        var display = window.getComputedStyle(gd).display;\n",
       "        if (!display || display === 'none') {{\n",
       "            console.log([gd, 'removed!']);\n",
       "            Plotly.purge(gd);\n",
       "            observer.disconnect();\n",
       "        }}\n",
       "}});\n",
       "\n",
       "// Listen for the removal of the full notebook cells\n",
       "var notebookContainer = gd.closest('#notebook-container');\n",
       "if (notebookContainer) {{\n",
       "    x.observe(notebookContainer, {childList: true});\n",
       "}}\n",
       "\n",
       "// Listen for the clearing of the current output cell\n",
       "var outputEl = gd.closest('.output');\n",
       "if (outputEl) {{\n",
       "    x.observe(outputEl, {childList: true});\n",
       "}}\n",
       "\n",
       "                        })                };                });            </script>        </div>"
      ]
     },
     "metadata": {},
     "output_type": "display_data"
    }
   ],
   "source": [
    "import plotly.express as px\n",
    "import statsmodels.formula.api as smf\n",
    "\n",
    "\n",
    "short_wait_limit = 62 # 64 # 66 #\n",
    "short_wait = old_faithful.waiting < short_wait_limit\n",
    "\n",
    "print(smf.ols('duration ~ waiting', data=old_faithful[short_wait]).fit().summary().tables[1])\n",
    "\n",
    "# Create a scatter plot with a linear regression trendline\n",
    "fig = px.scatter(old_faithful[short_wait], x='waiting', y='duration', \n",
    "                 title=\"Old Faithful Geyser Eruptions for short wait times (<\"+str(short_wait_limit)+\")\", \n",
    "                 trendline='ols')\n",
    "\n",
    "fig.show() # USE `fig.show(renderer=\"png\")` FOR ALL GitHub and MarkUs SUBMISSIONS"
   ]
  },
  {
   "cell_type": "markdown",
   "id": "8e582b32",
   "metadata": {},
   "source": [
    "In the context of short wait times, the slope of the regression line is very small indicating a very weak relationship between duration and waiting time. Moreover the P-value as given in the summary table is 0.238 which is much higher than 0.05 which is the standard significance level. There is very little evidence to reject the null which states that there is no relationship between waiting and duration in the context of short wait times. This is rather different from the full dataset because while the association does not seem linear, there is clear evidence that there is a clear spike in duration after the waiting time passes 70 minutes. This creates a rather well defined and steep linear regression line unlike in the short waiting times set. So it appears that in short waiting times, there is very little relationship, but throughout the entire range of waiting times, there is a seemingly cubic relationship as shown by the LOWESS trendline."
   ]
  },
  {
   "cell_type": "markdown",
   "id": "009bfa79",
   "metadata": {},
   "source": [
    "### 10. Let's now consider just the (*n=160*) long wait times (as specified in the code below), and write code to do the following:\n",
    "\n",
    "1. create fitted **Simple Linear Regression** models for **boostrap samples** and collect and visualize the **bootstrapped sampling distribution** of the **fitted slope coefficients** of the fitted models;  \n",
    "\n",
    "\n",
    "2. **simulate** samples (of size `n=160`) from a **Simple Linear Regression** model that uses $\\beta_0 = 1.65$, $\\beta_1 = 0$, $\\sigma = 0.37$ along with the values of `waiting` for $x$ to create **simuations** of $Y$ and use these collect and visualize the **sampling distribution** of the **fitted slope coefficient** under a **null hypothesis** assumption of \"no linear association (on average)\"; then,  \n",
    "\n",
    "\n",
    "3. report if $0$ is contained within a 95\\% **bootstrapped confidence interval**; and if the **simulated p-value** matches `smf.ols('duration ~ waiting', data=old_faithful[long_wait]).fit().summary().tables[1]`?<br><br>\n",
    "\n",
    "<details class=\"details-example\"><summary style=\"color:blue\"><u>Further Guidance</u></summary>\n",
    "\n",
    "> _You'll need to create `for` loops to repeatedly create fitted **Simple Linear Regression** models using different samples, collecting the **fitted slope coeffient** created in each `for` loop \"step\" in order to visualize the **simulated sampling distributions**_\n",
    "> \n",
    "> - _A **bootstrapped sample** of the \"long wait times\" dataset can be created with `old_faithful[long_wait].sample(n=long_wait.sum(), replace=True)`_\n",
    ">\n",
    ">\n",
    "> - _A **simulated** version of the \"long wait times under a null hypothesis assumption of **no linear association (on average)**\" dataset can be created by first creating `old_faithful_simulation = old_faithful[long_wait].copy()` and then assigning the **simulated** it values with `old_faithful_simulation['duration'] = 1.65 + 0*old_faithful_simulation.waiting + stats.norm(loc=0, scale=0.37).rvs(size=long_wait.sum())`_ \n",
    ">\n",
    ">  _The values $\\beta_0 = 1.65$ and $\\sigma = 0.37$ are chosen to match what is actually observed in the data, while $\\beta_1 = 0$ is chosen to reflect a **null hypothesis** assumption of \"no linear assocaition (on average)\"; and, make sure that you understand why it is that_\n",
    ">\n",
    ">\n",
    "> - _if `bootstrapped_slope_coefficients` is the `np.array` of your **bootstrapped slope coefficients** then `np.quantile(bootstrapped_slope_coefficients, [0.025, 0.975])` is a 95\\% **bootstrapped confidence interval**_\n",
    "> \n",
    ">\n",
    "> - _if `simulated_slope_coefficients` is the `np.array` of your **fitted slope coefficients** **simulated** under a **null hypothesis** \"no linear association (on average)\" then `(np.abs(simulated_slope_coefficients) >= smf.ols('duration ~ waiting', data=old_faithful[long_wait]).fit().params[1]).mean()` is the **p-value** for the **simulated** **simulated sampling distribution of the slope coeficients** under a **null hypothesis** \"no linear association (on average)\"_\n",
    "\n",
    "</details>\n",
    "<br>"
   ]
  },
  {
   "cell_type": "code",
   "execution_count": 43,
   "id": "7c246ca4",
   "metadata": {},
   "outputs": [
    {
     "name": "stdout",
     "output_type": "stream",
     "text": [
      "==============================================================================\n",
      "                 coef    std err          t      P>|t|      [0.025      0.975]\n",
      "------------------------------------------------------------------------------\n",
      "Intercept      3.3520      0.476      7.049      0.000       2.413       4.291\n",
      "waiting        0.0122      0.006      2.091      0.038       0.001       0.024\n",
      "==============================================================================\n"
     ]
    },
    {
     "data": {
      "application/vnd.plotly.v1+json": {
       "config": {
        "plotlyServerURL": "https://plot.ly"
       },
       "data": [
        {
         "hovertemplate": "waiting=%{x}<br>duration=%{y}<extra></extra>",
         "legendgroup": "",
         "marker": {
          "color": "#636efa",
          "symbol": "circle"
         },
         "mode": "markers",
         "name": "",
         "orientation": "v",
         "showlegend": false,
         "type": "scatter",
         "x": [
          79,
          74,
          85,
          88,
          85,
          85,
          84,
          78,
          83,
          84,
          79,
          78,
          74,
          83,
          76,
          78,
          79,
          73,
          77,
          80,
          74,
          80,
          90,
          80,
          84,
          73,
          83,
          82,
          75,
          90,
          80,
          83,
          77,
          81,
          84,
          82,
          92,
          78,
          78,
          73,
          82,
          79,
          76,
          78,
          76,
          83,
          75,
          82,
          73,
          88,
          76,
          80,
          86,
          90,
          78,
          72,
          84,
          75,
          82,
          88,
          83,
          81,
          84,
          86,
          81,
          75,
          89,
          79,
          81,
          85,
          87,
          77,
          88,
          81,
          82,
          90,
          83,
          89,
          82,
          86,
          79,
          81,
          82,
          77,
          76,
          80,
          96,
          77,
          77,
          81,
          81,
          93,
          89,
          86,
          78,
          76,
          88,
          93,
          77,
          81,
          81,
          73,
          85,
          74,
          77,
          83,
          83,
          78,
          84,
          83,
          81,
          76,
          84,
          77,
          81,
          87,
          77,
          78,
          82,
          91,
          78,
          77,
          84,
          83,
          80,
          75,
          76,
          94,
          76,
          82,
          75,
          78,
          79,
          78,
          78,
          79,
          86,
          90,
          77,
          79,
          75,
          86,
          85,
          82,
          82,
          74,
          83,
          73,
          73,
          88,
          80,
          83,
          79,
          78,
          84,
          83,
          75,
          81,
          90,
          74
         ],
         "xaxis": "x",
         "y": [
          3.6,
          3.333,
          4.533,
          4.7,
          3.6,
          4.35,
          3.917,
          4.2,
          4.7,
          4.8,
          4.25,
          3.45,
          4.533,
          3.6,
          4.083,
          3.85,
          4.433,
          4.3,
          4.467,
          4.033,
          3.833,
          4.833,
          4.783,
          4.35,
          4.567,
          4.533,
          3.317,
          4.633,
          4.8,
          4.716,
          4.833,
          4.883,
          4.567,
          4.317,
          4.5,
          4.8,
          4.4,
          4.167,
          4.7,
          4.7,
          4.033,
          4.5,
          5.067,
          4.567,
          3.883,
          3.6,
          4.133,
          4.333,
          4.067,
          4.933,
          3.95,
          4.517,
          4,
          4.333,
          4.817,
          4.3,
          4.667,
          3.75,
          4.9,
          4.367,
          4.5,
          4.05,
          4.7,
          4.85,
          3.683,
          4.7330000000000005,
          4.9,
          4.417,
          4.633,
          4.6,
          4.417,
          4.25,
          4.6,
          3.767,
          4.5,
          4.65,
          4.167,
          4.333,
          4.383,
          4.933,
          3.733,
          4.2330000000000005,
          4.533,
          4.817,
          4.333,
          4.633,
          5.1,
          5.033,
          4,
          4.6,
          4.5,
          4.083,
          3.967,
          4.15,
          3.833,
          4.583,
          5,
          4.617,
          4.583,
          4.167,
          4.333,
          4.5,
          4,
          4.167,
          4.583,
          4.25,
          3.767,
          4.433,
          4.083,
          4.417,
          4.8,
          4.8,
          4.1,
          3.966,
          4.2330000000000005,
          3.5,
          4.3660000000000005,
          4.667,
          4.35,
          4.133,
          4.6,
          4.367,
          3.85,
          4.5,
          4.7,
          3.833,
          4.2330000000000005,
          4.8,
          4.15,
          4.267,
          4.4830000000000005,
          4,
          4.117,
          4.083,
          4.267,
          4.55,
          4.183,
          4.45,
          4.283,
          3.95,
          4.15,
          4.933,
          4.583,
          3.833,
          4.367,
          4.35,
          4.45,
          3.567,
          4.5,
          4.15,
          3.817,
          4.45,
          4.283,
          4.767,
          4.533,
          4.25,
          4.75,
          4.117,
          4.417,
          4.467
         ],
         "yaxis": "y"
        },
        {
         "hovertemplate": "<b>OLS trendline</b><br>duration = 0.012244 * waiting + 3.35195<br>R<sup>2</sup>=0.026925<br><br>waiting=%{x}<br>duration=%{y} <b>(trend)</b><extra></extra>",
         "legendgroup": "",
         "marker": {
          "color": "#636efa",
          "symbol": "circle"
         },
         "mode": "lines",
         "name": "",
         "showlegend": false,
         "type": "scatter",
         "x": [
          72,
          73,
          73,
          73,
          73,
          73,
          73,
          73,
          74,
          74,
          74,
          74,
          74,
          74,
          75,
          75,
          75,
          75,
          75,
          75,
          75,
          75,
          76,
          76,
          76,
          76,
          76,
          76,
          76,
          76,
          76,
          77,
          77,
          77,
          77,
          77,
          77,
          77,
          77,
          77,
          77,
          77,
          77,
          78,
          78,
          78,
          78,
          78,
          78,
          78,
          78,
          78,
          78,
          78,
          78,
          78,
          78,
          78,
          79,
          79,
          79,
          79,
          79,
          79,
          79,
          79,
          79,
          79,
          80,
          80,
          80,
          80,
          80,
          80,
          80,
          80,
          81,
          81,
          81,
          81,
          81,
          81,
          81,
          81,
          81,
          81,
          81,
          81,
          81,
          82,
          82,
          82,
          82,
          82,
          82,
          82,
          82,
          82,
          82,
          82,
          82,
          83,
          83,
          83,
          83,
          83,
          83,
          83,
          83,
          83,
          83,
          83,
          83,
          83,
          83,
          84,
          84,
          84,
          84,
          84,
          84,
          84,
          84,
          84,
          84,
          85,
          85,
          85,
          85,
          85,
          85,
          86,
          86,
          86,
          86,
          86,
          86,
          87,
          87,
          88,
          88,
          88,
          88,
          88,
          88,
          89,
          89,
          89,
          90,
          90,
          90,
          90,
          90,
          90,
          91,
          92,
          93,
          93,
          94,
          96
         ],
         "xaxis": "x",
         "y": [
          4.233522783508958,
          4.245766812955481,
          4.245766812955481,
          4.245766812955481,
          4.245766812955481,
          4.245766812955481,
          4.245766812955481,
          4.245766812955481,
          4.258010842402005,
          4.258010842402005,
          4.258010842402005,
          4.258010842402005,
          4.258010842402005,
          4.258010842402005,
          4.270254871848528,
          4.270254871848528,
          4.270254871848528,
          4.270254871848528,
          4.270254871848528,
          4.270254871848528,
          4.270254871848528,
          4.270254871848528,
          4.282498901295052,
          4.282498901295052,
          4.282498901295052,
          4.282498901295052,
          4.282498901295052,
          4.282498901295052,
          4.282498901295052,
          4.282498901295052,
          4.282498901295052,
          4.294742930741576,
          4.294742930741576,
          4.294742930741576,
          4.294742930741576,
          4.294742930741576,
          4.294742930741576,
          4.294742930741576,
          4.294742930741576,
          4.294742930741576,
          4.294742930741576,
          4.294742930741576,
          4.294742930741576,
          4.306986960188099,
          4.306986960188099,
          4.306986960188099,
          4.306986960188099,
          4.306986960188099,
          4.306986960188099,
          4.306986960188099,
          4.306986960188099,
          4.306986960188099,
          4.306986960188099,
          4.306986960188099,
          4.306986960188099,
          4.306986960188099,
          4.306986960188099,
          4.306986960188099,
          4.319230989634622,
          4.319230989634622,
          4.319230989634622,
          4.319230989634622,
          4.319230989634622,
          4.319230989634622,
          4.319230989634622,
          4.319230989634622,
          4.319230989634622,
          4.319230989634622,
          4.331475019081147,
          4.331475019081147,
          4.331475019081147,
          4.331475019081147,
          4.331475019081147,
          4.331475019081147,
          4.331475019081147,
          4.331475019081147,
          4.34371904852767,
          4.34371904852767,
          4.34371904852767,
          4.34371904852767,
          4.34371904852767,
          4.34371904852767,
          4.34371904852767,
          4.34371904852767,
          4.34371904852767,
          4.34371904852767,
          4.34371904852767,
          4.34371904852767,
          4.34371904852767,
          4.355963077974193,
          4.355963077974193,
          4.355963077974193,
          4.355963077974193,
          4.355963077974193,
          4.355963077974193,
          4.355963077974193,
          4.355963077974193,
          4.355963077974193,
          4.355963077974193,
          4.355963077974193,
          4.355963077974193,
          4.368207107420717,
          4.368207107420717,
          4.368207107420717,
          4.368207107420717,
          4.368207107420717,
          4.368207107420717,
          4.368207107420717,
          4.368207107420717,
          4.368207107420717,
          4.368207107420717,
          4.368207107420717,
          4.368207107420717,
          4.368207107420717,
          4.368207107420717,
          4.38045113686724,
          4.38045113686724,
          4.38045113686724,
          4.38045113686724,
          4.38045113686724,
          4.38045113686724,
          4.38045113686724,
          4.38045113686724,
          4.38045113686724,
          4.38045113686724,
          4.392695166313764,
          4.392695166313764,
          4.392695166313764,
          4.392695166313764,
          4.392695166313764,
          4.392695166313764,
          4.404939195760288,
          4.404939195760288,
          4.404939195760288,
          4.404939195760288,
          4.404939195760288,
          4.404939195760288,
          4.417183225206811,
          4.417183225206811,
          4.429427254653334,
          4.429427254653334,
          4.429427254653334,
          4.429427254653334,
          4.429427254653334,
          4.429427254653334,
          4.441671284099858,
          4.441671284099858,
          4.441671284099858,
          4.453915313546382,
          4.453915313546382,
          4.453915313546382,
          4.453915313546382,
          4.453915313546382,
          4.453915313546382,
          4.466159342992905,
          4.478403372439429,
          4.490647401885952,
          4.490647401885952,
          4.5028914313324755,
          4.527379490225523
         ],
         "yaxis": "y"
        }
       ],
       "layout": {
        "legend": {
         "tracegroupgap": 0
        },
        "template": {
         "data": {
          "bar": [
           {
            "error_x": {
             "color": "#2a3f5f"
            },
            "error_y": {
             "color": "#2a3f5f"
            },
            "marker": {
             "line": {
              "color": "#E5ECF6",
              "width": 0.5
             },
             "pattern": {
              "fillmode": "overlay",
              "size": 10,
              "solidity": 0.2
             }
            },
            "type": "bar"
           }
          ],
          "barpolar": [
           {
            "marker": {
             "line": {
              "color": "#E5ECF6",
              "width": 0.5
             },
             "pattern": {
              "fillmode": "overlay",
              "size": 10,
              "solidity": 0.2
             }
            },
            "type": "barpolar"
           }
          ],
          "carpet": [
           {
            "aaxis": {
             "endlinecolor": "#2a3f5f",
             "gridcolor": "white",
             "linecolor": "white",
             "minorgridcolor": "white",
             "startlinecolor": "#2a3f5f"
            },
            "baxis": {
             "endlinecolor": "#2a3f5f",
             "gridcolor": "white",
             "linecolor": "white",
             "minorgridcolor": "white",
             "startlinecolor": "#2a3f5f"
            },
            "type": "carpet"
           }
          ],
          "choropleth": [
           {
            "colorbar": {
             "outlinewidth": 0,
             "ticks": ""
            },
            "type": "choropleth"
           }
          ],
          "contour": [
           {
            "colorbar": {
             "outlinewidth": 0,
             "ticks": ""
            },
            "colorscale": [
             [
              0,
              "#0d0887"
             ],
             [
              0.1111111111111111,
              "#46039f"
             ],
             [
              0.2222222222222222,
              "#7201a8"
             ],
             [
              0.3333333333333333,
              "#9c179e"
             ],
             [
              0.4444444444444444,
              "#bd3786"
             ],
             [
              0.5555555555555556,
              "#d8576b"
             ],
             [
              0.6666666666666666,
              "#ed7953"
             ],
             [
              0.7777777777777778,
              "#fb9f3a"
             ],
             [
              0.8888888888888888,
              "#fdca26"
             ],
             [
              1,
              "#f0f921"
             ]
            ],
            "type": "contour"
           }
          ],
          "contourcarpet": [
           {
            "colorbar": {
             "outlinewidth": 0,
             "ticks": ""
            },
            "type": "contourcarpet"
           }
          ],
          "heatmap": [
           {
            "colorbar": {
             "outlinewidth": 0,
             "ticks": ""
            },
            "colorscale": [
             [
              0,
              "#0d0887"
             ],
             [
              0.1111111111111111,
              "#46039f"
             ],
             [
              0.2222222222222222,
              "#7201a8"
             ],
             [
              0.3333333333333333,
              "#9c179e"
             ],
             [
              0.4444444444444444,
              "#bd3786"
             ],
             [
              0.5555555555555556,
              "#d8576b"
             ],
             [
              0.6666666666666666,
              "#ed7953"
             ],
             [
              0.7777777777777778,
              "#fb9f3a"
             ],
             [
              0.8888888888888888,
              "#fdca26"
             ],
             [
              1,
              "#f0f921"
             ]
            ],
            "type": "heatmap"
           }
          ],
          "heatmapgl": [
           {
            "colorbar": {
             "outlinewidth": 0,
             "ticks": ""
            },
            "colorscale": [
             [
              0,
              "#0d0887"
             ],
             [
              0.1111111111111111,
              "#46039f"
             ],
             [
              0.2222222222222222,
              "#7201a8"
             ],
             [
              0.3333333333333333,
              "#9c179e"
             ],
             [
              0.4444444444444444,
              "#bd3786"
             ],
             [
              0.5555555555555556,
              "#d8576b"
             ],
             [
              0.6666666666666666,
              "#ed7953"
             ],
             [
              0.7777777777777778,
              "#fb9f3a"
             ],
             [
              0.8888888888888888,
              "#fdca26"
             ],
             [
              1,
              "#f0f921"
             ]
            ],
            "type": "heatmapgl"
           }
          ],
          "histogram": [
           {
            "marker": {
             "pattern": {
              "fillmode": "overlay",
              "size": 10,
              "solidity": 0.2
             }
            },
            "type": "histogram"
           }
          ],
          "histogram2d": [
           {
            "colorbar": {
             "outlinewidth": 0,
             "ticks": ""
            },
            "colorscale": [
             [
              0,
              "#0d0887"
             ],
             [
              0.1111111111111111,
              "#46039f"
             ],
             [
              0.2222222222222222,
              "#7201a8"
             ],
             [
              0.3333333333333333,
              "#9c179e"
             ],
             [
              0.4444444444444444,
              "#bd3786"
             ],
             [
              0.5555555555555556,
              "#d8576b"
             ],
             [
              0.6666666666666666,
              "#ed7953"
             ],
             [
              0.7777777777777778,
              "#fb9f3a"
             ],
             [
              0.8888888888888888,
              "#fdca26"
             ],
             [
              1,
              "#f0f921"
             ]
            ],
            "type": "histogram2d"
           }
          ],
          "histogram2dcontour": [
           {
            "colorbar": {
             "outlinewidth": 0,
             "ticks": ""
            },
            "colorscale": [
             [
              0,
              "#0d0887"
             ],
             [
              0.1111111111111111,
              "#46039f"
             ],
             [
              0.2222222222222222,
              "#7201a8"
             ],
             [
              0.3333333333333333,
              "#9c179e"
             ],
             [
              0.4444444444444444,
              "#bd3786"
             ],
             [
              0.5555555555555556,
              "#d8576b"
             ],
             [
              0.6666666666666666,
              "#ed7953"
             ],
             [
              0.7777777777777778,
              "#fb9f3a"
             ],
             [
              0.8888888888888888,
              "#fdca26"
             ],
             [
              1,
              "#f0f921"
             ]
            ],
            "type": "histogram2dcontour"
           }
          ],
          "mesh3d": [
           {
            "colorbar": {
             "outlinewidth": 0,
             "ticks": ""
            },
            "type": "mesh3d"
           }
          ],
          "parcoords": [
           {
            "line": {
             "colorbar": {
              "outlinewidth": 0,
              "ticks": ""
             }
            },
            "type": "parcoords"
           }
          ],
          "pie": [
           {
            "automargin": true,
            "type": "pie"
           }
          ],
          "scatter": [
           {
            "fillpattern": {
             "fillmode": "overlay",
             "size": 10,
             "solidity": 0.2
            },
            "type": "scatter"
           }
          ],
          "scatter3d": [
           {
            "line": {
             "colorbar": {
              "outlinewidth": 0,
              "ticks": ""
             }
            },
            "marker": {
             "colorbar": {
              "outlinewidth": 0,
              "ticks": ""
             }
            },
            "type": "scatter3d"
           }
          ],
          "scattercarpet": [
           {
            "marker": {
             "colorbar": {
              "outlinewidth": 0,
              "ticks": ""
             }
            },
            "type": "scattercarpet"
           }
          ],
          "scattergeo": [
           {
            "marker": {
             "colorbar": {
              "outlinewidth": 0,
              "ticks": ""
             }
            },
            "type": "scattergeo"
           }
          ],
          "scattergl": [
           {
            "marker": {
             "colorbar": {
              "outlinewidth": 0,
              "ticks": ""
             }
            },
            "type": "scattergl"
           }
          ],
          "scattermapbox": [
           {
            "marker": {
             "colorbar": {
              "outlinewidth": 0,
              "ticks": ""
             }
            },
            "type": "scattermapbox"
           }
          ],
          "scatterpolar": [
           {
            "marker": {
             "colorbar": {
              "outlinewidth": 0,
              "ticks": ""
             }
            },
            "type": "scatterpolar"
           }
          ],
          "scatterpolargl": [
           {
            "marker": {
             "colorbar": {
              "outlinewidth": 0,
              "ticks": ""
             }
            },
            "type": "scatterpolargl"
           }
          ],
          "scatterternary": [
           {
            "marker": {
             "colorbar": {
              "outlinewidth": 0,
              "ticks": ""
             }
            },
            "type": "scatterternary"
           }
          ],
          "surface": [
           {
            "colorbar": {
             "outlinewidth": 0,
             "ticks": ""
            },
            "colorscale": [
             [
              0,
              "#0d0887"
             ],
             [
              0.1111111111111111,
              "#46039f"
             ],
             [
              0.2222222222222222,
              "#7201a8"
             ],
             [
              0.3333333333333333,
              "#9c179e"
             ],
             [
              0.4444444444444444,
              "#bd3786"
             ],
             [
              0.5555555555555556,
              "#d8576b"
             ],
             [
              0.6666666666666666,
              "#ed7953"
             ],
             [
              0.7777777777777778,
              "#fb9f3a"
             ],
             [
              0.8888888888888888,
              "#fdca26"
             ],
             [
              1,
              "#f0f921"
             ]
            ],
            "type": "surface"
           }
          ],
          "table": [
           {
            "cells": {
             "fill": {
              "color": "#EBF0F8"
             },
             "line": {
              "color": "white"
             }
            },
            "header": {
             "fill": {
              "color": "#C8D4E3"
             },
             "line": {
              "color": "white"
             }
            },
            "type": "table"
           }
          ]
         },
         "layout": {
          "annotationdefaults": {
           "arrowcolor": "#2a3f5f",
           "arrowhead": 0,
           "arrowwidth": 1
          },
          "autotypenumbers": "strict",
          "coloraxis": {
           "colorbar": {
            "outlinewidth": 0,
            "ticks": ""
           }
          },
          "colorscale": {
           "diverging": [
            [
             0,
             "#8e0152"
            ],
            [
             0.1,
             "#c51b7d"
            ],
            [
             0.2,
             "#de77ae"
            ],
            [
             0.3,
             "#f1b6da"
            ],
            [
             0.4,
             "#fde0ef"
            ],
            [
             0.5,
             "#f7f7f7"
            ],
            [
             0.6,
             "#e6f5d0"
            ],
            [
             0.7,
             "#b8e186"
            ],
            [
             0.8,
             "#7fbc41"
            ],
            [
             0.9,
             "#4d9221"
            ],
            [
             1,
             "#276419"
            ]
           ],
           "sequential": [
            [
             0,
             "#0d0887"
            ],
            [
             0.1111111111111111,
             "#46039f"
            ],
            [
             0.2222222222222222,
             "#7201a8"
            ],
            [
             0.3333333333333333,
             "#9c179e"
            ],
            [
             0.4444444444444444,
             "#bd3786"
            ],
            [
             0.5555555555555556,
             "#d8576b"
            ],
            [
             0.6666666666666666,
             "#ed7953"
            ],
            [
             0.7777777777777778,
             "#fb9f3a"
            ],
            [
             0.8888888888888888,
             "#fdca26"
            ],
            [
             1,
             "#f0f921"
            ]
           ],
           "sequentialminus": [
            [
             0,
             "#0d0887"
            ],
            [
             0.1111111111111111,
             "#46039f"
            ],
            [
             0.2222222222222222,
             "#7201a8"
            ],
            [
             0.3333333333333333,
             "#9c179e"
            ],
            [
             0.4444444444444444,
             "#bd3786"
            ],
            [
             0.5555555555555556,
             "#d8576b"
            ],
            [
             0.6666666666666666,
             "#ed7953"
            ],
            [
             0.7777777777777778,
             "#fb9f3a"
            ],
            [
             0.8888888888888888,
             "#fdca26"
            ],
            [
             1,
             "#f0f921"
            ]
           ]
          },
          "colorway": [
           "#636efa",
           "#EF553B",
           "#00cc96",
           "#ab63fa",
           "#FFA15A",
           "#19d3f3",
           "#FF6692",
           "#B6E880",
           "#FF97FF",
           "#FECB52"
          ],
          "font": {
           "color": "#2a3f5f"
          },
          "geo": {
           "bgcolor": "white",
           "lakecolor": "white",
           "landcolor": "#E5ECF6",
           "showlakes": true,
           "showland": true,
           "subunitcolor": "white"
          },
          "hoverlabel": {
           "align": "left"
          },
          "hovermode": "closest",
          "mapbox": {
           "style": "light"
          },
          "paper_bgcolor": "white",
          "plot_bgcolor": "#E5ECF6",
          "polar": {
           "angularaxis": {
            "gridcolor": "white",
            "linecolor": "white",
            "ticks": ""
           },
           "bgcolor": "#E5ECF6",
           "radialaxis": {
            "gridcolor": "white",
            "linecolor": "white",
            "ticks": ""
           }
          },
          "scene": {
           "xaxis": {
            "backgroundcolor": "#E5ECF6",
            "gridcolor": "white",
            "gridwidth": 2,
            "linecolor": "white",
            "showbackground": true,
            "ticks": "",
            "zerolinecolor": "white"
           },
           "yaxis": {
            "backgroundcolor": "#E5ECF6",
            "gridcolor": "white",
            "gridwidth": 2,
            "linecolor": "white",
            "showbackground": true,
            "ticks": "",
            "zerolinecolor": "white"
           },
           "zaxis": {
            "backgroundcolor": "#E5ECF6",
            "gridcolor": "white",
            "gridwidth": 2,
            "linecolor": "white",
            "showbackground": true,
            "ticks": "",
            "zerolinecolor": "white"
           }
          },
          "shapedefaults": {
           "line": {
            "color": "#2a3f5f"
           }
          },
          "ternary": {
           "aaxis": {
            "gridcolor": "white",
            "linecolor": "white",
            "ticks": ""
           },
           "baxis": {
            "gridcolor": "white",
            "linecolor": "white",
            "ticks": ""
           },
           "bgcolor": "#E5ECF6",
           "caxis": {
            "gridcolor": "white",
            "linecolor": "white",
            "ticks": ""
           }
          },
          "title": {
           "x": 0.05
          },
          "xaxis": {
           "automargin": true,
           "gridcolor": "white",
           "linecolor": "white",
           "ticks": "",
           "title": {
            "standoff": 15
           },
           "zerolinecolor": "white",
           "zerolinewidth": 2
          },
          "yaxis": {
           "automargin": true,
           "gridcolor": "white",
           "linecolor": "white",
           "ticks": "",
           "title": {
            "standoff": 15
           },
           "zerolinecolor": "white",
           "zerolinewidth": 2
          }
         }
        },
        "title": {
         "text": "Old Faithful Geyser Eruptions for short wait times (>71)"
        },
        "xaxis": {
         "anchor": "y",
         "domain": [
          0,
          1
         ],
         "title": {
          "text": "waiting"
         }
        },
        "yaxis": {
         "anchor": "x",
         "domain": [
          0,
          1
         ],
         "title": {
          "text": "duration"
         }
        }
       }
      },
      "text/html": [
       "<div>                            <div id=\"ee35da12-ca5e-471a-ab15-0732314fed49\" class=\"plotly-graph-div\" style=\"height:525px; width:100%;\"></div>            <script type=\"text/javascript\">                require([\"plotly\"], function(Plotly) {                    window.PLOTLYENV=window.PLOTLYENV || {};                                    if (document.getElementById(\"ee35da12-ca5e-471a-ab15-0732314fed49\")) {                    Plotly.newPlot(                        \"ee35da12-ca5e-471a-ab15-0732314fed49\",                        [{\"hovertemplate\":\"waiting=%{x}\\u003cbr\\u003eduration=%{y}\\u003cextra\\u003e\\u003c\\u002fextra\\u003e\",\"legendgroup\":\"\",\"marker\":{\"color\":\"#636efa\",\"symbol\":\"circle\"},\"mode\":\"markers\",\"name\":\"\",\"orientation\":\"v\",\"showlegend\":false,\"x\":[79,74,85,88,85,85,84,78,83,84,79,78,74,83,76,78,79,73,77,80,74,80,90,80,84,73,83,82,75,90,80,83,77,81,84,82,92,78,78,73,82,79,76,78,76,83,75,82,73,88,76,80,86,90,78,72,84,75,82,88,83,81,84,86,81,75,89,79,81,85,87,77,88,81,82,90,83,89,82,86,79,81,82,77,76,80,96,77,77,81,81,93,89,86,78,76,88,93,77,81,81,73,85,74,77,83,83,78,84,83,81,76,84,77,81,87,77,78,82,91,78,77,84,83,80,75,76,94,76,82,75,78,79,78,78,79,86,90,77,79,75,86,85,82,82,74,83,73,73,88,80,83,79,78,84,83,75,81,90,74],\"xaxis\":\"x\",\"y\":[3.6,3.333,4.533,4.7,3.6,4.35,3.917,4.2,4.7,4.8,4.25,3.45,4.533,3.6,4.083,3.85,4.433,4.3,4.467,4.033,3.833,4.833,4.783,4.35,4.567,4.533,3.317,4.633,4.8,4.716,4.833,4.883,4.567,4.317,4.5,4.8,4.4,4.167,4.7,4.7,4.033,4.5,5.067,4.567,3.883,3.6,4.133,4.333,4.067,4.933,3.95,4.517,4.0,4.333,4.817,4.3,4.667,3.75,4.9,4.367,4.5,4.05,4.7,4.85,3.683,4.7330000000000005,4.9,4.417,4.633,4.6,4.417,4.25,4.6,3.767,4.5,4.65,4.167,4.333,4.383,4.933,3.733,4.2330000000000005,4.533,4.817,4.333,4.633,5.1,5.033,4.0,4.6,4.5,4.083,3.967,4.15,3.833,4.583,5.0,4.617,4.583,4.167,4.333,4.5,4.0,4.167,4.583,4.25,3.767,4.433,4.083,4.417,4.8,4.8,4.1,3.966,4.2330000000000005,3.5,4.3660000000000005,4.667,4.35,4.133,4.6,4.367,3.85,4.5,4.7,3.833,4.2330000000000005,4.8,4.15,4.267,4.4830000000000005,4.0,4.117,4.083,4.267,4.55,4.183,4.45,4.283,3.95,4.15,4.933,4.583,3.833,4.367,4.35,4.45,3.567,4.5,4.15,3.817,4.45,4.283,4.767,4.533,4.25,4.75,4.117,4.417,4.467],\"yaxis\":\"y\",\"type\":\"scatter\"},{\"hovertemplate\":\"\\u003cb\\u003eOLS trendline\\u003c\\u002fb\\u003e\\u003cbr\\u003eduration = 0.012244 * waiting + 3.35195\\u003cbr\\u003eR\\u003csup\\u003e2\\u003c\\u002fsup\\u003e=0.026925\\u003cbr\\u003e\\u003cbr\\u003ewaiting=%{x}\\u003cbr\\u003eduration=%{y} \\u003cb\\u003e(trend)\\u003c\\u002fb\\u003e\\u003cextra\\u003e\\u003c\\u002fextra\\u003e\",\"legendgroup\":\"\",\"marker\":{\"color\":\"#636efa\",\"symbol\":\"circle\"},\"mode\":\"lines\",\"name\":\"\",\"showlegend\":false,\"x\":[72,73,73,73,73,73,73,73,74,74,74,74,74,74,75,75,75,75,75,75,75,75,76,76,76,76,76,76,76,76,76,77,77,77,77,77,77,77,77,77,77,77,77,78,78,78,78,78,78,78,78,78,78,78,78,78,78,78,79,79,79,79,79,79,79,79,79,79,80,80,80,80,80,80,80,80,81,81,81,81,81,81,81,81,81,81,81,81,81,82,82,82,82,82,82,82,82,82,82,82,82,83,83,83,83,83,83,83,83,83,83,83,83,83,83,84,84,84,84,84,84,84,84,84,84,85,85,85,85,85,85,86,86,86,86,86,86,87,87,88,88,88,88,88,88,89,89,89,90,90,90,90,90,90,91,92,93,93,94,96],\"xaxis\":\"x\",\"y\":[4.233522783508958,4.245766812955481,4.245766812955481,4.245766812955481,4.245766812955481,4.245766812955481,4.245766812955481,4.245766812955481,4.258010842402005,4.258010842402005,4.258010842402005,4.258010842402005,4.258010842402005,4.258010842402005,4.270254871848528,4.270254871848528,4.270254871848528,4.270254871848528,4.270254871848528,4.270254871848528,4.270254871848528,4.270254871848528,4.282498901295052,4.282498901295052,4.282498901295052,4.282498901295052,4.282498901295052,4.282498901295052,4.282498901295052,4.282498901295052,4.282498901295052,4.294742930741576,4.294742930741576,4.294742930741576,4.294742930741576,4.294742930741576,4.294742930741576,4.294742930741576,4.294742930741576,4.294742930741576,4.294742930741576,4.294742930741576,4.294742930741576,4.306986960188099,4.306986960188099,4.306986960188099,4.306986960188099,4.306986960188099,4.306986960188099,4.306986960188099,4.306986960188099,4.306986960188099,4.306986960188099,4.306986960188099,4.306986960188099,4.306986960188099,4.306986960188099,4.306986960188099,4.319230989634622,4.319230989634622,4.319230989634622,4.319230989634622,4.319230989634622,4.319230989634622,4.319230989634622,4.319230989634622,4.319230989634622,4.319230989634622,4.331475019081147,4.331475019081147,4.331475019081147,4.331475019081147,4.331475019081147,4.331475019081147,4.331475019081147,4.331475019081147,4.34371904852767,4.34371904852767,4.34371904852767,4.34371904852767,4.34371904852767,4.34371904852767,4.34371904852767,4.34371904852767,4.34371904852767,4.34371904852767,4.34371904852767,4.34371904852767,4.34371904852767,4.355963077974193,4.355963077974193,4.355963077974193,4.355963077974193,4.355963077974193,4.355963077974193,4.355963077974193,4.355963077974193,4.355963077974193,4.355963077974193,4.355963077974193,4.355963077974193,4.368207107420717,4.368207107420717,4.368207107420717,4.368207107420717,4.368207107420717,4.368207107420717,4.368207107420717,4.368207107420717,4.368207107420717,4.368207107420717,4.368207107420717,4.368207107420717,4.368207107420717,4.368207107420717,4.38045113686724,4.38045113686724,4.38045113686724,4.38045113686724,4.38045113686724,4.38045113686724,4.38045113686724,4.38045113686724,4.38045113686724,4.38045113686724,4.392695166313764,4.392695166313764,4.392695166313764,4.392695166313764,4.392695166313764,4.392695166313764,4.404939195760288,4.404939195760288,4.404939195760288,4.404939195760288,4.404939195760288,4.404939195760288,4.417183225206811,4.417183225206811,4.429427254653334,4.429427254653334,4.429427254653334,4.429427254653334,4.429427254653334,4.429427254653334,4.441671284099858,4.441671284099858,4.441671284099858,4.453915313546382,4.453915313546382,4.453915313546382,4.453915313546382,4.453915313546382,4.453915313546382,4.466159342992905,4.478403372439429,4.490647401885952,4.490647401885952,4.5028914313324755,4.527379490225523],\"yaxis\":\"y\",\"type\":\"scatter\"}],                        {\"template\":{\"data\":{\"histogram2dcontour\":[{\"type\":\"histogram2dcontour\",\"colorbar\":{\"outlinewidth\":0,\"ticks\":\"\"},\"colorscale\":[[0.0,\"#0d0887\"],[0.1111111111111111,\"#46039f\"],[0.2222222222222222,\"#7201a8\"],[0.3333333333333333,\"#9c179e\"],[0.4444444444444444,\"#bd3786\"],[0.5555555555555556,\"#d8576b\"],[0.6666666666666666,\"#ed7953\"],[0.7777777777777778,\"#fb9f3a\"],[0.8888888888888888,\"#fdca26\"],[1.0,\"#f0f921\"]]}],\"choropleth\":[{\"type\":\"choropleth\",\"colorbar\":{\"outlinewidth\":0,\"ticks\":\"\"}}],\"histogram2d\":[{\"type\":\"histogram2d\",\"colorbar\":{\"outlinewidth\":0,\"ticks\":\"\"},\"colorscale\":[[0.0,\"#0d0887\"],[0.1111111111111111,\"#46039f\"],[0.2222222222222222,\"#7201a8\"],[0.3333333333333333,\"#9c179e\"],[0.4444444444444444,\"#bd3786\"],[0.5555555555555556,\"#d8576b\"],[0.6666666666666666,\"#ed7953\"],[0.7777777777777778,\"#fb9f3a\"],[0.8888888888888888,\"#fdca26\"],[1.0,\"#f0f921\"]]}],\"heatmap\":[{\"type\":\"heatmap\",\"colorbar\":{\"outlinewidth\":0,\"ticks\":\"\"},\"colorscale\":[[0.0,\"#0d0887\"],[0.1111111111111111,\"#46039f\"],[0.2222222222222222,\"#7201a8\"],[0.3333333333333333,\"#9c179e\"],[0.4444444444444444,\"#bd3786\"],[0.5555555555555556,\"#d8576b\"],[0.6666666666666666,\"#ed7953\"],[0.7777777777777778,\"#fb9f3a\"],[0.8888888888888888,\"#fdca26\"],[1.0,\"#f0f921\"]]}],\"heatmapgl\":[{\"type\":\"heatmapgl\",\"colorbar\":{\"outlinewidth\":0,\"ticks\":\"\"},\"colorscale\":[[0.0,\"#0d0887\"],[0.1111111111111111,\"#46039f\"],[0.2222222222222222,\"#7201a8\"],[0.3333333333333333,\"#9c179e\"],[0.4444444444444444,\"#bd3786\"],[0.5555555555555556,\"#d8576b\"],[0.6666666666666666,\"#ed7953\"],[0.7777777777777778,\"#fb9f3a\"],[0.8888888888888888,\"#fdca26\"],[1.0,\"#f0f921\"]]}],\"contourcarpet\":[{\"type\":\"contourcarpet\",\"colorbar\":{\"outlinewidth\":0,\"ticks\":\"\"}}],\"contour\":[{\"type\":\"contour\",\"colorbar\":{\"outlinewidth\":0,\"ticks\":\"\"},\"colorscale\":[[0.0,\"#0d0887\"],[0.1111111111111111,\"#46039f\"],[0.2222222222222222,\"#7201a8\"],[0.3333333333333333,\"#9c179e\"],[0.4444444444444444,\"#bd3786\"],[0.5555555555555556,\"#d8576b\"],[0.6666666666666666,\"#ed7953\"],[0.7777777777777778,\"#fb9f3a\"],[0.8888888888888888,\"#fdca26\"],[1.0,\"#f0f921\"]]}],\"surface\":[{\"type\":\"surface\",\"colorbar\":{\"outlinewidth\":0,\"ticks\":\"\"},\"colorscale\":[[0.0,\"#0d0887\"],[0.1111111111111111,\"#46039f\"],[0.2222222222222222,\"#7201a8\"],[0.3333333333333333,\"#9c179e\"],[0.4444444444444444,\"#bd3786\"],[0.5555555555555556,\"#d8576b\"],[0.6666666666666666,\"#ed7953\"],[0.7777777777777778,\"#fb9f3a\"],[0.8888888888888888,\"#fdca26\"],[1.0,\"#f0f921\"]]}],\"mesh3d\":[{\"type\":\"mesh3d\",\"colorbar\":{\"outlinewidth\":0,\"ticks\":\"\"}}],\"scatter\":[{\"fillpattern\":{\"fillmode\":\"overlay\",\"size\":10,\"solidity\":0.2},\"type\":\"scatter\"}],\"parcoords\":[{\"type\":\"parcoords\",\"line\":{\"colorbar\":{\"outlinewidth\":0,\"ticks\":\"\"}}}],\"scatterpolargl\":[{\"type\":\"scatterpolargl\",\"marker\":{\"colorbar\":{\"outlinewidth\":0,\"ticks\":\"\"}}}],\"bar\":[{\"error_x\":{\"color\":\"#2a3f5f\"},\"error_y\":{\"color\":\"#2a3f5f\"},\"marker\":{\"line\":{\"color\":\"#E5ECF6\",\"width\":0.5},\"pattern\":{\"fillmode\":\"overlay\",\"size\":10,\"solidity\":0.2}},\"type\":\"bar\"}],\"scattergeo\":[{\"type\":\"scattergeo\",\"marker\":{\"colorbar\":{\"outlinewidth\":0,\"ticks\":\"\"}}}],\"scatterpolar\":[{\"type\":\"scatterpolar\",\"marker\":{\"colorbar\":{\"outlinewidth\":0,\"ticks\":\"\"}}}],\"histogram\":[{\"marker\":{\"pattern\":{\"fillmode\":\"overlay\",\"size\":10,\"solidity\":0.2}},\"type\":\"histogram\"}],\"scattergl\":[{\"type\":\"scattergl\",\"marker\":{\"colorbar\":{\"outlinewidth\":0,\"ticks\":\"\"}}}],\"scatter3d\":[{\"type\":\"scatter3d\",\"line\":{\"colorbar\":{\"outlinewidth\":0,\"ticks\":\"\"}},\"marker\":{\"colorbar\":{\"outlinewidth\":0,\"ticks\":\"\"}}}],\"scattermapbox\":[{\"type\":\"scattermapbox\",\"marker\":{\"colorbar\":{\"outlinewidth\":0,\"ticks\":\"\"}}}],\"scatterternary\":[{\"type\":\"scatterternary\",\"marker\":{\"colorbar\":{\"outlinewidth\":0,\"ticks\":\"\"}}}],\"scattercarpet\":[{\"type\":\"scattercarpet\",\"marker\":{\"colorbar\":{\"outlinewidth\":0,\"ticks\":\"\"}}}],\"carpet\":[{\"aaxis\":{\"endlinecolor\":\"#2a3f5f\",\"gridcolor\":\"white\",\"linecolor\":\"white\",\"minorgridcolor\":\"white\",\"startlinecolor\":\"#2a3f5f\"},\"baxis\":{\"endlinecolor\":\"#2a3f5f\",\"gridcolor\":\"white\",\"linecolor\":\"white\",\"minorgridcolor\":\"white\",\"startlinecolor\":\"#2a3f5f\"},\"type\":\"carpet\"}],\"table\":[{\"cells\":{\"fill\":{\"color\":\"#EBF0F8\"},\"line\":{\"color\":\"white\"}},\"header\":{\"fill\":{\"color\":\"#C8D4E3\"},\"line\":{\"color\":\"white\"}},\"type\":\"table\"}],\"barpolar\":[{\"marker\":{\"line\":{\"color\":\"#E5ECF6\",\"width\":0.5},\"pattern\":{\"fillmode\":\"overlay\",\"size\":10,\"solidity\":0.2}},\"type\":\"barpolar\"}],\"pie\":[{\"automargin\":true,\"type\":\"pie\"}]},\"layout\":{\"autotypenumbers\":\"strict\",\"colorway\":[\"#636efa\",\"#EF553B\",\"#00cc96\",\"#ab63fa\",\"#FFA15A\",\"#19d3f3\",\"#FF6692\",\"#B6E880\",\"#FF97FF\",\"#FECB52\"],\"font\":{\"color\":\"#2a3f5f\"},\"hovermode\":\"closest\",\"hoverlabel\":{\"align\":\"left\"},\"paper_bgcolor\":\"white\",\"plot_bgcolor\":\"#E5ECF6\",\"polar\":{\"bgcolor\":\"#E5ECF6\",\"angularaxis\":{\"gridcolor\":\"white\",\"linecolor\":\"white\",\"ticks\":\"\"},\"radialaxis\":{\"gridcolor\":\"white\",\"linecolor\":\"white\",\"ticks\":\"\"}},\"ternary\":{\"bgcolor\":\"#E5ECF6\",\"aaxis\":{\"gridcolor\":\"white\",\"linecolor\":\"white\",\"ticks\":\"\"},\"baxis\":{\"gridcolor\":\"white\",\"linecolor\":\"white\",\"ticks\":\"\"},\"caxis\":{\"gridcolor\":\"white\",\"linecolor\":\"white\",\"ticks\":\"\"}},\"coloraxis\":{\"colorbar\":{\"outlinewidth\":0,\"ticks\":\"\"}},\"colorscale\":{\"sequential\":[[0.0,\"#0d0887\"],[0.1111111111111111,\"#46039f\"],[0.2222222222222222,\"#7201a8\"],[0.3333333333333333,\"#9c179e\"],[0.4444444444444444,\"#bd3786\"],[0.5555555555555556,\"#d8576b\"],[0.6666666666666666,\"#ed7953\"],[0.7777777777777778,\"#fb9f3a\"],[0.8888888888888888,\"#fdca26\"],[1.0,\"#f0f921\"]],\"sequentialminus\":[[0.0,\"#0d0887\"],[0.1111111111111111,\"#46039f\"],[0.2222222222222222,\"#7201a8\"],[0.3333333333333333,\"#9c179e\"],[0.4444444444444444,\"#bd3786\"],[0.5555555555555556,\"#d8576b\"],[0.6666666666666666,\"#ed7953\"],[0.7777777777777778,\"#fb9f3a\"],[0.8888888888888888,\"#fdca26\"],[1.0,\"#f0f921\"]],\"diverging\":[[0,\"#8e0152\"],[0.1,\"#c51b7d\"],[0.2,\"#de77ae\"],[0.3,\"#f1b6da\"],[0.4,\"#fde0ef\"],[0.5,\"#f7f7f7\"],[0.6,\"#e6f5d0\"],[0.7,\"#b8e186\"],[0.8,\"#7fbc41\"],[0.9,\"#4d9221\"],[1,\"#276419\"]]},\"xaxis\":{\"gridcolor\":\"white\",\"linecolor\":\"white\",\"ticks\":\"\",\"title\":{\"standoff\":15},\"zerolinecolor\":\"white\",\"automargin\":true,\"zerolinewidth\":2},\"yaxis\":{\"gridcolor\":\"white\",\"linecolor\":\"white\",\"ticks\":\"\",\"title\":{\"standoff\":15},\"zerolinecolor\":\"white\",\"automargin\":true,\"zerolinewidth\":2},\"scene\":{\"xaxis\":{\"backgroundcolor\":\"#E5ECF6\",\"gridcolor\":\"white\",\"linecolor\":\"white\",\"showbackground\":true,\"ticks\":\"\",\"zerolinecolor\":\"white\",\"gridwidth\":2},\"yaxis\":{\"backgroundcolor\":\"#E5ECF6\",\"gridcolor\":\"white\",\"linecolor\":\"white\",\"showbackground\":true,\"ticks\":\"\",\"zerolinecolor\":\"white\",\"gridwidth\":2},\"zaxis\":{\"backgroundcolor\":\"#E5ECF6\",\"gridcolor\":\"white\",\"linecolor\":\"white\",\"showbackground\":true,\"ticks\":\"\",\"zerolinecolor\":\"white\",\"gridwidth\":2}},\"shapedefaults\":{\"line\":{\"color\":\"#2a3f5f\"}},\"annotationdefaults\":{\"arrowcolor\":\"#2a3f5f\",\"arrowhead\":0,\"arrowwidth\":1},\"geo\":{\"bgcolor\":\"white\",\"landcolor\":\"#E5ECF6\",\"subunitcolor\":\"white\",\"showland\":true,\"showlakes\":true,\"lakecolor\":\"white\"},\"title\":{\"x\":0.05},\"mapbox\":{\"style\":\"light\"}}},\"xaxis\":{\"anchor\":\"y\",\"domain\":[0.0,1.0],\"title\":{\"text\":\"waiting\"}},\"yaxis\":{\"anchor\":\"x\",\"domain\":[0.0,1.0],\"title\":{\"text\":\"duration\"}},\"legend\":{\"tracegroupgap\":0},\"title\":{\"text\":\"Old Faithful Geyser Eruptions for short wait times (\\u003e71)\"}},                        {\"responsive\": true}                    ).then(function(){\n",
       "                            \n",
       "var gd = document.getElementById('ee35da12-ca5e-471a-ab15-0732314fed49');\n",
       "var x = new MutationObserver(function (mutations, observer) {{\n",
       "        var display = window.getComputedStyle(gd).display;\n",
       "        if (!display || display === 'none') {{\n",
       "            console.log([gd, 'removed!']);\n",
       "            Plotly.purge(gd);\n",
       "            observer.disconnect();\n",
       "        }}\n",
       "}});\n",
       "\n",
       "// Listen for the removal of the full notebook cells\n",
       "var notebookContainer = gd.closest('#notebook-container');\n",
       "if (notebookContainer) {{\n",
       "    x.observe(notebookContainer, {childList: true});\n",
       "}}\n",
       "\n",
       "// Listen for the clearing of the current output cell\n",
       "var outputEl = gd.closest('.output');\n",
       "if (outputEl) {{\n",
       "    x.observe(outputEl, {childList: true});\n",
       "}}\n",
       "\n",
       "                        })                };                });            </script>        </div>"
      ]
     },
     "metadata": {},
     "output_type": "display_data"
    }
   ],
   "source": [
    "import plotly.express as px\n",
    "\n",
    "long_wait_limit = 71\n",
    "long_wait = old_faithful.waiting > long_wait_limit\n",
    "\n",
    "print(smf.ols('duration ~ waiting', data=old_faithful[long_wait]).fit().summary().tables[1])\n",
    "\n",
    "# Create a scatter plot with a linear regression trendline\n",
    "fig = px.scatter(old_faithful[long_wait], x='waiting', y='duration', \n",
    "                 title=\"Old Faithful Geyser Eruptions for short wait times (>\"+str(long_wait_limit)+\")\", \n",
    "                 trendline='ols')\n",
    "fig.show() # USE `fig.show(renderer=\"png\")` FOR ALL GitHub and MarkUs SUBMISSIONS"
   ]
  },
  {
   "cell_type": "markdown",
   "id": "b2700d81",
   "metadata": {
    "slideshow": {
     "slide_type": "subslide"
    }
   },
   "source": [
    "Bootstrapping"
   ]
  },
  {
   "cell_type": "code",
   "execution_count": 23,
   "id": "f51e98b0",
   "metadata": {},
   "outputs": [
    {
     "data": {
      "image/png": "[encoded data removed]"
     },
     "metadata": {},
     "output_type": "display_data"
    },
    {
     "data": {
      "image/png": "[encoded data removed]"
     },
     "metadata": {},
     "output_type": "display_data"
    },
    {
     "name": "stdout",
     "output_type": "stream",
     "text": [
      "Does the 95% CI contain 0? No\n",
      "Real model p-value: 8.314388082540445e-15\n",
      "Mean simulated p-value: 0.10520833151753627\n"
     ]
    }
   ],
   "source": [
    "import numpy as np\n",
    "import pandas as pd\n",
    "import statsmodels.formula.api as smf\n",
    "import plotly.express as px\n",
    "\n",
    "# Load the Old Faithful Geyser dataset\n",
    "old_faithful = pd.read_csv(\"https://vincentarelbundock.github.io/Rdatasets/csv/datasets/faithful.csv\")\n",
    "\n",
    "# Step 1: Long wait time data (e.g., waiting time greater than 63 minutes)\n",
    "long_wait = old_faithful['waiting'] > 63  # Long wait times\n",
    "long_wait_data = old_faithful[long_wait]\n",
    "\n",
    "# Step 1: Bootstrapping for slope coefficients\n",
    "\n",
    "# Number of bootstrap samples\n",
    "n_bootstrap = 1000\n",
    "bootstrap_slopes = []\n",
    "\n",
    "# Generate bootstrap samples and fit linear regression models\n",
    "for _ in range(n_bootstrap):\n",
    "    # Sample with replacement\n",
    "    bootstrap_sample = long_wait_data.sample(n=len(long_wait_data), replace=True)\n",
    "    # Fit OLS model\n",
    "    model = smf.ols('eruptions ~ waiting', data=bootstrap_sample).fit()\n",
    "    # Collect the slope coefficient\n",
    "    bootstrap_slopes.append(model.params['waiting'])\n",
    "\n",
    "# Visualize the distribution of bootstrapped slope coefficients\n",
    "fig = px.histogram(bootstrap_slopes, nbins=50, title=\"Bootstrapped Sampling Distribution of Slope Coefficients\")\n",
    "fig.show(renderer=\"png\")\n",
    "\n",
    "# Step 2: Simulating Data Under the Null Hypothesis (𝛽₀=1.65, 𝛽₁=0, 𝜎=0.37)\n",
    "\n",
    "# Parameters for the simulation\n",
    "beta_0 = 1.65\n",
    "beta_1 = 0\n",
    "sigma = 0.37\n",
    "n_sim = 160\n",
    "\n",
    "# Simulate X-values (waiting times) from the long_wait_data, but sample only `n_sim` values\n",
    "X_sim = np.random.choice(long_wait_data['waiting'].values, size=n_sim, replace=True)\n",
    "\n",
    "# Simulate Y-values under the null hypothesis (𝛽₀=1.65, 𝛽₁=0)\n",
    "np.random.seed(0)  # Set seed for reproducibility\n",
    "Y_sim = beta_0 + beta_1 * X_sim + np.random.normal(0, sigma, n_sim)\n",
    "\n",
    "# Step 2: Fit OLS model on the simulated data and collect slope coefficients\n",
    "simulated_slopes = []\n",
    "for _ in range(n_bootstrap):\n",
    "    # Create a new simulated sample\n",
    "    simulated_data = pd.DataFrame({'waiting': X_sim, 'eruptions': Y_sim})\n",
    "    # Fit OLS model\n",
    "    model = smf.ols('eruptions ~ waiting', data=simulated_data).fit()\n",
    "    # Collect the slope coefficient\n",
    "    simulated_slopes.append(model.params['waiting'])\n",
    "\n",
    "# Visualize the distribution of simulated slope coefficients\n",
    "fig_sim = px.histogram(simulated_slopes, nbins=50, title=\"Simulated Sampling Distribution of Slope Coefficients under Null Hypothesis\")\n",
    "fig_sim.show(renderer=\"png\")\n",
    "\n",
    "# Step 3: Check if 0 is within the 95% Confidence Interval for the bootstrapped slope coefficients\n",
    "bootstrap_slope_array = np.array(bootstrap_slopes)\n",
    "lower_bound = np.percentile(bootstrap_slope_array, 2.5)\n",
    "upper_bound = np.percentile(bootstrap_slope_array, 97.5)\n",
    "\n",
    "# Report if 0 is contained within the 95% confidence interval\n",
    "contains_zero = (lower_bound < 0 < upper_bound)\n",
    "print(f\"Does the 95% CI contain 0? {'Yes' if contains_zero else 'No'}\")\n",
    "\n",
    "# Step 4: Check the p-value from the real model and the simulated p-value\n",
    "real_model = smf.ols('eruptions ~ waiting', data=long_wait_data).fit()\n",
    "real_p_value = real_model.pvalues['waiting']\n",
    "print(f\"Real model p-value: {real_p_value}\")\n",
    "\n",
    "# Step 5: Compare the simulated p-value (mean of bootstrap p-values) with the real model p-value\n",
    "simulated_p_values = []\n",
    "for _ in range(n_bootstrap):\n",
    "    simulated_data = pd.DataFrame({'waiting': X_sim, 'eruptions': Y_sim})\n",
    "    model = smf.ols('eruptions ~ waiting', data=simulated_data).fit()\n",
    "    simulated_p_values.append(model.pvalues['waiting'])\n",
    "\n",
    "mean_simulated_p_value = np.mean(simulated_p_values)\n",
    "print(f\"Mean simulated p-value: {mean_simulated_p_value}\")\n"
   ]
  },
  {
   "cell_type": "markdown",
   "id": "a1163d93",
   "metadata": {},
   "source": [
    "### 11. Since we've considered wait times of around <64  \"short\" and wait times of >71 \"long\", let's instead just divide the data and insead call wait times of <68 \"short\" and otherwise just call them \"long\". Consider the *Simple Linear Regression* model specification using an *indicator variable* of the wait time length<br>\n",
    "\n",
    "$$\\large Y_i = \\beta_{\\text{intercept}} + 1_{[\\text{\"long\"}]}(\\text{k_i})\\beta_{\\text{contrast}} + \\epsilon_i \\quad \\text{ where } \\quad \\epsilon_i \\sim \\mathcal N\\left(0, \\sigma\\right)$$\n",
    "\n",
    "### where we use $k_i$ (rather than $x_i$) (to refer to the \"kind\" or \"katagory\" or \"kontrast\") column (that you may have noticed was already a part) of the original dataset; and, explain the \"big picture\" differences between this model specification and the previously considered model specifications<br>\n",
    "\n",
    "1. `smf.ols('duration ~ waiting', data=old_faithful)`\n",
    "2. `smf.ols('duration ~ waiting', data=old_faithful[short_wait])`\n",
    "3. `smf.ols('duration ~ waiting', data=old_faithful[long_wait])`\n",
    "\n",
    "### and report the evidence against a *null hypothesis* of \"no difference between groups \"on average\") for the new *indicator variable* based model<br>\n"
   ]
  },
  {
   "cell_type": "code",
   "execution_count": 44,
   "id": "1efc4f93",
   "metadata": {},
   "outputs": [
    {
     "data": {
      "text/html": [
       "<table class=\"simpletable\">\n",
       "<tr>\n",
       "                        <td></td>                           <th>coef</th>     <th>std err</th>      <th>t</th>      <th>P>|t|</th>  <th>[0.025</th>    <th>0.975]</th>  \n",
       "</tr>\n",
       "<tr>\n",
       "  <th>Intercept</th>                                     <td>    2.0943</td> <td>    0.041</td> <td>   50.752</td> <td> 0.000</td> <td>    2.013</td> <td>    2.176</td>\n",
       "</tr>\n",
       "<tr>\n",
       "  <th>C(kind, Treatment(reference=\"short\"))[T.long]</th> <td>    2.2036</td> <td>    0.052</td> <td>   42.464</td> <td> 0.000</td> <td>    2.101</td> <td>    2.306</td>\n",
       "</tr>\n",
       "</table>"
      ],
      "text/latex": [
       "\\begin{center}\n",
       "\\begin{tabular}{lcccccc}\n",
       "\\toprule\n",
       "                                                       & \\textbf{coef} & \\textbf{std err} & \\textbf{t} & \\textbf{P$> |$t$|$} & \\textbf{[0.025} & \\textbf{0.975]}  \\\\\n",
       "\\midrule\n",
       "\\textbf{Intercept}                                     &       2.0943  &        0.041     &    50.752  &         0.000        &        2.013    &        2.176     \\\\\n",
       "\\textbf{C(kind, Treatment(reference=\"short\"))[T.long]} &       2.2036  &        0.052     &    42.464  &         0.000        &        2.101    &        2.306     \\\\\n",
       "\\bottomrule\n",
       "\\end{tabular}\n",
       "\\end{center}"
      ],
      "text/plain": [
       "<class 'statsmodels.iolib.table.SimpleTable'>"
      ]
     },
     "metadata": {},
     "output_type": "display_data"
    },
    {
     "data": {
      "application/vnd.plotly.v1+json": {
       "config": {
        "plotlyServerURL": "https://plot.ly"
       },
       "data": [
        {
         "alignmentgroup": "True",
         "hovertemplate": "kind=%{x}<br>duration=%{y}<extra></extra>",
         "legendgroup": "",
         "marker": {
          "color": "#636efa"
         },
         "name": "",
         "notched": false,
         "offsetgroup": "",
         "orientation": "v",
         "showlegend": false,
         "type": "box",
         "x": [
          "long",
          "short",
          "long",
          "short",
          "long",
          "short",
          "long",
          "long",
          "short",
          "long",
          "short",
          "long",
          "long",
          "short",
          "long",
          "short",
          "short",
          "long",
          "short",
          "long",
          "short",
          "short",
          "long",
          "long",
          "long",
          "long",
          "short",
          "long",
          "long",
          "long",
          "long",
          "long",
          "short",
          "long",
          "long",
          "short",
          "short",
          "long",
          "short",
          "long",
          "long",
          "short",
          "long",
          "short",
          "long",
          "long",
          "short",
          "short",
          "long",
          "short",
          "long",
          "long",
          "short",
          "long",
          "short",
          "long",
          "long",
          "short",
          "long",
          "long",
          "short",
          "long",
          "short",
          "long",
          "short",
          "long",
          "long",
          "long",
          "short",
          "long",
          "long",
          "short",
          "long",
          "long",
          "short",
          "long",
          "short",
          "long",
          "long",
          "long",
          "long",
          "long",
          "long",
          "short",
          "long",
          "long",
          "long",
          "long",
          "short",
          "long",
          "short",
          "long",
          "short",
          "long",
          "short",
          "long",
          "long",
          "long",
          "short",
          "long",
          "short",
          "long",
          "short",
          "long",
          "long",
          "short",
          "long",
          "short",
          "long",
          "long",
          "long",
          "short",
          "long",
          "long",
          "short",
          "long",
          "short",
          "long",
          "short",
          "long",
          "short",
          "long",
          "long",
          "short",
          "long",
          "long",
          "short",
          "long",
          "short",
          "long",
          "short",
          "long",
          "short",
          "long",
          "short",
          "long",
          "short",
          "long",
          "short",
          "long",
          "long",
          "short",
          "long",
          "long",
          "long",
          "short",
          "long",
          "short",
          "long",
          "short",
          "long",
          "long",
          "short",
          "long",
          "long",
          "long",
          "long",
          "long",
          "short",
          "long",
          "short",
          "long",
          "short",
          "long",
          "short",
          "long",
          "short",
          "long",
          "short",
          "long",
          "short",
          "short",
          "long",
          "long",
          "long",
          "long",
          "long",
          "short",
          "long",
          "long",
          "short",
          "long",
          "long",
          "long",
          "short",
          "long",
          "long",
          "short",
          "long",
          "short",
          "long",
          "short",
          "long",
          "long",
          "long",
          "long",
          "long",
          "long",
          "short",
          "long",
          "short",
          "long",
          "long",
          "short",
          "long",
          "short",
          "long",
          "long",
          "short",
          "long",
          "long",
          "long",
          "short",
          "long",
          "short",
          "long",
          "short",
          "long",
          "short",
          "long",
          "short",
          "long",
          "short",
          "long",
          "long",
          "long",
          "long",
          "long",
          "long",
          "long",
          "long",
          "short",
          "long",
          "short",
          "long",
          "short",
          "short",
          "long",
          "long",
          "short",
          "long",
          "short",
          "long",
          "short",
          "long",
          "long",
          "short",
          "long",
          "short",
          "long",
          "short",
          "long",
          "long",
          "long",
          "long",
          "long",
          "long",
          "long",
          "short",
          "long",
          "long",
          "long",
          "short",
          "long",
          "short",
          "short",
          "long",
          "long",
          "short",
          "long",
          "short",
          "long"
         ],
         "x0": " ",
         "xaxis": "x",
         "y": [
          3.6,
          1.8,
          3.333,
          2.283,
          4.533,
          2.883,
          4.7,
          3.6,
          1.95,
          4.35,
          1.833,
          3.917,
          4.2,
          1.75,
          4.7,
          2.167,
          1.75,
          4.8,
          1.6,
          4.25,
          1.8,
          1.75,
          3.45,
          3.067,
          4.533,
          3.6,
          1.967,
          4.083,
          3.85,
          4.433,
          4.3,
          4.467,
          3.367,
          4.033,
          3.833,
          2.017,
          1.867,
          4.833,
          1.833,
          4.783,
          4.35,
          1.883,
          4.567,
          1.75,
          4.533,
          3.317,
          3.833,
          2.1,
          4.633,
          2,
          4.8,
          4.716,
          1.833,
          4.833,
          1.733,
          4.883,
          3.717,
          1.6669999999999998,
          4.567,
          4.317,
          2.233,
          4.5,
          1.75,
          4.8,
          1.817,
          4.4,
          4.167,
          4.7,
          2.067,
          4.7,
          4.033,
          1.967,
          4.5,
          4,
          1.983,
          5.067,
          2.017,
          4.567,
          3.883,
          3.6,
          4.133,
          4.333,
          4.1,
          2.633,
          4.067,
          4.933,
          3.95,
          4.517,
          2.167,
          4,
          2.2,
          4.333,
          1.867,
          4.817,
          1.833,
          4.3,
          4.667,
          3.75,
          1.867,
          4.9,
          2.483,
          4.367,
          2.1,
          4.5,
          4.05,
          1.867,
          4.7,
          1.783,
          4.85,
          3.683,
          4.7330000000000005,
          2.3,
          4.9,
          4.417,
          1.7,
          4.633,
          2.317,
          4.6,
          1.817,
          4.417,
          2.617,
          4.067,
          4.25,
          1.967,
          4.6,
          3.767,
          1.917,
          4.5,
          2.267,
          4.65,
          1.867,
          4.167,
          2.8,
          4.333,
          1.833,
          4.383,
          1.883,
          4.933,
          2.033,
          3.733,
          4.2330000000000005,
          2.233,
          4.533,
          4.817,
          4.333,
          1.983,
          4.633,
          2.017,
          5.1,
          1.8,
          5.033,
          4,
          2.4,
          4.6,
          3.567,
          4,
          4.5,
          4.083,
          1.8,
          3.967,
          2.2,
          4.15,
          2,
          3.833,
          3.5,
          4.583,
          2.367,
          5,
          1.933,
          4.617,
          1.917,
          2.083,
          4.583,
          3.333,
          4.167,
          4.333,
          4.5,
          2.417,
          4,
          4.167,
          1.883,
          4.583,
          4.25,
          3.767,
          2.033,
          4.433,
          4.083,
          1.833,
          4.417,
          2.1830000000000003,
          4.8,
          1.833,
          4.8,
          4.1,
          3.966,
          4.2330000000000005,
          3.5,
          4.3660000000000005,
          2.25,
          4.667,
          2.1,
          4.35,
          4.133,
          1.867,
          4.6,
          1.783,
          4.367,
          3.85,
          1.933,
          4.5,
          2.383,
          4.7,
          1.867,
          3.833,
          3.417,
          4.2330000000000005,
          2.4,
          4.8,
          2,
          4.15,
          1.867,
          4.267,
          1.75,
          4.4830000000000005,
          4,
          4.117,
          4.083,
          4.267,
          3.917,
          4.55,
          4.083,
          2.417,
          4.183,
          2.217,
          4.45,
          1.883,
          1.85,
          4.283,
          3.95,
          2.333,
          4.15,
          2.35,
          4.933,
          2.9,
          4.583,
          3.833,
          2.083,
          4.367,
          2.133,
          4.35,
          2.2,
          4.45,
          3.567,
          4.5,
          4.15,
          3.817,
          3.917,
          4.45,
          2,
          4.283,
          4.767,
          4.533,
          1.85,
          4.25,
          1.983,
          2.25,
          4.75,
          4.117,
          2.15,
          4.417,
          1.817,
          4.467
         ],
         "y0": " ",
         "yaxis": "y"
        }
       ],
       "layout": {
        "boxmode": "group",
        "legend": {
         "tracegroupgap": 0
        },
        "template": {
         "data": {
          "bar": [
           {
            "error_x": {
             "color": "#2a3f5f"
            },
            "error_y": {
             "color": "#2a3f5f"
            },
            "marker": {
             "line": {
              "color": "#E5ECF6",
              "width": 0.5
             },
             "pattern": {
              "fillmode": "overlay",
              "size": 10,
              "solidity": 0.2
             }
            },
            "type": "bar"
           }
          ],
          "barpolar": [
           {
            "marker": {
             "line": {
              "color": "#E5ECF6",
              "width": 0.5
             },
             "pattern": {
              "fillmode": "overlay",
              "size": 10,
              "solidity": 0.2
             }
            },
            "type": "barpolar"
           }
          ],
          "carpet": [
           {
            "aaxis": {
             "endlinecolor": "#2a3f5f",
             "gridcolor": "white",
             "linecolor": "white",
             "minorgridcolor": "white",
             "startlinecolor": "#2a3f5f"
            },
            "baxis": {
             "endlinecolor": "#2a3f5f",
             "gridcolor": "white",
             "linecolor": "white",
             "minorgridcolor": "white",
             "startlinecolor": "#2a3f5f"
            },
            "type": "carpet"
           }
          ],
          "choropleth": [
           {
            "colorbar": {
             "outlinewidth": 0,
             "ticks": ""
            },
            "type": "choropleth"
           }
          ],
          "contour": [
           {
            "colorbar": {
             "outlinewidth": 0,
             "ticks": ""
            },
            "colorscale": [
             [
              0,
              "#0d0887"
             ],
             [
              0.1111111111111111,
              "#46039f"
             ],
             [
              0.2222222222222222,
              "#7201a8"
             ],
             [
              0.3333333333333333,
              "#9c179e"
             ],
             [
              0.4444444444444444,
              "#bd3786"
             ],
             [
              0.5555555555555556,
              "#d8576b"
             ],
             [
              0.6666666666666666,
              "#ed7953"
             ],
             [
              0.7777777777777778,
              "#fb9f3a"
             ],
             [
              0.8888888888888888,
              "#fdca26"
             ],
             [
              1,
              "#f0f921"
             ]
            ],
            "type": "contour"
           }
          ],
          "contourcarpet": [
           {
            "colorbar": {
             "outlinewidth": 0,
             "ticks": ""
            },
            "type": "contourcarpet"
           }
          ],
          "heatmap": [
           {
            "colorbar": {
             "outlinewidth": 0,
             "ticks": ""
            },
            "colorscale": [
             [
              0,
              "#0d0887"
             ],
             [
              0.1111111111111111,
              "#46039f"
             ],
             [
              0.2222222222222222,
              "#7201a8"
             ],
             [
              0.3333333333333333,
              "#9c179e"
             ],
             [
              0.4444444444444444,
              "#bd3786"
             ],
             [
              0.5555555555555556,
              "#d8576b"
             ],
             [
              0.6666666666666666,
              "#ed7953"
             ],
             [
              0.7777777777777778,
              "#fb9f3a"
             ],
             [
              0.8888888888888888,
              "#fdca26"
             ],
             [
              1,
              "#f0f921"
             ]
            ],
            "type": "heatmap"
           }
          ],
          "heatmapgl": [
           {
            "colorbar": {
             "outlinewidth": 0,
             "ticks": ""
            },
            "colorscale": [
             [
              0,
              "#0d0887"
             ],
             [
              0.1111111111111111,
              "#46039f"
             ],
             [
              0.2222222222222222,
              "#7201a8"
             ],
             [
              0.3333333333333333,
              "#9c179e"
             ],
             [
              0.4444444444444444,
              "#bd3786"
             ],
             [
              0.5555555555555556,
              "#d8576b"
             ],
             [
              0.6666666666666666,
              "#ed7953"
             ],
             [
              0.7777777777777778,
              "#fb9f3a"
             ],
             [
              0.8888888888888888,
              "#fdca26"
             ],
             [
              1,
              "#f0f921"
             ]
            ],
            "type": "heatmapgl"
           }
          ],
          "histogram": [
           {
            "marker": {
             "pattern": {
              "fillmode": "overlay",
              "size": 10,
              "solidity": 0.2
             }
            },
            "type": "histogram"
           }
          ],
          "histogram2d": [
           {
            "colorbar": {
             "outlinewidth": 0,
             "ticks": ""
            },
            "colorscale": [
             [
              0,
              "#0d0887"
             ],
             [
              0.1111111111111111,
              "#46039f"
             ],
             [
              0.2222222222222222,
              "#7201a8"
             ],
             [
              0.3333333333333333,
              "#9c179e"
             ],
             [
              0.4444444444444444,
              "#bd3786"
             ],
             [
              0.5555555555555556,
              "#d8576b"
             ],
             [
              0.6666666666666666,
              "#ed7953"
             ],
             [
              0.7777777777777778,
              "#fb9f3a"
             ],
             [
              0.8888888888888888,
              "#fdca26"
             ],
             [
              1,
              "#f0f921"
             ]
            ],
            "type": "histogram2d"
           }
          ],
          "histogram2dcontour": [
           {
            "colorbar": {
             "outlinewidth": 0,
             "ticks": ""
            },
            "colorscale": [
             [
              0,
              "#0d0887"
             ],
             [
              0.1111111111111111,
              "#46039f"
             ],
             [
              0.2222222222222222,
              "#7201a8"
             ],
             [
              0.3333333333333333,
              "#9c179e"
             ],
             [
              0.4444444444444444,
              "#bd3786"
             ],
             [
              0.5555555555555556,
              "#d8576b"
             ],
             [
              0.6666666666666666,
              "#ed7953"
             ],
             [
              0.7777777777777778,
              "#fb9f3a"
             ],
             [
              0.8888888888888888,
              "#fdca26"
             ],
             [
              1,
              "#f0f921"
             ]
            ],
            "type": "histogram2dcontour"
           }
          ],
          "mesh3d": [
           {
            "colorbar": {
             "outlinewidth": 0,
             "ticks": ""
            },
            "type": "mesh3d"
           }
          ],
          "parcoords": [
           {
            "line": {
             "colorbar": {
              "outlinewidth": 0,
              "ticks": ""
             }
            },
            "type": "parcoords"
           }
          ],
          "pie": [
           {
            "automargin": true,
            "type": "pie"
           }
          ],
          "scatter": [
           {
            "fillpattern": {
             "fillmode": "overlay",
             "size": 10,
             "solidity": 0.2
            },
            "type": "scatter"
           }
          ],
          "scatter3d": [
           {
            "line": {
             "colorbar": {
              "outlinewidth": 0,
              "ticks": ""
             }
            },
            "marker": {
             "colorbar": {
              "outlinewidth": 0,
              "ticks": ""
             }
            },
            "type": "scatter3d"
           }
          ],
          "scattercarpet": [
           {
            "marker": {
             "colorbar": {
              "outlinewidth": 0,
              "ticks": ""
             }
            },
            "type": "scattercarpet"
           }
          ],
          "scattergeo": [
           {
            "marker": {
             "colorbar": {
              "outlinewidth": 0,
              "ticks": ""
             }
            },
            "type": "scattergeo"
           }
          ],
          "scattergl": [
           {
            "marker": {
             "colorbar": {
              "outlinewidth": 0,
              "ticks": ""
             }
            },
            "type": "scattergl"
           }
          ],
          "scattermapbox": [
           {
            "marker": {
             "colorbar": {
              "outlinewidth": 0,
              "ticks": ""
             }
            },
            "type": "scattermapbox"
           }
          ],
          "scatterpolar": [
           {
            "marker": {
             "colorbar": {
              "outlinewidth": 0,
              "ticks": ""
             }
            },
            "type": "scatterpolar"
           }
          ],
          "scatterpolargl": [
           {
            "marker": {
             "colorbar": {
              "outlinewidth": 0,
              "ticks": ""
             }
            },
            "type": "scatterpolargl"
           }
          ],
          "scatterternary": [
           {
            "marker": {
             "colorbar": {
              "outlinewidth": 0,
              "ticks": ""
             }
            },
            "type": "scatterternary"
           }
          ],
          "surface": [
           {
            "colorbar": {
             "outlinewidth": 0,
             "ticks": ""
            },
            "colorscale": [
             [
              0,
              "#0d0887"
             ],
             [
              0.1111111111111111,
              "#46039f"
             ],
             [
              0.2222222222222222,
              "#7201a8"
             ],
             [
              0.3333333333333333,
              "#9c179e"
             ],
             [
              0.4444444444444444,
              "#bd3786"
             ],
             [
              0.5555555555555556,
              "#d8576b"
             ],
             [
              0.6666666666666666,
              "#ed7953"
             ],
             [
              0.7777777777777778,
              "#fb9f3a"
             ],
             [
              0.8888888888888888,
              "#fdca26"
             ],
             [
              1,
              "#f0f921"
             ]
            ],
            "type": "surface"
           }
          ],
          "table": [
           {
            "cells": {
             "fill": {
              "color": "#EBF0F8"
             },
             "line": {
              "color": "white"
             }
            },
            "header": {
             "fill": {
              "color": "#C8D4E3"
             },
             "line": {
              "color": "white"
             }
            },
            "type": "table"
           }
          ]
         },
         "layout": {
          "annotationdefaults": {
           "arrowcolor": "#2a3f5f",
           "arrowhead": 0,
           "arrowwidth": 1
          },
          "autotypenumbers": "strict",
          "coloraxis": {
           "colorbar": {
            "outlinewidth": 0,
            "ticks": ""
           }
          },
          "colorscale": {
           "diverging": [
            [
             0,
             "#8e0152"
            ],
            [
             0.1,
             "#c51b7d"
            ],
            [
             0.2,
             "#de77ae"
            ],
            [
             0.3,
             "#f1b6da"
            ],
            [
             0.4,
             "#fde0ef"
            ],
            [
             0.5,
             "#f7f7f7"
            ],
            [
             0.6,
             "#e6f5d0"
            ],
            [
             0.7,
             "#b8e186"
            ],
            [
             0.8,
             "#7fbc41"
            ],
            [
             0.9,
             "#4d9221"
            ],
            [
             1,
             "#276419"
            ]
           ],
           "sequential": [
            [
             0,
             "#0d0887"
            ],
            [
             0.1111111111111111,
             "#46039f"
            ],
            [
             0.2222222222222222,
             "#7201a8"
            ],
            [
             0.3333333333333333,
             "#9c179e"
            ],
            [
             0.4444444444444444,
             "#bd3786"
            ],
            [
             0.5555555555555556,
             "#d8576b"
            ],
            [
             0.6666666666666666,
             "#ed7953"
            ],
            [
             0.7777777777777778,
             "#fb9f3a"
            ],
            [
             0.8888888888888888,
             "#fdca26"
            ],
            [
             1,
             "#f0f921"
            ]
           ],
           "sequentialminus": [
            [
             0,
             "#0d0887"
            ],
            [
             0.1111111111111111,
             "#46039f"
            ],
            [
             0.2222222222222222,
             "#7201a8"
            ],
            [
             0.3333333333333333,
             "#9c179e"
            ],
            [
             0.4444444444444444,
             "#bd3786"
            ],
            [
             0.5555555555555556,
             "#d8576b"
            ],
            [
             0.6666666666666666,
             "#ed7953"
            ],
            [
             0.7777777777777778,
             "#fb9f3a"
            ],
            [
             0.8888888888888888,
             "#fdca26"
            ],
            [
             1,
             "#f0f921"
            ]
           ]
          },
          "colorway": [
           "#636efa",
           "#EF553B",
           "#00cc96",
           "#ab63fa",
           "#FFA15A",
           "#19d3f3",
           "#FF6692",
           "#B6E880",
           "#FF97FF",
           "#FECB52"
          ],
          "font": {
           "color": "#2a3f5f"
          },
          "geo": {
           "bgcolor": "white",
           "lakecolor": "white",
           "landcolor": "#E5ECF6",
           "showlakes": true,
           "showland": true,
           "subunitcolor": "white"
          },
          "hoverlabel": {
           "align": "left"
          },
          "hovermode": "closest",
          "mapbox": {
           "style": "light"
          },
          "paper_bgcolor": "white",
          "plot_bgcolor": "#E5ECF6",
          "polar": {
           "angularaxis": {
            "gridcolor": "white",
            "linecolor": "white",
            "ticks": ""
           },
           "bgcolor": "#E5ECF6",
           "radialaxis": {
            "gridcolor": "white",
            "linecolor": "white",
            "ticks": ""
           }
          },
          "scene": {
           "xaxis": {
            "backgroundcolor": "#E5ECF6",
            "gridcolor": "white",
            "gridwidth": 2,
            "linecolor": "white",
            "showbackground": true,
            "ticks": "",
            "zerolinecolor": "white"
           },
           "yaxis": {
            "backgroundcolor": "#E5ECF6",
            "gridcolor": "white",
            "gridwidth": 2,
            "linecolor": "white",
            "showbackground": true,
            "ticks": "",
            "zerolinecolor": "white"
           },
           "zaxis": {
            "backgroundcolor": "#E5ECF6",
            "gridcolor": "white",
            "gridwidth": 2,
            "linecolor": "white",
            "showbackground": true,
            "ticks": "",
            "zerolinecolor": "white"
           }
          },
          "shapedefaults": {
           "line": {
            "color": "#2a3f5f"
           }
          },
          "ternary": {
           "aaxis": {
            "gridcolor": "white",
            "linecolor": "white",
            "ticks": ""
           },
           "baxis": {
            "gridcolor": "white",
            "linecolor": "white",
            "ticks": ""
           },
           "bgcolor": "#E5ECF6",
           "caxis": {
            "gridcolor": "white",
            "linecolor": "white",
            "ticks": ""
           }
          },
          "title": {
           "x": 0.05
          },
          "xaxis": {
           "automargin": true,
           "gridcolor": "white",
           "linecolor": "white",
           "ticks": "",
           "title": {
            "standoff": 15
           },
           "zerolinecolor": "white",
           "zerolinewidth": 2
          },
          "yaxis": {
           "automargin": true,
           "gridcolor": "white",
           "linecolor": "white",
           "ticks": "",
           "title": {
            "standoff": 15
           },
           "zerolinecolor": "white",
           "zerolinewidth": 2
          }
         }
        },
        "title": {
         "text": "duration ~ kind"
        },
        "xaxis": {
         "anchor": "y",
         "categoryarray": [
          "short",
          "long"
         ],
         "categoryorder": "array",
         "domain": [
          0,
          1
         ],
         "title": {
          "text": "kind"
         }
        },
        "yaxis": {
         "anchor": "x",
         "domain": [
          0,
          1
         ],
         "title": {
          "text": "duration"
         }
        }
       }
      },
      "text/html": [
       "<div>                            <div id=\"3b39dd69-520b-444f-b0ee-0c429f8bef43\" class=\"plotly-graph-div\" style=\"height:525px; width:100%;\"></div>            <script type=\"text/javascript\">                require([\"plotly\"], function(Plotly) {                    window.PLOTLYENV=window.PLOTLYENV || {};                                    if (document.getElementById(\"3b39dd69-520b-444f-b0ee-0c429f8bef43\")) {                    Plotly.newPlot(                        \"3b39dd69-520b-444f-b0ee-0c429f8bef43\",                        [{\"alignmentgroup\":\"True\",\"hovertemplate\":\"kind=%{x}\\u003cbr\\u003eduration=%{y}\\u003cextra\\u003e\\u003c\\u002fextra\\u003e\",\"legendgroup\":\"\",\"marker\":{\"color\":\"#636efa\"},\"name\":\"\",\"notched\":false,\"offsetgroup\":\"\",\"orientation\":\"v\",\"showlegend\":false,\"x\":[\"long\",\"short\",\"long\",\"short\",\"long\",\"short\",\"long\",\"long\",\"short\",\"long\",\"short\",\"long\",\"long\",\"short\",\"long\",\"short\",\"short\",\"long\",\"short\",\"long\",\"short\",\"short\",\"long\",\"long\",\"long\",\"long\",\"short\",\"long\",\"long\",\"long\",\"long\",\"long\",\"short\",\"long\",\"long\",\"short\",\"short\",\"long\",\"short\",\"long\",\"long\",\"short\",\"long\",\"short\",\"long\",\"long\",\"short\",\"short\",\"long\",\"short\",\"long\",\"long\",\"short\",\"long\",\"short\",\"long\",\"long\",\"short\",\"long\",\"long\",\"short\",\"long\",\"short\",\"long\",\"short\",\"long\",\"long\",\"long\",\"short\",\"long\",\"long\",\"short\",\"long\",\"long\",\"short\",\"long\",\"short\",\"long\",\"long\",\"long\",\"long\",\"long\",\"long\",\"short\",\"long\",\"long\",\"long\",\"long\",\"short\",\"long\",\"short\",\"long\",\"short\",\"long\",\"short\",\"long\",\"long\",\"long\",\"short\",\"long\",\"short\",\"long\",\"short\",\"long\",\"long\",\"short\",\"long\",\"short\",\"long\",\"long\",\"long\",\"short\",\"long\",\"long\",\"short\",\"long\",\"short\",\"long\",\"short\",\"long\",\"short\",\"long\",\"long\",\"short\",\"long\",\"long\",\"short\",\"long\",\"short\",\"long\",\"short\",\"long\",\"short\",\"long\",\"short\",\"long\",\"short\",\"long\",\"short\",\"long\",\"long\",\"short\",\"long\",\"long\",\"long\",\"short\",\"long\",\"short\",\"long\",\"short\",\"long\",\"long\",\"short\",\"long\",\"long\",\"long\",\"long\",\"long\",\"short\",\"long\",\"short\",\"long\",\"short\",\"long\",\"short\",\"long\",\"short\",\"long\",\"short\",\"long\",\"short\",\"short\",\"long\",\"long\",\"long\",\"long\",\"long\",\"short\",\"long\",\"long\",\"short\",\"long\",\"long\",\"long\",\"short\",\"long\",\"long\",\"short\",\"long\",\"short\",\"long\",\"short\",\"long\",\"long\",\"long\",\"long\",\"long\",\"long\",\"short\",\"long\",\"short\",\"long\",\"long\",\"short\",\"long\",\"short\",\"long\",\"long\",\"short\",\"long\",\"long\",\"long\",\"short\",\"long\",\"short\",\"long\",\"short\",\"long\",\"short\",\"long\",\"short\",\"long\",\"short\",\"long\",\"long\",\"long\",\"long\",\"long\",\"long\",\"long\",\"long\",\"short\",\"long\",\"short\",\"long\",\"short\",\"short\",\"long\",\"long\",\"short\",\"long\",\"short\",\"long\",\"short\",\"long\",\"long\",\"short\",\"long\",\"short\",\"long\",\"short\",\"long\",\"long\",\"long\",\"long\",\"long\",\"long\",\"long\",\"short\",\"long\",\"long\",\"long\",\"short\",\"long\",\"short\",\"short\",\"long\",\"long\",\"short\",\"long\",\"short\",\"long\"],\"x0\":\" \",\"xaxis\":\"x\",\"y\":[3.6,1.8,3.333,2.283,4.533,2.883,4.7,3.6,1.95,4.35,1.833,3.917,4.2,1.75,4.7,2.167,1.75,4.8,1.6,4.25,1.8,1.75,3.45,3.067,4.533,3.6,1.967,4.083,3.85,4.433,4.3,4.467,3.367,4.033,3.833,2.017,1.867,4.833,1.833,4.783,4.35,1.883,4.567,1.75,4.533,3.317,3.833,2.1,4.633,2.0,4.8,4.716,1.833,4.833,1.733,4.883,3.717,1.6669999999999998,4.567,4.317,2.233,4.5,1.75,4.8,1.817,4.4,4.167,4.7,2.067,4.7,4.033,1.967,4.5,4.0,1.983,5.067,2.017,4.567,3.883,3.6,4.133,4.333,4.1,2.633,4.067,4.933,3.95,4.517,2.167,4.0,2.2,4.333,1.867,4.817,1.833,4.3,4.667,3.75,1.867,4.9,2.483,4.367,2.1,4.5,4.05,1.867,4.7,1.783,4.85,3.683,4.7330000000000005,2.3,4.9,4.417,1.7,4.633,2.317,4.6,1.817,4.417,2.617,4.067,4.25,1.967,4.6,3.767,1.917,4.5,2.267,4.65,1.867,4.167,2.8,4.333,1.833,4.383,1.883,4.933,2.033,3.733,4.2330000000000005,2.233,4.533,4.817,4.333,1.983,4.633,2.017,5.1,1.8,5.033,4.0,2.4,4.6,3.567,4.0,4.5,4.083,1.8,3.967,2.2,4.15,2.0,3.833,3.5,4.583,2.367,5.0,1.933,4.617,1.917,2.083,4.583,3.333,4.167,4.333,4.5,2.417,4.0,4.167,1.883,4.583,4.25,3.767,2.033,4.433,4.083,1.833,4.417,2.1830000000000003,4.8,1.833,4.8,4.1,3.966,4.2330000000000005,3.5,4.3660000000000005,2.25,4.667,2.1,4.35,4.133,1.867,4.6,1.783,4.367,3.85,1.933,4.5,2.383,4.7,1.867,3.833,3.417,4.2330000000000005,2.4,4.8,2.0,4.15,1.867,4.267,1.75,4.4830000000000005,4.0,4.117,4.083,4.267,3.917,4.55,4.083,2.417,4.183,2.217,4.45,1.883,1.85,4.283,3.95,2.333,4.15,2.35,4.933,2.9,4.583,3.833,2.083,4.367,2.133,4.35,2.2,4.45,3.567,4.5,4.15,3.817,3.917,4.45,2.0,4.283,4.767,4.533,1.85,4.25,1.983,2.25,4.75,4.117,2.15,4.417,1.817,4.467],\"y0\":\" \",\"yaxis\":\"y\",\"type\":\"box\"}],                        {\"template\":{\"data\":{\"histogram2dcontour\":[{\"type\":\"histogram2dcontour\",\"colorbar\":{\"outlinewidth\":0,\"ticks\":\"\"},\"colorscale\":[[0.0,\"#0d0887\"],[0.1111111111111111,\"#46039f\"],[0.2222222222222222,\"#7201a8\"],[0.3333333333333333,\"#9c179e\"],[0.4444444444444444,\"#bd3786\"],[0.5555555555555556,\"#d8576b\"],[0.6666666666666666,\"#ed7953\"],[0.7777777777777778,\"#fb9f3a\"],[0.8888888888888888,\"#fdca26\"],[1.0,\"#f0f921\"]]}],\"choropleth\":[{\"type\":\"choropleth\",\"colorbar\":{\"outlinewidth\":0,\"ticks\":\"\"}}],\"histogram2d\":[{\"type\":\"histogram2d\",\"colorbar\":{\"outlinewidth\":0,\"ticks\":\"\"},\"colorscale\":[[0.0,\"#0d0887\"],[0.1111111111111111,\"#46039f\"],[0.2222222222222222,\"#7201a8\"],[0.3333333333333333,\"#9c179e\"],[0.4444444444444444,\"#bd3786\"],[0.5555555555555556,\"#d8576b\"],[0.6666666666666666,\"#ed7953\"],[0.7777777777777778,\"#fb9f3a\"],[0.8888888888888888,\"#fdca26\"],[1.0,\"#f0f921\"]]}],\"heatmap\":[{\"type\":\"heatmap\",\"colorbar\":{\"outlinewidth\":0,\"ticks\":\"\"},\"colorscale\":[[0.0,\"#0d0887\"],[0.1111111111111111,\"#46039f\"],[0.2222222222222222,\"#7201a8\"],[0.3333333333333333,\"#9c179e\"],[0.4444444444444444,\"#bd3786\"],[0.5555555555555556,\"#d8576b\"],[0.6666666666666666,\"#ed7953\"],[0.7777777777777778,\"#fb9f3a\"],[0.8888888888888888,\"#fdca26\"],[1.0,\"#f0f921\"]]}],\"heatmapgl\":[{\"type\":\"heatmapgl\",\"colorbar\":{\"outlinewidth\":0,\"ticks\":\"\"},\"colorscale\":[[0.0,\"#0d0887\"],[0.1111111111111111,\"#46039f\"],[0.2222222222222222,\"#7201a8\"],[0.3333333333333333,\"#9c179e\"],[0.4444444444444444,\"#bd3786\"],[0.5555555555555556,\"#d8576b\"],[0.6666666666666666,\"#ed7953\"],[0.7777777777777778,\"#fb9f3a\"],[0.8888888888888888,\"#fdca26\"],[1.0,\"#f0f921\"]]}],\"contourcarpet\":[{\"type\":\"contourcarpet\",\"colorbar\":{\"outlinewidth\":0,\"ticks\":\"\"}}],\"contour\":[{\"type\":\"contour\",\"colorbar\":{\"outlinewidth\":0,\"ticks\":\"\"},\"colorscale\":[[0.0,\"#0d0887\"],[0.1111111111111111,\"#46039f\"],[0.2222222222222222,\"#7201a8\"],[0.3333333333333333,\"#9c179e\"],[0.4444444444444444,\"#bd3786\"],[0.5555555555555556,\"#d8576b\"],[0.6666666666666666,\"#ed7953\"],[0.7777777777777778,\"#fb9f3a\"],[0.8888888888888888,\"#fdca26\"],[1.0,\"#f0f921\"]]}],\"surface\":[{\"type\":\"surface\",\"colorbar\":{\"outlinewidth\":0,\"ticks\":\"\"},\"colorscale\":[[0.0,\"#0d0887\"],[0.1111111111111111,\"#46039f\"],[0.2222222222222222,\"#7201a8\"],[0.3333333333333333,\"#9c179e\"],[0.4444444444444444,\"#bd3786\"],[0.5555555555555556,\"#d8576b\"],[0.6666666666666666,\"#ed7953\"],[0.7777777777777778,\"#fb9f3a\"],[0.8888888888888888,\"#fdca26\"],[1.0,\"#f0f921\"]]}],\"mesh3d\":[{\"type\":\"mesh3d\",\"colorbar\":{\"outlinewidth\":0,\"ticks\":\"\"}}],\"scatter\":[{\"fillpattern\":{\"fillmode\":\"overlay\",\"size\":10,\"solidity\":0.2},\"type\":\"scatter\"}],\"parcoords\":[{\"type\":\"parcoords\",\"line\":{\"colorbar\":{\"outlinewidth\":0,\"ticks\":\"\"}}}],\"scatterpolargl\":[{\"type\":\"scatterpolargl\",\"marker\":{\"colorbar\":{\"outlinewidth\":0,\"ticks\":\"\"}}}],\"bar\":[{\"error_x\":{\"color\":\"#2a3f5f\"},\"error_y\":{\"color\":\"#2a3f5f\"},\"marker\":{\"line\":{\"color\":\"#E5ECF6\",\"width\":0.5},\"pattern\":{\"fillmode\":\"overlay\",\"size\":10,\"solidity\":0.2}},\"type\":\"bar\"}],\"scattergeo\":[{\"type\":\"scattergeo\",\"marker\":{\"colorbar\":{\"outlinewidth\":0,\"ticks\":\"\"}}}],\"scatterpolar\":[{\"type\":\"scatterpolar\",\"marker\":{\"colorbar\":{\"outlinewidth\":0,\"ticks\":\"\"}}}],\"histogram\":[{\"marker\":{\"pattern\":{\"fillmode\":\"overlay\",\"size\":10,\"solidity\":0.2}},\"type\":\"histogram\"}],\"scattergl\":[{\"type\":\"scattergl\",\"marker\":{\"colorbar\":{\"outlinewidth\":0,\"ticks\":\"\"}}}],\"scatter3d\":[{\"type\":\"scatter3d\",\"line\":{\"colorbar\":{\"outlinewidth\":0,\"ticks\":\"\"}},\"marker\":{\"colorbar\":{\"outlinewidth\":0,\"ticks\":\"\"}}}],\"scattermapbox\":[{\"type\":\"scattermapbox\",\"marker\":{\"colorbar\":{\"outlinewidth\":0,\"ticks\":\"\"}}}],\"scatterternary\":[{\"type\":\"scatterternary\",\"marker\":{\"colorbar\":{\"outlinewidth\":0,\"ticks\":\"\"}}}],\"scattercarpet\":[{\"type\":\"scattercarpet\",\"marker\":{\"colorbar\":{\"outlinewidth\":0,\"ticks\":\"\"}}}],\"carpet\":[{\"aaxis\":{\"endlinecolor\":\"#2a3f5f\",\"gridcolor\":\"white\",\"linecolor\":\"white\",\"minorgridcolor\":\"white\",\"startlinecolor\":\"#2a3f5f\"},\"baxis\":{\"endlinecolor\":\"#2a3f5f\",\"gridcolor\":\"white\",\"linecolor\":\"white\",\"minorgridcolor\":\"white\",\"startlinecolor\":\"#2a3f5f\"},\"type\":\"carpet\"}],\"table\":[{\"cells\":{\"fill\":{\"color\":\"#EBF0F8\"},\"line\":{\"color\":\"white\"}},\"header\":{\"fill\":{\"color\":\"#C8D4E3\"},\"line\":{\"color\":\"white\"}},\"type\":\"table\"}],\"barpolar\":[{\"marker\":{\"line\":{\"color\":\"#E5ECF6\",\"width\":0.5},\"pattern\":{\"fillmode\":\"overlay\",\"size\":10,\"solidity\":0.2}},\"type\":\"barpolar\"}],\"pie\":[{\"automargin\":true,\"type\":\"pie\"}]},\"layout\":{\"autotypenumbers\":\"strict\",\"colorway\":[\"#636efa\",\"#EF553B\",\"#00cc96\",\"#ab63fa\",\"#FFA15A\",\"#19d3f3\",\"#FF6692\",\"#B6E880\",\"#FF97FF\",\"#FECB52\"],\"font\":{\"color\":\"#2a3f5f\"},\"hovermode\":\"closest\",\"hoverlabel\":{\"align\":\"left\"},\"paper_bgcolor\":\"white\",\"plot_bgcolor\":\"#E5ECF6\",\"polar\":{\"bgcolor\":\"#E5ECF6\",\"angularaxis\":{\"gridcolor\":\"white\",\"linecolor\":\"white\",\"ticks\":\"\"},\"radialaxis\":{\"gridcolor\":\"white\",\"linecolor\":\"white\",\"ticks\":\"\"}},\"ternary\":{\"bgcolor\":\"#E5ECF6\",\"aaxis\":{\"gridcolor\":\"white\",\"linecolor\":\"white\",\"ticks\":\"\"},\"baxis\":{\"gridcolor\":\"white\",\"linecolor\":\"white\",\"ticks\":\"\"},\"caxis\":{\"gridcolor\":\"white\",\"linecolor\":\"white\",\"ticks\":\"\"}},\"coloraxis\":{\"colorbar\":{\"outlinewidth\":0,\"ticks\":\"\"}},\"colorscale\":{\"sequential\":[[0.0,\"#0d0887\"],[0.1111111111111111,\"#46039f\"],[0.2222222222222222,\"#7201a8\"],[0.3333333333333333,\"#9c179e\"],[0.4444444444444444,\"#bd3786\"],[0.5555555555555556,\"#d8576b\"],[0.6666666666666666,\"#ed7953\"],[0.7777777777777778,\"#fb9f3a\"],[0.8888888888888888,\"#fdca26\"],[1.0,\"#f0f921\"]],\"sequentialminus\":[[0.0,\"#0d0887\"],[0.1111111111111111,\"#46039f\"],[0.2222222222222222,\"#7201a8\"],[0.3333333333333333,\"#9c179e\"],[0.4444444444444444,\"#bd3786\"],[0.5555555555555556,\"#d8576b\"],[0.6666666666666666,\"#ed7953\"],[0.7777777777777778,\"#fb9f3a\"],[0.8888888888888888,\"#fdca26\"],[1.0,\"#f0f921\"]],\"diverging\":[[0,\"#8e0152\"],[0.1,\"#c51b7d\"],[0.2,\"#de77ae\"],[0.3,\"#f1b6da\"],[0.4,\"#fde0ef\"],[0.5,\"#f7f7f7\"],[0.6,\"#e6f5d0\"],[0.7,\"#b8e186\"],[0.8,\"#7fbc41\"],[0.9,\"#4d9221\"],[1,\"#276419\"]]},\"xaxis\":{\"gridcolor\":\"white\",\"linecolor\":\"white\",\"ticks\":\"\",\"title\":{\"standoff\":15},\"zerolinecolor\":\"white\",\"automargin\":true,\"zerolinewidth\":2},\"yaxis\":{\"gridcolor\":\"white\",\"linecolor\":\"white\",\"ticks\":\"\",\"title\":{\"standoff\":15},\"zerolinecolor\":\"white\",\"automargin\":true,\"zerolinewidth\":2},\"scene\":{\"xaxis\":{\"backgroundcolor\":\"#E5ECF6\",\"gridcolor\":\"white\",\"linecolor\":\"white\",\"showbackground\":true,\"ticks\":\"\",\"zerolinecolor\":\"white\",\"gridwidth\":2},\"yaxis\":{\"backgroundcolor\":\"#E5ECF6\",\"gridcolor\":\"white\",\"linecolor\":\"white\",\"showbackground\":true,\"ticks\":\"\",\"zerolinecolor\":\"white\",\"gridwidth\":2},\"zaxis\":{\"backgroundcolor\":\"#E5ECF6\",\"gridcolor\":\"white\",\"linecolor\":\"white\",\"showbackground\":true,\"ticks\":\"\",\"zerolinecolor\":\"white\",\"gridwidth\":2}},\"shapedefaults\":{\"line\":{\"color\":\"#2a3f5f\"}},\"annotationdefaults\":{\"arrowcolor\":\"#2a3f5f\",\"arrowhead\":0,\"arrowwidth\":1},\"geo\":{\"bgcolor\":\"white\",\"landcolor\":\"#E5ECF6\",\"subunitcolor\":\"white\",\"showland\":true,\"showlakes\":true,\"lakecolor\":\"white\"},\"title\":{\"x\":0.05},\"mapbox\":{\"style\":\"light\"}}},\"xaxis\":{\"anchor\":\"y\",\"domain\":[0.0,1.0],\"title\":{\"text\":\"kind\"},\"categoryorder\":\"array\",\"categoryarray\":[\"short\",\"long\"]},\"yaxis\":{\"anchor\":\"x\",\"domain\":[0.0,1.0],\"title\":{\"text\":\"duration\"}},\"legend\":{\"tracegroupgap\":0},\"title\":{\"text\":\"duration ~ kind\"},\"boxmode\":\"group\"},                        {\"responsive\": true}                    ).then(function(){\n",
       "                            \n",
       "var gd = document.getElementById('3b39dd69-520b-444f-b0ee-0c429f8bef43');\n",
       "var x = new MutationObserver(function (mutations, observer) {{\n",
       "        var display = window.getComputedStyle(gd).display;\n",
       "        if (!display || display === 'none') {{\n",
       "            console.log([gd, 'removed!']);\n",
       "            Plotly.purge(gd);\n",
       "            observer.disconnect();\n",
       "        }}\n",
       "}});\n",
       "\n",
       "// Listen for the removal of the full notebook cells\n",
       "var notebookContainer = gd.closest('#notebook-container');\n",
       "if (notebookContainer) {{\n",
       "    x.observe(notebookContainer, {childList: true});\n",
       "}}\n",
       "\n",
       "// Listen for the clearing of the current output cell\n",
       "var outputEl = gd.closest('.output');\n",
       "if (outputEl) {{\n",
       "    x.observe(outputEl, {childList: true});\n",
       "}}\n",
       "\n",
       "                        })                };                });            </script>        </div>"
      ]
     },
     "metadata": {},
     "output_type": "display_data"
    }
   ],
   "source": [
    "from IPython.display import display\n",
    "\n",
    "display(smf.ols('duration ~ C(kind, Treatment(reference=\"short\"))', data=old_faithful).fit().summary().tables[1])\n",
    "\n",
    "fig = px.box(old_faithful, x='kind', y='duration', \n",
    "             title='duration ~ kind',\n",
    "             category_orders={'kind': ['short', 'long']})\n",
    "fig.show() # USE `fig.show(renderer=\"png\")` FOR ALL GitHub and MarkUs SUBMISSIONS"
   ]
  },
  {
   "cell_type": "markdown",
   "id": "9b7647b5",
   "metadata": {},
   "source": []
  },
  {
   "cell_type": "markdown",
   "id": "3fee975f",
   "metadata": {},
   "source": [
    "<details class=\"details-example\"><summary style=\"color:blue\"><u>Further Guidance</u></summary>\n",
    "\n",
    "> _Don't forget to ask for summaries of all your different ChatBot sessions and organize and paste these into your homework notebook (including link(s) to chat log histories if you're using ChatBot) But if you're using the STA130 custom NBLM ChatBot, you'll only be able to ask for summaries, of course!_  \n",
    "</details>"
   ]
  },
  {
   "cell_type": "markdown",
   "id": "0f288839",
   "metadata": {},
   "source": [
    "### 12. Identify which of the histograms suggests the plausibility of the assumption that the distribution of *error* terms is normal for each of the models, and explain why the other three do not support this assumption.\n",
    "\n",
    "> Hint: Question 5 of the *Communication Activity #2* of the Oct25 TUT (addressing an *omitted* section of the TUT) discusses how the assumption in *Simple Linear Regression* that the *error* terms $\\epsilon_i \\sim \\mathcal N\\left(0, \\sigma\\right)$ is diagnostically assessed by evaluating distributional shape of the *residuals* $\\text{e}_i = \\hat \\epsilon_i = Y_i - \\hat y_i$\n"
   ]
  },
  {
   "cell_type": "code",
   "execution_count": 46,
   "id": "337e3a5f",
   "metadata": {
    "scrolled": false
   },
   "outputs": [
    {
     "data": {
      "application/vnd.plotly.v1+json": {
       "config": {
        "plotlyServerURL": "https://plot.ly"
       },
       "data": [
        {
         "histnorm": "probability density",
         "name": "<br>Model 1:<br>All Data using slope",
         "type": "histogram",
         "x": [
          -0.5005919017864158,
          -0.40989320298984855,
          -0.38945216202710187,
          -0.5319167866047501,
          -0.021359589497591536,
          0.5974788490582887,
          -0.08124343335318063,
          -0.9543595894975918,
          -0.033009359134260174,
          -0.20435958949759225,
          -0.37689320298984863,
          -0.5617316415457303,
          0.17503604616544788,
          0.06950243267319056,
          0.2968963064061336,
          0.10836269291387701,
          -1.06491678660475,
          0.3212683584542697,
          -0.4586373070861227,
          0.14940809821358414,
          -0.18300935913426009,
          0.06950243267319056,
          -0.5749639538345521,
          -0.2773124222677885,
          0.8105478379728983,
          -0.8031036935938665,
          -0.3185211509417112,
          0.2092919420691728,
          -0.1749639538345522,
          0.33240809821358397,
          0.6531757859247604,
          0.5176639941173096,
          0.24957142158779932,
          -0.14321984973827728,
          0.11054783797289813,
          -0.0416373070861229,
          0.11087448472132788,
          0.6567801502617225,
          -0.755032942749162,
          -0.1494993292569058,
          0.173780150261722,
          -0.6294049947972993,
          0.08826835845427006,
          -0.7624049947972993,
          0.886175785924761,
          -1.0861036935938664,
          0.8668273174915249,
          -0.03426525503798583,
          0.30552425435799524,
          -0.588032942749162,
          1.001919890021035,
          -0.21649932925690596,
          -0.37689320298984863,
          0.6567801502617225,
          -0.4768932029898485,
          0.47989630640613345,
          0.22143168182848605,
          -1.2991726825084755,
          0.6176639941173101,
          0.06515220230985896,
          -0.35503294274916186,
          0.021268358454269887,
          -0.006125515278672111,
          0.47252425435799505,
          -0.8466608907010247,
          -0.6837552251606311,
          0.14203604616544752,
          0.6750360461654479,
          -0.9748006304603378,
          1.0531757859247608,
          -0.2944757456420044,
          -0.39414909889357386,
          0.39940809821358414,
          0.504431681828486,
          -0.8319167866047499,
          1.1932919420691728,
          -0.6466608907010247,
          0.5420360461654479,
          0.00929194206917261,
          -0.8031036935938665,
          0.3349198900210353,
          0.005524254357995417,
          0.6800596297803483,
          -0.408800630460338,
          0.4201757859247608,
          0.15175656664681902,
          0.07629194206917278,
          0.3407801502617227,
          0.4108744847213277,
          -0.6299875374494555,
          -0.46366089070102445,
          -0.599499329256906,
          -0.040381411182397464,
          0.7920360461654479,
          -1.0575447345566127,
          0.7288037338766231,
          0.1882683584542697,
          -0.048080109978964725,
          -0.11600935913426014,
          0.5725242543579956,
          -0.3319167866047499,
          -0.4142434333531808,
          0.2682465367694653,
          0.09689630640613345,
          -0.20184779769014138,
          0.18650243267319055,
          0.22126835845427006,
          -0.2756373070861229,
          0.22001246255054419,
          -0.5688477976901414,
          0.9349198900210358,
          -0.28803294274916214,
          0.043128618694957765,
          0.31640809821358395,
          -0.888032942749162,
          0.3811522023098588,
          0.4096185888176027,
          0.04564041050240775,
          -0.771032942749162,
          -0.28861548540131743,
          0.4827347449620141,
          0.7226875777322115,
          0.30066399411730993,
          -0.39414909889357386,
          -0.18124343335318116,
          -0.4848477976901413,
          0.38775832857691594,
          0.17252425435799523,
          -0.018521150941711362,
          -0.2824993292569058,
          0.3377583285769159,
          -0.23610369359386674,
          0.4388509011064259,
          -0.5238713813050424,
          0.2281303806250532,
          0.05552425435799524,
          -0.10000935913426012,
          0.30301246255054437,
          -0.101265255037986,
          -0.36759190178641576,
          -0.018847797690140666,
          -0.43066089070102453,
          0.2055242543579956,
          0.8676639941173101,
          0.4592919420691728,
          -0.6050329427491619,
          0.45678015026172236,
          0.18524653676946512,
          -0.28626701696808254,
          -0.3342652550379859,
          1.0836639941173103,
          0.05066399411730993,
          -0.6418006304603381,
          0.34815220230985844,
          0.07143168182848614,
          0.5800596297803486,
          0.2481522023098588,
          -1.076383173112493,
          -0.3342652550379859,
          -0.8898713813050425,
          0.6707583285769161,
          -0.4799875374494551,
          -0.5124049947972993,
          -0.19196395383455211,
          0.38257142158779933,
          0.7092919420691728,
          -0.5235447345566127,
          0.2187565666468192,
          -0.12563730708612275,
          -0.5423831731124933,
          0.08524653676946525,
          -0.3537770468454364,
          0.6336639941173101,
          0.06431552568407417,
          -0.08484779769014139,
          0.08115220230985898,
          0.8531757859247606,
          0.5096185888176024,
          -0.5543595894975919,
          0.44454783797289776,
          -0.40252115094171126,
          0.6336639941173101,
          -0.15310369359386655,
          -0.6361036935938666,
          0.04999064086573979,
          0.40803604616544753,
          -0.39573164154572993,
          0.2281303806250532,
          0.013896306406133263,
          -0.10252115094171099,
          0.5481522023098586,
          -0.6037770468454366,
          0.9262919420691724,
          -0.37873164154573047,
          0.01666399411731012,
          -0.018847797690140666,
          -1.2056154854013172,
          0.4166639941173105,
          0.26699064086573987,
          0.6420360461654475,
          -0.5636608907010245,
          0.022524254357994877,
          -0.8751272772087679,
          -0.2672652550379859,
          0.5750360461654473,
          0.17813038062505315,
          0.4176639941173099,
          -0.62873164154573,
          0.10124653676946527,
          0.09689630640613345,
          -1.112568318171514,
          0.5237801502617225,
          0.03524653676946521,
          0.03491989002103546,
          0.4508273174915245,
          0.35929194206917314,
          0.265734744962014,
          -0.435011121064357,
          -0.28552115094171127,
          0.27629194206917296,
          -0.040381411182397464,
          -0.06047574564200442,
          -0.4598932029898486,
          0.6849198900210358,
          -0.0249639538345523,
          0.016408098213584132,
          0.058036046165447885,
          0.24203604616544805,
          0.49705962978034846,
          0.44940809821358396,
          0.6630596297803488,
          0.20710679701015122,
          -0.44698753744945563,
          0.3096185888176026,
          -0.482499329256906,
          -0.3268932029898486,
          -0.3598932029898485,
          0.3336639941173103,
          -0.15059190178641568,
          -0.6331726825084751,
          0.35191989002103563,
          0.6695024326731907,
          0.30301246255054437,
          0.009455265443387262,
          0.028640410502408287,
          -0.4944757456420046,
          -0.3537770468454364,
          0.039524254357995225,
          -1.0600565263640633,
          0.6275478379728976,
          -0.009893202989848415,
          0.046896306406133625,
          -0.07982421407523921,
          0.8531757859247606,
          -0.6312434333531804,
          -0.3592198497382775,
          0.4214316818284858,
          0.046896306406133625,
          -0.36114909889357394,
          0.1824080982135845,
          0.742036046165448,
          0.05426835845427025,
          -0.6624049947972992,
          -0.15310369359386655,
          0.6050142244806413,
          -0.41366089070102463,
          0.9519198900210353,
          -0.1348477976901412,
          0.5451303806250531,
          -0.5154993292569063,
          0.21213038062505318,
          0.7445478379728976
         ],
         "xaxis": "x",
         "xbins": {
          "end": 1.95,
          "size": 0.3,
          "start": -1.95
         },
         "yaxis": "y"
        },
        {
         "line": {
          "color": "black",
          "dash": "dot",
          "width": 2
         },
         "mode": "lines",
         "name": "Normal Distribution<br>(99.7% of its area)",
         "opacity": 0.5,
         "type": "scatter",
         "x": [
          -1.4867880403088838,
          -1.4767880403088838,
          -1.4667880403088838,
          -1.4567880403088838,
          -1.4467880403088837,
          -1.4367880403088837,
          -1.4267880403088837,
          -1.4167880403088837,
          -1.4067880403088837,
          -1.3967880403088837,
          -1.3867880403088837,
          -1.3767880403088837,
          -1.3667880403088837,
          -1.3567880403088837,
          -1.3467880403088837,
          -1.3367880403088837,
          -1.3267880403088836,
          -1.3167880403088836,
          -1.3067880403088836,
          -1.2967880403088836,
          -1.2867880403088836,
          -1.2767880403088836,
          -1.2667880403088836,
          -1.2567880403088836,
          -1.2467880403088836,
          -1.2367880403088836,
          -1.2267880403088836,
          -1.2167880403088835,
          -1.2067880403088835,
          -1.1967880403088835,
          -1.1867880403088835,
          -1.1767880403088835,
          -1.1667880403088835,
          -1.1567880403088835,
          -1.1467880403088835,
          -1.1367880403088835,
          -1.1267880403088835,
          -1.1167880403088835,
          -1.1067880403088834,
          -1.0967880403088834,
          -1.0867880403088834,
          -1.0767880403088834,
          -1.0667880403088834,
          -1.0567880403088834,
          -1.0467880403088834,
          -1.0367880403088834,
          -1.0267880403088834,
          -1.0167880403088834,
          -1.0067880403088834,
          -0.9967880403088833,
          -0.9867880403088833,
          -0.9767880403088833,
          -0.9667880403088833,
          -0.9567880403088833,
          -0.9467880403088833,
          -0.9367880403088833,
          -0.9267880403088833,
          -0.9167880403088833,
          -0.9067880403088833,
          -0.8967880403088833,
          -0.8867880403088833,
          -0.8767880403088832,
          -0.8667880403088832,
          -0.8567880403088832,
          -0.8467880403088832,
          -0.8367880403088832,
          -0.8267880403088832,
          -0.8167880403088832,
          -0.8067880403088832,
          -0.7967880403088832,
          -0.7867880403088832,
          -0.7767880403088832,
          -0.7667880403088831,
          -0.7567880403088831,
          -0.7467880403088831,
          -0.7367880403088831,
          -0.7267880403088831,
          -0.7167880403088831,
          -0.7067880403088831,
          -0.6967880403088831,
          -0.6867880403088831,
          -0.6767880403088831,
          -0.6667880403088831,
          -0.656788040308883,
          -0.646788040308883,
          -0.636788040308883,
          -0.626788040308883,
          -0.616788040308883,
          -0.606788040308883,
          -0.596788040308883,
          -0.586788040308883,
          -0.576788040308883,
          -0.566788040308883,
          -0.556788040308883,
          -0.546788040308883,
          -0.5367880403088829,
          -0.5267880403088829,
          -0.5167880403088829,
          -0.5067880403088829,
          -0.4967880403088829,
          -0.4867880403088829,
          -0.4767880403088829,
          -0.4667880403088829,
          -0.45678804030888287,
          -0.44678804030888286,
          -0.43678804030888285,
          -0.42678804030888284,
          -0.41678804030888283,
          -0.4067880403088828,
          -0.3967880403088828,
          -0.3867880403088828,
          -0.3767880403088828,
          -0.3667880403088828,
          -0.3567880403088828,
          -0.3467880403088828,
          -0.33678804030888276,
          -0.32678804030888275,
          -0.31678804030888275,
          -0.30678804030888274,
          -0.29678804030888273,
          -0.2867880403088827,
          -0.2767880403088827,
          -0.2667880403088827,
          -0.2567880403088827,
          -0.24678804030888268,
          -0.23678804030888267,
          -0.22678804030888267,
          -0.21678804030888266,
          -0.20678804030888265,
          -0.19678804030888264,
          -0.18678804030888263,
          -0.17678804030888262,
          -0.1667880403088826,
          -0.1567880403088826,
          -0.1467880403088826,
          -0.13678804030888259,
          -0.12678804030888258,
          -0.11678804030888257,
          -0.10678804030888256,
          -0.09678804030888255,
          -0.08678804030888254,
          -0.07678804030888253,
          -0.06678804030888252,
          -0.056788040308882515,
          -0.046788040308882506,
          -0.0367880403088825,
          -0.026788040308882488,
          -0.01678804030888248,
          -0.00678804030888247,
          0.0032119596911175385,
          0.013211959691117547,
          0.023211959691117556,
          0.033211959691117565,
          0.043211959691117574,
          0.05321195969111758,
          0.06321195969111759,
          0.0732119596911176,
          0.08321195969111761,
          0.09321195969111762,
          0.10321195969111763,
          0.11321195969111764,
          0.12321195969111765,
          0.13321195969111765,
          0.14321195969111766,
          0.15321195969111767,
          0.16321195969111768,
          0.1732119596911177,
          0.1832119596911177,
          0.1932119596911177,
          0.20321195969111772,
          0.21321195969111773,
          0.22321195969111773,
          0.23321195969111774,
          0.24321195969111775,
          0.25321195969111776,
          0.26321195969111777,
          0.2732119596911178,
          0.2832119596911178,
          0.2932119596911178,
          0.3032119596911178,
          0.3132119596911178,
          0.3232119596911178,
          0.33321195969111783,
          0.34321195969111784,
          0.35321195969111785,
          0.36321195969111786,
          0.37321195969111787,
          0.3832119596911179,
          0.3932119596911179,
          0.4032119596911179,
          0.4132119596911179,
          0.4232119596911179,
          0.4332119596911179,
          0.44321195969111793,
          0.45321195969111794,
          0.46321195969111795,
          0.47321195969111796,
          0.48321195969111796,
          0.493211959691118,
          0.503211959691118,
          0.513211959691118,
          0.5232119596911178,
          0.533211959691118,
          0.5432119596911182,
          0.553211959691118,
          0.5632119596911178,
          0.573211959691118,
          0.5832119596911183,
          0.5932119596911181,
          0.6032119596911178,
          0.6132119596911181,
          0.6232119596911183,
          0.6332119596911181,
          0.6432119596911179,
          0.6532119596911181,
          0.6632119596911183,
          0.6732119596911181,
          0.6832119596911179,
          0.6932119596911182,
          0.7032119596911184,
          0.7132119596911182,
          0.723211959691118,
          0.7332119596911182,
          0.7432119596911184,
          0.7532119596911182,
          0.763211959691118,
          0.7732119596911182,
          0.7832119596911185,
          0.7932119596911182,
          0.803211959691118,
          0.8132119596911183,
          0.8232119596911185,
          0.8332119596911183,
          0.8432119596911181,
          0.8532119596911183,
          0.8632119596911185,
          0.8732119596911183,
          0.8832119596911181,
          0.8932119596911183,
          0.9032119596911186,
          0.9132119596911183,
          0.9232119596911181,
          0.9332119596911184,
          0.9432119596911186,
          0.9532119596911184,
          0.9632119596911182,
          0.9732119596911184,
          0.9832119596911186,
          0.9932119596911184,
          1.0032119596911182,
          1.0132119596911184,
          1.0232119596911187,
          1.0332119596911185,
          1.0432119596911182,
          1.0532119596911185,
          1.0632119596911187,
          1.0732119596911185,
          1.0832119596911183,
          1.0932119596911185,
          1.1032119596911187,
          1.1132119596911185,
          1.1232119596911183,
          1.1332119596911185,
          1.1432119596911188,
          1.1532119596911186,
          1.1632119596911183,
          1.1732119596911186,
          1.1832119596911188,
          1.1932119596911186,
          1.2032119596911184,
          1.2132119596911186,
          1.2232119596911188,
          1.2332119596911186,
          1.2432119596911184,
          1.2532119596911186,
          1.2632119596911189,
          1.2732119596911187,
          1.2832119596911185,
          1.2932119596911187,
          1.303211959691119,
          1.3132119596911187,
          1.3232119596911185,
          1.3332119596911187,
          1.343211959691119,
          1.3532119596911187,
          1.3632119596911185,
          1.3732119596911188,
          1.383211959691119,
          1.3932119596911188,
          1.4032119596911186,
          1.4132119596911188,
          1.423211959691119,
          1.4332119596911188,
          1.4432119596911186,
          1.4532119596911188,
          1.463211959691119,
          1.4732119596911188,
          1.4832119596911186
         ],
         "xaxis": "x",
         "y": [
          0.00894246178698871,
          0.0094985629926708,
          0.010085139330619577,
          0.010703580482900413,
          0.011355321544649933,
          0.012041843401162836,
          0.012764673032018283,
          0.013525383737039327,
          0.014325595278791984,
          0.015166973936257284,
          0.01605123246424839,
          0.01698012995310001,
          0.017955471583126083,
          0.018979108268329145,
          0.020052936183848256,
          0.021178896171655682,
          0.022358973019054824,
          0.02359519460459501,
          0.024889630906104212,
          0.02624439286564695,
          0.027661631106346358,
          0.02914353449616353,
          0.030692328553907314,
          0.032310273692952536,
          0.033999663298376656,
          0.03576282163348282,
          0.03760210157196232,
          0.039519882152262924,
          0.04151856595107022,
          0.04360057627317742,
          0.045768354155416566,
          0.048024355182748064,
          0.050371046115059465,
          0.0528109013237025,
          0.05534639903730704,
          0.05798001739694222,
          0.06071423032125672,
          0.06355150318281279,
          0.06649428829743895,
          0.06954502022905712,
          0.07270611091309255,
          0.0759799446022493,
          0.07936887263912527,
          0.0828752080608491,
          0.08650122004164593,
          0.09024912817997434,
          0.09412109663762565,
          0.09811922813893034,
          0.10224555783898075,
          0.10650204707054123,
          0.11089057698008585,
          0.11541294206416408,
          0.1200708436180565,
          0.1248658831094299,
          0.1297995554904417,
          0.13487324246246893,
          0.14008820570833982,
          0.14544558010763653,
          0.15094636695129393,
          0.1565914271723546,
          0.16238147461034041,
          0.1683170693272675,
          0.17439861099386067,
          0.18062633236500655,
          0.18700029286392883,
          0.19352037229496075,
          0.20018626470512843,
          0.2069974724150492,
          0.2139533002398725,
          0.22105284992116328,
          0.2282950147907267,
          0.2356784746874167,
          0.24320169114793702,
          0.2508629028925421,
          0.25866012162637675,
          0.26659112817694,
          0.27465346898784043,
          0.28284445298860844,
          0.29116114885985184,
          0.2996003827124888,
          0.308158736199154,
          0.3168325450751631,
          0.32561789822562553,
          0.33451063717443125,
          0.34350635608988456,
          0.35260040230074174,
          0.361787877335311,
          0.3710636384951072,
          0.3804223009733169,
          0.3898582405270262,
          0.39936559671079946,
          0.40893827667776805,
          0.41856995955290577,
          0.4282541013816369,
          0.43798394065533214,
          0.4477525044136324,
          0.45755261492186505,
          0.46737689692013384,
          0.4772177854389261,
          0.4870675341743463,
          0.4969182244143198,
          0.5067617745053405,
          0.5165899498475633,
          0.5263943734042744,
          0.5361665367100097,
          0.5458978113598535,
          0.5555794609607274,
          0.5652026535237905,
          0.5747584742754257,
          0.584237938862672,
          0.5936320069274151,
          0.6029315960221411,
          0.6121275958386306,
          0.6212108827196001,
          0.6301723344220118,
          0.6390028450995677,
          0.647693340470785,
          0.656234793138025,
          0.6646182380219255,
          0.6728347878748605,
          0.6808756488363418,
          0.6887321359926728,
          0.6963956889026783,
          0.7038578870509723,
          0.7111104651899725,
          0.7181453285317582,
          0.7249545677508691,
          0.7315304737592716,
          0.7378655522149912,
          0.7439525377262841,
          0.7497844077137528,
          0.7553543958934456,
          0.7606560053447591,
          0.765683021127852,
          0.7704295224163058,
          0.7748898941118979,
          0.7790588379096136,
          0.7829313827823864,
          0.7865028948565334,
          0.7897690866504297,
          0.7927260256506427,
          0.7953701422015149,
          0.7976982366860432,
          0.7997074859778309,
          0.8013954491459038,
          0.8027600723962538,
          0.8037996932361049,
          0.8045130438490847,
          0.8048992536717066,
          0.8049578511638367,
          0.8046887647681022,
          0.8040923230555123,
          0.8031692540568712,
          0.8019206837818952,
          0.8003481339302431,
          0.7984535188009783,
          0.7962391414092461,
          0.7937076888211965,
          0.7908622267203744,
          0.7877061932209665,
          0.7842433919453702,
          0.7804779843856054,
          0.7764144815700321,
          0.7720577350587347,
          0.7674129272927289,
          0.7624855613238599,
          0.7572814499538684,
          0.7518067043126246,
          0.7460677219069269,
          0.740071174172558,
          0.7338239935634795,
          0.7273333602130968,
          0.7206066882034767,
          0.7136516114792084,
          0.7064759694432949,
          0.6990877922730244,
          0.6914952859942033,
          0.6837068173524439,
          0.6757308985203749,
          0.6675761716796957,
          0.6592513935169163,
          0.6507654196714286,
          0.6421271891742282,
          0.6333457089151612,
          0.6244300381760142,
          0.6153892732660879,
          0.6062325322961108,
          0.5969689401254665,
          0.587607613516709,
          0.5781576465302658,
          0.5686280961910462,
          0.5590279684574172,
          0.5493662045216676,
          0.5396516674696746,
          0.5298931293260066,
          0.5200992585091595,
          0.5102786077200399,
          0.5004396022851614,
          0.49059052897435595,
          0.4807395253110854,
          0.47089456939170726,
          0.46106347022829325,
          0.4512538586278326,
          0.4414731786188825,
          0.4317286794349497,
          0.4220274080621272,
          0.41237620235676015,
          0.4027816847371808,
          0.3932502564518383,
          0.38378809242448664,
          0.37440113667544594,
          0.36509509831635484,
          0.35587544811427585,
          0.34674741561952216,
          0.3377159868501217,
          0.3287859025244463,
          0.3199616568322073,
          0.31124749673276064,
          0.3026474217684741,
          0.29416518437978106,
          0.28580429070750446,
          0.27756800186705494,
          0.26945933567821684,
          0.26148106883341116,
          0.25363573948658147,
          0.24592565024419177,
          0.2383528715392377,
          0.2309192453686679,
          0.2236263893741815,
          0.21647570124602122,
          0.20946836342910943,
          0.2026053481106673,
          0.19588742246833754,
          0.18931515415777153,
          0.18288891701866156,
          0.17660889697827364,
          0.17047509813168293,
          0.16448734897812275,
          0.1586453087931246,
          0.15294847411644463,
          0.14739618533614693,
          0.14198763334964218,
          0.13672186628294727,
          0.13159779624994464,
          0.12661420613397403,
          0.1217697563746788,
          0.11706299174365112,
          0.11249234809307007,
          0.10805615906220402,
          0.1037526627273489,
          0.09958000818149236,
          0.09553626203072738,
          0.09161941479518372,
          0.08782738720300526,
          0.08415803636666092,
          0.0806091618316419,
          0.07717851148836448,
          0.07386378733885987,
          0.07066265111059329,
          0.06757272971050157,
          0.06459162051308073,
          0.061716896477084705,
          0.0589461110861084,
          0.056276803109029334,
          0.05370650117695798,
          0.05123272817401128,
          0.0488530054398622,
          0.04656485678263391,
          0.044365812301301655,
          0.04225341201733331,
          0.04022520931584459,
          0.038278774197059384,
          0.036411696339356474,
          0.03462158797564673,
          0.032906086585260175,
          0.031262857403927764,
          0.02968959575482191,
          0.028184029203971502,
          0.026743919543689314,
          0.025367064607944856,
          0.024051299923883288,
          0.022794500203932797,
          0.021594580683157255,
          0.020449498306698975,
          0.019357252772320598,
          0.018315887433194337,
          0.01732349006620243,
          0.01637819351110497,
          0.015478176186002276,
          0.014621662484569118,
          0.01380692306056762,
          0.013032275005156508,
          0.012296081922506736,
          0.011596753909209586,
          0.010932747442923007,
          0.010302565185646198,
          0.009704755706943615,
          0.00913791313235708
         ],
         "yaxis": "y"
        },
        {
         "histnorm": "probability density",
         "name": "<br>Model 2:<br>Short Wait Data",
         "type": "histogram",
         "x": [
          -0.21366645043174892,
          0.8624153007827706,
          -0.04291170407530731,
          -0.180666450431749,
          -0.21523870893338515,
          0.1671700471392119,
          -0.3998299528607878,
          -0.19291170407530722,
          -0.21523870893338515,
          -0.053584699217229304,
          0.017170047139211997,
          -0.10515695771886557,
          -0.21525769435915199,
          -0.15833944557367108,
          -0.2913394455736711,
          0.09325179835373154,
          -0.04825769435915195,
          -0.180666450431749,
          -0.28066645043174887,
          0.18474230564084815,
          -0.22215695771886557,
          -0.23817594314463242,
          -0.060502948002710166,
          -0.03817594314463246,
          0.19484304228113425,
          0.1448240568553678,
          -0.11899345528982685,
          -0.12591170407530727,
          0.12092479349565388,
          -0.09823870893338515,
          -0.216829952860788,
          0.2517423056408479,
          -0.348257694359152,
          0.3310065447101733,
          -0.231257694359152,
          0.6102517983537314,
          -0.060502948002710166,
          -0.03440221136242383,
          0.24641530078277052,
          -0.08440221136242387,
          0.7724970519972896,
          -0.12532046014790454,
          -0.10991170407530726,
          0.02625179835373137,
          0.17782405685536773,
          -0.06525769435915185,
          0.0379247934956537,
          -0.2067482016462685,
          -0.2067482016462685,
          0.2485977886375763,
          -0.041339445573671085,
          -0.06682995286078786,
          -0.06207520650434617,
          0.04857880321180952,
          0.43100654471017297,
          -0.13758469921722938,
          0.04008829592469265,
          -0.12532046014790454,
          0.1624153007827709,
          -0.2014211967881907,
          0.25708829592469273,
          0.04482405685536772,
          -0.13974820164626856,
          -0.1753204601479046,
          -0.046075206504346156,
          -0.11207520650434621,
          0.39325179835373136,
          -0.020584699217229385,
          -0.11899345528982685,
          -0.26366645043174897,
          0.40333354956825085,
          0.23100654471017323,
          -0.13066645043174896,
          -0.16366645043174888,
          0.38476129106661494,
          0.04857880321180952,
          0.1863335495682512,
          -0.027502948002710248,
          -0.191339445573671,
          0.04543428620853729,
          0.19482405685536763,
          0.1916795398520954,
          -0.14132046014790456
         ],
         "xaxis": "x2",
         "xbins": {
          "end": 1.9,
          "size": 0.2,
          "start": -1.9
         },
         "yaxis": "y2"
        },
        {
         "line": {
          "color": "black",
          "dash": "dot",
          "width": 2
         },
         "mode": "lines",
         "name": "Normal Distribution<br>(99.7% of its area)",
         "opacity": 0.5,
         "type": "scatter",
         "x": [
          -0.7101615934653974,
          -0.7001615934653974,
          -0.6901615934653974,
          -0.6801615934653974,
          -0.6701615934653974,
          -0.6601615934653974,
          -0.6501615934653974,
          -0.6401615934653974,
          -0.6301615934653974,
          -0.6201615934653973,
          -0.6101615934653973,
          -0.6001615934653973,
          -0.5901615934653973,
          -0.5801615934653973,
          -0.5701615934653973,
          -0.5601615934653973,
          -0.5501615934653973,
          -0.5401615934653973,
          -0.5301615934653973,
          -0.5201615934653973,
          -0.5101615934653972,
          -0.5001615934653972,
          -0.4901615934653972,
          -0.4801615934653972,
          -0.4701615934653972,
          -0.4601615934653972,
          -0.4501615934653972,
          -0.4401615934653972,
          -0.4301615934653972,
          -0.42016159346539717,
          -0.41016159346539716,
          -0.40016159346539715,
          -0.39016159346539714,
          -0.38016159346539713,
          -0.3701615934653971,
          -0.3601615934653971,
          -0.3501615934653971,
          -0.3401615934653971,
          -0.3301615934653971,
          -0.3201615934653971,
          -0.31016159346539707,
          -0.30016159346539706,
          -0.29016159346539705,
          -0.28016159346539704,
          -0.27016159346539703,
          -0.260161593465397,
          -0.250161593465397,
          -0.240161593465397,
          -0.230161593465397,
          -0.220161593465397,
          -0.21016159346539698,
          -0.20016159346539697,
          -0.19016159346539696,
          -0.18016159346539695,
          -0.17016159346539694,
          -0.16016159346539693,
          -0.15016159346539693,
          -0.14016159346539692,
          -0.1301615934653969,
          -0.1201615934653969,
          -0.11016159346539689,
          -0.10016159346539688,
          -0.09016159346539687,
          -0.08016159346539686,
          -0.07016159346539685,
          -0.060161593465396845,
          -0.050161593465396836,
          -0.04016159346539683,
          -0.03016159346539682,
          -0.02016159346539681,
          -0.010161593465396801,
          -0.0001615934653967921,
          0.009838406534603217,
          0.019838406534603226,
          0.029838406534603235,
          0.03983840653460324,
          0.04983840653460325,
          0.05983840653460326,
          0.06983840653460327,
          0.07983840653460328,
          0.08983840653460329,
          0.0998384065346033,
          0.1098384065346033,
          0.11983840653460331,
          0.12983840653460332,
          0.13983840653460333,
          0.14983840653460334,
          0.15983840653460335,
          0.16983840653460336,
          0.17983840653460337,
          0.18983840653460338,
          0.19983840653460339,
          0.2098384065346034,
          0.2198384065346034,
          0.2298384065346034,
          0.23983840653460342,
          0.24983840653460343,
          0.25983840653460344,
          0.26983840653460345,
          0.27983840653460346,
          0.28983840653460347,
          0.2998384065346035,
          0.3098384065346035,
          0.3198384065346035,
          0.3298384065346035,
          0.3398384065346035,
          0.3498384065346035,
          0.3598384065346035,
          0.36983840653460354,
          0.37983840653460355,
          0.38983840653460355,
          0.39983840653460356,
          0.40983840653460357,
          0.4198384065346036,
          0.4298384065346036,
          0.4398384065346036,
          0.4498384065346036,
          0.4598384065346036,
          0.4698384065346036,
          0.47983840653460363,
          0.48983840653460364,
          0.49983840653460365,
          0.5098384065346037,
          0.5198384065346037,
          0.5298384065346037,
          0.5398384065346037,
          0.5498384065346037,
          0.5598384065346037,
          0.5698384065346037,
          0.5798384065346037,
          0.5898384065346037,
          0.5998384065346037,
          0.6098384065346037,
          0.6198384065346038,
          0.6298384065346038,
          0.6398384065346038,
          0.6498384065346038,
          0.6598384065346038,
          0.6698384065346038,
          0.6798384065346038,
          0.6898384065346038,
          0.6998384065346038,
          0.7098384065346038
         ],
         "xaxis": "x2",
         "y": [
          0.018721859022163313,
          0.021232461612921184,
          0.024036803067943636,
          0.027163019405407603,
          0.03064110078090899,
          0.03450290508318714,
          0.0387821555938843,
          0.04351442069933256,
          0.04873707362465408,
          0.054489230171214265,
          0.060811662481048315,
          0.0677466869294803,
          0.07533802436268024,
          0.08363063105291658,
          0.09267049894283955,
          0.10250442399281001,
          0.11317974173294672,
          0.1247440294543252,
          0.13724477485093353,
          0.1507290113439497,
          0.16524292078009375,
          0.18083140469259978,
          0.19753762584211407,
          0.2154025223098401,
          0.2344642969897423,
          0.2547578859128249,
          0.27631440942569135,
          0.29916061082815465,
          0.32331828764031273,
          0.348803721207264,
          0.37562711084816963,
          0.4037920192040974,
          0.4332948358243684,
          0.4641242663426112,
          0.49626085482048626,
          0.5296765469688643,
          0.5643343019839474,
          0.6001877606514293,
          0.6371809771688675,
          0.6752482218102278,
          0.7143138611043212,
          0.7542923216199159,
          0.7950881427463267,
          0.8365961230332819,
          0.8787015637143599,
          0.9212806119932114,
          0.9642007055325312,
          1.0073211183660857,
          1.0504936071698727,
          1.0935631554976648,
          1.1363688122282989,
          1.1787446191081712,
          1.2205206209245067,
          1.2615239505358333,
          1.301579979738598,
          1.3405135257857597,
          1.3781501023164955,
          1.414317202526744,
          1.4488456016274647,
          1.4815706650184615,
          1.512333648165192,
          1.5409829739161713,
          1.5673754729482283,
          1.5913775731815136,
          1.6128664243676802,
          1.6317309446213806,
          1.647872776431597,
          1.6612071406462965,
          1.6716635780587263,
          1.6791865695202974,
          1.683736026944331,
          1.6852876491250708,
          1.6838331379530855,
          1.6793802723354379,
          1.6719528388992781,
          1.66159042034259,
          1.648348044067022,
          1.632295695456816,
          1.613517701827263,
          1.5921119946297504,
          1.5681892589440594,
          1.5418719805901258,
          1.513293402331803,
          1.4825964016080944,
          1.4499323030000386,
          1.415459639214686,
          1.3793428747358365,
          1.3417511064524847,
          1.3028567555321746,
          1.262834264562931,
          1.2218588135530328,
          1.180105067764398,
          1.1377459695775458,
          1.09495158566114,
          1.0518880196662097,
          1.0087163995051336,
          0.965591947030371,
          0.9226631366204054,
          0.8800709478333737,
          0.8379482159251199,
          0.7964190826699996,
          0.7555985485907336,
          0.7155921264175963,
          0.6764955943752142,
          0.638394846753169,
          0.6013658381683012,
          0.5654746169835217,
          0.5307774425191263,
          0.4973209799846528,
          0.46514256647628205,
          0.434270540928461,
          0.4047246305781736,
          0.3765163862934326,
          0.3496496590294425,
          0.32412110970007746,
          0.29992074488091625,
          0.2770324709839181,
          0.2554346598527372,
          0.23510071911075106,
          0.21599966103976845,
          0.19809666426445446,
          0.18135362305418357,
          0.165729679618947,
          0.15118173535812232,
          0.13766493761004797,
          0.12513313903677978,
          0.11353932735341045,
          0.10283602366708482,
          0.09297564822054556,
          0.0839108528329574,
          0.07559481979217729,
          0.06798152737395619,
          0.06102598254213471,
          0.05468442171811072,
          0.04891448079697269,
          0.043675335831817076,
          0.038927816007749534,
          0.03463449068442819,
          0.030759732402804153,
          0.027269757830494686,
          0.024132648663889214,
          0.02131835451681741,
          0.01879867980876989
         ],
         "yaxis": "y2"
        },
        {
         "histnorm": "probability density",
         "name": "<br>Model 3:<br>Long Wait Data",
         "type": "histogram",
         "x": [
          -0.7192309896346223,
          -0.9250108424020045,
          0.1403048336862378,
          0.27057274534666664,
          -0.7926951663137625,
          -0.04269516631376291,
          -0.4634511368672394,
          -0.10698696018809795,
          0.33179289257928435,
          0.41954886313276063,
          -0.06923098963462238,
          -0.856986960188098,
          0.2749891575979957,
          -0.7682071074207157,
          -0.1994989012950512,
          -0.45698696018809803,
          0.11376901036537745,
          0.054233187044518516,
          0.17225706925842488,
          -0.2984750190811454,
          -0.4250108424020045,
          0.5015249809188544,
          0.3290846864536201,
          0.018524980918853906,
          0.18654886313276098,
          0.28723318704451906,
          -1.0512071074207157,
          0.27703692202580754,
          0.5297451281514718,
          0.26208468645361993,
          0.5015249809188544,
          0.5147928925792842,
          0.2722570692584254,
          -0.02671904852766893,
          0.11954886313276081,
          0.44403692202580736,
          -0.07840337243942663,
          -0.1399869601880983,
          0.39301303981190205,
          0.45423318704451887,
          -0.3229630779741921,
          0.18076901036537762,
          0.7845010987049488,
          0.26001303981190205,
          -0.3994989012950514,
          -0.7682071074207157,
          -0.13725487184852803,
          -0.02296307797419228,
          -0.17876681295548114,
          0.5035727453466663,
          -0.3324989012950512,
          0.1855249809188546,
          -0.4049391957602868,
          -0.12091531354638008,
          0.510013039811902,
          0.06647721649104188,
          0.2865488631327606,
          -0.520254871848528,
          0.5440369220258079,
          -0.06242725465333354,
          0.13179289257928417,
          -0.2937190485276693,
          0.319548863132761,
          0.44506080423971284,
          -0.6607190485276693,
          0.4627451281514725,
          0.45832871590014346,
          0.09776901036537744,
          0.2892809514723309,
          0.2073048336862371,
          -0.0001832252068103557,
          -0.04474293074157476,
          0.1705727453466661,
          -0.5767190485276692,
          0.14403692202580753,
          0.1960846864536201,
          -0.201207107420716,
          -0.10867128409985671,
          0.02703692202580754,
          0.528060804239713,
          -0.5862309896346223,
          -0.11071904852766856,
          0.1770369220258079,
          0.5222570692584254,
          0.05050109870494879,
          0.30152498091885427,
          0.5726205097744783,
          0.7382570692584256,
          -0.29474293074157476,
          0.25628095147233054,
          0.1562809514723309,
          -0.40764740188595106,
          -0.4746712840998568,
          -0.25493919576028645,
          -0.47398696018809794,
          0.3005010987049488,
          0.5705727453466665,
          0.12635259811404875,
          0.2882570692584254,
          -0.1767190485276693,
          -0.010719048527668917,
          0.2542331870445187,
          -0.39269516631376256,
          -0.09101084240200485,
          0.2882570692584254,
          -0.11820710742071583,
          -0.6012071074207159,
          0.1260130398119017,
          -0.297451136867239,
          0.048792892579283986,
          0.4562809514723307,
          0.5175010987049484,
          -0.28045113686723955,
          -0.32874293074157457,
          -0.11071904852766856,
          -0.9171832252068102,
          0.07125706925842579,
          0.3600130398119017,
          -0.005963077974192821,
          -0.3331593429929036,
          0.2930130398119015,
          0.07225706925842523,
          -0.5304511368672391,
          0.13179289257928417,
          0.36852498091885444,
          -0.43725487184852785,
          -0.04949890129505086,
          0.2971085686675252,
          -0.13249890129505104,
          -0.08896307797419212,
          0.2127451281514725,
          -0.3069869601880981,
          -0.20223098963462238,
          -0.22398696018809794,
          -0.039986960188097775,
          0.23076901036537745,
          -0.22193919576028698,
          -0.003915313546380084,
          -0.011742930741574398,
          -0.3692309896346222,
          -0.12025487184852768,
          0.528060804239713,
          0.19030483368623763,
          -0.5229630779741923,
          0.011036922025807527,
          0.09198915759799497,
          0.08179289257928435,
          -0.6787668129554811,
          0.2542331870445187,
          -0.2794272546533332,
          -0.5144750190811456,
          0.08179289257928435,
          -0.03623098963462201,
          0.4600130398119022,
          0.15254886313276117,
          -0.11820710742071583,
          0.47974512815147197,
          -0.2267190485276691,
          -0.036915313546380446,
          0.20898915759799497
         ],
         "xaxis": "x3",
         "xbins": {
          "end": 1.95,
          "size": 0.3,
          "start": -1.95
         },
         "yaxis": "y3"
        },
        {
         "line": {
          "color": "black",
          "dash": "dot",
          "width": 2
         },
         "mode": "lines",
         "name": "Normal Distribution<br>(99.7% of its area)",
         "opacity": 0.5,
         "type": "scatter",
         "x": [
          -1.116058113063032,
          -1.106058113063032,
          -1.096058113063032,
          -1.086058113063032,
          -1.076058113063032,
          -1.066058113063032,
          -1.056058113063032,
          -1.046058113063032,
          -1.036058113063032,
          -1.026058113063032,
          -1.016058113063032,
          -1.006058113063032,
          -0.9960581130630319,
          -0.9860581130630319,
          -0.9760581130630319,
          -0.9660581130630319,
          -0.9560581130630319,
          -0.9460581130630319,
          -0.9360581130630319,
          -0.9260581130630319,
          -0.9160581130630319,
          -0.9060581130630319,
          -0.8960581130630318,
          -0.8860581130630318,
          -0.8760581130630318,
          -0.8660581130630318,
          -0.8560581130630318,
          -0.8460581130630318,
          -0.8360581130630318,
          -0.8260581130630318,
          -0.8160581130630318,
          -0.8060581130630318,
          -0.7960581130630318,
          -0.7860581130630317,
          -0.7760581130630317,
          -0.7660581130630317,
          -0.7560581130630317,
          -0.7460581130630317,
          -0.7360581130630317,
          -0.7260581130630317,
          -0.7160581130630317,
          -0.7060581130630317,
          -0.6960581130630317,
          -0.6860581130630317,
          -0.6760581130630317,
          -0.6660581130630316,
          -0.6560581130630316,
          -0.6460581130630316,
          -0.6360581130630316,
          -0.6260581130630316,
          -0.6160581130630316,
          -0.6060581130630316,
          -0.5960581130630316,
          -0.5860581130630316,
          -0.5760581130630316,
          -0.5660581130630316,
          -0.5560581130630315,
          -0.5460581130630315,
          -0.5360581130630315,
          -0.5260581130630315,
          -0.5160581130630315,
          -0.5060581130630315,
          -0.4960581130630315,
          -0.4860581130630315,
          -0.4760581130630315,
          -0.46605811306303147,
          -0.45605811306303146,
          -0.44605811306303145,
          -0.43605811306303144,
          -0.42605811306303143,
          -0.4160581130630314,
          -0.4060581130630314,
          -0.3960581130630314,
          -0.3860581130630314,
          -0.3760581130630314,
          -0.3660581130630314,
          -0.35605811306303137,
          -0.34605811306303136,
          -0.33605811306303135,
          -0.32605811306303134,
          -0.31605811306303133,
          -0.3060581130630313,
          -0.2960581130630313,
          -0.2860581130630313,
          -0.2760581130630313,
          -0.2660581130630313,
          -0.2560581130630313,
          -0.24605811306303127,
          -0.23605811306303126,
          -0.22605811306303125,
          -0.21605811306303124,
          -0.20605811306303123,
          -0.19605811306303123,
          -0.18605811306303122,
          -0.1760581130630312,
          -0.1660581130630312,
          -0.1560581130630312,
          -0.14605811306303118,
          -0.13605811306303117,
          -0.12605811306303116,
          -0.11605811306303115,
          -0.10605811306303115,
          -0.09605811306303114,
          -0.08605811306303113,
          -0.07605811306303112,
          -0.06605811306303111,
          -0.0560581130630311,
          -0.04605811306303109,
          -0.03605811306303108,
          -0.026058113063031074,
          -0.016058113063031065,
          -0.0060581130630310565,
          0.003941886936968952,
          0.013941886936968961,
          0.02394188693696897,
          0.03394188693696898,
          0.04394188693696899,
          0.053941886936969,
          0.063941886936969,
          0.07394188693696901,
          0.08394188693696902,
          0.09394188693696903,
          0.10394188693696904,
          0.11394188693696905,
          0.12394188693696906,
          0.13394188693696907,
          0.14394188693696908,
          0.15394188693696909,
          0.1639418869369691,
          0.1739418869369691,
          0.1839418869369691,
          0.19394188693696912,
          0.20394188693696913,
          0.21394188693696914,
          0.22394188693696915,
          0.23394188693696916,
          0.24394188693696917,
          0.2539418869369692,
          0.2639418869369692,
          0.2739418869369692,
          0.2839418869369692,
          0.2939418869369692,
          0.3039418869369692,
          0.31394188693696923,
          0.32394188693696924,
          0.33394188693696925,
          0.34394188693696925,
          0.35394188693696926,
          0.36394188693696927,
          0.3739418869369693,
          0.3839418869369693,
          0.3939418869369693,
          0.4039418869369693,
          0.4139418869369693,
          0.4239418869369693,
          0.43394188693696933,
          0.44394188693696934,
          0.45394188693696935,
          0.46394188693696936,
          0.47394188693696937,
          0.4839418869369694,
          0.4939418869369694,
          0.5039418869369694,
          0.5139418869369694,
          0.5239418869369694,
          0.5339418869369694,
          0.5439418869369694,
          0.5539418869369694,
          0.5639418869369694,
          0.5739418869369695,
          0.5839418869369695,
          0.5939418869369695,
          0.6039418869369695,
          0.6139418869369695,
          0.6239418869369695,
          0.6339418869369695,
          0.6439418869369695,
          0.6539418869369695,
          0.6639418869369695,
          0.6739418869369695,
          0.6839418869369696,
          0.6939418869369696,
          0.7039418869369696,
          0.7139418869369696,
          0.7239418869369696,
          0.7339418869369696,
          0.7439418869369696,
          0.7539418869369696,
          0.7639418869369696,
          0.7739418869369696,
          0.7839418869369696,
          0.7939418869369697,
          0.8039418869369697,
          0.8139418869369697,
          0.8239418869369697,
          0.8339418869369697,
          0.8439418869369697,
          0.8539418869369697,
          0.8639418869369697,
          0.8739418869369697,
          0.8839418869369697,
          0.8939418869369695,
          0.9039418869369698,
          0.91394188693697,
          0.9239418869369698,
          0.9339418869369696,
          0.9439418869369698,
          0.95394188693697,
          0.9639418869369698,
          0.9739418869369696,
          0.9839418869369698,
          0.99394188693697,
          1.0039418869369698,
          1.0139418869369696,
          1.0239418869369699,
          1.03394188693697,
          1.0439418869369699,
          1.0539418869369697,
          1.06394188693697,
          1.0739418869369701,
          1.08394188693697,
          1.0939418869369697,
          1.10394188693697,
          1.1139418869369702
         ],
         "xaxis": "x3",
         "y": [
          0.011912950661076487,
          0.012908755285925848,
          0.013977696052724666,
          0.015124221070639782,
          0.016352970037046884,
          0.017668776003945785,
          0.01907666656233706,
          0.020581864391955137,
          0.022189787122835685,
          0.02390604645452606,
          0.025736446478351743,
          0.02768698114804935,
          0.02976383084429783,
          0.03197335797924134,
          0.03432210158802584,
          0.03681677085569017,
          0.0394642375294743,
          0.042271527168762146,
          0.0452458091874692,
          0.048394385646742075,
          0.051724678759361854,
          0.05524421707124994,
          0.05896062028997347,
          0.06288158273513281,
          0.06701485539099837,
          0.07136822654773384,
          0.0759495010239966,
          0.08076647797063718,
          0.08582692726259657,
          0.09113856449392753,
          0.09670902459909421,
          0.10254583413232415,
          0.10865638224575555,
          0.11504789041639948,
          0.12172738098149072,
          0.12870164455156882,
          0.1359772063805722,
          0.1435602917822863,
          0.15145679069258733,
          0.15967222148702592,
          0.16821169417330448,
          0.17707987308806972,
          0.18628093923707983,
          0.19581855242714372,
          0.20569581334718356,
          0.215915225764272,
          0.22647865900844608,
          0.23738731092743676,
          0.2486416714990804,
          0.26024148729502933,
          0.2721857269943667,
          0.28447254814978873,
          0.29709926541206444,
          0.3100623204204625,
          0.3233572535676751,
          0.33697867784741514,
          0.35092025499126805,
          0.3651746740984955,
          0.37973363295827534,
          0.39458782225830413,
          0.40972691286674734,
          0.4251395463662081,
          0.44081332900867987,
          0.45673482924937125,
          0.4728895790048672,
          0.4892620787673263,
          0.5058358066913886,
          0.5225932317542029,
          0.5395158310715492,
          0.5565841114345212,
          0.5737776351117034,
          0.5910750499413449,
          0.6084541237167916,
          0.6258917828465129,
          0.6433641552475505,
          0.6608466174082926,
          0.6783138455332407,
          0.6957398706590424,
          0.7130981376076839,
          0.7303615676194839,
          0.7475026244856001,
          0.7644933839772868,
          0.7813056063473038,
          0.7979108116578063,
          0.8142803576689319,
          0.8303855200032777,
          0.8461975742836746,
          0.8616878799252783,
          0.8768279652481274,
          0.8915896135631064,
          0.9059449498728019,
          0.9198665278191915,
          0.9333274165024966,
          0.9463012867900253,
          0.9587624967304178,
          0.970686175687502,
          0.9820483068089823,
          0.9928258074484424,
          1.002996607164685,
          1.012539722930189,
          1.0214353311904965,
          1.0296648364285237,
          1.0372109359021315,
          1.0440576802396802,
          1.0501905295966563,
          1.055596405096699,
          1.0602637353023359,
          1.0641824974843421,
          1.0673442534837265,
          1.0697421799867488,
          1.071371093060937,
          1.0722274668286096,
          1.0723094461837595,
          1.0716168534880968,
          1.070151189212426,
          1.0679156265201126,
          1.0649149998200096,
          1.0611557873466395,
          1.0566460878554926,
          1.0513955915507756,
          1.0454155453916862,
          1.0387187129510616,
          1.0313193290269196,
          1.023233049232784,
          1.0144768948166198,
          1.0050691929805429,
          0.9950295129940836,
          0.9843785984125534,
          0.973138295728886,
          0.9613314798020884,
          0.9489819764181076,
          0.9361144823493788,
          0.9227544832875891,
          0.9089281700301869,
          0.8946623533049138,
          0.879984377618124,
          0.864922034511914,
          0.8495034756121452,
          0.8337571258443622,
          0.8177115971874461,
          0.8013956033256979,
          0.7848378755489862,
          0.7680670802377473,
          0.7511117382550994,
          0.7340001465522479,
          0.7167603022758627,
          0.699419829647338,
          0.6820059098639373,
          0.6645452142509606,
          0.6470638408723683,
          0.6295872547849573,
          0.6121402320983214,
          0.5947468079796517,
          0.577430228719048,
          0.5602129079476192,
          0.5431163870773694,
          0.5261613000088554,
          0.5093673421300065,
          0.4927532436074263,
          0.47633674695010864,
          0.460134588804883,
          0.44416248592317764,
          0.42843512521995325,
          0.4129661578279929,
          0.39776819703421656,
          0.382852819969392,
          0.36823057290858524,
          0.35391098002697524,
          0.33990255544430287,
          0.3262128183812164,
          0.3128483112421771,
          0.2998146204323485,
          0.28711639971005015,
          0.2747573958718577,
          0.26274047656427,
          0.2510676600139975,
          0.23974014646831798,
          0.22875835113753268,
          0.21812193843330444,
          0.2078298572994822,
          0.19788037743586853,
          0.18827112622018238,
          0.17899912613914534,
          0.1700608325460881,
          0.16145217156966837,
          0.15316857800611844,
          0.1452050330358309,
          0.13755610161395607,
          0.1302159693939472,
          0.12317847905257201,
          0.11643716589473306,
          0.1099852926264249,
          0.10381588319424491,
          0.0979217555999841,
          0.09229555360889072,
          0.08692977728017551,
          0.0818168122581345,
          0.07694895777186773,
          0.07231845330091441,
          0.06791750387315801,
          0.06373830397005598,
          0.05977306002255945,
          0.056014011489001765,
          0.052453450513714216,
          0.049083740172146464,
          0.04589733131482993,
          0.04288677802859624,
          0.040044751739046064,
          0.03736405398335837,
          0.03483762788713044,
          0.032458568383049516,
          0.030220131212822465,
          0.02811574075694449,
          0.0261389967395796,
          0.024283679858069163,
          0.022543756388399245,
          0.020913381819357597,
          0.019386903569121802,
          0.01795886283865842,
          0.016623995656602192,
          0.015377233170249876,
          0.014213701236967385,
          0.013128719369695355,
          0.012117799089371776
         ],
         "yaxis": "y3"
        },
        {
         "histnorm": "probability density",
         "name": "<br>Model 4:<br>All Data using indicator",
         "type": "histogram",
         "x": [
          -0.6979302325581407,
          -0.2943300000000002,
          -0.9649302325581406,
          0.18866999999999967,
          0.2350697674418596,
          0.7886699999999998,
          0.4020697674418594,
          -0.6979302325581407,
          -0.1443300000000003,
          0.05206976744185887,
          -0.2613300000000003,
          -0.38093023255814096,
          -0.0979302325581406,
          -0.34433000000000025,
          0.4020697674418594,
          0.07266999999999957,
          -0.34433000000000025,
          0.502069767441859,
          -0.49433000000000016,
          -0.04793023255814077,
          -0.2943300000000002,
          -0.34433000000000025,
          -0.8479302325581406,
          -1.2309302325581406,
          0.2350697674418596,
          -0.6979302325581407,
          -0.12733000000000017,
          -0.2149302325581406,
          -0.4479302325581407,
          0.13506976744185906,
          0.0020697674418590495,
          0.16906976744185886,
          1.2726699999999997,
          -0.2649302325581404,
          -0.4649302325581406,
          -0.07733000000000034,
          -0.22733000000000025,
          0.5350697674418594,
          -0.2613300000000003,
          0.4850697674418596,
          0.05206976744185887,
          -0.21133000000000024,
          0.2690697674418594,
          -0.34433000000000025,
          0.2350697674418596,
          -0.9809302325581406,
          1.73867,
          0.005669999999999842,
          0.33506976744185923,
          -0.09433000000000025,
          0.502069767441859,
          0.4180697674418594,
          -0.2613300000000003,
          0.5350697674418594,
          -0.36133000000000015,
          0.5850697674418592,
          -0.5809302325581407,
          -0.42733000000000043,
          0.2690697674418594,
          0.019069767441859398,
          0.13866999999999985,
          0.20206976744185923,
          -0.34433000000000025,
          0.502069767441859,
          -0.2773300000000003,
          0.10206976744185958,
          -0.13093023255814096,
          0.4020697674418594,
          -0.027330000000000076,
          0.4020697674418594,
          -0.2649302325581404,
          -0.12733000000000017,
          0.20206976744185923,
          -0.2979302325581408,
          -0.11133000000000015,
          0.7690697674418594,
          -0.07733000000000034,
          0.2690697674418594,
          -0.41493023255814077,
          -0.6979302325581407,
          -0.16493023255814077,
          0.03506976744185941,
          -0.19793023255814113,
          0.5386699999999998,
          -0.2309302325581406,
          0.6350697674418591,
          -0.3479302325581406,
          0.21906976744185958,
          0.07266999999999957,
          -0.2979302325581408,
          0.10566999999999993,
          0.03506976744185941,
          -0.22733000000000025,
          0.5190697674418594,
          -0.2613300000000003,
          0.0020697674418590495,
          0.36906976744185904,
          -0.5479302325581408,
          -0.22733000000000025,
          0.6020697674418596,
          0.38866999999999985,
          0.06906976744185922,
          0.005669999999999842,
          0.20206976744185923,
          -0.24793023255814095,
          -0.22733000000000025,
          0.4020697674418594,
          -0.31133000000000033,
          0.5520697674418589,
          -0.6149302325581409,
          0.43506976744185977,
          0.20566999999999958,
          0.6020697674418596,
          0.11906976744185904,
          -0.3943300000000003,
          0.33506976744185923,
          0.22266999999999992,
          0.30206976744185887,
          -0.2773300000000003,
          0.11906976744185904,
          0.5226699999999997,
          -0.2309302325581406,
          -0.04793023255814077,
          -0.12733000000000017,
          0.30206976744185887,
          -0.5309302325581409,
          -0.1773300000000002,
          0.20206976744185923,
          0.17266999999999966,
          0.3520697674418596,
          -0.22733000000000025,
          -0.13093023255814096,
          0.7056699999999996,
          0.03506976744185941,
          -0.2613300000000003,
          0.08506976744185923,
          -0.21133000000000024,
          0.6350697674418591,
          -0.06133000000000033,
          -0.5649302325581407,
          -0.06493023255814023,
          0.13866999999999985,
          0.2350697674418596,
          0.5190697674418594,
          0.03506976744185941,
          -0.11133000000000015,
          0.33506976744185923,
          -0.07733000000000034,
          0.8020697674418589,
          -0.2943300000000002,
          0.7350697674418596,
          -0.2979302325581408,
          0.30566999999999966,
          0.30206976744185887,
          -0.7309302325581406,
          -0.2979302325581408,
          0.20206976744185923,
          -0.2149302325581406,
          -0.2943300000000002,
          -0.3309302325581407,
          0.10566999999999993,
          -0.14793023255814042,
          -0.09433000000000025,
          -0.4649302325581406,
          1.4056699999999998,
          0.2850697674418594,
          0.27266999999999975,
          0.7020697674418592,
          -0.1613300000000002,
          0.3190697674418592,
          -0.1773300000000002,
          -0.011330000000000062,
          0.2850697674418594,
          -0.9649302325581406,
          -0.13093023255814096,
          0.03506976744185941,
          0.20206976744185923,
          0.32266999999999957,
          -0.2979302325581408,
          -0.13093023255814096,
          -0.21133000000000024,
          0.2850697674418594,
          -0.04793023255814077,
          -0.5309302325581409,
          -0.06133000000000033,
          0.13506976744185906,
          -0.2149302325581406,
          -0.2613300000000003,
          0.11906976744185904,
          0.08867000000000003,
          0.502069767441859,
          -0.2613300000000003,
          0.502069767441859,
          -0.19793023255814113,
          -0.3319302325581406,
          -0.06493023255814023,
          -0.7979302325581408,
          0.06806976744185977,
          0.15566999999999975,
          0.36906976744185904,
          0.005669999999999842,
          0.05206976744185887,
          -0.16493023255814077,
          -0.22733000000000025,
          0.30206976744185887,
          -0.31133000000000033,
          0.06906976744185922,
          -0.4479302325581407,
          -0.1613300000000002,
          0.20206976744185923,
          -1.9149302325581408,
          0.4020697674418594,
          -0.22733000000000025,
          -0.4649302325581406,
          1.3226699999999996,
          -0.06493023255814023,
          0.30566999999999966,
          0.502069767441859,
          -0.09433000000000025,
          -0.14793023255814042,
          -0.22733000000000025,
          -0.030930232558140425,
          -0.34433000000000025,
          0.18506976744185977,
          -0.2979302325581408,
          -0.18093023255814078,
          -0.2149302325581406,
          -0.030930232558140425,
          -0.38093023255814096,
          0.25206976744185905,
          -0.2149302325581406,
          0.32266999999999957,
          -0.11493023255814094,
          0.12266999999999983,
          0.1520697674418594,
          -0.21133000000000024,
          -0.24433000000000016,
          -0.01493023255814041,
          -0.3479302325581406,
          0.23866999999999994,
          -0.14793023255814042,
          0.25566999999999984,
          0.6350697674418591,
          0.8056699999999997,
          0.2850697674418594,
          -0.4649302325581406,
          -0.011330000000000062,
          0.06906976744185922,
          0.03866999999999976,
          0.05206976744185887,
          0.10566999999999993,
          0.1520697674418594,
          -0.7309302325581406,
          0.20206976744185923,
          -0.14793023255814042,
          -0.4809302325581406,
          -0.38093023255814096,
          0.1520697674418594,
          -0.09433000000000025,
          -0.01493023255814041,
          0.4690697674418596,
          0.2350697674418596,
          -0.24433000000000016,
          -0.04793023255814077,
          -0.11133000000000015,
          0.15566999999999975,
          0.4520697674418592,
          -0.18093023255814078,
          0.055669999999999664,
          0.11906976744185904,
          -0.2773300000000003,
          0.16906976744185886
         ],
         "xaxis": "x4",
         "xbins": {
          "end": 1.95,
          "size": 0.3,
          "start": -1.95
         },
         "yaxis": "y4"
        },
        {
         "line": {
          "color": "black",
          "dash": "dot",
          "width": 2
         },
         "mode": "lines",
         "name": "Normal Distribution<br>(99.7% of its area)",
         "opacity": 0.5,
         "type": "scatter",
         "x": [
          -1.2356963309582187,
          -1.2256963309582187,
          -1.2156963309582187,
          -1.2056963309582187,
          -1.1956963309582187,
          -1.1856963309582187,
          -1.1756963309582187,
          -1.1656963309582187,
          -1.1556963309582187,
          -1.1456963309582187,
          -1.1356963309582186,
          -1.1256963309582186,
          -1.1156963309582186,
          -1.1056963309582186,
          -1.0956963309582186,
          -1.0856963309582186,
          -1.0756963309582186,
          -1.0656963309582186,
          -1.0556963309582186,
          -1.0456963309582186,
          -1.0356963309582186,
          -1.0256963309582185,
          -1.0156963309582185,
          -1.0056963309582185,
          -0.9956963309582185,
          -0.9856963309582185,
          -0.9756963309582185,
          -0.9656963309582185,
          -0.9556963309582185,
          -0.9456963309582185,
          -0.9356963309582185,
          -0.9256963309582185,
          -0.9156963309582185,
          -0.9056963309582184,
          -0.8956963309582184,
          -0.8856963309582184,
          -0.8756963309582184,
          -0.8656963309582184,
          -0.8556963309582184,
          -0.8456963309582184,
          -0.8356963309582184,
          -0.8256963309582184,
          -0.8156963309582184,
          -0.8056963309582184,
          -0.7956963309582183,
          -0.7856963309582183,
          -0.7756963309582183,
          -0.7656963309582183,
          -0.7556963309582183,
          -0.7456963309582183,
          -0.7356963309582183,
          -0.7256963309582183,
          -0.7156963309582183,
          -0.7056963309582183,
          -0.6956963309582183,
          -0.6856963309582182,
          -0.6756963309582182,
          -0.6656963309582182,
          -0.6556963309582182,
          -0.6456963309582182,
          -0.6356963309582182,
          -0.6256963309582182,
          -0.6156963309582182,
          -0.6056963309582182,
          -0.5956963309582182,
          -0.5856963309582182,
          -0.5756963309582181,
          -0.5656963309582181,
          -0.5556963309582181,
          -0.5456963309582181,
          -0.5356963309582181,
          -0.5256963309582181,
          -0.5156963309582181,
          -0.5056963309582181,
          -0.4956963309582181,
          -0.48569633095821807,
          -0.47569633095821806,
          -0.46569633095821805,
          -0.45569633095821804,
          -0.44569633095821803,
          -0.435696330958218,
          -0.425696330958218,
          -0.415696330958218,
          -0.405696330958218,
          -0.395696330958218,
          -0.385696330958218,
          -0.37569633095821797,
          -0.36569633095821796,
          -0.35569633095821795,
          -0.34569633095821795,
          -0.33569633095821794,
          -0.32569633095821793,
          -0.3156963309582179,
          -0.3056963309582179,
          -0.2956963309582179,
          -0.2856963309582179,
          -0.2756963309582179,
          -0.2656963309582179,
          -0.25569633095821787,
          -0.24569633095821786,
          -0.23569633095821785,
          -0.22569633095821784,
          -0.21569633095821783,
          -0.20569633095821782,
          -0.1956963309582178,
          -0.1856963309582178,
          -0.1756963309582178,
          -0.16569633095821779,
          -0.15569633095821778,
          -0.14569633095821777,
          -0.13569633095821776,
          -0.12569633095821775,
          -0.11569633095821774,
          -0.10569633095821773,
          -0.09569633095821772,
          -0.08569633095821771,
          -0.0756963309582177,
          -0.0656963309582177,
          -0.05569633095821769,
          -0.04569633095821768,
          -0.03569633095821767,
          -0.02569633095821766,
          -0.015696330958217652,
          -0.005696330958217644,
          0.004303669041782365,
          0.014303669041782374,
          0.024303669041782383,
          0.03430366904178239,
          0.0443036690417824,
          0.05430366904178241,
          0.06430366904178242,
          0.07430366904178243,
          0.08430366904178244,
          0.09430366904178245,
          0.10430366904178245,
          0.11430366904178246,
          0.12430366904178247,
          0.13430366904178248,
          0.1443036690417825,
          0.1543036690417825,
          0.1643036690417825,
          0.17430366904178252,
          0.18430366904178253,
          0.19430366904178253,
          0.20430366904178254,
          0.21430366904178255,
          0.22430366904178256,
          0.23430366904178257,
          0.24430366904178258,
          0.2543036690417826,
          0.2643036690417826,
          0.2743036690417826,
          0.2843036690417826,
          0.2943036690417826,
          0.30430366904178263,
          0.31430366904178264,
          0.32430366904178265,
          0.33430366904178266,
          0.34430366904178267,
          0.3543036690417827,
          0.3643036690417827,
          0.3743036690417827,
          0.3843036690417827,
          0.3943036690417827,
          0.4043036690417827,
          0.41430366904178273,
          0.42430366904178274,
          0.43430366904178275,
          0.44430366904178276,
          0.45430366904178276,
          0.4643036690417828,
          0.4743036690417828,
          0.4843036690417828,
          0.4943036690417828,
          0.5043036690417828,
          0.5143036690417828,
          0.5243036690417828,
          0.5343036690417828,
          0.5443036690417828,
          0.5543036690417829,
          0.5643036690417829,
          0.5743036690417829,
          0.5843036690417829,
          0.5943036690417829,
          0.6043036690417829,
          0.6143036690417829,
          0.6243036690417829,
          0.6343036690417829,
          0.6443036690417829,
          0.6543036690417829,
          0.664303669041783,
          0.674303669041783,
          0.684303669041783,
          0.694303669041783,
          0.704303669041783,
          0.714303669041783,
          0.724303669041783,
          0.734303669041783,
          0.744303669041783,
          0.754303669041783,
          0.764303669041783,
          0.7743036690417828,
          0.7843036690417831,
          0.7943036690417833,
          0.8043036690417831,
          0.8143036690417829,
          0.8243036690417831,
          0.8343036690417833,
          0.8443036690417831,
          0.8543036690417829,
          0.8643036690417831,
          0.8743036690417834,
          0.8843036690417831,
          0.8943036690417829,
          0.9043036690417832,
          0.9143036690417834,
          0.9243036690417832,
          0.934303669041783,
          0.9443036690417832,
          0.9543036690417834,
          0.9643036690417832,
          0.974303669041783,
          0.9843036690417832,
          0.9943036690417835,
          1.0043036690417833,
          1.014303669041783,
          1.0243036690417833,
          1.0343036690417835,
          1.0443036690417833,
          1.054303669041783,
          1.0643036690417833,
          1.0743036690417835,
          1.0843036690417833,
          1.0943036690417831,
          1.1043036690417833,
          1.1143036690417836,
          1.1243036690417834,
          1.1343036690417831,
          1.1443036690417834,
          1.1543036690417836,
          1.1643036690417834,
          1.1743036690417832,
          1.1843036690417834,
          1.1943036690417836,
          1.2043036690417834,
          1.2143036690417832,
          1.2243036690417834,
          1.2343036690417837
         ],
         "xaxis": "x4",
         "y": [
          0.010759557103729535,
          0.011569046364750825,
          0.012432107304071925,
          0.013351681380178108,
          0.014330824962518165,
          0.015372710363650696,
          0.016480626593458756,
          0.017657979812295183,
          0.01890829345951763,
          0.020235208033555503,
          0.02164248049942659,
          0.0231339832994997,
          0.024713702943286703,
          0.026385738152150614,
          0.02815429753504737,
          0.030023696771778154,
          0.031998355280731125,
          0.034082792348736346,
          0.03628162270145778,
          0.038599551493701756,
          0.041041368700140836,
          0.04361194288824105,
          0.04631621435663785,
          0.04915918762384055,
          0.05214592325395582,
          0.05528152900810914,
          0.0585711503124085,
          0.06201996003564133,
          0.06563314757241298,
          0.06941590723012697,
          0.07337342592106816,
          0.0775108701638714,
          0.08183337240183293,
          0.08634601664885047,
          0.09105382347723423,
          0.09596173436522082,
          0.10107459542572303,
          0.10639714054164846,
          0.11193397393700391,
          0.11768955221695863,
          0.12366816591404108,
          0.1298739205816763,
          0.13631071748032095,
          0.1429822339054826,
          0.14989190321091322,
          0.15704289458421145,
          0.16443809263593126,
          0.17208007686705235,
          0.17997110108329434,
          0.18811307282822706,
          0.19650753291041143,
          0.2051556351028861,
          0.214058126096149,
          0.2232153257883624,
          0.2326271079987991,
          0.24229288169251945,
          0.2522115728059084,
          0.2623816067639773,
          0.2728008917812265,
          0.2834668030383526,
          0.29437616782715287,
          0.3055252517555944,
          0.3169097461041908,
          0.3285247564235189,
          0.34036479246092555,
          0.35242375950219823,
          0.3646949512112016,
          0.37717104404720786,
          0.38984409333588305,
          0.4027055310656123,
          0.4157461654760949,
          0.42895618250088813,
          0.44232514911986337,
          0.4558420186713653,
          0.4694951381672537,
          0.48327225764697584,
          0.4971605415994006,
          0.5111465824733599,
          0.5252164162897235,
          0.5393555403594189,
          0.5535489331031279,
          0.5677810759594847,
          0.5820359773595174,
          0.5962971987358525,
          0.6105478825258805,
          0.6247707821187244,
          0.6389482936864933,
          0.6530624898310058,
          0.6670951549679607,
          0.681027822361513,
          0.694841812713361,
          0.7085182742019049,
          0.7220382238587693,
          0.7353825901620982,
          0.748532256718556,
          0.7614681068989527,
          0.7741710692859075,
          0.7866221637860138,
          0.7988025482536131,
          0.8106935654685588,
          0.8222767903063029,
          0.8335340769352859,
          0.8444476058739914,
          0.8549999307381677,
          0.865174024507632,
          0.874953325141785,
          0.8843217803734793,
          0.8932638915122164,
          0.9017647560897945,
          0.9098101091844943,
          0.917386363263655,
          0.9244806463890687,
          0.9310808386349577,
          0.9371756065744173,
          0.9427544356970337,
          0.9478076606279322,
          0.9523264930267242,
          0.9563030470536446,
          0.9597303622996032,
          0.9626024240868317,
          0.9649141810572505,
          0.9666615599765646,
          0.9678414776933646,
          0.9684518502040801,
          0.968491598786483,
          0.9679606531764715,
          0.9668599517750414,
          0.965191438884589,
          0.9629580589859411,
          0.9601637480796886,
          0.9568134221274658,
          0.9529129626406847,
          0.9484691994758614,
          0.9434898909069751,
          0.9379837010562434,
          0.9319601747752055,
          0.9254297100780391,
          0.9184035282385327,
          0.9108936416710578,
          0.9029128197241805,
          0.8944745525231903,
          0.8855930130047602,
          0.8762830172931637,
          0.8665599835729236,
          0.8564398896174535,
          0.8459392291371245,
          0.8350749671132724,
          0.823864494286924,
          0.8123255809724558,
          0.8004763303670398,
          0.7883351315265461,
          0.7759206121775988,
          0.763251591533729,
          0.7503470332810537,
          0.7372259988956561,
          0.7239076014508933,
          0.7104109600682188,
          0.6967551551598398,
          0.6829591846056594,
          0.6690419210005208,
          0.6550220701008272,
          0.6409181305921952,
          0.6267483552919688,
          0.6125307138922106,
          0.5982828573402617,
          0.5840220839451681,
          0.569765307289259,
          0.55552902601498,
          0.5413292955478031,
          0.5271817018066718,
          0.5131013369440882,
          0.49910277714861434,
          0.4852000625333226,
          0.47140667912462825,
          0.45773554295699603,
          0.44419898627030663,
          0.4308087457982109,
          0.4175759531276355,
          0.404511127101776,
          0.3916241682314356,
          0.3789243550724867,
          0.36642034252055933,
          0.35412016196782664,
          0.34203122326097146,
          0.3301603183941149,
          0.31851362686564666,
          0.3070967226235669,
          0.2959145825201064,
          0.28497159619304535,
          0.2742715772883166,
          0.2638177759361287,
          0.25361289239099605,
          0.24365909174468817,
          0.23395801962021648,
          0.2245108187545331,
          0.21531814637762267,
          0.20638019229609958,
          0.1976966975902553,
          0.1892669738347304,
          0.18108992275457036,
          0.17316405623035283,
          0.1654875165683242,
          0.1580580969540163,
          0.15087326201062448,
          0.1439301683864638,
          0.13722568529908635,
          0.13075641496708434,
          0.12451871286420978,
          0.11850870773418037,
          0.11272232130839564,
          0.1071552876727229,
          0.10180317223350069,
          0.09666139023694392,
          0.09172522480017968,
          0.0869898444161769,
          0.08245031989884546,
          0.07810164073853676,
          0.07393873084207828,
          0.06995646363528615,
          0.06614967650961567,
          0.06251318459821084,
          0.05904179387009756,
          0.05573031353460787,
          0.052573567751317656,
          0.049566406643826944,
          0.04670371661859362,
          0.043980429992747955,
          0.04139153393735664,
          0.03893207874497573,
          0.03659718543252229,
          0.03438205269250882,
          0.03228196320751935,
          0.030292289344463062,
          0.028408498246626116,
          0.02662615634285414,
          0.02494093329433815,
          0.023348605400457797,
          0.021845058485955214,
          0.020426290292380904,
          0.01908841239727195,
          0.017827651684903714,
          0.016640351392703888,
          0.01552297175753797,
          0.014472090286079048,
          0.013484401673366337,
          0.012556717393447926,
          0.011685964985698124,
          0.010869187060008157
         ],
         "yaxis": "y4"
        }
       ],
       "layout": {
        "annotations": [
         {
          "font": {
           "size": 16
          },
          "showarrow": false,
          "text": "<br>Model 1:<br>All Data using slope",
          "x": 0.225,
          "xanchor": "center",
          "xref": "paper",
          "y": 1,
          "yanchor": "bottom",
          "yref": "paper"
         },
         {
          "font": {
           "size": 16
          },
          "showarrow": false,
          "text": "<br>Model 2:<br>Short Wait Data",
          "x": 0.775,
          "xanchor": "center",
          "xref": "paper",
          "y": 1,
          "yanchor": "bottom",
          "yref": "paper"
         },
         {
          "font": {
           "size": 16
          },
          "showarrow": false,
          "text": "<br>Model 3:<br>Long Wait Data",
          "x": 0.225,
          "xanchor": "center",
          "xref": "paper",
          "y": 0.375,
          "yanchor": "bottom",
          "yref": "paper"
         },
         {
          "font": {
           "size": 16
          },
          "showarrow": false,
          "text": "<br>Model 4:<br>All Data using indicator",
          "x": 0.775,
          "xanchor": "center",
          "xref": "paper",
          "y": 0.375,
          "yanchor": "bottom",
          "yref": "paper"
         }
        ],
        "template": {
         "data": {
          "bar": [
           {
            "error_x": {
             "color": "#2a3f5f"
            },
            "error_y": {
             "color": "#2a3f5f"
            },
            "marker": {
             "line": {
              "color": "#E5ECF6",
              "width": 0.5
             },
             "pattern": {
              "fillmode": "overlay",
              "size": 10,
              "solidity": 0.2
             }
            },
            "type": "bar"
           }
          ],
          "barpolar": [
           {
            "marker": {
             "line": {
              "color": "#E5ECF6",
              "width": 0.5
             },
             "pattern": {
              "fillmode": "overlay",
              "size": 10,
              "solidity": 0.2
             }
            },
            "type": "barpolar"
           }
          ],
          "carpet": [
           {
            "aaxis": {
             "endlinecolor": "#2a3f5f",
             "gridcolor": "white",
             "linecolor": "white",
             "minorgridcolor": "white",
             "startlinecolor": "#2a3f5f"
            },
            "baxis": {
             "endlinecolor": "#2a3f5f",
             "gridcolor": "white",
             "linecolor": "white",
             "minorgridcolor": "white",
             "startlinecolor": "#2a3f5f"
            },
            "type": "carpet"
           }
          ],
          "choropleth": [
           {
            "colorbar": {
             "outlinewidth": 0,
             "ticks": ""
            },
            "type": "choropleth"
           }
          ],
          "contour": [
           {
            "colorbar": {
             "outlinewidth": 0,
             "ticks": ""
            },
            "colorscale": [
             [
              0,
              "#0d0887"
             ],
             [
              0.1111111111111111,
              "#46039f"
             ],
             [
              0.2222222222222222,
              "#7201a8"
             ],
             [
              0.3333333333333333,
              "#9c179e"
             ],
             [
              0.4444444444444444,
              "#bd3786"
             ],
             [
              0.5555555555555556,
              "#d8576b"
             ],
             [
              0.6666666666666666,
              "#ed7953"
             ],
             [
              0.7777777777777778,
              "#fb9f3a"
             ],
             [
              0.8888888888888888,
              "#fdca26"
             ],
             [
              1,
              "#f0f921"
             ]
            ],
            "type": "contour"
           }
          ],
          "contourcarpet": [
           {
            "colorbar": {
             "outlinewidth": 0,
             "ticks": ""
            },
            "type": "contourcarpet"
           }
          ],
          "heatmap": [
           {
            "colorbar": {
             "outlinewidth": 0,
             "ticks": ""
            },
            "colorscale": [
             [
              0,
              "#0d0887"
             ],
             [
              0.1111111111111111,
              "#46039f"
             ],
             [
              0.2222222222222222,
              "#7201a8"
             ],
             [
              0.3333333333333333,
              "#9c179e"
             ],
             [
              0.4444444444444444,
              "#bd3786"
             ],
             [
              0.5555555555555556,
              "#d8576b"
             ],
             [
              0.6666666666666666,
              "#ed7953"
             ],
             [
              0.7777777777777778,
              "#fb9f3a"
             ],
             [
              0.8888888888888888,
              "#fdca26"
             ],
             [
              1,
              "#f0f921"
             ]
            ],
            "type": "heatmap"
           }
          ],
          "heatmapgl": [
           {
            "colorbar": {
             "outlinewidth": 0,
             "ticks": ""
            },
            "colorscale": [
             [
              0,
              "#0d0887"
             ],
             [
              0.1111111111111111,
              "#46039f"
             ],
             [
              0.2222222222222222,
              "#7201a8"
             ],
             [
              0.3333333333333333,
              "#9c179e"
             ],
             [
              0.4444444444444444,
              "#bd3786"
             ],
             [
              0.5555555555555556,
              "#d8576b"
             ],
             [
              0.6666666666666666,
              "#ed7953"
             ],
             [
              0.7777777777777778,
              "#fb9f3a"
             ],
             [
              0.8888888888888888,
              "#fdca26"
             ],
             [
              1,
              "#f0f921"
             ]
            ],
            "type": "heatmapgl"
           }
          ],
          "histogram": [
           {
            "marker": {
             "pattern": {
              "fillmode": "overlay",
              "size": 10,
              "solidity": 0.2
             }
            },
            "type": "histogram"
           }
          ],
          "histogram2d": [
           {
            "colorbar": {
             "outlinewidth": 0,
             "ticks": ""
            },
            "colorscale": [
             [
              0,
              "#0d0887"
             ],
             [
              0.1111111111111111,
              "#46039f"
             ],
             [
              0.2222222222222222,
              "#7201a8"
             ],
             [
              0.3333333333333333,
              "#9c179e"
             ],
             [
              0.4444444444444444,
              "#bd3786"
             ],
             [
              0.5555555555555556,
              "#d8576b"
             ],
             [
              0.6666666666666666,
              "#ed7953"
             ],
             [
              0.7777777777777778,
              "#fb9f3a"
             ],
             [
              0.8888888888888888,
              "#fdca26"
             ],
             [
              1,
              "#f0f921"
             ]
            ],
            "type": "histogram2d"
           }
          ],
          "histogram2dcontour": [
           {
            "colorbar": {
             "outlinewidth": 0,
             "ticks": ""
            },
            "colorscale": [
             [
              0,
              "#0d0887"
             ],
             [
              0.1111111111111111,
              "#46039f"
             ],
             [
              0.2222222222222222,
              "#7201a8"
             ],
             [
              0.3333333333333333,
              "#9c179e"
             ],
             [
              0.4444444444444444,
              "#bd3786"
             ],
             [
              0.5555555555555556,
              "#d8576b"
             ],
             [
              0.6666666666666666,
              "#ed7953"
             ],
             [
              0.7777777777777778,
              "#fb9f3a"
             ],
             [
              0.8888888888888888,
              "#fdca26"
             ],
             [
              1,
              "#f0f921"
             ]
            ],
            "type": "histogram2dcontour"
           }
          ],
          "mesh3d": [
           {
            "colorbar": {
             "outlinewidth": 0,
             "ticks": ""
            },
            "type": "mesh3d"
           }
          ],
          "parcoords": [
           {
            "line": {
             "colorbar": {
              "outlinewidth": 0,
              "ticks": ""
             }
            },
            "type": "parcoords"
           }
          ],
          "pie": [
           {
            "automargin": true,
            "type": "pie"
           }
          ],
          "scatter": [
           {
            "fillpattern": {
             "fillmode": "overlay",
             "size": 10,
             "solidity": 0.2
            },
            "type": "scatter"
           }
          ],
          "scatter3d": [
           {
            "line": {
             "colorbar": {
              "outlinewidth": 0,
              "ticks": ""
             }
            },
            "marker": {
             "colorbar": {
              "outlinewidth": 0,
              "ticks": ""
             }
            },
            "type": "scatter3d"
           }
          ],
          "scattercarpet": [
           {
            "marker": {
             "colorbar": {
              "outlinewidth": 0,
              "ticks": ""
             }
            },
            "type": "scattercarpet"
           }
          ],
          "scattergeo": [
           {
            "marker": {
             "colorbar": {
              "outlinewidth": 0,
              "ticks": ""
             }
            },
            "type": "scattergeo"
           }
          ],
          "scattergl": [
           {
            "marker": {
             "colorbar": {
              "outlinewidth": 0,
              "ticks": ""
             }
            },
            "type": "scattergl"
           }
          ],
          "scattermapbox": [
           {
            "marker": {
             "colorbar": {
              "outlinewidth": 0,
              "ticks": ""
             }
            },
            "type": "scattermapbox"
           }
          ],
          "scatterpolar": [
           {
            "marker": {
             "colorbar": {
              "outlinewidth": 0,
              "ticks": ""
             }
            },
            "type": "scatterpolar"
           }
          ],
          "scatterpolargl": [
           {
            "marker": {
             "colorbar": {
              "outlinewidth": 0,
              "ticks": ""
             }
            },
            "type": "scatterpolargl"
           }
          ],
          "scatterternary": [
           {
            "marker": {
             "colorbar": {
              "outlinewidth": 0,
              "ticks": ""
             }
            },
            "type": "scatterternary"
           }
          ],
          "surface": [
           {
            "colorbar": {
             "outlinewidth": 0,
             "ticks": ""
            },
            "colorscale": [
             [
              0,
              "#0d0887"
             ],
             [
              0.1111111111111111,
              "#46039f"
             ],
             [
              0.2222222222222222,
              "#7201a8"
             ],
             [
              0.3333333333333333,
              "#9c179e"
             ],
             [
              0.4444444444444444,
              "#bd3786"
             ],
             [
              0.5555555555555556,
              "#d8576b"
             ],
             [
              0.6666666666666666,
              "#ed7953"
             ],
             [
              0.7777777777777778,
              "#fb9f3a"
             ],
             [
              0.8888888888888888,
              "#fdca26"
             ],
             [
              1,
              "#f0f921"
             ]
            ],
            "type": "surface"
           }
          ],
          "table": [
           {
            "cells": {
             "fill": {
              "color": "#EBF0F8"
             },
             "line": {
              "color": "white"
             }
            },
            "header": {
             "fill": {
              "color": "#C8D4E3"
             },
             "line": {
              "color": "white"
             }
            },
            "type": "table"
           }
          ]
         },
         "layout": {
          "annotationdefaults": {
           "arrowcolor": "#2a3f5f",
           "arrowhead": 0,
           "arrowwidth": 1
          },
          "autotypenumbers": "strict",
          "coloraxis": {
           "colorbar": {
            "outlinewidth": 0,
            "ticks": ""
           }
          },
          "colorscale": {
           "diverging": [
            [
             0,
             "#8e0152"
            ],
            [
             0.1,
             "#c51b7d"
            ],
            [
             0.2,
             "#de77ae"
            ],
            [
             0.3,
             "#f1b6da"
            ],
            [
             0.4,
             "#fde0ef"
            ],
            [
             0.5,
             "#f7f7f7"
            ],
            [
             0.6,
             "#e6f5d0"
            ],
            [
             0.7,
             "#b8e186"
            ],
            [
             0.8,
             "#7fbc41"
            ],
            [
             0.9,
             "#4d9221"
            ],
            [
             1,
             "#276419"
            ]
           ],
           "sequential": [
            [
             0,
             "#0d0887"
            ],
            [
             0.1111111111111111,
             "#46039f"
            ],
            [
             0.2222222222222222,
             "#7201a8"
            ],
            [
             0.3333333333333333,
             "#9c179e"
            ],
            [
             0.4444444444444444,
             "#bd3786"
            ],
            [
             0.5555555555555556,
             "#d8576b"
            ],
            [
             0.6666666666666666,
             "#ed7953"
            ],
            [
             0.7777777777777778,
             "#fb9f3a"
            ],
            [
             0.8888888888888888,
             "#fdca26"
            ],
            [
             1,
             "#f0f921"
            ]
           ],
           "sequentialminus": [
            [
             0,
             "#0d0887"
            ],
            [
             0.1111111111111111,
             "#46039f"
            ],
            [
             0.2222222222222222,
             "#7201a8"
            ],
            [
             0.3333333333333333,
             "#9c179e"
            ],
            [
             0.4444444444444444,
             "#bd3786"
            ],
            [
             0.5555555555555556,
             "#d8576b"
            ],
            [
             0.6666666666666666,
             "#ed7953"
            ],
            [
             0.7777777777777778,
             "#fb9f3a"
            ],
            [
             0.8888888888888888,
             "#fdca26"
            ],
            [
             1,
             "#f0f921"
            ]
           ]
          },
          "colorway": [
           "#636efa",
           "#EF553B",
           "#00cc96",
           "#ab63fa",
           "#FFA15A",
           "#19d3f3",
           "#FF6692",
           "#B6E880",
           "#FF97FF",
           "#FECB52"
          ],
          "font": {
           "color": "#2a3f5f"
          },
          "geo": {
           "bgcolor": "white",
           "lakecolor": "white",
           "landcolor": "#E5ECF6",
           "showlakes": true,
           "showland": true,
           "subunitcolor": "white"
          },
          "hoverlabel": {
           "align": "left"
          },
          "hovermode": "closest",
          "mapbox": {
           "style": "light"
          },
          "paper_bgcolor": "white",
          "plot_bgcolor": "#E5ECF6",
          "polar": {
           "angularaxis": {
            "gridcolor": "white",
            "linecolor": "white",
            "ticks": ""
           },
           "bgcolor": "#E5ECF6",
           "radialaxis": {
            "gridcolor": "white",
            "linecolor": "white",
            "ticks": ""
           }
          },
          "scene": {
           "xaxis": {
            "backgroundcolor": "#E5ECF6",
            "gridcolor": "white",
            "gridwidth": 2,
            "linecolor": "white",
            "showbackground": true,
            "ticks": "",
            "zerolinecolor": "white"
           },
           "yaxis": {
            "backgroundcolor": "#E5ECF6",
            "gridcolor": "white",
            "gridwidth": 2,
            "linecolor": "white",
            "showbackground": true,
            "ticks": "",
            "zerolinecolor": "white"
           },
           "zaxis": {
            "backgroundcolor": "#E5ECF6",
            "gridcolor": "white",
            "gridwidth": 2,
            "linecolor": "white",
            "showbackground": true,
            "ticks": "",
            "zerolinecolor": "white"
           }
          },
          "shapedefaults": {
           "line": {
            "color": "#2a3f5f"
           }
          },
          "ternary": {
           "aaxis": {
            "gridcolor": "white",
            "linecolor": "white",
            "ticks": ""
           },
           "baxis": {
            "gridcolor": "white",
            "linecolor": "white",
            "ticks": ""
           },
           "bgcolor": "#E5ECF6",
           "caxis": {
            "gridcolor": "white",
            "linecolor": "white",
            "ticks": ""
           }
          },
          "title": {
           "x": 0.05
          },
          "xaxis": {
           "automargin": true,
           "gridcolor": "white",
           "linecolor": "white",
           "ticks": "",
           "title": {
            "standoff": 15
           },
           "zerolinecolor": "white",
           "zerolinewidth": 2
          },
          "yaxis": {
           "automargin": true,
           "gridcolor": "white",
           "linecolor": "white",
           "ticks": "",
           "title": {
            "standoff": 15
           },
           "zerolinecolor": "white",
           "zerolinewidth": 2
          }
         }
        },
        "title": {
         "text": "Histograms of Residuals from Different Models"
        },
        "xaxis": {
         "anchor": "y",
         "domain": [
          0,
          0.45
         ],
         "range": [
          -2,
          2
         ],
         "title": {
          "text": "n=272"
         }
        },
        "xaxis2": {
         "anchor": "y2",
         "domain": [
          0.55,
          1
         ],
         "range": [
          -2,
          2
         ],
         "title": {
          "text": "n=83"
         }
        },
        "xaxis3": {
         "anchor": "y3",
         "domain": [
          0,
          0.45
         ],
         "range": [
          -2,
          2
         ],
         "title": {
          "text": "n=160"
         }
        },
        "xaxis4": {
         "anchor": "y4",
         "domain": [
          0.55,
          1
         ],
         "range": [
          -2,
          2
         ],
         "title": {
          "text": "n=272"
         }
        },
        "yaxis": {
         "anchor": "x",
         "domain": [
          0.625,
          1
         ]
        },
        "yaxis2": {
         "anchor": "x2",
         "domain": [
          0.625,
          1
         ]
        },
        "yaxis3": {
         "anchor": "x3",
         "domain": [
          0,
          0.375
         ]
        },
        "yaxis4": {
         "anchor": "x4",
         "domain": [
          0,
          0.375
         ]
        }
       }
      },
      "text/html": [
       "<div>                            <div id=\"7d5c5779-7edf-4473-be5a-33d7555bd4d4\" class=\"plotly-graph-div\" style=\"height:525px; width:100%;\"></div>            <script type=\"text/javascript\">                require([\"plotly\"], function(Plotly) {                    window.PLOTLYENV=window.PLOTLYENV || {};                                    if (document.getElementById(\"7d5c5779-7edf-4473-be5a-33d7555bd4d4\")) {                    Plotly.newPlot(                        \"7d5c5779-7edf-4473-be5a-33d7555bd4d4\",                        [{\"histnorm\":\"probability density\",\"name\":\"\\u003cbr\\u003eModel 1:\\u003cbr\\u003eAll Data using slope\",\"x\":[-0.5005919017864158,-0.40989320298984855,-0.38945216202710187,-0.5319167866047501,-0.021359589497591536,0.5974788490582887,-0.08124343335318063,-0.9543595894975918,-0.033009359134260174,-0.20435958949759225,-0.37689320298984863,-0.5617316415457303,0.17503604616544788,0.06950243267319056,0.2968963064061336,0.10836269291387701,-1.06491678660475,0.3212683584542697,-0.4586373070861227,0.14940809821358414,-0.18300935913426009,0.06950243267319056,-0.5749639538345521,-0.2773124222677885,0.8105478379728983,-0.8031036935938665,-0.3185211509417112,0.2092919420691728,-0.1749639538345522,0.33240809821358397,0.6531757859247604,0.5176639941173096,0.24957142158779932,-0.14321984973827728,0.11054783797289813,-0.0416373070861229,0.11087448472132788,0.6567801502617225,-0.755032942749162,-0.1494993292569058,0.173780150261722,-0.6294049947972993,0.08826835845427006,-0.7624049947972993,0.886175785924761,-1.0861036935938664,0.8668273174915249,-0.03426525503798583,0.30552425435799524,-0.588032942749162,1.001919890021035,-0.21649932925690596,-0.37689320298984863,0.6567801502617225,-0.4768932029898485,0.47989630640613345,0.22143168182848605,-1.2991726825084755,0.6176639941173101,0.06515220230985896,-0.35503294274916186,0.021268358454269887,-0.006125515278672111,0.47252425435799505,-0.8466608907010247,-0.6837552251606311,0.14203604616544752,0.6750360461654479,-0.9748006304603378,1.0531757859247608,-0.2944757456420044,-0.39414909889357386,0.39940809821358414,0.504431681828486,-0.8319167866047499,1.1932919420691728,-0.6466608907010247,0.5420360461654479,0.00929194206917261,-0.8031036935938665,0.3349198900210353,0.005524254357995417,0.6800596297803483,-0.408800630460338,0.4201757859247608,0.15175656664681902,0.07629194206917278,0.3407801502617227,0.4108744847213277,-0.6299875374494555,-0.46366089070102445,-0.599499329256906,-0.040381411182397464,0.7920360461654479,-1.0575447345566127,0.7288037338766231,0.1882683584542697,-0.048080109978964725,-0.11600935913426014,0.5725242543579956,-0.3319167866047499,-0.4142434333531808,0.2682465367694653,0.09689630640613345,-0.20184779769014138,0.18650243267319055,0.22126835845427006,-0.2756373070861229,0.22001246255054419,-0.5688477976901414,0.9349198900210358,-0.28803294274916214,0.043128618694957765,0.31640809821358395,-0.888032942749162,0.3811522023098588,0.4096185888176027,0.04564041050240775,-0.771032942749162,-0.28861548540131743,0.4827347449620141,0.7226875777322115,0.30066399411730993,-0.39414909889357386,-0.18124343335318116,-0.4848477976901413,0.38775832857691594,0.17252425435799523,-0.018521150941711362,-0.2824993292569058,0.3377583285769159,-0.23610369359386674,0.4388509011064259,-0.5238713813050424,0.2281303806250532,0.05552425435799524,-0.10000935913426012,0.30301246255054437,-0.101265255037986,-0.36759190178641576,-0.018847797690140666,-0.43066089070102453,0.2055242543579956,0.8676639941173101,0.4592919420691728,-0.6050329427491619,0.45678015026172236,0.18524653676946512,-0.28626701696808254,-0.3342652550379859,1.0836639941173103,0.05066399411730993,-0.6418006304603381,0.34815220230985844,0.07143168182848614,0.5800596297803486,0.2481522023098588,-1.076383173112493,-0.3342652550379859,-0.8898713813050425,0.6707583285769161,-0.4799875374494551,-0.5124049947972993,-0.19196395383455211,0.38257142158779933,0.7092919420691728,-0.5235447345566127,0.2187565666468192,-0.12563730708612275,-0.5423831731124933,0.08524653676946525,-0.3537770468454364,0.6336639941173101,0.06431552568407417,-0.08484779769014139,0.08115220230985898,0.8531757859247606,0.5096185888176024,-0.5543595894975919,0.44454783797289776,-0.40252115094171126,0.6336639941173101,-0.15310369359386655,-0.6361036935938666,0.04999064086573979,0.40803604616544753,-0.39573164154572993,0.2281303806250532,0.013896306406133263,-0.10252115094171099,0.5481522023098586,-0.6037770468454366,0.9262919420691724,-0.37873164154573047,0.01666399411731012,-0.018847797690140666,-1.2056154854013172,0.4166639941173105,0.26699064086573987,0.6420360461654475,-0.5636608907010245,0.022524254357994877,-0.8751272772087679,-0.2672652550379859,0.5750360461654473,0.17813038062505315,0.4176639941173099,-0.62873164154573,0.10124653676946527,0.09689630640613345,-1.112568318171514,0.5237801502617225,0.03524653676946521,0.03491989002103546,0.4508273174915245,0.35929194206917314,0.265734744962014,-0.435011121064357,-0.28552115094171127,0.27629194206917296,-0.040381411182397464,-0.06047574564200442,-0.4598932029898486,0.6849198900210358,-0.0249639538345523,0.016408098213584132,0.058036046165447885,0.24203604616544805,0.49705962978034846,0.44940809821358396,0.6630596297803488,0.20710679701015122,-0.44698753744945563,0.3096185888176026,-0.482499329256906,-0.3268932029898486,-0.3598932029898485,0.3336639941173103,-0.15059190178641568,-0.6331726825084751,0.35191989002103563,0.6695024326731907,0.30301246255054437,0.009455265443387262,0.028640410502408287,-0.4944757456420046,-0.3537770468454364,0.039524254357995225,-1.0600565263640633,0.6275478379728976,-0.009893202989848415,0.046896306406133625,-0.07982421407523921,0.8531757859247606,-0.6312434333531804,-0.3592198497382775,0.4214316818284858,0.046896306406133625,-0.36114909889357394,0.1824080982135845,0.742036046165448,0.05426835845427025,-0.6624049947972992,-0.15310369359386655,0.6050142244806413,-0.41366089070102463,0.9519198900210353,-0.1348477976901412,0.5451303806250531,-0.5154993292569063,0.21213038062505318,0.7445478379728976],\"xbins\":{\"end\":1.95,\"size\":0.3,\"start\":-1.95},\"type\":\"histogram\",\"xaxis\":\"x\",\"yaxis\":\"y\"},{\"line\":{\"color\":\"black\",\"dash\":\"dot\",\"width\":2},\"mode\":\"lines\",\"name\":\"Normal Distribution\\u003cbr\\u003e(99.7% of its area)\",\"opacity\":0.5,\"x\":[-1.4867880403088838,-1.4767880403088838,-1.4667880403088838,-1.4567880403088838,-1.4467880403088837,-1.4367880403088837,-1.4267880403088837,-1.4167880403088837,-1.4067880403088837,-1.3967880403088837,-1.3867880403088837,-1.3767880403088837,-1.3667880403088837,-1.3567880403088837,-1.3467880403088837,-1.3367880403088837,-1.3267880403088836,-1.3167880403088836,-1.3067880403088836,-1.2967880403088836,-1.2867880403088836,-1.2767880403088836,-1.2667880403088836,-1.2567880403088836,-1.2467880403088836,-1.2367880403088836,-1.2267880403088836,-1.2167880403088835,-1.2067880403088835,-1.1967880403088835,-1.1867880403088835,-1.1767880403088835,-1.1667880403088835,-1.1567880403088835,-1.1467880403088835,-1.1367880403088835,-1.1267880403088835,-1.1167880403088835,-1.1067880403088834,-1.0967880403088834,-1.0867880403088834,-1.0767880403088834,-1.0667880403088834,-1.0567880403088834,-1.0467880403088834,-1.0367880403088834,-1.0267880403088834,-1.0167880403088834,-1.0067880403088834,-0.9967880403088833,-0.9867880403088833,-0.9767880403088833,-0.9667880403088833,-0.9567880403088833,-0.9467880403088833,-0.9367880403088833,-0.9267880403088833,-0.9167880403088833,-0.9067880403088833,-0.8967880403088833,-0.8867880403088833,-0.8767880403088832,-0.8667880403088832,-0.8567880403088832,-0.8467880403088832,-0.8367880403088832,-0.8267880403088832,-0.8167880403088832,-0.8067880403088832,-0.7967880403088832,-0.7867880403088832,-0.7767880403088832,-0.7667880403088831,-0.7567880403088831,-0.7467880403088831,-0.7367880403088831,-0.7267880403088831,-0.7167880403088831,-0.7067880403088831,-0.6967880403088831,-0.6867880403088831,-0.6767880403088831,-0.6667880403088831,-0.656788040308883,-0.646788040308883,-0.636788040308883,-0.626788040308883,-0.616788040308883,-0.606788040308883,-0.596788040308883,-0.586788040308883,-0.576788040308883,-0.566788040308883,-0.556788040308883,-0.546788040308883,-0.5367880403088829,-0.5267880403088829,-0.5167880403088829,-0.5067880403088829,-0.4967880403088829,-0.4867880403088829,-0.4767880403088829,-0.4667880403088829,-0.45678804030888287,-0.44678804030888286,-0.43678804030888285,-0.42678804030888284,-0.41678804030888283,-0.4067880403088828,-0.3967880403088828,-0.3867880403088828,-0.3767880403088828,-0.3667880403088828,-0.3567880403088828,-0.3467880403088828,-0.33678804030888276,-0.32678804030888275,-0.31678804030888275,-0.30678804030888274,-0.29678804030888273,-0.2867880403088827,-0.2767880403088827,-0.2667880403088827,-0.2567880403088827,-0.24678804030888268,-0.23678804030888267,-0.22678804030888267,-0.21678804030888266,-0.20678804030888265,-0.19678804030888264,-0.18678804030888263,-0.17678804030888262,-0.1667880403088826,-0.1567880403088826,-0.1467880403088826,-0.13678804030888259,-0.12678804030888258,-0.11678804030888257,-0.10678804030888256,-0.09678804030888255,-0.08678804030888254,-0.07678804030888253,-0.06678804030888252,-0.056788040308882515,-0.046788040308882506,-0.0367880403088825,-0.026788040308882488,-0.01678804030888248,-0.00678804030888247,0.0032119596911175385,0.013211959691117547,0.023211959691117556,0.033211959691117565,0.043211959691117574,0.05321195969111758,0.06321195969111759,0.0732119596911176,0.08321195969111761,0.09321195969111762,0.10321195969111763,0.11321195969111764,0.12321195969111765,0.13321195969111765,0.14321195969111766,0.15321195969111767,0.16321195969111768,0.1732119596911177,0.1832119596911177,0.1932119596911177,0.20321195969111772,0.21321195969111773,0.22321195969111773,0.23321195969111774,0.24321195969111775,0.25321195969111776,0.26321195969111777,0.2732119596911178,0.2832119596911178,0.2932119596911178,0.3032119596911178,0.3132119596911178,0.3232119596911178,0.33321195969111783,0.34321195969111784,0.35321195969111785,0.36321195969111786,0.37321195969111787,0.3832119596911179,0.3932119596911179,0.4032119596911179,0.4132119596911179,0.4232119596911179,0.4332119596911179,0.44321195969111793,0.45321195969111794,0.46321195969111795,0.47321195969111796,0.48321195969111796,0.493211959691118,0.503211959691118,0.513211959691118,0.5232119596911178,0.533211959691118,0.5432119596911182,0.553211959691118,0.5632119596911178,0.573211959691118,0.5832119596911183,0.5932119596911181,0.6032119596911178,0.6132119596911181,0.6232119596911183,0.6332119596911181,0.6432119596911179,0.6532119596911181,0.6632119596911183,0.6732119596911181,0.6832119596911179,0.6932119596911182,0.7032119596911184,0.7132119596911182,0.723211959691118,0.7332119596911182,0.7432119596911184,0.7532119596911182,0.763211959691118,0.7732119596911182,0.7832119596911185,0.7932119596911182,0.803211959691118,0.8132119596911183,0.8232119596911185,0.8332119596911183,0.8432119596911181,0.8532119596911183,0.8632119596911185,0.8732119596911183,0.8832119596911181,0.8932119596911183,0.9032119596911186,0.9132119596911183,0.9232119596911181,0.9332119596911184,0.9432119596911186,0.9532119596911184,0.9632119596911182,0.9732119596911184,0.9832119596911186,0.9932119596911184,1.0032119596911182,1.0132119596911184,1.0232119596911187,1.0332119596911185,1.0432119596911182,1.0532119596911185,1.0632119596911187,1.0732119596911185,1.0832119596911183,1.0932119596911185,1.1032119596911187,1.1132119596911185,1.1232119596911183,1.1332119596911185,1.1432119596911188,1.1532119596911186,1.1632119596911183,1.1732119596911186,1.1832119596911188,1.1932119596911186,1.2032119596911184,1.2132119596911186,1.2232119596911188,1.2332119596911186,1.2432119596911184,1.2532119596911186,1.2632119596911189,1.2732119596911187,1.2832119596911185,1.2932119596911187,1.303211959691119,1.3132119596911187,1.3232119596911185,1.3332119596911187,1.343211959691119,1.3532119596911187,1.3632119596911185,1.3732119596911188,1.383211959691119,1.3932119596911188,1.4032119596911186,1.4132119596911188,1.423211959691119,1.4332119596911188,1.4432119596911186,1.4532119596911188,1.463211959691119,1.4732119596911188,1.4832119596911186],\"y\":[0.00894246178698871,0.0094985629926708,0.010085139330619577,0.010703580482900413,0.011355321544649933,0.012041843401162836,0.012764673032018283,0.013525383737039327,0.014325595278791984,0.015166973936257284,0.01605123246424839,0.01698012995310001,0.017955471583126083,0.018979108268329145,0.020052936183848256,0.021178896171655682,0.022358973019054824,0.02359519460459501,0.024889630906104212,0.02624439286564695,0.027661631106346358,0.02914353449616353,0.030692328553907314,0.032310273692952536,0.033999663298376656,0.03576282163348282,0.03760210157196232,0.039519882152262924,0.04151856595107022,0.04360057627317742,0.045768354155416566,0.048024355182748064,0.050371046115059465,0.0528109013237025,0.05534639903730704,0.05798001739694222,0.06071423032125672,0.06355150318281279,0.06649428829743895,0.06954502022905712,0.07270611091309255,0.0759799446022493,0.07936887263912527,0.0828752080608491,0.08650122004164593,0.09024912817997434,0.09412109663762565,0.09811922813893034,0.10224555783898075,0.10650204707054123,0.11089057698008585,0.11541294206416408,0.1200708436180565,0.1248658831094299,0.1297995554904417,0.13487324246246893,0.14008820570833982,0.14544558010763653,0.15094636695129393,0.1565914271723546,0.16238147461034041,0.1683170693272675,0.17439861099386067,0.18062633236500655,0.18700029286392883,0.19352037229496075,0.20018626470512843,0.2069974724150492,0.2139533002398725,0.22105284992116328,0.2282950147907267,0.2356784746874167,0.24320169114793702,0.2508629028925421,0.25866012162637675,0.26659112817694,0.27465346898784043,0.28284445298860844,0.29116114885985184,0.2996003827124888,0.308158736199154,0.3168325450751631,0.32561789822562553,0.33451063717443125,0.34350635608988456,0.35260040230074174,0.361787877335311,0.3710636384951072,0.3804223009733169,0.3898582405270262,0.39936559671079946,0.40893827667776805,0.41856995955290577,0.4282541013816369,0.43798394065533214,0.4477525044136324,0.45755261492186505,0.46737689692013384,0.4772177854389261,0.4870675341743463,0.4969182244143198,0.5067617745053405,0.5165899498475633,0.5263943734042744,0.5361665367100097,0.5458978113598535,0.5555794609607274,0.5652026535237905,0.5747584742754257,0.584237938862672,0.5936320069274151,0.6029315960221411,0.6121275958386306,0.6212108827196001,0.6301723344220118,0.6390028450995677,0.647693340470785,0.656234793138025,0.6646182380219255,0.6728347878748605,0.6808756488363418,0.6887321359926728,0.6963956889026783,0.7038578870509723,0.7111104651899725,0.7181453285317582,0.7249545677508691,0.7315304737592716,0.7378655522149912,0.7439525377262841,0.7497844077137528,0.7553543958934456,0.7606560053447591,0.765683021127852,0.7704295224163058,0.7748898941118979,0.7790588379096136,0.7829313827823864,0.7865028948565334,0.7897690866504297,0.7927260256506427,0.7953701422015149,0.7976982366860432,0.7997074859778309,0.8013954491459038,0.8027600723962538,0.8037996932361049,0.8045130438490847,0.8048992536717066,0.8049578511638367,0.8046887647681022,0.8040923230555123,0.8031692540568712,0.8019206837818952,0.8003481339302431,0.7984535188009783,0.7962391414092461,0.7937076888211965,0.7908622267203744,0.7877061932209665,0.7842433919453702,0.7804779843856054,0.7764144815700321,0.7720577350587347,0.7674129272927289,0.7624855613238599,0.7572814499538684,0.7518067043126246,0.7460677219069269,0.740071174172558,0.7338239935634795,0.7273333602130968,0.7206066882034767,0.7136516114792084,0.7064759694432949,0.6990877922730244,0.6914952859942033,0.6837068173524439,0.6757308985203749,0.6675761716796957,0.6592513935169163,0.6507654196714286,0.6421271891742282,0.6333457089151612,0.6244300381760142,0.6153892732660879,0.6062325322961108,0.5969689401254665,0.587607613516709,0.5781576465302658,0.5686280961910462,0.5590279684574172,0.5493662045216676,0.5396516674696746,0.5298931293260066,0.5200992585091595,0.5102786077200399,0.5004396022851614,0.49059052897435595,0.4807395253110854,0.47089456939170726,0.46106347022829325,0.4512538586278326,0.4414731786188825,0.4317286794349497,0.4220274080621272,0.41237620235676015,0.4027816847371808,0.3932502564518383,0.38378809242448664,0.37440113667544594,0.36509509831635484,0.35587544811427585,0.34674741561952216,0.3377159868501217,0.3287859025244463,0.3199616568322073,0.31124749673276064,0.3026474217684741,0.29416518437978106,0.28580429070750446,0.27756800186705494,0.26945933567821684,0.26148106883341116,0.25363573948658147,0.24592565024419177,0.2383528715392377,0.2309192453686679,0.2236263893741815,0.21647570124602122,0.20946836342910943,0.2026053481106673,0.19588742246833754,0.18931515415777153,0.18288891701866156,0.17660889697827364,0.17047509813168293,0.16448734897812275,0.1586453087931246,0.15294847411644463,0.14739618533614693,0.14198763334964218,0.13672186628294727,0.13159779624994464,0.12661420613397403,0.1217697563746788,0.11706299174365112,0.11249234809307007,0.10805615906220402,0.1037526627273489,0.09958000818149236,0.09553626203072738,0.09161941479518372,0.08782738720300526,0.08415803636666092,0.0806091618316419,0.07717851148836448,0.07386378733885987,0.07066265111059329,0.06757272971050157,0.06459162051308073,0.061716896477084705,0.0589461110861084,0.056276803109029334,0.05370650117695798,0.05123272817401128,0.0488530054398622,0.04656485678263391,0.044365812301301655,0.04225341201733331,0.04022520931584459,0.038278774197059384,0.036411696339356474,0.03462158797564673,0.032906086585260175,0.031262857403927764,0.02968959575482191,0.028184029203971502,0.026743919543689314,0.025367064607944856,0.024051299923883288,0.022794500203932797,0.021594580683157255,0.020449498306698975,0.019357252772320598,0.018315887433194337,0.01732349006620243,0.01637819351110497,0.015478176186002276,0.014621662484569118,0.01380692306056762,0.013032275005156508,0.012296081922506736,0.011596753909209586,0.010932747442923007,0.010302565185646198,0.009704755706943615,0.00913791313235708],\"type\":\"scatter\",\"xaxis\":\"x\",\"yaxis\":\"y\"},{\"histnorm\":\"probability density\",\"name\":\"\\u003cbr\\u003eModel 2:\\u003cbr\\u003eShort Wait Data\",\"x\":[-0.21366645043174892,0.8624153007827706,-0.04291170407530731,-0.180666450431749,-0.21523870893338515,0.1671700471392119,-0.3998299528607878,-0.19291170407530722,-0.21523870893338515,-0.053584699217229304,0.017170047139211997,-0.10515695771886557,-0.21525769435915199,-0.15833944557367108,-0.2913394455736711,0.09325179835373154,-0.04825769435915195,-0.180666450431749,-0.28066645043174887,0.18474230564084815,-0.22215695771886557,-0.23817594314463242,-0.060502948002710166,-0.03817594314463246,0.19484304228113425,0.1448240568553678,-0.11899345528982685,-0.12591170407530727,0.12092479349565388,-0.09823870893338515,-0.216829952860788,0.2517423056408479,-0.348257694359152,0.3310065447101733,-0.231257694359152,0.6102517983537314,-0.060502948002710166,-0.03440221136242383,0.24641530078277052,-0.08440221136242387,0.7724970519972896,-0.12532046014790454,-0.10991170407530726,0.02625179835373137,0.17782405685536773,-0.06525769435915185,0.0379247934956537,-0.2067482016462685,-0.2067482016462685,0.2485977886375763,-0.041339445573671085,-0.06682995286078786,-0.06207520650434617,0.04857880321180952,0.43100654471017297,-0.13758469921722938,0.04008829592469265,-0.12532046014790454,0.1624153007827709,-0.2014211967881907,0.25708829592469273,0.04482405685536772,-0.13974820164626856,-0.1753204601479046,-0.046075206504346156,-0.11207520650434621,0.39325179835373136,-0.020584699217229385,-0.11899345528982685,-0.26366645043174897,0.40333354956825085,0.23100654471017323,-0.13066645043174896,-0.16366645043174888,0.38476129106661494,0.04857880321180952,0.1863335495682512,-0.027502948002710248,-0.191339445573671,0.04543428620853729,0.19482405685536763,0.1916795398520954,-0.14132046014790456],\"xbins\":{\"end\":1.9,\"size\":0.2,\"start\":-1.9},\"type\":\"histogram\",\"xaxis\":\"x2\",\"yaxis\":\"y2\"},{\"line\":{\"color\":\"black\",\"dash\":\"dot\",\"width\":2},\"mode\":\"lines\",\"name\":\"Normal Distribution\\u003cbr\\u003e(99.7% of its area)\",\"opacity\":0.5,\"x\":[-0.7101615934653974,-0.7001615934653974,-0.6901615934653974,-0.6801615934653974,-0.6701615934653974,-0.6601615934653974,-0.6501615934653974,-0.6401615934653974,-0.6301615934653974,-0.6201615934653973,-0.6101615934653973,-0.6001615934653973,-0.5901615934653973,-0.5801615934653973,-0.5701615934653973,-0.5601615934653973,-0.5501615934653973,-0.5401615934653973,-0.5301615934653973,-0.5201615934653973,-0.5101615934653972,-0.5001615934653972,-0.4901615934653972,-0.4801615934653972,-0.4701615934653972,-0.4601615934653972,-0.4501615934653972,-0.4401615934653972,-0.4301615934653972,-0.42016159346539717,-0.41016159346539716,-0.40016159346539715,-0.39016159346539714,-0.38016159346539713,-0.3701615934653971,-0.3601615934653971,-0.3501615934653971,-0.3401615934653971,-0.3301615934653971,-0.3201615934653971,-0.31016159346539707,-0.30016159346539706,-0.29016159346539705,-0.28016159346539704,-0.27016159346539703,-0.260161593465397,-0.250161593465397,-0.240161593465397,-0.230161593465397,-0.220161593465397,-0.21016159346539698,-0.20016159346539697,-0.19016159346539696,-0.18016159346539695,-0.17016159346539694,-0.16016159346539693,-0.15016159346539693,-0.14016159346539692,-0.1301615934653969,-0.1201615934653969,-0.11016159346539689,-0.10016159346539688,-0.09016159346539687,-0.08016159346539686,-0.07016159346539685,-0.060161593465396845,-0.050161593465396836,-0.04016159346539683,-0.03016159346539682,-0.02016159346539681,-0.010161593465396801,-0.0001615934653967921,0.009838406534603217,0.019838406534603226,0.029838406534603235,0.03983840653460324,0.04983840653460325,0.05983840653460326,0.06983840653460327,0.07983840653460328,0.08983840653460329,0.0998384065346033,0.1098384065346033,0.11983840653460331,0.12983840653460332,0.13983840653460333,0.14983840653460334,0.15983840653460335,0.16983840653460336,0.17983840653460337,0.18983840653460338,0.19983840653460339,0.2098384065346034,0.2198384065346034,0.2298384065346034,0.23983840653460342,0.24983840653460343,0.25983840653460344,0.26983840653460345,0.27983840653460346,0.28983840653460347,0.2998384065346035,0.3098384065346035,0.3198384065346035,0.3298384065346035,0.3398384065346035,0.3498384065346035,0.3598384065346035,0.36983840653460354,0.37983840653460355,0.38983840653460355,0.39983840653460356,0.40983840653460357,0.4198384065346036,0.4298384065346036,0.4398384065346036,0.4498384065346036,0.4598384065346036,0.4698384065346036,0.47983840653460363,0.48983840653460364,0.49983840653460365,0.5098384065346037,0.5198384065346037,0.5298384065346037,0.5398384065346037,0.5498384065346037,0.5598384065346037,0.5698384065346037,0.5798384065346037,0.5898384065346037,0.5998384065346037,0.6098384065346037,0.6198384065346038,0.6298384065346038,0.6398384065346038,0.6498384065346038,0.6598384065346038,0.6698384065346038,0.6798384065346038,0.6898384065346038,0.6998384065346038,0.7098384065346038],\"y\":[0.018721859022163313,0.021232461612921184,0.024036803067943636,0.027163019405407603,0.03064110078090899,0.03450290508318714,0.0387821555938843,0.04351442069933256,0.04873707362465408,0.054489230171214265,0.060811662481048315,0.0677466869294803,0.07533802436268024,0.08363063105291658,0.09267049894283955,0.10250442399281001,0.11317974173294672,0.1247440294543252,0.13724477485093353,0.1507290113439497,0.16524292078009375,0.18083140469259978,0.19753762584211407,0.2154025223098401,0.2344642969897423,0.2547578859128249,0.27631440942569135,0.29916061082815465,0.32331828764031273,0.348803721207264,0.37562711084816963,0.4037920192040974,0.4332948358243684,0.4641242663426112,0.49626085482048626,0.5296765469688643,0.5643343019839474,0.6001877606514293,0.6371809771688675,0.6752482218102278,0.7143138611043212,0.7542923216199159,0.7950881427463267,0.8365961230332819,0.8787015637143599,0.9212806119932114,0.9642007055325312,1.0073211183660857,1.0504936071698727,1.0935631554976648,1.1363688122282989,1.1787446191081712,1.2205206209245067,1.2615239505358333,1.301579979738598,1.3405135257857597,1.3781501023164955,1.414317202526744,1.4488456016274647,1.4815706650184615,1.512333648165192,1.5409829739161713,1.5673754729482283,1.5913775731815136,1.6128664243676802,1.6317309446213806,1.647872776431597,1.6612071406462965,1.6716635780587263,1.6791865695202974,1.683736026944331,1.6852876491250708,1.6838331379530855,1.6793802723354379,1.6719528388992781,1.66159042034259,1.648348044067022,1.632295695456816,1.613517701827263,1.5921119946297504,1.5681892589440594,1.5418719805901258,1.513293402331803,1.4825964016080944,1.4499323030000386,1.415459639214686,1.3793428747358365,1.3417511064524847,1.3028567555321746,1.262834264562931,1.2218588135530328,1.180105067764398,1.1377459695775458,1.09495158566114,1.0518880196662097,1.0087163995051336,0.965591947030371,0.9226631366204054,0.8800709478333737,0.8379482159251199,0.7964190826699996,0.7555985485907336,0.7155921264175963,0.6764955943752142,0.638394846753169,0.6013658381683012,0.5654746169835217,0.5307774425191263,0.4973209799846528,0.46514256647628205,0.434270540928461,0.4047246305781736,0.3765163862934326,0.3496496590294425,0.32412110970007746,0.29992074488091625,0.2770324709839181,0.2554346598527372,0.23510071911075106,0.21599966103976845,0.19809666426445446,0.18135362305418357,0.165729679618947,0.15118173535812232,0.13766493761004797,0.12513313903677978,0.11353932735341045,0.10283602366708482,0.09297564822054556,0.0839108528329574,0.07559481979217729,0.06798152737395619,0.06102598254213471,0.05468442171811072,0.04891448079697269,0.043675335831817076,0.038927816007749534,0.03463449068442819,0.030759732402804153,0.027269757830494686,0.024132648663889214,0.02131835451681741,0.01879867980876989],\"type\":\"scatter\",\"xaxis\":\"x2\",\"yaxis\":\"y2\"},{\"histnorm\":\"probability density\",\"name\":\"\\u003cbr\\u003eModel 3:\\u003cbr\\u003eLong Wait Data\",\"x\":[-0.7192309896346223,-0.9250108424020045,0.1403048336862378,0.27057274534666664,-0.7926951663137625,-0.04269516631376291,-0.4634511368672394,-0.10698696018809795,0.33179289257928435,0.41954886313276063,-0.06923098963462238,-0.856986960188098,0.2749891575979957,-0.7682071074207157,-0.1994989012950512,-0.45698696018809803,0.11376901036537745,0.054233187044518516,0.17225706925842488,-0.2984750190811454,-0.4250108424020045,0.5015249809188544,0.3290846864536201,0.018524980918853906,0.18654886313276098,0.28723318704451906,-1.0512071074207157,0.27703692202580754,0.5297451281514718,0.26208468645361993,0.5015249809188544,0.5147928925792842,0.2722570692584254,-0.02671904852766893,0.11954886313276081,0.44403692202580736,-0.07840337243942663,-0.1399869601880983,0.39301303981190205,0.45423318704451887,-0.3229630779741921,0.18076901036537762,0.7845010987049488,0.26001303981190205,-0.3994989012950514,-0.7682071074207157,-0.13725487184852803,-0.02296307797419228,-0.17876681295548114,0.5035727453466663,-0.3324989012950512,0.1855249809188546,-0.4049391957602868,-0.12091531354638008,0.510013039811902,0.06647721649104188,0.2865488631327606,-0.520254871848528,0.5440369220258079,-0.06242725465333354,0.13179289257928417,-0.2937190485276693,0.319548863132761,0.44506080423971284,-0.6607190485276693,0.4627451281514725,0.45832871590014346,0.09776901036537744,0.2892809514723309,0.2073048336862371,-0.0001832252068103557,-0.04474293074157476,0.1705727453466661,-0.5767190485276692,0.14403692202580753,0.1960846864536201,-0.201207107420716,-0.10867128409985671,0.02703692202580754,0.528060804239713,-0.5862309896346223,-0.11071904852766856,0.1770369220258079,0.5222570692584254,0.05050109870494879,0.30152498091885427,0.5726205097744783,0.7382570692584256,-0.29474293074157476,0.25628095147233054,0.1562809514723309,-0.40764740188595106,-0.4746712840998568,-0.25493919576028645,-0.47398696018809794,0.3005010987049488,0.5705727453466665,0.12635259811404875,0.2882570692584254,-0.1767190485276693,-0.010719048527668917,0.2542331870445187,-0.39269516631376256,-0.09101084240200485,0.2882570692584254,-0.11820710742071583,-0.6012071074207159,0.1260130398119017,-0.297451136867239,0.048792892579283986,0.4562809514723307,0.5175010987049484,-0.28045113686723955,-0.32874293074157457,-0.11071904852766856,-0.9171832252068102,0.07125706925842579,0.3600130398119017,-0.005963077974192821,-0.3331593429929036,0.2930130398119015,0.07225706925842523,-0.5304511368672391,0.13179289257928417,0.36852498091885444,-0.43725487184852785,-0.04949890129505086,0.2971085686675252,-0.13249890129505104,-0.08896307797419212,0.2127451281514725,-0.3069869601880981,-0.20223098963462238,-0.22398696018809794,-0.039986960188097775,0.23076901036537745,-0.22193919576028698,-0.003915313546380084,-0.011742930741574398,-0.3692309896346222,-0.12025487184852768,0.528060804239713,0.19030483368623763,-0.5229630779741923,0.011036922025807527,0.09198915759799497,0.08179289257928435,-0.6787668129554811,0.2542331870445187,-0.2794272546533332,-0.5144750190811456,0.08179289257928435,-0.03623098963462201,0.4600130398119022,0.15254886313276117,-0.11820710742071583,0.47974512815147197,-0.2267190485276691,-0.036915313546380446,0.20898915759799497],\"xbins\":{\"end\":1.95,\"size\":0.3,\"start\":-1.95},\"type\":\"histogram\",\"xaxis\":\"x3\",\"yaxis\":\"y3\"},{\"line\":{\"color\":\"black\",\"dash\":\"dot\",\"width\":2},\"mode\":\"lines\",\"name\":\"Normal Distribution\\u003cbr\\u003e(99.7% of its area)\",\"opacity\":0.5,\"x\":[-1.116058113063032,-1.106058113063032,-1.096058113063032,-1.086058113063032,-1.076058113063032,-1.066058113063032,-1.056058113063032,-1.046058113063032,-1.036058113063032,-1.026058113063032,-1.016058113063032,-1.006058113063032,-0.9960581130630319,-0.9860581130630319,-0.9760581130630319,-0.9660581130630319,-0.9560581130630319,-0.9460581130630319,-0.9360581130630319,-0.9260581130630319,-0.9160581130630319,-0.9060581130630319,-0.8960581130630318,-0.8860581130630318,-0.8760581130630318,-0.8660581130630318,-0.8560581130630318,-0.8460581130630318,-0.8360581130630318,-0.8260581130630318,-0.8160581130630318,-0.8060581130630318,-0.7960581130630318,-0.7860581130630317,-0.7760581130630317,-0.7660581130630317,-0.7560581130630317,-0.7460581130630317,-0.7360581130630317,-0.7260581130630317,-0.7160581130630317,-0.7060581130630317,-0.6960581130630317,-0.6860581130630317,-0.6760581130630317,-0.6660581130630316,-0.6560581130630316,-0.6460581130630316,-0.6360581130630316,-0.6260581130630316,-0.6160581130630316,-0.6060581130630316,-0.5960581130630316,-0.5860581130630316,-0.5760581130630316,-0.5660581130630316,-0.5560581130630315,-0.5460581130630315,-0.5360581130630315,-0.5260581130630315,-0.5160581130630315,-0.5060581130630315,-0.4960581130630315,-0.4860581130630315,-0.4760581130630315,-0.46605811306303147,-0.45605811306303146,-0.44605811306303145,-0.43605811306303144,-0.42605811306303143,-0.4160581130630314,-0.4060581130630314,-0.3960581130630314,-0.3860581130630314,-0.3760581130630314,-0.3660581130630314,-0.35605811306303137,-0.34605811306303136,-0.33605811306303135,-0.32605811306303134,-0.31605811306303133,-0.3060581130630313,-0.2960581130630313,-0.2860581130630313,-0.2760581130630313,-0.2660581130630313,-0.2560581130630313,-0.24605811306303127,-0.23605811306303126,-0.22605811306303125,-0.21605811306303124,-0.20605811306303123,-0.19605811306303123,-0.18605811306303122,-0.1760581130630312,-0.1660581130630312,-0.1560581130630312,-0.14605811306303118,-0.13605811306303117,-0.12605811306303116,-0.11605811306303115,-0.10605811306303115,-0.09605811306303114,-0.08605811306303113,-0.07605811306303112,-0.06605811306303111,-0.0560581130630311,-0.04605811306303109,-0.03605811306303108,-0.026058113063031074,-0.016058113063031065,-0.0060581130630310565,0.003941886936968952,0.013941886936968961,0.02394188693696897,0.03394188693696898,0.04394188693696899,0.053941886936969,0.063941886936969,0.07394188693696901,0.08394188693696902,0.09394188693696903,0.10394188693696904,0.11394188693696905,0.12394188693696906,0.13394188693696907,0.14394188693696908,0.15394188693696909,0.1639418869369691,0.1739418869369691,0.1839418869369691,0.19394188693696912,0.20394188693696913,0.21394188693696914,0.22394188693696915,0.23394188693696916,0.24394188693696917,0.2539418869369692,0.2639418869369692,0.2739418869369692,0.2839418869369692,0.2939418869369692,0.3039418869369692,0.31394188693696923,0.32394188693696924,0.33394188693696925,0.34394188693696925,0.35394188693696926,0.36394188693696927,0.3739418869369693,0.3839418869369693,0.3939418869369693,0.4039418869369693,0.4139418869369693,0.4239418869369693,0.43394188693696933,0.44394188693696934,0.45394188693696935,0.46394188693696936,0.47394188693696937,0.4839418869369694,0.4939418869369694,0.5039418869369694,0.5139418869369694,0.5239418869369694,0.5339418869369694,0.5439418869369694,0.5539418869369694,0.5639418869369694,0.5739418869369695,0.5839418869369695,0.5939418869369695,0.6039418869369695,0.6139418869369695,0.6239418869369695,0.6339418869369695,0.6439418869369695,0.6539418869369695,0.6639418869369695,0.6739418869369695,0.6839418869369696,0.6939418869369696,0.7039418869369696,0.7139418869369696,0.7239418869369696,0.7339418869369696,0.7439418869369696,0.7539418869369696,0.7639418869369696,0.7739418869369696,0.7839418869369696,0.7939418869369697,0.8039418869369697,0.8139418869369697,0.8239418869369697,0.8339418869369697,0.8439418869369697,0.8539418869369697,0.8639418869369697,0.8739418869369697,0.8839418869369697,0.8939418869369695,0.9039418869369698,0.91394188693697,0.9239418869369698,0.9339418869369696,0.9439418869369698,0.95394188693697,0.9639418869369698,0.9739418869369696,0.9839418869369698,0.99394188693697,1.0039418869369698,1.0139418869369696,1.0239418869369699,1.03394188693697,1.0439418869369699,1.0539418869369697,1.06394188693697,1.0739418869369701,1.08394188693697,1.0939418869369697,1.10394188693697,1.1139418869369702],\"y\":[0.011912950661076487,0.012908755285925848,0.013977696052724666,0.015124221070639782,0.016352970037046884,0.017668776003945785,0.01907666656233706,0.020581864391955137,0.022189787122835685,0.02390604645452606,0.025736446478351743,0.02768698114804935,0.02976383084429783,0.03197335797924134,0.03432210158802584,0.03681677085569017,0.0394642375294743,0.042271527168762146,0.0452458091874692,0.048394385646742075,0.051724678759361854,0.05524421707124994,0.05896062028997347,0.06288158273513281,0.06701485539099837,0.07136822654773384,0.0759495010239966,0.08076647797063718,0.08582692726259657,0.09113856449392753,0.09670902459909421,0.10254583413232415,0.10865638224575555,0.11504789041639948,0.12172738098149072,0.12870164455156882,0.1359772063805722,0.1435602917822863,0.15145679069258733,0.15967222148702592,0.16821169417330448,0.17707987308806972,0.18628093923707983,0.19581855242714372,0.20569581334718356,0.215915225764272,0.22647865900844608,0.23738731092743676,0.2486416714990804,0.26024148729502933,0.2721857269943667,0.28447254814978873,0.29709926541206444,0.3100623204204625,0.3233572535676751,0.33697867784741514,0.35092025499126805,0.3651746740984955,0.37973363295827534,0.39458782225830413,0.40972691286674734,0.4251395463662081,0.44081332900867987,0.45673482924937125,0.4728895790048672,0.4892620787673263,0.5058358066913886,0.5225932317542029,0.5395158310715492,0.5565841114345212,0.5737776351117034,0.5910750499413449,0.6084541237167916,0.6258917828465129,0.6433641552475505,0.6608466174082926,0.6783138455332407,0.6957398706590424,0.7130981376076839,0.7303615676194839,0.7475026244856001,0.7644933839772868,0.7813056063473038,0.7979108116578063,0.8142803576689319,0.8303855200032777,0.8461975742836746,0.8616878799252783,0.8768279652481274,0.8915896135631064,0.9059449498728019,0.9198665278191915,0.9333274165024966,0.9463012867900253,0.9587624967304178,0.970686175687502,0.9820483068089823,0.9928258074484424,1.002996607164685,1.012539722930189,1.0214353311904965,1.0296648364285237,1.0372109359021315,1.0440576802396802,1.0501905295966563,1.055596405096699,1.0602637353023359,1.0641824974843421,1.0673442534837265,1.0697421799867488,1.071371093060937,1.0722274668286096,1.0723094461837595,1.0716168534880968,1.070151189212426,1.0679156265201126,1.0649149998200096,1.0611557873466395,1.0566460878554926,1.0513955915507756,1.0454155453916862,1.0387187129510616,1.0313193290269196,1.023233049232784,1.0144768948166198,1.0050691929805429,0.9950295129940836,0.9843785984125534,0.973138295728886,0.9613314798020884,0.9489819764181076,0.9361144823493788,0.9227544832875891,0.9089281700301869,0.8946623533049138,0.879984377618124,0.864922034511914,0.8495034756121452,0.8337571258443622,0.8177115971874461,0.8013956033256979,0.7848378755489862,0.7680670802377473,0.7511117382550994,0.7340001465522479,0.7167603022758627,0.699419829647338,0.6820059098639373,0.6645452142509606,0.6470638408723683,0.6295872547849573,0.6121402320983214,0.5947468079796517,0.577430228719048,0.5602129079476192,0.5431163870773694,0.5261613000088554,0.5093673421300065,0.4927532436074263,0.47633674695010864,0.460134588804883,0.44416248592317764,0.42843512521995325,0.4129661578279929,0.39776819703421656,0.382852819969392,0.36823057290858524,0.35391098002697524,0.33990255544430287,0.3262128183812164,0.3128483112421771,0.2998146204323485,0.28711639971005015,0.2747573958718577,0.26274047656427,0.2510676600139975,0.23974014646831798,0.22875835113753268,0.21812193843330444,0.2078298572994822,0.19788037743586853,0.18827112622018238,0.17899912613914534,0.1700608325460881,0.16145217156966837,0.15316857800611844,0.1452050330358309,0.13755610161395607,0.1302159693939472,0.12317847905257201,0.11643716589473306,0.1099852926264249,0.10381588319424491,0.0979217555999841,0.09229555360889072,0.08692977728017551,0.0818168122581345,0.07694895777186773,0.07231845330091441,0.06791750387315801,0.06373830397005598,0.05977306002255945,0.056014011489001765,0.052453450513714216,0.049083740172146464,0.04589733131482993,0.04288677802859624,0.040044751739046064,0.03736405398335837,0.03483762788713044,0.032458568383049516,0.030220131212822465,0.02811574075694449,0.0261389967395796,0.024283679858069163,0.022543756388399245,0.020913381819357597,0.019386903569121802,0.01795886283865842,0.016623995656602192,0.015377233170249876,0.014213701236967385,0.013128719369695355,0.012117799089371776],\"type\":\"scatter\",\"xaxis\":\"x3\",\"yaxis\":\"y3\"},{\"histnorm\":\"probability density\",\"name\":\"\\u003cbr\\u003eModel 4:\\u003cbr\\u003eAll Data using indicator\",\"x\":[-0.6979302325581407,-0.2943300000000002,-0.9649302325581406,0.18866999999999967,0.2350697674418596,0.7886699999999998,0.4020697674418594,-0.6979302325581407,-0.1443300000000003,0.05206976744185887,-0.2613300000000003,-0.38093023255814096,-0.0979302325581406,-0.34433000000000025,0.4020697674418594,0.07266999999999957,-0.34433000000000025,0.502069767441859,-0.49433000000000016,-0.04793023255814077,-0.2943300000000002,-0.34433000000000025,-0.8479302325581406,-1.2309302325581406,0.2350697674418596,-0.6979302325581407,-0.12733000000000017,-0.2149302325581406,-0.4479302325581407,0.13506976744185906,0.0020697674418590495,0.16906976744185886,1.2726699999999997,-0.2649302325581404,-0.4649302325581406,-0.07733000000000034,-0.22733000000000025,0.5350697674418594,-0.2613300000000003,0.4850697674418596,0.05206976744185887,-0.21133000000000024,0.2690697674418594,-0.34433000000000025,0.2350697674418596,-0.9809302325581406,1.73867,0.005669999999999842,0.33506976744185923,-0.09433000000000025,0.502069767441859,0.4180697674418594,-0.2613300000000003,0.5350697674418594,-0.36133000000000015,0.5850697674418592,-0.5809302325581407,-0.42733000000000043,0.2690697674418594,0.019069767441859398,0.13866999999999985,0.20206976744185923,-0.34433000000000025,0.502069767441859,-0.2773300000000003,0.10206976744185958,-0.13093023255814096,0.4020697674418594,-0.027330000000000076,0.4020697674418594,-0.2649302325581404,-0.12733000000000017,0.20206976744185923,-0.2979302325581408,-0.11133000000000015,0.7690697674418594,-0.07733000000000034,0.2690697674418594,-0.41493023255814077,-0.6979302325581407,-0.16493023255814077,0.03506976744185941,-0.19793023255814113,0.5386699999999998,-0.2309302325581406,0.6350697674418591,-0.3479302325581406,0.21906976744185958,0.07266999999999957,-0.2979302325581408,0.10566999999999993,0.03506976744185941,-0.22733000000000025,0.5190697674418594,-0.2613300000000003,0.0020697674418590495,0.36906976744185904,-0.5479302325581408,-0.22733000000000025,0.6020697674418596,0.38866999999999985,0.06906976744185922,0.005669999999999842,0.20206976744185923,-0.24793023255814095,-0.22733000000000025,0.4020697674418594,-0.31133000000000033,0.5520697674418589,-0.6149302325581409,0.43506976744185977,0.20566999999999958,0.6020697674418596,0.11906976744185904,-0.3943300000000003,0.33506976744185923,0.22266999999999992,0.30206976744185887,-0.2773300000000003,0.11906976744185904,0.5226699999999997,-0.2309302325581406,-0.04793023255814077,-0.12733000000000017,0.30206976744185887,-0.5309302325581409,-0.1773300000000002,0.20206976744185923,0.17266999999999966,0.3520697674418596,-0.22733000000000025,-0.13093023255814096,0.7056699999999996,0.03506976744185941,-0.2613300000000003,0.08506976744185923,-0.21133000000000024,0.6350697674418591,-0.06133000000000033,-0.5649302325581407,-0.06493023255814023,0.13866999999999985,0.2350697674418596,0.5190697674418594,0.03506976744185941,-0.11133000000000015,0.33506976744185923,-0.07733000000000034,0.8020697674418589,-0.2943300000000002,0.7350697674418596,-0.2979302325581408,0.30566999999999966,0.30206976744185887,-0.7309302325581406,-0.2979302325581408,0.20206976744185923,-0.2149302325581406,-0.2943300000000002,-0.3309302325581407,0.10566999999999993,-0.14793023255814042,-0.09433000000000025,-0.4649302325581406,1.4056699999999998,0.2850697674418594,0.27266999999999975,0.7020697674418592,-0.1613300000000002,0.3190697674418592,-0.1773300000000002,-0.011330000000000062,0.2850697674418594,-0.9649302325581406,-0.13093023255814096,0.03506976744185941,0.20206976744185923,0.32266999999999957,-0.2979302325581408,-0.13093023255814096,-0.21133000000000024,0.2850697674418594,-0.04793023255814077,-0.5309302325581409,-0.06133000000000033,0.13506976744185906,-0.2149302325581406,-0.2613300000000003,0.11906976744185904,0.08867000000000003,0.502069767441859,-0.2613300000000003,0.502069767441859,-0.19793023255814113,-0.3319302325581406,-0.06493023255814023,-0.7979302325581408,0.06806976744185977,0.15566999999999975,0.36906976744185904,0.005669999999999842,0.05206976744185887,-0.16493023255814077,-0.22733000000000025,0.30206976744185887,-0.31133000000000033,0.06906976744185922,-0.4479302325581407,-0.1613300000000002,0.20206976744185923,-1.9149302325581408,0.4020697674418594,-0.22733000000000025,-0.4649302325581406,1.3226699999999996,-0.06493023255814023,0.30566999999999966,0.502069767441859,-0.09433000000000025,-0.14793023255814042,-0.22733000000000025,-0.030930232558140425,-0.34433000000000025,0.18506976744185977,-0.2979302325581408,-0.18093023255814078,-0.2149302325581406,-0.030930232558140425,-0.38093023255814096,0.25206976744185905,-0.2149302325581406,0.32266999999999957,-0.11493023255814094,0.12266999999999983,0.1520697674418594,-0.21133000000000024,-0.24433000000000016,-0.01493023255814041,-0.3479302325581406,0.23866999999999994,-0.14793023255814042,0.25566999999999984,0.6350697674418591,0.8056699999999997,0.2850697674418594,-0.4649302325581406,-0.011330000000000062,0.06906976744185922,0.03866999999999976,0.05206976744185887,0.10566999999999993,0.1520697674418594,-0.7309302325581406,0.20206976744185923,-0.14793023255814042,-0.4809302325581406,-0.38093023255814096,0.1520697674418594,-0.09433000000000025,-0.01493023255814041,0.4690697674418596,0.2350697674418596,-0.24433000000000016,-0.04793023255814077,-0.11133000000000015,0.15566999999999975,0.4520697674418592,-0.18093023255814078,0.055669999999999664,0.11906976744185904,-0.2773300000000003,0.16906976744185886],\"xbins\":{\"end\":1.95,\"size\":0.3,\"start\":-1.95},\"type\":\"histogram\",\"xaxis\":\"x4\",\"yaxis\":\"y4\"},{\"line\":{\"color\":\"black\",\"dash\":\"dot\",\"width\":2},\"mode\":\"lines\",\"name\":\"Normal Distribution\\u003cbr\\u003e(99.7% of its area)\",\"opacity\":0.5,\"x\":[-1.2356963309582187,-1.2256963309582187,-1.2156963309582187,-1.2056963309582187,-1.1956963309582187,-1.1856963309582187,-1.1756963309582187,-1.1656963309582187,-1.1556963309582187,-1.1456963309582187,-1.1356963309582186,-1.1256963309582186,-1.1156963309582186,-1.1056963309582186,-1.0956963309582186,-1.0856963309582186,-1.0756963309582186,-1.0656963309582186,-1.0556963309582186,-1.0456963309582186,-1.0356963309582186,-1.0256963309582185,-1.0156963309582185,-1.0056963309582185,-0.9956963309582185,-0.9856963309582185,-0.9756963309582185,-0.9656963309582185,-0.9556963309582185,-0.9456963309582185,-0.9356963309582185,-0.9256963309582185,-0.9156963309582185,-0.9056963309582184,-0.8956963309582184,-0.8856963309582184,-0.8756963309582184,-0.8656963309582184,-0.8556963309582184,-0.8456963309582184,-0.8356963309582184,-0.8256963309582184,-0.8156963309582184,-0.8056963309582184,-0.7956963309582183,-0.7856963309582183,-0.7756963309582183,-0.7656963309582183,-0.7556963309582183,-0.7456963309582183,-0.7356963309582183,-0.7256963309582183,-0.7156963309582183,-0.7056963309582183,-0.6956963309582183,-0.6856963309582182,-0.6756963309582182,-0.6656963309582182,-0.6556963309582182,-0.6456963309582182,-0.6356963309582182,-0.6256963309582182,-0.6156963309582182,-0.6056963309582182,-0.5956963309582182,-0.5856963309582182,-0.5756963309582181,-0.5656963309582181,-0.5556963309582181,-0.5456963309582181,-0.5356963309582181,-0.5256963309582181,-0.5156963309582181,-0.5056963309582181,-0.4956963309582181,-0.48569633095821807,-0.47569633095821806,-0.46569633095821805,-0.45569633095821804,-0.44569633095821803,-0.435696330958218,-0.425696330958218,-0.415696330958218,-0.405696330958218,-0.395696330958218,-0.385696330958218,-0.37569633095821797,-0.36569633095821796,-0.35569633095821795,-0.34569633095821795,-0.33569633095821794,-0.32569633095821793,-0.3156963309582179,-0.3056963309582179,-0.2956963309582179,-0.2856963309582179,-0.2756963309582179,-0.2656963309582179,-0.25569633095821787,-0.24569633095821786,-0.23569633095821785,-0.22569633095821784,-0.21569633095821783,-0.20569633095821782,-0.1956963309582178,-0.1856963309582178,-0.1756963309582178,-0.16569633095821779,-0.15569633095821778,-0.14569633095821777,-0.13569633095821776,-0.12569633095821775,-0.11569633095821774,-0.10569633095821773,-0.09569633095821772,-0.08569633095821771,-0.0756963309582177,-0.0656963309582177,-0.05569633095821769,-0.04569633095821768,-0.03569633095821767,-0.02569633095821766,-0.015696330958217652,-0.005696330958217644,0.004303669041782365,0.014303669041782374,0.024303669041782383,0.03430366904178239,0.0443036690417824,0.05430366904178241,0.06430366904178242,0.07430366904178243,0.08430366904178244,0.09430366904178245,0.10430366904178245,0.11430366904178246,0.12430366904178247,0.13430366904178248,0.1443036690417825,0.1543036690417825,0.1643036690417825,0.17430366904178252,0.18430366904178253,0.19430366904178253,0.20430366904178254,0.21430366904178255,0.22430366904178256,0.23430366904178257,0.24430366904178258,0.2543036690417826,0.2643036690417826,0.2743036690417826,0.2843036690417826,0.2943036690417826,0.30430366904178263,0.31430366904178264,0.32430366904178265,0.33430366904178266,0.34430366904178267,0.3543036690417827,0.3643036690417827,0.3743036690417827,0.3843036690417827,0.3943036690417827,0.4043036690417827,0.41430366904178273,0.42430366904178274,0.43430366904178275,0.44430366904178276,0.45430366904178276,0.4643036690417828,0.4743036690417828,0.4843036690417828,0.4943036690417828,0.5043036690417828,0.5143036690417828,0.5243036690417828,0.5343036690417828,0.5443036690417828,0.5543036690417829,0.5643036690417829,0.5743036690417829,0.5843036690417829,0.5943036690417829,0.6043036690417829,0.6143036690417829,0.6243036690417829,0.6343036690417829,0.6443036690417829,0.6543036690417829,0.664303669041783,0.674303669041783,0.684303669041783,0.694303669041783,0.704303669041783,0.714303669041783,0.724303669041783,0.734303669041783,0.744303669041783,0.754303669041783,0.764303669041783,0.7743036690417828,0.7843036690417831,0.7943036690417833,0.8043036690417831,0.8143036690417829,0.8243036690417831,0.8343036690417833,0.8443036690417831,0.8543036690417829,0.8643036690417831,0.8743036690417834,0.8843036690417831,0.8943036690417829,0.9043036690417832,0.9143036690417834,0.9243036690417832,0.934303669041783,0.9443036690417832,0.9543036690417834,0.9643036690417832,0.974303669041783,0.9843036690417832,0.9943036690417835,1.0043036690417833,1.014303669041783,1.0243036690417833,1.0343036690417835,1.0443036690417833,1.054303669041783,1.0643036690417833,1.0743036690417835,1.0843036690417833,1.0943036690417831,1.1043036690417833,1.1143036690417836,1.1243036690417834,1.1343036690417831,1.1443036690417834,1.1543036690417836,1.1643036690417834,1.1743036690417832,1.1843036690417834,1.1943036690417836,1.2043036690417834,1.2143036690417832,1.2243036690417834,1.2343036690417837],\"y\":[0.010759557103729535,0.011569046364750825,0.012432107304071925,0.013351681380178108,0.014330824962518165,0.015372710363650696,0.016480626593458756,0.017657979812295183,0.01890829345951763,0.020235208033555503,0.02164248049942659,0.0231339832994997,0.024713702943286703,0.026385738152150614,0.02815429753504737,0.030023696771778154,0.031998355280731125,0.034082792348736346,0.03628162270145778,0.038599551493701756,0.041041368700140836,0.04361194288824105,0.04631621435663785,0.04915918762384055,0.05214592325395582,0.05528152900810914,0.0585711503124085,0.06201996003564133,0.06563314757241298,0.06941590723012697,0.07337342592106816,0.0775108701638714,0.08183337240183293,0.08634601664885047,0.09105382347723423,0.09596173436522082,0.10107459542572303,0.10639714054164846,0.11193397393700391,0.11768955221695863,0.12366816591404108,0.1298739205816763,0.13631071748032095,0.1429822339054826,0.14989190321091322,0.15704289458421145,0.16443809263593126,0.17208007686705235,0.17997110108329434,0.18811307282822706,0.19650753291041143,0.2051556351028861,0.214058126096149,0.2232153257883624,0.2326271079987991,0.24229288169251945,0.2522115728059084,0.2623816067639773,0.2728008917812265,0.2834668030383526,0.29437616782715287,0.3055252517555944,0.3169097461041908,0.3285247564235189,0.34036479246092555,0.35242375950219823,0.3646949512112016,0.37717104404720786,0.38984409333588305,0.4027055310656123,0.4157461654760949,0.42895618250088813,0.44232514911986337,0.4558420186713653,0.4694951381672537,0.48327225764697584,0.4971605415994006,0.5111465824733599,0.5252164162897235,0.5393555403594189,0.5535489331031279,0.5677810759594847,0.5820359773595174,0.5962971987358525,0.6105478825258805,0.6247707821187244,0.6389482936864933,0.6530624898310058,0.6670951549679607,0.681027822361513,0.694841812713361,0.7085182742019049,0.7220382238587693,0.7353825901620982,0.748532256718556,0.7614681068989527,0.7741710692859075,0.7866221637860138,0.7988025482536131,0.8106935654685588,0.8222767903063029,0.8335340769352859,0.8444476058739914,0.8549999307381677,0.865174024507632,0.874953325141785,0.8843217803734793,0.8932638915122164,0.9017647560897945,0.9098101091844943,0.917386363263655,0.9244806463890687,0.9310808386349577,0.9371756065744173,0.9427544356970337,0.9478076606279322,0.9523264930267242,0.9563030470536446,0.9597303622996032,0.9626024240868317,0.9649141810572505,0.9666615599765646,0.9678414776933646,0.9684518502040801,0.968491598786483,0.9679606531764715,0.9668599517750414,0.965191438884589,0.9629580589859411,0.9601637480796886,0.9568134221274658,0.9529129626406847,0.9484691994758614,0.9434898909069751,0.9379837010562434,0.9319601747752055,0.9254297100780391,0.9184035282385327,0.9108936416710578,0.9029128197241805,0.8944745525231903,0.8855930130047602,0.8762830172931637,0.8665599835729236,0.8564398896174535,0.8459392291371245,0.8350749671132724,0.823864494286924,0.8123255809724558,0.8004763303670398,0.7883351315265461,0.7759206121775988,0.763251591533729,0.7503470332810537,0.7372259988956561,0.7239076014508933,0.7104109600682188,0.6967551551598398,0.6829591846056594,0.6690419210005208,0.6550220701008272,0.6409181305921952,0.6267483552919688,0.6125307138922106,0.5982828573402617,0.5840220839451681,0.569765307289259,0.55552902601498,0.5413292955478031,0.5271817018066718,0.5131013369440882,0.49910277714861434,0.4852000625333226,0.47140667912462825,0.45773554295699603,0.44419898627030663,0.4308087457982109,0.4175759531276355,0.404511127101776,0.3916241682314356,0.3789243550724867,0.36642034252055933,0.35412016196782664,0.34203122326097146,0.3301603183941149,0.31851362686564666,0.3070967226235669,0.2959145825201064,0.28497159619304535,0.2742715772883166,0.2638177759361287,0.25361289239099605,0.24365909174468817,0.23395801962021648,0.2245108187545331,0.21531814637762267,0.20638019229609958,0.1976966975902553,0.1892669738347304,0.18108992275457036,0.17316405623035283,0.1654875165683242,0.1580580969540163,0.15087326201062448,0.1439301683864638,0.13722568529908635,0.13075641496708434,0.12451871286420978,0.11850870773418037,0.11272232130839564,0.1071552876727229,0.10180317223350069,0.09666139023694392,0.09172522480017968,0.0869898444161769,0.08245031989884546,0.07810164073853676,0.07393873084207828,0.06995646363528615,0.06614967650961567,0.06251318459821084,0.05904179387009756,0.05573031353460787,0.052573567751317656,0.049566406643826944,0.04670371661859362,0.043980429992747955,0.04139153393735664,0.03893207874497573,0.03659718543252229,0.03438205269250882,0.03228196320751935,0.030292289344463062,0.028408498246626116,0.02662615634285414,0.02494093329433815,0.023348605400457797,0.021845058485955214,0.020426290292380904,0.01908841239727195,0.017827651684903714,0.016640351392703888,0.01552297175753797,0.014472090286079048,0.013484401673366337,0.012556717393447926,0.011685964985698124,0.010869187060008157],\"type\":\"scatter\",\"xaxis\":\"x4\",\"yaxis\":\"y4\"}],                        {\"template\":{\"data\":{\"histogram2dcontour\":[{\"type\":\"histogram2dcontour\",\"colorbar\":{\"outlinewidth\":0,\"ticks\":\"\"},\"colorscale\":[[0.0,\"#0d0887\"],[0.1111111111111111,\"#46039f\"],[0.2222222222222222,\"#7201a8\"],[0.3333333333333333,\"#9c179e\"],[0.4444444444444444,\"#bd3786\"],[0.5555555555555556,\"#d8576b\"],[0.6666666666666666,\"#ed7953\"],[0.7777777777777778,\"#fb9f3a\"],[0.8888888888888888,\"#fdca26\"],[1.0,\"#f0f921\"]]}],\"choropleth\":[{\"type\":\"choropleth\",\"colorbar\":{\"outlinewidth\":0,\"ticks\":\"\"}}],\"histogram2d\":[{\"type\":\"histogram2d\",\"colorbar\":{\"outlinewidth\":0,\"ticks\":\"\"},\"colorscale\":[[0.0,\"#0d0887\"],[0.1111111111111111,\"#46039f\"],[0.2222222222222222,\"#7201a8\"],[0.3333333333333333,\"#9c179e\"],[0.4444444444444444,\"#bd3786\"],[0.5555555555555556,\"#d8576b\"],[0.6666666666666666,\"#ed7953\"],[0.7777777777777778,\"#fb9f3a\"],[0.8888888888888888,\"#fdca26\"],[1.0,\"#f0f921\"]]}],\"heatmap\":[{\"type\":\"heatmap\",\"colorbar\":{\"outlinewidth\":0,\"ticks\":\"\"},\"colorscale\":[[0.0,\"#0d0887\"],[0.1111111111111111,\"#46039f\"],[0.2222222222222222,\"#7201a8\"],[0.3333333333333333,\"#9c179e\"],[0.4444444444444444,\"#bd3786\"],[0.5555555555555556,\"#d8576b\"],[0.6666666666666666,\"#ed7953\"],[0.7777777777777778,\"#fb9f3a\"],[0.8888888888888888,\"#fdca26\"],[1.0,\"#f0f921\"]]}],\"heatmapgl\":[{\"type\":\"heatmapgl\",\"colorbar\":{\"outlinewidth\":0,\"ticks\":\"\"},\"colorscale\":[[0.0,\"#0d0887\"],[0.1111111111111111,\"#46039f\"],[0.2222222222222222,\"#7201a8\"],[0.3333333333333333,\"#9c179e\"],[0.4444444444444444,\"#bd3786\"],[0.5555555555555556,\"#d8576b\"],[0.6666666666666666,\"#ed7953\"],[0.7777777777777778,\"#fb9f3a\"],[0.8888888888888888,\"#fdca26\"],[1.0,\"#f0f921\"]]}],\"contourcarpet\":[{\"type\":\"contourcarpet\",\"colorbar\":{\"outlinewidth\":0,\"ticks\":\"\"}}],\"contour\":[{\"type\":\"contour\",\"colorbar\":{\"outlinewidth\":0,\"ticks\":\"\"},\"colorscale\":[[0.0,\"#0d0887\"],[0.1111111111111111,\"#46039f\"],[0.2222222222222222,\"#7201a8\"],[0.3333333333333333,\"#9c179e\"],[0.4444444444444444,\"#bd3786\"],[0.5555555555555556,\"#d8576b\"],[0.6666666666666666,\"#ed7953\"],[0.7777777777777778,\"#fb9f3a\"],[0.8888888888888888,\"#fdca26\"],[1.0,\"#f0f921\"]]}],\"surface\":[{\"type\":\"surface\",\"colorbar\":{\"outlinewidth\":0,\"ticks\":\"\"},\"colorscale\":[[0.0,\"#0d0887\"],[0.1111111111111111,\"#46039f\"],[0.2222222222222222,\"#7201a8\"],[0.3333333333333333,\"#9c179e\"],[0.4444444444444444,\"#bd3786\"],[0.5555555555555556,\"#d8576b\"],[0.6666666666666666,\"#ed7953\"],[0.7777777777777778,\"#fb9f3a\"],[0.8888888888888888,\"#fdca26\"],[1.0,\"#f0f921\"]]}],\"mesh3d\":[{\"type\":\"mesh3d\",\"colorbar\":{\"outlinewidth\":0,\"ticks\":\"\"}}],\"scatter\":[{\"fillpattern\":{\"fillmode\":\"overlay\",\"size\":10,\"solidity\":0.2},\"type\":\"scatter\"}],\"parcoords\":[{\"type\":\"parcoords\",\"line\":{\"colorbar\":{\"outlinewidth\":0,\"ticks\":\"\"}}}],\"scatterpolargl\":[{\"type\":\"scatterpolargl\",\"marker\":{\"colorbar\":{\"outlinewidth\":0,\"ticks\":\"\"}}}],\"bar\":[{\"error_x\":{\"color\":\"#2a3f5f\"},\"error_y\":{\"color\":\"#2a3f5f\"},\"marker\":{\"line\":{\"color\":\"#E5ECF6\",\"width\":0.5},\"pattern\":{\"fillmode\":\"overlay\",\"size\":10,\"solidity\":0.2}},\"type\":\"bar\"}],\"scattergeo\":[{\"type\":\"scattergeo\",\"marker\":{\"colorbar\":{\"outlinewidth\":0,\"ticks\":\"\"}}}],\"scatterpolar\":[{\"type\":\"scatterpolar\",\"marker\":{\"colorbar\":{\"outlinewidth\":0,\"ticks\":\"\"}}}],\"histogram\":[{\"marker\":{\"pattern\":{\"fillmode\":\"overlay\",\"size\":10,\"solidity\":0.2}},\"type\":\"histogram\"}],\"scattergl\":[{\"type\":\"scattergl\",\"marker\":{\"colorbar\":{\"outlinewidth\":0,\"ticks\":\"\"}}}],\"scatter3d\":[{\"type\":\"scatter3d\",\"line\":{\"colorbar\":{\"outlinewidth\":0,\"ticks\":\"\"}},\"marker\":{\"colorbar\":{\"outlinewidth\":0,\"ticks\":\"\"}}}],\"scattermapbox\":[{\"type\":\"scattermapbox\",\"marker\":{\"colorbar\":{\"outlinewidth\":0,\"ticks\":\"\"}}}],\"scatterternary\":[{\"type\":\"scatterternary\",\"marker\":{\"colorbar\":{\"outlinewidth\":0,\"ticks\":\"\"}}}],\"scattercarpet\":[{\"type\":\"scattercarpet\",\"marker\":{\"colorbar\":{\"outlinewidth\":0,\"ticks\":\"\"}}}],\"carpet\":[{\"aaxis\":{\"endlinecolor\":\"#2a3f5f\",\"gridcolor\":\"white\",\"linecolor\":\"white\",\"minorgridcolor\":\"white\",\"startlinecolor\":\"#2a3f5f\"},\"baxis\":{\"endlinecolor\":\"#2a3f5f\",\"gridcolor\":\"white\",\"linecolor\":\"white\",\"minorgridcolor\":\"white\",\"startlinecolor\":\"#2a3f5f\"},\"type\":\"carpet\"}],\"table\":[{\"cells\":{\"fill\":{\"color\":\"#EBF0F8\"},\"line\":{\"color\":\"white\"}},\"header\":{\"fill\":{\"color\":\"#C8D4E3\"},\"line\":{\"color\":\"white\"}},\"type\":\"table\"}],\"barpolar\":[{\"marker\":{\"line\":{\"color\":\"#E5ECF6\",\"width\":0.5},\"pattern\":{\"fillmode\":\"overlay\",\"size\":10,\"solidity\":0.2}},\"type\":\"barpolar\"}],\"pie\":[{\"automargin\":true,\"type\":\"pie\"}]},\"layout\":{\"autotypenumbers\":\"strict\",\"colorway\":[\"#636efa\",\"#EF553B\",\"#00cc96\",\"#ab63fa\",\"#FFA15A\",\"#19d3f3\",\"#FF6692\",\"#B6E880\",\"#FF97FF\",\"#FECB52\"],\"font\":{\"color\":\"#2a3f5f\"},\"hovermode\":\"closest\",\"hoverlabel\":{\"align\":\"left\"},\"paper_bgcolor\":\"white\",\"plot_bgcolor\":\"#E5ECF6\",\"polar\":{\"bgcolor\":\"#E5ECF6\",\"angularaxis\":{\"gridcolor\":\"white\",\"linecolor\":\"white\",\"ticks\":\"\"},\"radialaxis\":{\"gridcolor\":\"white\",\"linecolor\":\"white\",\"ticks\":\"\"}},\"ternary\":{\"bgcolor\":\"#E5ECF6\",\"aaxis\":{\"gridcolor\":\"white\",\"linecolor\":\"white\",\"ticks\":\"\"},\"baxis\":{\"gridcolor\":\"white\",\"linecolor\":\"white\",\"ticks\":\"\"},\"caxis\":{\"gridcolor\":\"white\",\"linecolor\":\"white\",\"ticks\":\"\"}},\"coloraxis\":{\"colorbar\":{\"outlinewidth\":0,\"ticks\":\"\"}},\"colorscale\":{\"sequential\":[[0.0,\"#0d0887\"],[0.1111111111111111,\"#46039f\"],[0.2222222222222222,\"#7201a8\"],[0.3333333333333333,\"#9c179e\"],[0.4444444444444444,\"#bd3786\"],[0.5555555555555556,\"#d8576b\"],[0.6666666666666666,\"#ed7953\"],[0.7777777777777778,\"#fb9f3a\"],[0.8888888888888888,\"#fdca26\"],[1.0,\"#f0f921\"]],\"sequentialminus\":[[0.0,\"#0d0887\"],[0.1111111111111111,\"#46039f\"],[0.2222222222222222,\"#7201a8\"],[0.3333333333333333,\"#9c179e\"],[0.4444444444444444,\"#bd3786\"],[0.5555555555555556,\"#d8576b\"],[0.6666666666666666,\"#ed7953\"],[0.7777777777777778,\"#fb9f3a\"],[0.8888888888888888,\"#fdca26\"],[1.0,\"#f0f921\"]],\"diverging\":[[0,\"#8e0152\"],[0.1,\"#c51b7d\"],[0.2,\"#de77ae\"],[0.3,\"#f1b6da\"],[0.4,\"#fde0ef\"],[0.5,\"#f7f7f7\"],[0.6,\"#e6f5d0\"],[0.7,\"#b8e186\"],[0.8,\"#7fbc41\"],[0.9,\"#4d9221\"],[1,\"#276419\"]]},\"xaxis\":{\"gridcolor\":\"white\",\"linecolor\":\"white\",\"ticks\":\"\",\"title\":{\"standoff\":15},\"zerolinecolor\":\"white\",\"automargin\":true,\"zerolinewidth\":2},\"yaxis\":{\"gridcolor\":\"white\",\"linecolor\":\"white\",\"ticks\":\"\",\"title\":{\"standoff\":15},\"zerolinecolor\":\"white\",\"automargin\":true,\"zerolinewidth\":2},\"scene\":{\"xaxis\":{\"backgroundcolor\":\"#E5ECF6\",\"gridcolor\":\"white\",\"linecolor\":\"white\",\"showbackground\":true,\"ticks\":\"\",\"zerolinecolor\":\"white\",\"gridwidth\":2},\"yaxis\":{\"backgroundcolor\":\"#E5ECF6\",\"gridcolor\":\"white\",\"linecolor\":\"white\",\"showbackground\":true,\"ticks\":\"\",\"zerolinecolor\":\"white\",\"gridwidth\":2},\"zaxis\":{\"backgroundcolor\":\"#E5ECF6\",\"gridcolor\":\"white\",\"linecolor\":\"white\",\"showbackground\":true,\"ticks\":\"\",\"zerolinecolor\":\"white\",\"gridwidth\":2}},\"shapedefaults\":{\"line\":{\"color\":\"#2a3f5f\"}},\"annotationdefaults\":{\"arrowcolor\":\"#2a3f5f\",\"arrowhead\":0,\"arrowwidth\":1},\"geo\":{\"bgcolor\":\"white\",\"landcolor\":\"#E5ECF6\",\"subunitcolor\":\"white\",\"showland\":true,\"showlakes\":true,\"lakecolor\":\"white\"},\"title\":{\"x\":0.05},\"mapbox\":{\"style\":\"light\"}}},\"xaxis\":{\"anchor\":\"y\",\"domain\":[0.0,0.45],\"title\":{\"text\":\"n=272\"},\"range\":[-2,2]},\"yaxis\":{\"anchor\":\"x\",\"domain\":[0.625,1.0]},\"xaxis2\":{\"anchor\":\"y2\",\"domain\":[0.55,1.0],\"title\":{\"text\":\"n=83\"},\"range\":[-2,2]},\"yaxis2\":{\"anchor\":\"x2\",\"domain\":[0.625,1.0]},\"xaxis3\":{\"anchor\":\"y3\",\"domain\":[0.0,0.45],\"title\":{\"text\":\"n=160\"},\"range\":[-2,2]},\"yaxis3\":{\"anchor\":\"x3\",\"domain\":[0.0,0.375]},\"xaxis4\":{\"anchor\":\"y4\",\"domain\":[0.55,1.0],\"title\":{\"text\":\"n=272\"},\"range\":[-2,2]},\"yaxis4\":{\"anchor\":\"x4\",\"domain\":[0.0,0.375]},\"annotations\":[{\"font\":{\"size\":16},\"showarrow\":false,\"text\":\"\\u003cbr\\u003eModel 1:\\u003cbr\\u003eAll Data using slope\",\"x\":0.225,\"xanchor\":\"center\",\"xref\":\"paper\",\"y\":1.0,\"yanchor\":\"bottom\",\"yref\":\"paper\"},{\"font\":{\"size\":16},\"showarrow\":false,\"text\":\"\\u003cbr\\u003eModel 2:\\u003cbr\\u003eShort Wait Data\",\"x\":0.775,\"xanchor\":\"center\",\"xref\":\"paper\",\"y\":1.0,\"yanchor\":\"bottom\",\"yref\":\"paper\"},{\"font\":{\"size\":16},\"showarrow\":false,\"text\":\"\\u003cbr\\u003eModel 3:\\u003cbr\\u003eLong Wait Data\",\"x\":0.225,\"xanchor\":\"center\",\"xref\":\"paper\",\"y\":0.375,\"yanchor\":\"bottom\",\"yref\":\"paper\"},{\"font\":{\"size\":16},\"showarrow\":false,\"text\":\"\\u003cbr\\u003eModel 4:\\u003cbr\\u003eAll Data using indicator\",\"x\":0.775,\"xanchor\":\"center\",\"xref\":\"paper\",\"y\":0.375,\"yanchor\":\"bottom\",\"yref\":\"paper\"}],\"title\":{\"text\":\"Histograms of Residuals from Different Models\"}},                        {\"responsive\": true}                    ).then(function(){\n",
       "                            \n",
       "var gd = document.getElementById('7d5c5779-7edf-4473-be5a-33d7555bd4d4');\n",
       "var x = new MutationObserver(function (mutations, observer) {{\n",
       "        var display = window.getComputedStyle(gd).display;\n",
       "        if (!display || display === 'none') {{\n",
       "            console.log([gd, 'removed!']);\n",
       "            Plotly.purge(gd);\n",
       "            observer.disconnect();\n",
       "        }}\n",
       "}});\n",
       "\n",
       "// Listen for the removal of the full notebook cells\n",
       "var notebookContainer = gd.closest('#notebook-container');\n",
       "if (notebookContainer) {{\n",
       "    x.observe(notebookContainer, {childList: true});\n",
       "}}\n",
       "\n",
       "// Listen for the clearing of the current output cell\n",
       "var outputEl = gd.closest('.output');\n",
       "if (outputEl) {{\n",
       "    x.observe(outputEl, {childList: true});\n",
       "}}\n",
       "\n",
       "                        })                };                });            </script>        </div>"
      ]
     },
     "metadata": {},
     "output_type": "display_data"
    }
   ],
   "source": [
    "from plotly.subplots import make_subplots\n",
    "import plotly.graph_objects as go\n",
    "from scipy import stats\n",
    "import numpy as np\n",
    "\n",
    "model_residuals = {\n",
    "    '<br>Model 1:<br>All Data using slope': smf.ols('duration ~ waiting', data=old_faithful).fit().resid,\n",
    "    '<br>Model 2:<br>Short Wait Data': smf.ols('duration ~ waiting', data=old_faithful[short_wait]).fit().resid,\n",
    "    '<br>Model 3:<br>Long Wait Data': smf.ols('duration ~ waiting', data=old_faithful[long_wait]).fit().resid,\n",
    "    '<br>Model 4:<br>All Data using indicator': smf.ols('duration ~ C(kind, Treatment(reference=\"short\"))', data=old_faithful).fit().resid\n",
    "}\n",
    "\n",
    "fig = make_subplots(rows=2, cols=2, subplot_titles=list(model_residuals.keys()))\n",
    "for i, (title, resid) in enumerate(model_residuals.items()):\n",
    "\n",
    "    if i == 1:  # Apply different bins only to the second histogram (index 1)\n",
    "        bin_size = dict(start=-1.9, end=1.9, size=0.2)\n",
    "    else:\n",
    "        bin_size = dict(start=-1.95, end=1.95, size=0.3)\n",
    "\n",
    "    fig.add_trace(go.Histogram(x=resid, name=title, xbins=bin_size, histnorm='probability density'), \n",
    "                  row=int(i/2)+1, col=(i%2)+1)\n",
    "    fig.update_xaxes(title_text=\"n=\"+str(len(resid)), row=int(i/2)+1, col=(i%2)+1)    \n",
    "    \n",
    "    normal_range = np.arange(-3*resid.std(),3*resid.std(),0.01)\n",
    "    fig.add_trace(go.Scatter(x=normal_range, mode='lines', opacity=0.5,\n",
    "                             y=stats.norm(loc=0, scale=resid.std()).pdf(normal_range),\n",
    "                             line=dict(color='black', dash='dot', width=2),\n",
    "                             name='Normal Distribution<br>(99.7% of its area)'), \n",
    "                  row=int(i/2)+1, col=(i%2)+1)\n",
    "    \n",
    "fig.update_layout(title_text='Histograms of Residuals from Different Models')\n",
    "fig.update_xaxes(range=[-2,2])\n",
    "fig.show() # USE `fig.show(renderer=\"png\")` FOR ALL GitHub and MarkUs SUBMISSIONS"
   ]
  },
  {
   "cell_type": "markdown",
   "id": "f7413283",
   "metadata": {},
   "source": [
    "### 13. The \"short\" and \"long\" wait times are not \"before and after\" measurements so there are not natural pairs on which to base differences on which to do a \"one sample\" (paired differences) *hypothesis test*; but, we can do \"two sample\" hypothesis testing using a *permuation test*, or create a 95% *bootstrap confidence interval* for the difference in means of the two populations. \n",
    "\n",
    "### (A) Do a permuation test $\\;H_0: \\mu_{\\text{short}}=\\mu_{\\text{long}} \\; \\text{ no difference in duration between short and long groups}$ by \"shuffling\" the labels\n",
    "### (B) Create a 95% bootstrap confidence interval  by repeatedly bootstrapping within each group and applying *np.quantile(bootstrapped_mean_differences, [0.025, 0.975])* to the collection of differences between the sample means.    \n",
    "### (a) Explain how the sampling approaches work for the two simulations.\n",
    "### (b) Compare and contrast these two methods with the *indicator variable* based model approach used in Question 11, explaining how they're similar and different.<br>\n",
    "    \n",
    "<details class=\"details-example\"><summary style=\"color:blue\"><u>Further Guidance</u></summary>\n",
    "\n",
    "> _You'll need to create `for` loops for repeated (shuffling simulation) **permutation** and (subgroup) **bootstrapping**, where_\n",
    ">\n",
    "> - _\"shuffling\" for **permutation testing** is done like this `old_faithful.assign(kind_shuffled=old_faithful['kind'].sample(n=len(old_faithful), replace=False).values)#.groupby('kind').size()`; then, the **mean difference statistic** is then calculated using `.groupby('kind_shuffled')['duration'].mean().iloc[::-1].diff().values[1]` (so the **observed statistic** is `old_faithful.groupby('kind')['duration'].mean().iloc[::-1].diff().values[1]`_\n",
    "> \n",
    ">\n",
    "> - _\"two sample\" **bootstrapping** is done like this `old_faithful.groupby('kind').apply(lambda x: x.sample(n=len(x), replace=True)).reset_index(drop=True)#.groupby('kind').size()`; then, the **bootstrapped mean difference statistic** is then calculated using `.groupby('kind')['duration'].mean().iloc[::-1].diff().values[1]` (like the **observed statistic** except this is applied to the **bootstrapped** resampling of `old_faithful`)_\n",
    "> ---\n",
    "> \n",
    "> _Don't forget to ask for summaries of all your different ChatBot sessions and organize and paste these into your homework notebook (including link(s) to chat log histories if you're using ChatBot) But if you're using the STA130 custom NBLM ChatBot, you'll only be able to ask for summaries, of course!_\n",
    "</details>"
   ]
  },
  {
   "cell_type": "markdown",
   "id": "06fe02c1",
   "metadata": {},
   "source": [
    "### 14. Have you reviewed the course wiki-textbook and interacted with a ChatBot (or, if that wasn't sufficient, real people in the course piazza discussion board or TA office hours) to help you understand all the material in the tutorial and lecture that you didn't quite follow when you first saw it?<br>\n",
    "\n",
    "<details class=\"details-example\"><summary style=\"color:blue\"><u>Further Guidance</u></summary>\n",
    "\n",
    ">  _Here is the link of [wiki-textbook](https://github.com/pointOfive/stat130chat130/wiki) in case it gets lost among all the information you need to keep track of_  : )\n",
    ">\n",
    "> _Just answering \"Yes\" or \"No\" or \"Somewhat\" or \"Mostly\" or whatever here is fine as this question isn't a part of the rubric; but, the midterm and final exams may ask questions that are based on the tutorial and lecture materials; and, your own skills will be limited by your familiarity with these materials (which will determine your ability to actually do actual things effectively with these skills... like the course project...)_\n",
    "</details>    "
   ]
  },
  {
   "cell_type": "markdown",
   "id": "7857d324",
   "metadata": {},
   "source": [
    "Yes"
   ]
  },
  {
   "cell_type": "markdown",
   "id": "bc0639e8",
   "metadata": {},
   "source": [
    "## Recommended Additional Useful Activities [Optional]\n",
    "\n",
    "The \"Ethical Profesionalism Considerations\" and \"Current Course Project Capability Level\" sections below **are not a part of the required homework assignment**; rather, they are regular weekly guides covering (a) relevant considerations regarding professional and ethical conduct, and (b) the analysis steps for the STA130 course project that are feasible at the current stage of the course \n",
    "\n",
    "<br>\n",
    "<details class=\"details-example\"><summary style=\"color:blue\"><u>Ethical Professionalism Considerations</u></summary>\n",
    "\n",
    "### Ethical Professionalism Considerations\n",
    "    \n",
    "The TUT and HW both addressed some of the assumptions used in **Simple Linear Regression**. The **p-values** provided by `statsmodels` via `smf.ols(...).fit()` depend on these assumptions, so if they are not (at least approximately) correct, the **p-values** (and any subsequent claims regarding the \"evidience against\" the **null hypothesis**) are not reliable. In light of this consideration, describe how you could diagnostically check the first three assumptions (given below) when using analyses based on **Simple Linear regression** model. From an Ethical and Professional perspective, do you think doing diagnostic checks on the assumptions of a **Simple Linear regression** model is something you can and should do whenever you're doing this kind of analysis? \n",
    "            \n",
    "> The first three assumptions associated with the **Simple Linear regression** model are that\n",
    "> \n",
    "> - the $\\epsilon_i$ **errors** (sometimes referred to as the **noise**) are **normally distributed**\n",
    "> - the $\\epsilon_i$ **errors** are **homoscedastic** (so their distributional variance $\\sigma^2$ does not change as a function of $x_i$)\n",
    "> - the linear form is [at least reasonably approximately] \"true\" (in the sense that the above two remain [at least reasonably approximately] \"true\") so that then behavior of the $Y_i$ **outcomes** are represented/determined on average by the **linear equation**)<br>\n",
    "> \n",
    ">    and there are additional assumptions; but, a deeper reflection on these is \"beyond the scope\" of STA130; nonetheless, they are that<br><br>\n",
    "> - the $x_i$ **predictor variable** is **measured without error**\n",
    "> - and the $\\epsilon_i$ **errors** are **statistically independent** (so their values do not depend on each other)\n",
    "> - and the $\\epsilon_i$ **errors** are **unbiased** relative to the **expected value** of **outcome** $E[Y_i|x_i]=\\beta_0 + \\beta_1x_i$ (which is equivalently stated by saying that the mean of the **error distribution** is $0$, or again equivalently, that the **expected value** of the **errors** $E[\\epsilon_i] = 0$)\n",
    "    \n",
    "</details>\n",
    "\n",
    "<details class=\"details-example\"><summary style=\"color:blue\"><u>Current Course Project Capability Level</u></summary>\n",
    "\n",
    "**Remember to abide by the [data use agreement](https://static1.squarespace.com/static/60283c2e174c122f8ebe0f39/t/6239c284d610f76fed5a2e69/1647952517436/Data+Use+Agreement+for+the+Canadian+Social+Connection+Survey.pdf) at all times.**\n",
    "\n",
    "Information about the course project is available on the course github repo [here](https://github.com/pointOfive/stat130chat130/tree/main/CP), including a draft [course project specfication](https://github.com/pointOfive/stat130chat130/blob/main/CP/STA130F23_course_project_specification.ipynb) (subject to change). \n",
    "- The Week 01 HW introduced [STA130F24_CourseProject.ipynb](https://github.com/pointOfive/stat130chat130/blob/main/CP/STA130F24_CourseProject.ipynb), and the [available variables](https://drive.google.com/file/d/1ISVymGn-WR1lcRs4psIym2N3or5onNBi/view). \n",
    "- Please do not download the [data](https://drive.google.com/file/d/1mbUQlMTrNYA7Ly5eImVRBn16Ehy9Lggo/view) accessible at the bottom of the [CSCS](https://casch.org/cscs) webpage (or the course github repo) multiple times.\n",
    "    \n",
    "> ### NEW DEVELOPMENT<br>New Abilities Achieved and New Levels Unlocked!!!    \n",
    "> **As noted, the Week 01 HW introduced the [STA130F24_CourseProject.ipynb](https://github.com/pointOfive/stat130chat130/blob/main/CP/STA130F24_CourseProject.ipynb) notebook.** _And there it instructed students to explore the notebook through the first 16 cells of the notebook._ The following cell in that notebook (there marked as \"run cell 17\") is preceded by an introductory section titled, \"**Now for some comparisons...**\", _**and all material from that point on provides an example to allow you to start applying what you're learning about Hypothesis Testing to the CSCS data**_ **using a paired samples (\"one sample\") framework.**\n",
    ">\n",
    "> **NOW, HOWEVER, YOU CAN DO MORE.** \n",
    "> - _**Now you can do \"two sample\" hypothesis testing without the need for paired samples.**_ All you need are two groups.\n",
    "> - _**And now you can do simple linear regression modeling.**_ All you need are two columns.\n",
    "\n",
    "### Current Course Project Capability Level\n",
    "\n",
    "At this point in the course you should be able to do a **Simple Linear Regression** analysis for data from the Canadian Social Connection Survey data\n",
    "    \n",
    "1. Create and test a **null hypothesis** of no linear association \"on average\" for a couple of columns of interest in the Canadian Social Connection Survey data using **Simple Linear Regression**\n",
    "\n",
    "2. Use the **residuals** of a fitted **Simple Linear Regression** model to diagnostically assess some of the assumptions of the analysis\n",
    "\n",
    "3. Use an **indicator variable** based **Simple Linear Regression** model to compare two groups from the Canadian Social Connection Survey data\n",
    "\n",
    "4. Compare and contrast the results of an **indicator variable** based **Simple Linear Regression** model to analyses based on a **permutation test** and a **bootstrapped confidence interval**   \n",
    "    \n",
    "</details>    "
   ]
  },
  {
   "cell_type": "code",
   "execution_count": null,
   "id": "4b4a0b4d",
   "metadata": {},
   "outputs": [],
   "source": []
  }
 ],
 "metadata": {
  "kernelspec": {
   "display_name": "Python 3 (ipykernel)",
   "language": "python",
   "name": "python3"
  },
  "language_info": {
   "codemirror_mode": {
    "name": "ipython",
    "version": 3
   },
   "file_extension": ".py",
   "mimetype": "text/x-python",
   "name": "python",
   "nbconvert_exporter": "python",
   "pygments_lexer": "ipython3",
   "version": "3.11.6"
  }
 },
 "nbformat": 4,
 "nbformat_minor": 5
}
